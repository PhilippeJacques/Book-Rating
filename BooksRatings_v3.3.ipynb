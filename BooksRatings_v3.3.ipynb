{
 "cells": [
  {
   "cell_type": "markdown",
   "id": "6d73a6b2",
   "metadata": {},
   "source": [
    "## IMPORT LIBRARIES"
   ]
  },
  {
   "cell_type": "code",
   "execution_count": 1,
   "id": "db542dd4",
   "metadata": {},
   "outputs": [],
   "source": [
    "import numpy as np\n",
    "import pandas as pd\n",
    "import matplotlib.pyplot as plt\n",
    "import seaborn as sns\n",
    "from scipy.stats import norm\n",
    "from sklearn import preprocessing"
   ]
  },
  {
   "cell_type": "markdown",
   "id": "ebf0410b",
   "metadata": {},
   "source": [
    "## LOADING & EXPLORING DATA\n",
    "\n",
    "1- bookID count shows 11127 rows (describe function) but highest bookID is 45641 (= it is an ID number, not a count)\n",
    "\n",
    "2- removed unwanted commas separating several authors in Author column. As only 4 books were concerned it was done manually.\n",
    "\n",
    "3- noticed special characters (jpn, chn, ar) in the authors names : no matter as this column author, although relevant, shall be removed due to difficulties in selecting the \"right\" author to work on for rating influence\n",
    "\n",
    "4- isbn column: \n",
    "\n",
    "    - should be 10-digit long as \"isbn10\" standard number (before 2007)\n",
    "    \n",
    "    - a large number of rows have 7, 8, 9 digits or even 10 with an X at the end: should be dropped as it does not bring much help for our purpose \n",
    "\n",
    "5- isbn13 column (REFERENCE number since 2007):\n",
    "\n",
    "    - should be 13-digit long as \"isbn13\" standard number\n",
    "\n",
    "    - 10, 11 digit number --> should be dropped as it does not bring much help for our purpose \n",
    "\n",
    "6- \"language code\": english in 4 or 5 different versions (eg: en-GB, en-US, etc.): MAY NEED GROUPING BOOKS IN ENGLISH OR CREATE CATEGORIES TO IMPROVE PREDICTION (LIKE ENGLISH VS OTHER LANGUAGES)\n",
    "\n",
    "7- \"num_pages\": books from 0 up to 6576 pages --> NEED FILTERING (as potential non-relevant outliers) BY DEFINING A \"MIN/MAX NUM_PAGES\" OR CREATE CATEGORIES TO IMPROVE PREDICTION\n",
    "\n",
    "8- \"Ratings count\": from 0 to ~4.6M // MAY NEED TO FILTER OUT AT LEAST COUNTS 0, OR TAKE INTO ACCOUNT A \"MIN RATING COUNT\" OR CREATE CATEGORIES TO IMPROVE PREDICTION\n",
    "\n",
    "9- \"text_reviews count\": from 0 to 94265 // SAME: MAY NEED TO FILTER OUT AT LEAST COUNTS 0, OR TAKE INTO ACCOUNT A \"MIN REVIEWS COUNT\" OR CREATE CATEGORIES TO IMPROVE PREDICTION\n",
    "\n",
    "10- publication_date: US format / and 2 invalid dates (nov31 and jun31 do not exist, hence not recognized by excel as \"actual dates\") // SUCH DATE FOR PREDICTION DOES NOT SEEM USEFUL HERE \n",
    "\n",
    "11- publisher: \"18-Oct\" for 2 entries seems odd: actually a publisher called \"10/18\" (ref: https://www.goodreads.com/shelf/show/editeurs-10-18)\n"
   ]
  },
  {
   "cell_type": "markdown",
   "id": "e1ef875e",
   "metadata": {},
   "source": [
    "### importing data"
   ]
  },
  {
   "cell_type": "code",
   "execution_count": 2,
   "id": "9e346048",
   "metadata": {},
   "outputs": [],
   "source": [
    "df = pd.read_csv(r\"C:\\Users\\33695\\Documents\\ML with Python\\Project-20230605\\Project 1\\dataset\\books_jul6.csv\", delimiter=\",\", index_col=\"bookID\")"
   ]
  },
  {
   "cell_type": "code",
   "execution_count": 3,
   "id": "853a2432",
   "metadata": {},
   "outputs": [
    {
     "name": "stdout",
     "output_type": "stream",
     "text": [
      "The data contains 11127 Rows and 11 Columns\n"
     ]
    }
   ],
   "source": [
    "print(f\"The data contains {df.shape[0]} Rows and {df.shape[1]} Columns\")"
   ]
  },
  {
   "cell_type": "code",
   "execution_count": null,
   "id": "17564b90",
   "metadata": {
    "scrolled": true
   },
   "outputs": [],
   "source": [
    "df.head(10)"
   ]
  },
  {
   "cell_type": "markdown",
   "id": "16a46d46",
   "metadata": {},
   "source": [
    "## data exploration"
   ]
  },
  {
   "cell_type": "code",
   "execution_count": 4,
   "id": "434db144",
   "metadata": {
    "scrolled": false
   },
   "outputs": [
    {
     "data": {
      "text/html": [
       "<div>\n",
       "<style scoped>\n",
       "    .dataframe tbody tr th:only-of-type {\n",
       "        vertical-align: middle;\n",
       "    }\n",
       "\n",
       "    .dataframe tbody tr th {\n",
       "        vertical-align: top;\n",
       "    }\n",
       "\n",
       "    .dataframe thead th {\n",
       "        text-align: right;\n",
       "    }\n",
       "</style>\n",
       "<table border=\"1\" class=\"dataframe\">\n",
       "  <thead>\n",
       "    <tr style=\"text-align: right;\">\n",
       "      <th></th>\n",
       "      <th>average_rating</th>\n",
       "      <th>isbn13</th>\n",
       "      <th>num_pages</th>\n",
       "      <th>ratings_count</th>\n",
       "      <th>text_reviews_count</th>\n",
       "    </tr>\n",
       "  </thead>\n",
       "  <tbody>\n",
       "    <tr>\n",
       "      <th>count</th>\n",
       "      <td>11127.000000</td>\n",
       "      <td>1.112700e+04</td>\n",
       "      <td>11127.000000</td>\n",
       "      <td>1.112700e+04</td>\n",
       "      <td>11127.000000</td>\n",
       "    </tr>\n",
       "    <tr>\n",
       "      <th>mean</th>\n",
       "      <td>3.933631</td>\n",
       "      <td>9.759888e+12</td>\n",
       "      <td>336.376921</td>\n",
       "      <td>1.793641e+04</td>\n",
       "      <td>541.854498</td>\n",
       "    </tr>\n",
       "    <tr>\n",
       "      <th>std</th>\n",
       "      <td>0.352445</td>\n",
       "      <td>4.428964e+11</td>\n",
       "      <td>241.127305</td>\n",
       "      <td>1.124794e+05</td>\n",
       "      <td>2576.176608</td>\n",
       "    </tr>\n",
       "    <tr>\n",
       "      <th>min</th>\n",
       "      <td>0.000000</td>\n",
       "      <td>8.987060e+09</td>\n",
       "      <td>0.000000</td>\n",
       "      <td>0.000000e+00</td>\n",
       "      <td>0.000000</td>\n",
       "    </tr>\n",
       "    <tr>\n",
       "      <th>25%</th>\n",
       "      <td>3.770000</td>\n",
       "      <td>9.780350e+12</td>\n",
       "      <td>192.000000</td>\n",
       "      <td>1.040000e+02</td>\n",
       "      <td>9.000000</td>\n",
       "    </tr>\n",
       "    <tr>\n",
       "      <th>50%</th>\n",
       "      <td>3.960000</td>\n",
       "      <td>9.780590e+12</td>\n",
       "      <td>299.000000</td>\n",
       "      <td>7.450000e+02</td>\n",
       "      <td>46.000000</td>\n",
       "    </tr>\n",
       "    <tr>\n",
       "      <th>75%</th>\n",
       "      <td>4.135000</td>\n",
       "      <td>9.780870e+12</td>\n",
       "      <td>416.000000</td>\n",
       "      <td>4.993500e+03</td>\n",
       "      <td>237.500000</td>\n",
       "    </tr>\n",
       "    <tr>\n",
       "      <th>max</th>\n",
       "      <td>5.000000</td>\n",
       "      <td>9.790010e+12</td>\n",
       "      <td>6576.000000</td>\n",
       "      <td>4.597666e+06</td>\n",
       "      <td>94265.000000</td>\n",
       "    </tr>\n",
       "  </tbody>\n",
       "</table>\n",
       "</div>"
      ],
      "text/plain": [
       "       average_rating        isbn13     num_pages  ratings_count  \\\n",
       "count    11127.000000  1.112700e+04  11127.000000   1.112700e+04   \n",
       "mean         3.933631  9.759888e+12    336.376921   1.793641e+04   \n",
       "std          0.352445  4.428964e+11    241.127305   1.124794e+05   \n",
       "min          0.000000  8.987060e+09      0.000000   0.000000e+00   \n",
       "25%          3.770000  9.780350e+12    192.000000   1.040000e+02   \n",
       "50%          3.960000  9.780590e+12    299.000000   7.450000e+02   \n",
       "75%          4.135000  9.780870e+12    416.000000   4.993500e+03   \n",
       "max          5.000000  9.790010e+12   6576.000000   4.597666e+06   \n",
       "\n",
       "       text_reviews_count  \n",
       "count        11127.000000  \n",
       "mean           541.854498  \n",
       "std           2576.176608  \n",
       "min              0.000000  \n",
       "25%              9.000000  \n",
       "50%             46.000000  \n",
       "75%            237.500000  \n",
       "max          94265.000000  "
      ]
     },
     "execution_count": 4,
     "metadata": {},
     "output_type": "execute_result"
    }
   ],
   "source": [
    "# basic stats on numeric only data \n",
    "df.describe()"
   ]
  },
  {
   "cell_type": "markdown",
   "id": "ae119a3a",
   "metadata": {},
   "source": [
    "df.describe treats isbn13 as a number.\n",
    "however, does not display bookID nor isbn\n",
    "\n",
    "Also: a total count of 11127 books are listed (note that 10544 are of \"en\" language code)"
   ]
  },
  {
   "cell_type": "code",
   "execution_count": null,
   "id": "8e0c371f",
   "metadata": {
    "scrolled": true
   },
   "outputs": [],
   "source": [
    "# langage_code: list all rows containing \"en\"\n",
    "s_lang = df.language_code\n",
    "val_lang = ['en-CA','eng','en-GB','enm','en-US']\n",
    "df[s_lang.isin(val_lang)].shape"
   ]
  },
  {
   "cell_type": "markdown",
   "id": "e43ed2bd",
   "metadata": {},
   "source": [
    "NOTE: this latter listing showed 10544 rows containing \"en\" in the language code column"
   ]
  },
  {
   "cell_type": "markdown",
   "id": "93fdd277",
   "metadata": {},
   "source": [
    "### search for inconsistencies"
   ]
  },
  {
   "cell_type": "code",
   "execution_count": null,
   "id": "f0857703",
   "metadata": {},
   "outputs": [],
   "source": [
    "# look for \"NA\" values\n",
    "df.isna().sum()"
   ]
  },
  {
   "cell_type": "code",
   "execution_count": null,
   "id": "de8ab6d7",
   "metadata": {
    "scrolled": true
   },
   "outputs": [],
   "source": [
    "# isbn13 is not NA?\n",
    "df.isnull().sum()"
   ]
  },
  {
   "cell_type": "markdown",
   "id": "7e31f12f",
   "metadata": {},
   "source": [
    "data set does not show missing or null values"
   ]
  },
  {
   "cell_type": "markdown",
   "id": "7869c52c",
   "metadata": {},
   "source": [
    "### first approach of the problem: Distributions\n",
    "How are the different features distributed?\n",
    "Books rating as a continuous or categorical variable?\n",
    "How to define influent features?"
   ]
  },
  {
   "cell_type": "markdown",
   "id": "c0633416",
   "metadata": {},
   "source": []
  },
  {
   "cell_type": "code",
   "execution_count": 5,
   "id": "d61aff9e",
   "metadata": {},
   "outputs": [
    {
     "name": "stdout",
     "output_type": "stream",
     "text": [
      "<class 'pandas.core.frame.DataFrame'>\n",
      "Int64Index: 11127 entries, 1 to 45641\n",
      "Data columns (total 11 columns):\n",
      " #   Column              Non-Null Count  Dtype  \n",
      "---  ------              --------------  -----  \n",
      " 0   title               11127 non-null  object \n",
      " 1   authors             11127 non-null  object \n",
      " 2   average_rating      11127 non-null  float64\n",
      " 3   isbn                11127 non-null  object \n",
      " 4   isbn13              11127 non-null  int64  \n",
      " 5   language_code       11127 non-null  object \n",
      " 6   num_pages           11127 non-null  int64  \n",
      " 7   ratings_count       11127 non-null  int64  \n",
      " 8   text_reviews_count  11127 non-null  int64  \n",
      " 9   publication_date    11127 non-null  object \n",
      " 10  publisher           11127 non-null  object \n",
      "dtypes: float64(1), int64(4), object(6)\n",
      "memory usage: 1.0+ MB\n"
     ]
    }
   ],
   "source": [
    "# type of data in each column\n",
    "df.info()"
   ]
  },
  {
   "cell_type": "markdown",
   "id": "5fd1b085",
   "metadata": {},
   "source": [
    "5 variables are numeric , 6 are of dtype 'object' (7 with BookID)"
   ]
  },
  {
   "cell_type": "code",
   "execution_count": 6,
   "id": "b55c3692",
   "metadata": {},
   "outputs": [
    {
     "data": {
      "text/plain": [
       "count    11127.000000\n",
       "mean         3.933631\n",
       "std          0.352445\n",
       "min          0.000000\n",
       "25%          3.770000\n",
       "50%          3.960000\n",
       "75%          4.135000\n",
       "max          5.000000\n",
       "Name: average_rating, dtype: float64"
      ]
     },
     "execution_count": 6,
     "metadata": {},
     "output_type": "execute_result"
    }
   ],
   "source": [
    "#df.average_rating.value_counts() # distribution / frequency of the \"average_rating\"\n",
    "df.iloc[:,2].describe() "
   ]
  },
  {
   "cell_type": "markdown",
   "id": "0521d99d",
   "metadata": {},
   "source": [
    "### COMMENTS\n",
    "1) AVERAGE RATING OF EACH BOOK_ID REFLECTS AN ACTUAL DISTRIBUTION... HOWEVER, WE DO NOT KNOW ITS NATURE (MIN, MAX, STDEV FOR EACH BOOK ID)\n",
    "\n",
    "2) AVERAGE RATING \"DESCRIBE()\" showed MEDIAN=3.96\n",
    "\n",
    "3) find outliers in other columns (rating, num_pages, ratings_count, text_reviews)\n",
    "\n",
    "4) filter data for more accurate prediction (ratings_count >100, num_pages btw 100 and 500)\n",
    "\n",
    "5) consider including other columns (convert to numeric? 0 or 1 value? other?)"
   ]
  },
  {
   "cell_type": "code",
   "execution_count": null,
   "id": "6493888d",
   "metadata": {},
   "outputs": [],
   "source": [
    "# get_dummies tranforms categorical data to numbers\n",
    "# here we want to transform the \"Sex\" column from ['male', 'female'] to [0,1]\n",
    "# Ex: df_processed.loc[:,[\"Sex\"]] = pd.get_dummies(df.Sex,drop_first=True).values"
   ]
  },
  {
   "cell_type": "code",
   "execution_count": null,
   "id": "101f79be",
   "metadata": {},
   "outputs": [],
   "source": [
    "# this is a way to explicit the \"Pclass\" column by transforming it to 3 columns corresponding to each of its values\n",
    "# this is known as encoding\n",
    "# df_processed = pd.concat([df_processed,pd.get_dummies(df_processed.Pclass)],axis=1).drop(columns=\"Pclass\")"
   ]
  },
  {
   "cell_type": "code",
   "execution_count": 7,
   "id": "ae73403e",
   "metadata": {
    "scrolled": true
   },
   "outputs": [
    {
     "data": {
      "text/plain": [
       "<function matplotlib.pyplot.show(close=None, block=None)>"
      ]
     },
     "execution_count": 7,
     "metadata": {},
     "output_type": "execute_result"
    },
    {
     "data": {
      "image/png": "[encoded data removed]",
      "text/plain": [
       "<Figure size 640x480 with 2 Axes>"
      ]
     },
     "metadata": {},
     "output_type": "display_data"
    }
   ],
   "source": [
    "# PLOT CORRELATION ANALYSIS\n",
    "df_corr = df[[\"average_rating\", \"num_pages\",\"ratings_count\", \"text_reviews_count\"]]\n",
    "# corr = df_corr.corr()\n",
    "corr1 = df_corr.corr()\n",
    "sns.heatmap(corr1, annot=True, cmap=\"coolwarm\", vmin=-1, vmax=1)\n",
    "plt.show"
   ]
  },
  {
   "cell_type": "markdown",
   "id": "1126acd3",
   "metadata": {},
   "source": [
    "almost no correlation between average_rating and other features\n",
    "\n",
    "only ratings_count correlates well with text_reviews_count\n"
   ]
  },
  {
   "cell_type": "code",
   "execution_count": null,
   "id": "70b603b9",
   "metadata": {
    "scrolled": true
   },
   "outputs": [],
   "source": [
    "pd.plotting.scatter_matrix(df_corr, figsize=(8,8), marker=\"o\")\n",
    "plt.show()"
   ]
  },
  {
   "cell_type": "markdown",
   "id": "48947c33",
   "metadata": {},
   "source": [
    "scatter matrix shows various distibutions\n",
    "\n",
    "average_rating auto-correlation plot shows a majority of rating 4 (around 4)\n",
    "\n",
    "also: almost no small ratings (between 0 and 3): THEREFORE THERE IS AN IMBALANCE IN THE ATTRIBUTED RATINGS (most people gave rather high ratings)\n"
   ]
  },
  {
   "cell_type": "code",
   "execution_count": null,
   "id": "a4343055",
   "metadata": {},
   "outputs": [],
   "source": [
    "# now plot rating to show imbalance\n",
    "plt.bar(x=df.average_rating.value_counts().index,height=df.average_rating.value_counts())\n",
    "plt.show()"
   ]
  },
  {
   "cell_type": "code",
   "execution_count": 8,
   "id": "56fc37ea",
   "metadata": {},
   "outputs": [
    {
     "data": {
      "text/plain": [
       "<seaborn.axisgrid.FacetGrid at 0x1bc60eb8a60>"
      ]
     },
     "execution_count": 8,
     "metadata": {},
     "output_type": "execute_result"
    },
    {
     "data": {
      "image/png": "[encoded data removed]",
      "text/plain": [
       "<Figure size 500x500 with 1 Axes>"
      ]
     },
     "metadata": {},
     "output_type": "display_data"
    }
   ],
   "source": [
    "# draw distribution of ratings\n",
    "sns.displot(df.average_rating)"
   ]
  },
  {
   "cell_type": "markdown",
   "id": "d9d5cd9e",
   "metadata": {},
   "source": [
    "#### --> Average rating seems to be normal distribution"
   ]
  },
  {
   "cell_type": "markdown",
   "id": "e3336deb",
   "metadata": {},
   "source": [
    "### Plotting normalized values on '0-1' scale for: average_rating (1), num_pages (2), ratings_count (3), reviews_count (4)"
   ]
  },
  {
   "cell_type": "code",
   "execution_count": 9,
   "id": "d63be0fe",
   "metadata": {
    "scrolled": false
   },
   "outputs": [
    {
     "data": {
      "text/plain": [
       "<function matplotlib.pyplot.show(close=None, block=None)>"
      ]
     },
     "execution_count": 9,
     "metadata": {},
     "output_type": "execute_result"
    },
    {
     "data": {
      "image/png": "[encoded data removed]",
      "text/plain": [
       "<Figure size 640x480 with 1 Axes>"
      ]
     },
     "metadata": {},
     "output_type": "display_data"
    }
   ],
   "source": [
    "normalizedVars = df[['average_rating', 'num_pages', 'ratings_count', 'text_reviews_count']].values.astype(float)\n",
    "#myUnitScale = preprocessing.MinMaxScaler()\n",
    "myNormVar=preprocessing.MinMaxScaler().fit_transform(normalizedVars)\n",
    "plt.boxplot(myNormVar)\n",
    "plt.show"
   ]
  },
  {
   "cell_type": "markdown",
   "id": "ef6a7d71",
   "metadata": {},
   "source": [
    "spread of data and outliers are shown above\n",
    "\n",
    "may need to focus analysis on specific ranges"
   ]
  },
  {
   "cell_type": "markdown",
   "id": "b5a12571",
   "metadata": {},
   "source": [
    "### Categorical data"
   ]
  },
  {
   "cell_type": "code",
   "execution_count": null,
   "id": "bf4a23ec",
   "metadata": {
    "scrolled": true
   },
   "outputs": [],
   "source": [
    "df.language_code.value_counts() # distribution / frequency of the classes \"language_code\""
   ]
  },
  {
   "cell_type": "code",
   "execution_count": 10,
   "id": "cc055b1b",
   "metadata": {
    "scrolled": true
   },
   "outputs": [
    {
     "data": {
      "text/html": [
       "<div>\n",
       "<style scoped>\n",
       "    .dataframe tbody tr th:only-of-type {\n",
       "        vertical-align: middle;\n",
       "    }\n",
       "\n",
       "    .dataframe tbody tr th {\n",
       "        vertical-align: top;\n",
       "    }\n",
       "\n",
       "    .dataframe thead th {\n",
       "        text-align: right;\n",
       "    }\n",
       "</style>\n",
       "<table border=\"1\" class=\"dataframe\">\n",
       "  <thead>\n",
       "    <tr style=\"text-align: right;\">\n",
       "      <th></th>\n",
       "      <th>title</th>\n",
       "      <th>authors</th>\n",
       "      <th>isbn</th>\n",
       "      <th>language_code</th>\n",
       "      <th>publication_date</th>\n",
       "      <th>publisher</th>\n",
       "    </tr>\n",
       "  </thead>\n",
       "  <tbody>\n",
       "    <tr>\n",
       "      <th>count</th>\n",
       "      <td>11127</td>\n",
       "      <td>11127</td>\n",
       "      <td>11127</td>\n",
       "      <td>11127</td>\n",
       "      <td>11127</td>\n",
       "      <td>11127</td>\n",
       "    </tr>\n",
       "    <tr>\n",
       "      <th>unique</th>\n",
       "      <td>10352</td>\n",
       "      <td>6643</td>\n",
       "      <td>11127</td>\n",
       "      <td>27</td>\n",
       "      <td>3679</td>\n",
       "      <td>2292</td>\n",
       "    </tr>\n",
       "    <tr>\n",
       "      <th>top</th>\n",
       "      <td>The Brothers Karamazov</td>\n",
       "      <td>Stephen King</td>\n",
       "      <td>439785960</td>\n",
       "      <td>eng</td>\n",
       "      <td>10/1/2005</td>\n",
       "      <td>Vintage</td>\n",
       "    </tr>\n",
       "    <tr>\n",
       "      <th>freq</th>\n",
       "      <td>9</td>\n",
       "      <td>40</td>\n",
       "      <td>1</td>\n",
       "      <td>8911</td>\n",
       "      <td>56</td>\n",
       "      <td>318</td>\n",
       "    </tr>\n",
       "  </tbody>\n",
       "</table>\n",
       "</div>"
      ],
      "text/plain": [
       "                         title       authors       isbn language_code  \\\n",
       "count                    11127         11127      11127         11127   \n",
       "unique                   10352          6643      11127            27   \n",
       "top     The Brothers Karamazov  Stephen King  439785960           eng   \n",
       "freq                         9            40          1          8911   \n",
       "\n",
       "       publication_date publisher  \n",
       "count             11127     11127  \n",
       "unique             3679      2292  \n",
       "top           10/1/2005   Vintage  \n",
       "freq                 56       318  "
      ]
     },
     "execution_count": 10,
     "metadata": {},
     "output_type": "execute_result"
    }
   ],
   "source": [
    "catcols = ['title', 'authors', 'isbn', 'language_code','publication_date','publisher']\n",
    "df[catcols].describe()"
   ]
  },
  {
   "cell_type": "code",
   "execution_count": 11,
   "id": "85392949",
   "metadata": {},
   "outputs": [
    {
     "data": {
      "text/plain": [
       "count    9.00\n",
       "mean     4.32\n",
       "std      0.00\n",
       "min      4.32\n",
       "25%      4.32\n",
       "50%      4.32\n",
       "75%      4.32\n",
       "max      4.32\n",
       "Name: average_rating, dtype: float64"
      ]
     },
     "execution_count": 11,
     "metadata": {},
     "output_type": "execute_result"
    }
   ],
   "source": [
    "df.loc[df.title=='The Brothers Karamazov',:].average_rating.describe()"
   ]
  },
  {
   "cell_type": "code",
   "execution_count": 12,
   "id": "6e17c241",
   "metadata": {},
   "outputs": [
    {
     "data": {
      "text/plain": [
       "count    40.000000\n",
       "mean      3.973500\n",
       "std       0.270067\n",
       "min       3.320000\n",
       "25%       3.882500\n",
       "50%       3.965000\n",
       "75%       4.175000\n",
       "max       4.540000\n",
       "Name: average_rating, dtype: float64"
      ]
     },
     "execution_count": 12,
     "metadata": {},
     "output_type": "execute_result"
    }
   ],
   "source": [
    "df.loc[df.authors=='Stephen King',:].average_rating.describe()"
   ]
  },
  {
   "cell_type": "code",
   "execution_count": 13,
   "id": "55272d71",
   "metadata": {},
   "outputs": [
    {
     "data": {
      "text/plain": [
       "count    318.000000\n",
       "mean       3.894182\n",
       "std        0.259305\n",
       "min        2.790000\n",
       "25%        3.750000\n",
       "50%        3.910000\n",
       "75%        4.077500\n",
       "max        4.530000\n",
       "Name: average_rating, dtype: float64"
      ]
     },
     "execution_count": 13,
     "metadata": {},
     "output_type": "execute_result"
    }
   ],
   "source": [
    "df.loc[df.publisher=='Vintage',:].average_rating.describe()"
   ]
  },
  {
   "cell_type": "markdown",
   "id": "6ac586db",
   "metadata": {},
   "source": [
    "top book is \"the brothers Karamazov\"\n",
    "\n",
    "top author Stephen King\n",
    "\n",
    "most cited publisher = Vintage"
   ]
  },
  {
   "cell_type": "markdown",
   "id": "e54916bd",
   "metadata": {},
   "source": [
    "## Clean and structure data\n",
    "\n",
    "### COMMENTS\n",
    "\n",
    "1) Average Rating \"describe()\" showed MEDIAN=3.96 (~normal distribution)\n",
    "\n",
    "2) Creating low medium high rating class ??\n",
    "\n",
    "3) Strong Correlation btw ratings_count and reviews_count : DROP REVIEWS?\n",
    "\n",
    "3) deal with outliers in other columns (rating, num_pages, text_reviews)\n",
    "\n",
    "4) consider including categorical data for more accurate prediction (to sort / encode)"
   ]
  },
  {
   "cell_type": "code",
   "execution_count": 14,
   "id": "8f9608d6",
   "metadata": {},
   "outputs": [],
   "source": [
    "# df1_processed['average_rating'] = df1_processed['average_rating'].astype('int')\n",
    "df1=df.drop(columns=['text_reviews_count'])"
   ]
  },
  {
   "cell_type": "code",
   "execution_count": null,
   "id": "539367cf",
   "metadata": {},
   "outputs": [],
   "source": [
    "df1.average_rating.describe() # "
   ]
  },
  {
   "cell_type": "markdown",
   "id": "f2205507",
   "metadata": {},
   "source": [
    "### Create low, med, high categories for average_rating"
   ]
  },
  {
   "cell_type": "code",
   "execution_count": 131,
   "id": "09d09589",
   "metadata": {
    "scrolled": true
   },
   "outputs": [],
   "source": [
    "# group_name: upper bound\n",
    "groups = {'0LOW': 0, '1MEDIUM': 2, '2HIGH': 4}\n",
    "df1['R_Type'] = pd.cut(df1['average_rating'], right = False,\n",
    "                    bins=list(groups.values())+[float('inf')],\n",
    "                    labels=list(groups),include_lowest = True\n",
    "                   )\n",
    "#bins = np.linspace(min(df1['average_rating']), max(df1['average_rating']),4)\n",
    "#groupNames = [\"low\", \"med\", \"high\"]\n",
    "#df1['RatingCat'] = pd.cut(df1['average_rating'], bins, labels = groupNames, include_lowest = True)"
   ]
  },
  {
   "cell_type": "code",
   "execution_count": 73,
   "id": "12a3c00a",
   "metadata": {},
   "outputs": [
    {
     "data": {
      "text/plain": [
       "count       11127\n",
       "unique          3\n",
       "top       1MEDIUM\n",
       "freq         4749\n",
       "Name: R_Type, dtype: object"
      ]
     },
     "execution_count": 73,
     "metadata": {},
     "output_type": "execute_result"
    }
   ],
   "source": [
    "df1['R_Type'].describe()"
   ]
  },
  {
   "cell_type": "code",
   "execution_count": 132,
   "id": "c7e1c4a2",
   "metadata": {},
   "outputs": [
    {
     "data": {
      "text/plain": [
       "1MEDIUM    6144\n",
       "2HIGH      4954\n",
       "0LOW         29\n",
       "Name: R_Type, dtype: int64"
      ]
     },
     "execution_count": 132,
     "metadata": {},
     "output_type": "execute_result"
    }
   ],
   "source": [
    "df1['R_Type'].value_counts()"
   ]
  },
  {
   "cell_type": "code",
   "execution_count": 75,
   "id": "12bddd68",
   "metadata": {},
   "outputs": [
    {
     "data": {
      "text/plain": [
       "(11127, 11)"
      ]
     },
     "execution_count": 75,
     "metadata": {},
     "output_type": "execute_result"
    }
   ],
   "source": [
    "df1.shape"
   ]
  },
  {
   "cell_type": "code",
   "execution_count": null,
   "id": "462513d2",
   "metadata": {},
   "outputs": [],
   "source": [
    "df1.describe()"
   ]
  },
  {
   "cell_type": "code",
   "execution_count": 133,
   "id": "9334de0d",
   "metadata": {},
   "outputs": [],
   "source": [
    "myLabel = preprocessing.LabelEncoder()\n",
    "df1['R_Type'] = myLabel.fit_transform(df1['R_Type'])"
   ]
  },
  {
   "cell_type": "code",
   "execution_count": null,
   "id": "ba5de6c5",
   "metadata": {},
   "outputs": [],
   "source": [
    "df1.tail()"
   ]
  },
  {
   "cell_type": "code",
   "execution_count": 134,
   "id": "f28f25a1",
   "metadata": {
    "scrolled": true
   },
   "outputs": [
    {
     "data": {
      "text/plain": [
       "1    6144\n",
       "2    4954\n",
       "0      29\n",
       "Name: R_Type, dtype: int64"
      ]
     },
     "execution_count": 134,
     "metadata": {},
     "output_type": "execute_result"
    }
   ],
   "source": [
    "df1['R_Type'].value_counts()"
   ]
  },
  {
   "cell_type": "code",
   "execution_count": 79,
   "id": "c3b8cbe2",
   "metadata": {
    "scrolled": true
   },
   "outputs": [
    {
     "data": {
      "text/html": [
       "<div>\n",
       "<style scoped>\n",
       "    .dataframe tbody tr th:only-of-type {\n",
       "        vertical-align: middle;\n",
       "    }\n",
       "\n",
       "    .dataframe tbody tr th {\n",
       "        vertical-align: top;\n",
       "    }\n",
       "\n",
       "    .dataframe thead th {\n",
       "        text-align: right;\n",
       "    }\n",
       "</style>\n",
       "<table border=\"1\" class=\"dataframe\">\n",
       "  <thead>\n",
       "    <tr style=\"text-align: right;\">\n",
       "      <th></th>\n",
       "      <th>average_rating</th>\n",
       "      <th>isbn13</th>\n",
       "      <th>num_pages</th>\n",
       "      <th>ratings_count</th>\n",
       "      <th>R_Type</th>\n",
       "    </tr>\n",
       "  </thead>\n",
       "  <tbody>\n",
       "    <tr>\n",
       "      <th>count</th>\n",
       "      <td>3049.000000</td>\n",
       "      <td>3.049000e+03</td>\n",
       "      <td>3049.000000</td>\n",
       "      <td>3.049000e+03</td>\n",
       "      <td>3049.0</td>\n",
       "    </tr>\n",
       "    <tr>\n",
       "      <th>mean</th>\n",
       "      <td>3.552686</td>\n",
       "      <td>9.756482e+12</td>\n",
       "      <td>292.227944</td>\n",
       "      <td>1.115412e+04</td>\n",
       "      <td>0.0</td>\n",
       "    </tr>\n",
       "    <tr>\n",
       "      <th>std</th>\n",
       "      <td>0.396381</td>\n",
       "      <td>4.761726e+11</td>\n",
       "      <td>162.380627</td>\n",
       "      <td>1.061688e+05</td>\n",
       "      <td>0.0</td>\n",
       "    </tr>\n",
       "    <tr>\n",
       "      <th>min</th>\n",
       "      <td>0.000000</td>\n",
       "      <td>2.004913e+10</td>\n",
       "      <td>0.000000</td>\n",
       "      <td>0.000000e+00</td>\n",
       "      <td>0.0</td>\n",
       "    </tr>\n",
       "    <tr>\n",
       "      <th>25%</th>\n",
       "      <td>3.500000</td>\n",
       "      <td>9.780340e+12</td>\n",
       "      <td>191.000000</td>\n",
       "      <td>6.000000e+01</td>\n",
       "      <td>0.0</td>\n",
       "    </tr>\n",
       "    <tr>\n",
       "      <th>50%</th>\n",
       "      <td>3.640000</td>\n",
       "      <td>9.780550e+12</td>\n",
       "      <td>272.000000</td>\n",
       "      <td>4.260000e+02</td>\n",
       "      <td>0.0</td>\n",
       "    </tr>\n",
       "    <tr>\n",
       "      <th>75%</th>\n",
       "      <td>3.730000</td>\n",
       "      <td>9.780870e+12</td>\n",
       "      <td>368.000000</td>\n",
       "      <td>2.948000e+03</td>\n",
       "      <td>0.0</td>\n",
       "    </tr>\n",
       "    <tr>\n",
       "      <th>max</th>\n",
       "      <td>3.790000</td>\n",
       "      <td>9.789880e+12</td>\n",
       "      <td>1440.000000</td>\n",
       "      <td>4.597666e+06</td>\n",
       "      <td>0.0</td>\n",
       "    </tr>\n",
       "  </tbody>\n",
       "</table>\n",
       "</div>"
      ],
      "text/plain": [
       "       average_rating        isbn13    num_pages  ratings_count  R_Type\n",
       "count     3049.000000  3.049000e+03  3049.000000   3.049000e+03  3049.0\n",
       "mean         3.552686  9.756482e+12   292.227944   1.115412e+04     0.0\n",
       "std          0.396381  4.761726e+11   162.380627   1.061688e+05     0.0\n",
       "min          0.000000  2.004913e+10     0.000000   0.000000e+00     0.0\n",
       "25%          3.500000  9.780340e+12   191.000000   6.000000e+01     0.0\n",
       "50%          3.640000  9.780550e+12   272.000000   4.260000e+02     0.0\n",
       "75%          3.730000  9.780870e+12   368.000000   2.948000e+03     0.0\n",
       "max          3.790000  9.789880e+12  1440.000000   4.597666e+06     0.0"
      ]
     },
     "execution_count": 79,
     "metadata": {},
     "output_type": "execute_result"
    }
   ],
   "source": [
    "df1[df1['R_Type']==0].describe()"
   ]
  },
  {
   "cell_type": "code",
   "execution_count": 80,
   "id": "e5c221d7",
   "metadata": {},
   "outputs": [
    {
     "data": {
      "text/html": [
       "<div>\n",
       "<style scoped>\n",
       "    .dataframe tbody tr th:only-of-type {\n",
       "        vertical-align: middle;\n",
       "    }\n",
       "\n",
       "    .dataframe tbody tr th {\n",
       "        vertical-align: top;\n",
       "    }\n",
       "\n",
       "    .dataframe thead th {\n",
       "        text-align: right;\n",
       "    }\n",
       "</style>\n",
       "<table border=\"1\" class=\"dataframe\">\n",
       "  <thead>\n",
       "    <tr style=\"text-align: right;\">\n",
       "      <th></th>\n",
       "      <th>average_rating</th>\n",
       "      <th>isbn13</th>\n",
       "      <th>num_pages</th>\n",
       "      <th>ratings_count</th>\n",
       "      <th>R_Type</th>\n",
       "    </tr>\n",
       "  </thead>\n",
       "  <tbody>\n",
       "    <tr>\n",
       "      <th>count</th>\n",
       "      <td>4749.000000</td>\n",
       "      <td>4.749000e+03</td>\n",
       "      <td>4749.000000</td>\n",
       "      <td>4.749000e+03</td>\n",
       "      <td>4749.0</td>\n",
       "    </tr>\n",
       "    <tr>\n",
       "      <th>mean</th>\n",
       "      <td>3.948273</td>\n",
       "      <td>9.763387e+12</td>\n",
       "      <td>326.732575</td>\n",
       "      <td>1.910365e+04</td>\n",
       "      <td>1.0</td>\n",
       "    </tr>\n",
       "    <tr>\n",
       "      <th>std</th>\n",
       "      <td>0.084722</td>\n",
       "      <td>4.006307e+11</td>\n",
       "      <td>190.659936</td>\n",
       "      <td>1.030049e+05</td>\n",
       "      <td>0.0</td>\n",
       "    </tr>\n",
       "    <tr>\n",
       "      <th>min</th>\n",
       "      <td>3.800000</td>\n",
       "      <td>2.375500e+10</td>\n",
       "      <td>0.000000</td>\n",
       "      <td>0.000000e+00</td>\n",
       "      <td>1.0</td>\n",
       "    </tr>\n",
       "    <tr>\n",
       "      <th>25%</th>\n",
       "      <td>3.880000</td>\n",
       "      <td>9.780350e+12</td>\n",
       "      <td>205.000000</td>\n",
       "      <td>1.510000e+02</td>\n",
       "      <td>1.0</td>\n",
       "    </tr>\n",
       "    <tr>\n",
       "      <th>50%</th>\n",
       "      <td>3.950000</td>\n",
       "      <td>9.780550e+12</td>\n",
       "      <td>304.000000</td>\n",
       "      <td>9.770000e+02</td>\n",
       "      <td>1.0</td>\n",
       "    </tr>\n",
       "    <tr>\n",
       "      <th>75%</th>\n",
       "      <td>4.020000</td>\n",
       "      <td>9.780810e+12</td>\n",
       "      <td>416.000000</td>\n",
       "      <td>6.114000e+03</td>\n",
       "      <td>1.0</td>\n",
       "    </tr>\n",
       "    <tr>\n",
       "      <th>max</th>\n",
       "      <td>4.090000</td>\n",
       "      <td>9.789870e+12</td>\n",
       "      <td>1952.000000</td>\n",
       "      <td>2.457092e+06</td>\n",
       "      <td>1.0</td>\n",
       "    </tr>\n",
       "  </tbody>\n",
       "</table>\n",
       "</div>"
      ],
      "text/plain": [
       "       average_rating        isbn13    num_pages  ratings_count  R_Type\n",
       "count     4749.000000  4.749000e+03  4749.000000   4.749000e+03  4749.0\n",
       "mean         3.948273  9.763387e+12   326.732575   1.910365e+04     1.0\n",
       "std          0.084722  4.006307e+11   190.659936   1.030049e+05     0.0\n",
       "min          3.800000  2.375500e+10     0.000000   0.000000e+00     1.0\n",
       "25%          3.880000  9.780350e+12   205.000000   1.510000e+02     1.0\n",
       "50%          3.950000  9.780550e+12   304.000000   9.770000e+02     1.0\n",
       "75%          4.020000  9.780810e+12   416.000000   6.114000e+03     1.0\n",
       "max          4.090000  9.789870e+12  1952.000000   2.457092e+06     1.0"
      ]
     },
     "execution_count": 80,
     "metadata": {},
     "output_type": "execute_result"
    }
   ],
   "source": [
    "df1[df1['R_Type']==1].describe()"
   ]
  },
  {
   "cell_type": "code",
   "execution_count": 81,
   "id": "a84fb383",
   "metadata": {
    "scrolled": false
   },
   "outputs": [
    {
     "data": {
      "text/html": [
       "<div>\n",
       "<style scoped>\n",
       "    .dataframe tbody tr th:only-of-type {\n",
       "        vertical-align: middle;\n",
       "    }\n",
       "\n",
       "    .dataframe tbody tr th {\n",
       "        vertical-align: top;\n",
       "    }\n",
       "\n",
       "    .dataframe thead th {\n",
       "        text-align: right;\n",
       "    }\n",
       "</style>\n",
       "<table border=\"1\" class=\"dataframe\">\n",
       "  <thead>\n",
       "    <tr style=\"text-align: right;\">\n",
       "      <th></th>\n",
       "      <th>average_rating</th>\n",
       "      <th>isbn13</th>\n",
       "      <th>num_pages</th>\n",
       "      <th>ratings_count</th>\n",
       "      <th>R_Type</th>\n",
       "    </tr>\n",
       "  </thead>\n",
       "  <tbody>\n",
       "    <tr>\n",
       "      <th>count</th>\n",
       "      <td>3329.000000</td>\n",
       "      <td>3.329000e+03</td>\n",
       "      <td>3329.000000</td>\n",
       "      <td>3.329000e+03</td>\n",
       "      <td>3329.0</td>\n",
       "    </tr>\n",
       "    <tr>\n",
       "      <th>mean</th>\n",
       "      <td>4.261646</td>\n",
       "      <td>9.758016e+12</td>\n",
       "      <td>390.570742</td>\n",
       "      <td>2.248312e+04</td>\n",
       "      <td>2.0</td>\n",
       "    </tr>\n",
       "    <tr>\n",
       "      <th>std</th>\n",
       "      <td>0.142314</td>\n",
       "      <td>4.680790e+11</td>\n",
       "      <td>336.914868</td>\n",
       "      <td>1.295027e+05</td>\n",
       "      <td>0.0</td>\n",
       "    </tr>\n",
       "    <tr>\n",
       "      <th>min</th>\n",
       "      <td>4.100000</td>\n",
       "      <td>8.987060e+09</td>\n",
       "      <td>0.000000</td>\n",
       "      <td>0.000000e+00</td>\n",
       "      <td>2.0</td>\n",
       "    </tr>\n",
       "    <tr>\n",
       "      <th>25%</th>\n",
       "      <td>4.160000</td>\n",
       "      <td>9.780380e+12</td>\n",
       "      <td>192.000000</td>\n",
       "      <td>1.150000e+02</td>\n",
       "      <td>2.0</td>\n",
       "    </tr>\n",
       "    <tr>\n",
       "      <th>50%</th>\n",
       "      <td>4.230000</td>\n",
       "      <td>9.780680e+12</td>\n",
       "      <td>320.000000</td>\n",
       "      <td>8.110000e+02</td>\n",
       "      <td>2.0</td>\n",
       "    </tr>\n",
       "    <tr>\n",
       "      <th>75%</th>\n",
       "      <td>4.330000</td>\n",
       "      <td>9.781400e+12</td>\n",
       "      <td>496.000000</td>\n",
       "      <td>5.745000e+03</td>\n",
       "      <td>2.0</td>\n",
       "    </tr>\n",
       "    <tr>\n",
       "      <th>max</th>\n",
       "      <td>5.000000</td>\n",
       "      <td>9.790010e+12</td>\n",
       "      <td>6576.000000</td>\n",
       "      <td>2.530894e+06</td>\n",
       "      <td>2.0</td>\n",
       "    </tr>\n",
       "  </tbody>\n",
       "</table>\n",
       "</div>"
      ],
      "text/plain": [
       "       average_rating        isbn13    num_pages  ratings_count  R_Type\n",
       "count     3329.000000  3.329000e+03  3329.000000   3.329000e+03  3329.0\n",
       "mean         4.261646  9.758016e+12   390.570742   2.248312e+04     2.0\n",
       "std          0.142314  4.680790e+11   336.914868   1.295027e+05     0.0\n",
       "min          4.100000  8.987060e+09     0.000000   0.000000e+00     2.0\n",
       "25%          4.160000  9.780380e+12   192.000000   1.150000e+02     2.0\n",
       "50%          4.230000  9.780680e+12   320.000000   8.110000e+02     2.0\n",
       "75%          4.330000  9.781400e+12   496.000000   5.745000e+03     2.0\n",
       "max          5.000000  9.790010e+12  6576.000000   2.530894e+06     2.0"
      ]
     },
     "execution_count": 81,
     "metadata": {},
     "output_type": "execute_result"
    }
   ],
   "source": [
    "df1[df1['R_Type']==2].describe()"
   ]
  },
  {
   "cell_type": "markdown",
   "id": "f526faa6",
   "metadata": {},
   "source": [
    "### Top 10 Books that received more ratings"
   ]
  },
  {
   "cell_type": "code",
   "execution_count": null,
   "id": "dc071e9c",
   "metadata": {},
   "outputs": [],
   "source": [
    "# Let's look at the top 10 rated books\n",
    "top10Books = df1.nlargest(10, ['ratings_count']).set_index('title')['ratings_count']\n",
    "plot_dims = (12, 8)\n",
    "fig, ax = plt.subplots(figsize=plot_dims)\n",
    "sns.barplot(x=top10Books, y=top10Books.index)\n",
    "\n",
    "for i in ax.patches:\n",
    "    ax.text(i.get_width()+.3, i.get_y()+0.5, str(round(i.get_width())), fontsize = 15, color = 'k')\n",
    "    \n",
    "plt.show()"
   ]
  },
  {
   "cell_type": "markdown",
   "id": "3c068493",
   "metadata": {},
   "source": [
    "### Top 10 book titles with most number of pages"
   ]
  },
  {
   "cell_type": "code",
   "execution_count": null,
   "id": "46c1f0c7",
   "metadata": {},
   "outputs": [],
   "source": [
    "# Let's look at the top 10 books in terms of number of pages\n",
    "top10Books2 = df1.nlargest(10, ['num_pages']).set_index('title')['num_pages']\n",
    "plot_dims = (12, 8)\n",
    "fig, ax = plt.subplots(figsize=plot_dims)\n",
    "sns.barplot(x=top10Books2, y=top10Books2.index)\n",
    "\n",
    "for i in ax.patches:\n",
    "    ax.text(i.get_width()+.3, i.get_y()+0.5, str(round(i.get_width())), fontsize = 15, color = 'k')\n",
    "    \n",
    "plt.show()"
   ]
  },
  {
   "cell_type": "markdown",
   "id": "61168009",
   "metadata": {},
   "source": [
    "### Average_ratings vs num_pages"
   ]
  },
  {
   "cell_type": "code",
   "execution_count": null,
   "id": "4800a1b9",
   "metadata": {
    "scrolled": false
   },
   "outputs": [],
   "source": [
    "# plot avg rating vs num pages\n",
    "plt.figure(figsize=(10,5))\n",
    "plt.scatter(df1.R_Type,df.num_pages)\n",
    "plt.title(\"Rtype vs numPages\")\n",
    "plt.xlabel(\"Rtype\")\n",
    "plt.ylabel(\"numPages\")\n",
    "plt.show()"
   ]
  },
  {
   "cell_type": "code",
   "execution_count": null,
   "id": "260491b2",
   "metadata": {},
   "outputs": [],
   "source": [
    "sns.histplot(x=\"num_pages\",hue=\"R_Type\",multiple=\"stack\",data=df1)\n",
    "plt.show()"
   ]
  },
  {
   "cell_type": "code",
   "execution_count": null,
   "id": "b84e1760",
   "metadata": {},
   "outputs": [],
   "source": [
    "NormNumPage = df1.num_pages / max(df1.num_pages)\n",
    "NormRatingCnt = df1.ratings_count / max(df1.ratings_count)\n",
    "#sns.jointplot(data=df1, x=\"num_pages\", y=\"ratings_count\", hue=\"R_Type\") "
   ]
  },
  {
   "cell_type": "code",
   "execution_count": null,
   "id": "b3b5d1b3",
   "metadata": {},
   "outputs": [],
   "source": [
    "sns.jointplot(data=df1, x=NormNumPage, y=NormRatingCnt, hue=\"R_Type\") "
   ]
  },
  {
   "cell_type": "code",
   "execution_count": null,
   "id": "848eb9a8",
   "metadata": {},
   "outputs": [],
   "source": [
    "mydf=df1.drop(columns=['isbn13'])"
   ]
  },
  {
   "cell_type": "code",
   "execution_count": null,
   "id": "d2ee8bea",
   "metadata": {},
   "outputs": [],
   "source": [
    "mydf['NormNumPage']=NormNumPage"
   ]
  },
  {
   "cell_type": "code",
   "execution_count": null,
   "id": "7b568873",
   "metadata": {},
   "outputs": [],
   "source": [
    "mydf['NormRatingCnt']=NormRatingCnt"
   ]
  },
  {
   "cell_type": "code",
   "execution_count": null,
   "id": "a9ae4215",
   "metadata": {},
   "outputs": [],
   "source": [
    "mydf=mydf.drop(columns=['num_pages', 'ratings_count'])"
   ]
  },
  {
   "cell_type": "code",
   "execution_count": null,
   "id": "8ed2f5ed",
   "metadata": {},
   "outputs": [],
   "source": [
    "mydf.describe()"
   ]
  },
  {
   "cell_type": "code",
   "execution_count": null,
   "id": "41897671",
   "metadata": {},
   "outputs": [],
   "source": [
    "sns.pairplot(data=mydf, hue=\"R_Type\")"
   ]
  },
  {
   "cell_type": "markdown",
   "id": "8bb68427",
   "metadata": {},
   "source": [
    "### Language Code sorting"
   ]
  },
  {
   "cell_type": "code",
   "execution_count": 24,
   "id": "e5fb1b5b",
   "metadata": {
    "scrolled": true
   },
   "outputs": [
    {
     "data": {
      "image/png": "[encoded data removed]",
      "text/plain": [
       "<Figure size 1000x1000 with 1 Axes>"
      ]
     },
     "metadata": {},
     "output_type": "display_data"
    }
   ],
   "source": [
    "df1['language_code'].value_counts().head(7).plot(kind = 'pie', figsize=(10, 10)).legend()\n",
    "plt.show()"
   ]
  },
  {
   "cell_type": "code",
   "execution_count": 82,
   "id": "1f2e7d28",
   "metadata": {},
   "outputs": [
    {
     "data": {
      "text/plain": [
       "(10896, 11)"
      ]
     },
     "execution_count": 82,
     "metadata": {},
     "output_type": "execute_result"
    }
   ],
   "source": [
    "df_LangCode = df1.loc[df1['language_code'].isin(['eng','en-US', 'spa', 'en-GB', 'fre'])] \n",
    "df_LangCode.shape"
   ]
  },
  {
   "cell_type": "markdown",
   "id": "21abb42f",
   "metadata": {},
   "source": [
    "### Creating rating_count two samples based on LangCode subset\n",
    "1. Assume high ratings count as >= 100,000\n",
    "2. 'ratings_count' - Drop ratings below 100, 000"
   ]
  },
  {
   "cell_type": "code",
   "execution_count": 83,
   "id": "31582e52",
   "metadata": {},
   "outputs": [],
   "source": [
    "# books that are counted as having more than 100000 ratings\n",
    "High_Rating = 100000\n",
    "df_HighRatedBooks = df_LangCode.drop(df_LangCode.index[df_LangCode['ratings_count'] <= High_Rating])"
   ]
  },
  {
   "cell_type": "code",
   "execution_count": 84,
   "id": "25845cb5",
   "metadata": {},
   "outputs": [
    {
     "data": {
      "text/plain": [
       "(352, 11)"
      ]
     },
     "execution_count": 84,
     "metadata": {},
     "output_type": "execute_result"
    }
   ],
   "source": [
    "df_HighRatedBooks.shape"
   ]
  },
  {
   "cell_type": "code",
   "execution_count": 85,
   "id": "e286ac35",
   "metadata": {},
   "outputs": [],
   "source": [
    "## books that are counted as having less than 100000 ratings\n",
    "df_OtherBooks = df_LangCode.drop(df_LangCode.index[df_LangCode['ratings_count'] > High_Rating])"
   ]
  },
  {
   "cell_type": "code",
   "execution_count": 86,
   "id": "8b3b0e0c",
   "metadata": {},
   "outputs": [
    {
     "data": {
      "text/plain": [
       "(10544, 11)"
      ]
     },
     "execution_count": 86,
     "metadata": {},
     "output_type": "execute_result"
    }
   ],
   "source": [
    "df_OtherBooks.shape"
   ]
  },
  {
   "cell_type": "code",
   "execution_count": 30,
   "id": "9cf8f228",
   "metadata": {},
   "outputs": [
    {
     "data": {
      "text/html": [
       "<div>\n",
       "<style scoped>\n",
       "    .dataframe tbody tr th:only-of-type {\n",
       "        vertical-align: middle;\n",
       "    }\n",
       "\n",
       "    .dataframe tbody tr th {\n",
       "        vertical-align: top;\n",
       "    }\n",
       "\n",
       "    .dataframe thead th {\n",
       "        text-align: right;\n",
       "    }\n",
       "</style>\n",
       "<table border=\"1\" class=\"dataframe\">\n",
       "  <thead>\n",
       "    <tr style=\"text-align: right;\">\n",
       "      <th></th>\n",
       "      <th>average_rating</th>\n",
       "      <th>isbn13</th>\n",
       "      <th>num_pages</th>\n",
       "      <th>ratings_count</th>\n",
       "      <th>R_Type</th>\n",
       "    </tr>\n",
       "  </thead>\n",
       "  <tbody>\n",
       "    <tr>\n",
       "      <th>count</th>\n",
       "      <td>10544.000000</td>\n",
       "      <td>1.054400e+04</td>\n",
       "      <td>10544.000000</td>\n",
       "      <td>10544.000000</td>\n",
       "      <td>10544.000000</td>\n",
       "    </tr>\n",
       "    <tr>\n",
       "      <th>mean</th>\n",
       "      <td>3.928154</td>\n",
       "      <td>9.758672e+12</td>\n",
       "      <td>334.268304</td>\n",
       "      <td>6035.777599</td>\n",
       "      <td>0.877561</td>\n",
       "    </tr>\n",
       "    <tr>\n",
       "      <th>std</th>\n",
       "      <td>0.351584</td>\n",
       "      <td>4.549458e+11</td>\n",
       "      <td>241.578774</td>\n",
       "      <td>13905.244222</td>\n",
       "      <td>0.831362</td>\n",
       "    </tr>\n",
       "    <tr>\n",
       "      <th>min</th>\n",
       "      <td>0.000000</td>\n",
       "      <td>8.987060e+09</td>\n",
       "      <td>0.000000</td>\n",
       "      <td>0.000000</td>\n",
       "      <td>0.000000</td>\n",
       "    </tr>\n",
       "    <tr>\n",
       "      <th>25%</th>\n",
       "      <td>3.770000</td>\n",
       "      <td>9.780350e+12</td>\n",
       "      <td>192.000000</td>\n",
       "      <td>106.000000</td>\n",
       "      <td>0.000000</td>\n",
       "    </tr>\n",
       "    <tr>\n",
       "      <th>50%</th>\n",
       "      <td>3.950000</td>\n",
       "      <td>9.780570e+12</td>\n",
       "      <td>296.000000</td>\n",
       "      <td>701.000000</td>\n",
       "      <td>1.000000</td>\n",
       "    </tr>\n",
       "    <tr>\n",
       "      <th>75%</th>\n",
       "      <td>4.130000</td>\n",
       "      <td>9.780850e+12</td>\n",
       "      <td>416.000000</td>\n",
       "      <td>4223.250000</td>\n",
       "      <td>2.000000</td>\n",
       "    </tr>\n",
       "    <tr>\n",
       "      <th>max</th>\n",
       "      <td>5.000000</td>\n",
       "      <td>9.790010e+12</td>\n",
       "      <td>6576.000000</td>\n",
       "      <td>99076.000000</td>\n",
       "      <td>2.000000</td>\n",
       "    </tr>\n",
       "  </tbody>\n",
       "</table>\n",
       "</div>"
      ],
      "text/plain": [
       "       average_rating        isbn13     num_pages  ratings_count        R_Type\n",
       "count    10544.000000  1.054400e+04  10544.000000   10544.000000  10544.000000\n",
       "mean         3.928154  9.758672e+12    334.268304    6035.777599      0.877561\n",
       "std          0.351584  4.549458e+11    241.578774   13905.244222      0.831362\n",
       "min          0.000000  8.987060e+09      0.000000       0.000000      0.000000\n",
       "25%          3.770000  9.780350e+12    192.000000     106.000000      0.000000\n",
       "50%          3.950000  9.780570e+12    296.000000     701.000000      1.000000\n",
       "75%          4.130000  9.780850e+12    416.000000    4223.250000      2.000000\n",
       "max          5.000000  9.790010e+12   6576.000000   99076.000000      2.000000"
      ]
     },
     "execution_count": 30,
     "metadata": {},
     "output_type": "execute_result"
    }
   ],
   "source": [
    "df_OtherBooks.describe()"
   ]
  },
  {
   "cell_type": "markdown",
   "id": "6fae8e16",
   "metadata": {},
   "source": [
    "## Encoding the Categorical variables for the two samples"
   ]
  },
  {
   "cell_type": "markdown",
   "id": "272d441f",
   "metadata": {},
   "source": [
    "### a. Encode the 'title' (label encoding --> numbers)"
   ]
  },
  {
   "cell_type": "markdown",
   "id": "d88f1954",
   "metadata": {},
   "source": [
    "#### Encoding samples in df_HighRatedBooks and df_OtherBooks:"
   ]
  },
  {
   "cell_type": "code",
   "execution_count": 88,
   "id": "767fd778",
   "metadata": {},
   "outputs": [],
   "source": [
    "# encode title column\n",
    "labelEncode = preprocessing.LabelEncoder()\n",
    "df_HighRatedBooks['title'] = labelEncode.fit_transform(df_HighRatedBooks['title'])\n",
    "df_OtherBooks['title'] = labelEncode.fit_transform(df_OtherBooks['title'])"
   ]
  },
  {
   "cell_type": "code",
   "execution_count": null,
   "id": "61015d65",
   "metadata": {},
   "outputs": [],
   "source": [
    "df_HighRatedBooks.head()"
   ]
  },
  {
   "cell_type": "code",
   "execution_count": null,
   "id": "9dcaba49",
   "metadata": {},
   "outputs": [],
   "source": [
    "df_OtherBooks.head()"
   ]
  },
  {
   "cell_type": "markdown",
   "id": "58e84133",
   "metadata": {},
   "source": [
    "### b. Encode the 'authors'  (label encoding --> numbers)"
   ]
  },
  {
   "cell_type": "markdown",
   "id": "b2ee90f1",
   "metadata": {},
   "source": [
    "#### Encoding samples in df_HighRatedBooks and df_OtherBooks"
   ]
  },
  {
   "cell_type": "code",
   "execution_count": 89,
   "id": "6e27aa04",
   "metadata": {},
   "outputs": [
    {
     "data": {
      "text/html": [
       "<div>\n",
       "<style scoped>\n",
       "    .dataframe tbody tr th:only-of-type {\n",
       "        vertical-align: middle;\n",
       "    }\n",
       "\n",
       "    .dataframe tbody tr th {\n",
       "        vertical-align: top;\n",
       "    }\n",
       "\n",
       "    .dataframe thead th {\n",
       "        text-align: right;\n",
       "    }\n",
       "</style>\n",
       "<table border=\"1\" class=\"dataframe\">\n",
       "  <thead>\n",
       "    <tr style=\"text-align: right;\">\n",
       "      <th></th>\n",
       "      <th>title</th>\n",
       "      <th>authors</th>\n",
       "      <th>average_rating</th>\n",
       "      <th>isbn</th>\n",
       "      <th>isbn13</th>\n",
       "      <th>language_code</th>\n",
       "      <th>num_pages</th>\n",
       "      <th>ratings_count</th>\n",
       "      <th>publication_date</th>\n",
       "      <th>publisher</th>\n",
       "      <th>R_Type</th>\n",
       "    </tr>\n",
       "    <tr>\n",
       "      <th>bookID</th>\n",
       "      <th></th>\n",
       "      <th></th>\n",
       "      <th></th>\n",
       "      <th></th>\n",
       "      <th></th>\n",
       "      <th></th>\n",
       "      <th></th>\n",
       "      <th></th>\n",
       "      <th></th>\n",
       "      <th></th>\n",
       "      <th></th>\n",
       "    </tr>\n",
       "  </thead>\n",
       "  <tbody>\n",
       "    <tr>\n",
       "      <th>1</th>\n",
       "      <td>98</td>\n",
       "      <td>90</td>\n",
       "      <td>4.57</td>\n",
       "      <td>439785960</td>\n",
       "      <td>9780440000000</td>\n",
       "      <td>eng</td>\n",
       "      <td>652</td>\n",
       "      <td>2095690</td>\n",
       "      <td>9/16/2006</td>\n",
       "      <td>Scholastic Inc.</td>\n",
       "      <td>2</td>\n",
       "    </tr>\n",
       "    <tr>\n",
       "      <th>2</th>\n",
       "      <td>99</td>\n",
       "      <td>90</td>\n",
       "      <td>4.49</td>\n",
       "      <td>439358078</td>\n",
       "      <td>9780440000000</td>\n",
       "      <td>eng</td>\n",
       "      <td>870</td>\n",
       "      <td>2153167</td>\n",
       "      <td>9/1/2004</td>\n",
       "      <td>Scholastic Inc.</td>\n",
       "      <td>2</td>\n",
       "    </tr>\n",
       "    <tr>\n",
       "      <th>5</th>\n",
       "      <td>100</td>\n",
       "      <td>90</td>\n",
       "      <td>4.56</td>\n",
       "      <td>043965548X</td>\n",
       "      <td>9780440000000</td>\n",
       "      <td>eng</td>\n",
       "      <td>435</td>\n",
       "      <td>2339585</td>\n",
       "      <td>5/1/2004</td>\n",
       "      <td>Scholastic Inc.</td>\n",
       "      <td>2</td>\n",
       "    </tr>\n",
       "    <tr>\n",
       "      <th>13</th>\n",
       "      <td>313</td>\n",
       "      <td>55</td>\n",
       "      <td>4.38</td>\n",
       "      <td>345453743</td>\n",
       "      <td>9780350000000</td>\n",
       "      <td>eng</td>\n",
       "      <td>815</td>\n",
       "      <td>249558</td>\n",
       "      <td>4/30/2002</td>\n",
       "      <td>Del Rey Books</td>\n",
       "      <td>2</td>\n",
       "    </tr>\n",
       "    <tr>\n",
       "      <th>21</th>\n",
       "      <td>19</td>\n",
       "      <td>26</td>\n",
       "      <td>4.21</td>\n",
       "      <td>076790818X</td>\n",
       "      <td>9780770000000</td>\n",
       "      <td>eng</td>\n",
       "      <td>544</td>\n",
       "      <td>248558</td>\n",
       "      <td>9/14/2004</td>\n",
       "      <td>Broadway Books</td>\n",
       "      <td>2</td>\n",
       "    </tr>\n",
       "  </tbody>\n",
       "</table>\n",
       "</div>"
      ],
      "text/plain": [
       "        title  authors  average_rating        isbn         isbn13  \\\n",
       "bookID                                                              \n",
       "1          98       90            4.57   439785960  9780440000000   \n",
       "2          99       90            4.49   439358078  9780440000000   \n",
       "5         100       90            4.56  043965548X  9780440000000   \n",
       "13        313       55            4.38   345453743  9780350000000   \n",
       "21         19       26            4.21  076790818X  9780770000000   \n",
       "\n",
       "       language_code  num_pages  ratings_count publication_date  \\\n",
       "bookID                                                            \n",
       "1                eng        652        2095690        9/16/2006   \n",
       "2                eng        870        2153167         9/1/2004   \n",
       "5                eng        435        2339585         5/1/2004   \n",
       "13               eng        815         249558        4/30/2002   \n",
       "21               eng        544         248558        9/14/2004   \n",
       "\n",
       "              publisher  R_Type  \n",
       "bookID                           \n",
       "1       Scholastic Inc.       2  \n",
       "2       Scholastic Inc.       2  \n",
       "5       Scholastic Inc.       2  \n",
       "13        Del Rey Books       2  \n",
       "21       Broadway Books       2  "
      ]
     },
     "execution_count": 89,
     "metadata": {},
     "output_type": "execute_result"
    }
   ],
   "source": [
    "# encode authors column\n",
    "df_HighRatedBooks['authors'] = labelEncode.fit_transform(df_HighRatedBooks['authors'])\n",
    "df_HighRatedBooks.head()"
   ]
  },
  {
   "cell_type": "code",
   "execution_count": 90,
   "id": "494c9773",
   "metadata": {},
   "outputs": [
    {
     "data": {
      "text/html": [
       "<div>\n",
       "<style scoped>\n",
       "    .dataframe tbody tr th:only-of-type {\n",
       "        vertical-align: middle;\n",
       "    }\n",
       "\n",
       "    .dataframe tbody tr th {\n",
       "        vertical-align: top;\n",
       "    }\n",
       "\n",
       "    .dataframe thead th {\n",
       "        text-align: right;\n",
       "    }\n",
       "</style>\n",
       "<table border=\"1\" class=\"dataframe\">\n",
       "  <thead>\n",
       "    <tr style=\"text-align: right;\">\n",
       "      <th></th>\n",
       "      <th>title</th>\n",
       "      <th>authors</th>\n",
       "      <th>average_rating</th>\n",
       "      <th>isbn</th>\n",
       "      <th>isbn13</th>\n",
       "      <th>language_code</th>\n",
       "      <th>num_pages</th>\n",
       "      <th>ratings_count</th>\n",
       "      <th>publication_date</th>\n",
       "      <th>publisher</th>\n",
       "      <th>R_Type</th>\n",
       "      <th>en-GB</th>\n",
       "      <th>en-US</th>\n",
       "      <th>eng</th>\n",
       "      <th>fre</th>\n",
       "      <th>spa</th>\n",
       "    </tr>\n",
       "    <tr>\n",
       "      <th>bookID</th>\n",
       "      <th></th>\n",
       "      <th></th>\n",
       "      <th></th>\n",
       "      <th></th>\n",
       "      <th></th>\n",
       "      <th></th>\n",
       "      <th></th>\n",
       "      <th></th>\n",
       "      <th></th>\n",
       "      <th></th>\n",
       "      <th></th>\n",
       "      <th></th>\n",
       "      <th></th>\n",
       "      <th></th>\n",
       "      <th></th>\n",
       "      <th></th>\n",
       "    </tr>\n",
       "  </thead>\n",
       "  <tbody>\n",
       "    <tr>\n",
       "      <th>4</th>\n",
       "      <td>2926</td>\n",
       "      <td>2546</td>\n",
       "      <td>4.42</td>\n",
       "      <td>439554896</td>\n",
       "      <td>9780440000000</td>\n",
       "      <td>eng</td>\n",
       "      <td>352</td>\n",
       "      <td>6333</td>\n",
       "      <td>11/1/2003</td>\n",
       "      <td>Scholastic</td>\n",
       "      <td>2</td>\n",
       "      <td>0</td>\n",
       "      <td>0</td>\n",
       "      <td>1</td>\n",
       "      <td>0</td>\n",
       "      <td>0</td>\n",
       "    </tr>\n",
       "    <tr>\n",
       "      <th>8</th>\n",
       "      <td>2921</td>\n",
       "      <td>2548</td>\n",
       "      <td>4.78</td>\n",
       "      <td>439682584</td>\n",
       "      <td>9780440000000</td>\n",
       "      <td>eng</td>\n",
       "      <td>2690</td>\n",
       "      <td>41428</td>\n",
       "      <td>9/13/2004</td>\n",
       "      <td>Scholastic</td>\n",
       "      <td>2</td>\n",
       "      <td>0</td>\n",
       "      <td>0</td>\n",
       "      <td>1</td>\n",
       "      <td>0</td>\n",
       "      <td>0</td>\n",
       "    </tr>\n",
       "    <tr>\n",
       "      <th>9</th>\n",
       "      <td>9326</td>\n",
       "      <td>6121</td>\n",
       "      <td>3.74</td>\n",
       "      <td>976540606</td>\n",
       "      <td>9780980000000</td>\n",
       "      <td>en-US</td>\n",
       "      <td>152</td>\n",
       "      <td>19</td>\n",
       "      <td>4/26/2005</td>\n",
       "      <td>Nimble Books</td>\n",
       "      <td>0</td>\n",
       "      <td>0</td>\n",
       "      <td>1</td>\n",
       "      <td>0</td>\n",
       "      <td>0</td>\n",
       "      <td>0</td>\n",
       "    </tr>\n",
       "    <tr>\n",
       "      <th>10</th>\n",
       "      <td>2922</td>\n",
       "      <td>2546</td>\n",
       "      <td>4.73</td>\n",
       "      <td>439827604</td>\n",
       "      <td>9780440000000</td>\n",
       "      <td>eng</td>\n",
       "      <td>3342</td>\n",
       "      <td>28242</td>\n",
       "      <td>9/12/2005</td>\n",
       "      <td>Scholastic</td>\n",
       "      <td>2</td>\n",
       "      <td>0</td>\n",
       "      <td>0</td>\n",
       "      <td>1</td>\n",
       "      <td>0</td>\n",
       "      <td>0</td>\n",
       "    </tr>\n",
       "    <tr>\n",
       "      <th>12</th>\n",
       "      <td>8769</td>\n",
       "      <td>1431</td>\n",
       "      <td>4.38</td>\n",
       "      <td>517226952</td>\n",
       "      <td>9780520000000</td>\n",
       "      <td>eng</td>\n",
       "      <td>815</td>\n",
       "      <td>3628</td>\n",
       "      <td>11/1/2005</td>\n",
       "      <td>Gramercy Books</td>\n",
       "      <td>2</td>\n",
       "      <td>0</td>\n",
       "      <td>0</td>\n",
       "      <td>1</td>\n",
       "      <td>0</td>\n",
       "      <td>0</td>\n",
       "    </tr>\n",
       "  </tbody>\n",
       "</table>\n",
       "</div>"
      ],
      "text/plain": [
       "        title  authors  average_rating       isbn         isbn13  \\\n",
       "bookID                                                             \n",
       "4        2926     2546            4.42  439554896  9780440000000   \n",
       "8        2921     2548            4.78  439682584  9780440000000   \n",
       "9        9326     6121            3.74  976540606  9780980000000   \n",
       "10       2922     2546            4.73  439827604  9780440000000   \n",
       "12       8769     1431            4.38  517226952  9780520000000   \n",
       "\n",
       "       language_code  num_pages  ratings_count publication_date  \\\n",
       "bookID                                                            \n",
       "4                eng        352           6333        11/1/2003   \n",
       "8                eng       2690          41428        9/13/2004   \n",
       "9              en-US        152             19        4/26/2005   \n",
       "10               eng       3342          28242        9/12/2005   \n",
       "12               eng        815           3628        11/1/2005   \n",
       "\n",
       "             publisher  R_Type  en-GB  en-US  eng  fre  spa  \n",
       "bookID                                                       \n",
       "4           Scholastic       2      0      0    1    0    0  \n",
       "8           Scholastic       2      0      0    1    0    0  \n",
       "9         Nimble Books       0      0      1    0    0    0  \n",
       "10          Scholastic       2      0      0    1    0    0  \n",
       "12      Gramercy Books       2      0      0    1    0    0  "
      ]
     },
     "execution_count": 90,
     "metadata": {},
     "output_type": "execute_result"
    }
   ],
   "source": [
    "df_OtherBooks['authors'] = labelEncode.fit_transform(df_OtherBooks['authors'])\n",
    "df_OtherBooks.head()"
   ]
  },
  {
   "cell_type": "markdown",
   "id": "57af0c99",
   "metadata": {},
   "source": [
    "### c. Dummy encode the 'language_code' (one-hot encoding --> vectors)"
   ]
  },
  {
   "cell_type": "markdown",
   "id": "93efe4bb",
   "metadata": {},
   "source": [
    "#### Encoding samples in df_HighRatedBooks"
   ]
  },
  {
   "cell_type": "code",
   "execution_count": 91,
   "id": "6e2de003",
   "metadata": {},
   "outputs": [
    {
     "name": "stdout",
     "output_type": "stream",
     "text": [
      "(352, 16)\n"
     ]
    },
    {
     "data": {
      "text/html": [
       "<div>\n",
       "<style scoped>\n",
       "    .dataframe tbody tr th:only-of-type {\n",
       "        vertical-align: middle;\n",
       "    }\n",
       "\n",
       "    .dataframe tbody tr th {\n",
       "        vertical-align: top;\n",
       "    }\n",
       "\n",
       "    .dataframe thead th {\n",
       "        text-align: right;\n",
       "    }\n",
       "</style>\n",
       "<table border=\"1\" class=\"dataframe\">\n",
       "  <thead>\n",
       "    <tr style=\"text-align: right;\">\n",
       "      <th></th>\n",
       "      <th>title</th>\n",
       "      <th>authors</th>\n",
       "      <th>average_rating</th>\n",
       "      <th>isbn</th>\n",
       "      <th>isbn13</th>\n",
       "      <th>language_code</th>\n",
       "      <th>num_pages</th>\n",
       "      <th>ratings_count</th>\n",
       "      <th>publication_date</th>\n",
       "      <th>publisher</th>\n",
       "      <th>R_Type</th>\n",
       "      <th>en-GB</th>\n",
       "      <th>en-US</th>\n",
       "      <th>eng</th>\n",
       "      <th>fre</th>\n",
       "      <th>spa</th>\n",
       "    </tr>\n",
       "    <tr>\n",
       "      <th>bookID</th>\n",
       "      <th></th>\n",
       "      <th></th>\n",
       "      <th></th>\n",
       "      <th></th>\n",
       "      <th></th>\n",
       "      <th></th>\n",
       "      <th></th>\n",
       "      <th></th>\n",
       "      <th></th>\n",
       "      <th></th>\n",
       "      <th></th>\n",
       "      <th></th>\n",
       "      <th></th>\n",
       "      <th></th>\n",
       "      <th></th>\n",
       "      <th></th>\n",
       "    </tr>\n",
       "  </thead>\n",
       "  <tbody>\n",
       "    <tr>\n",
       "      <th>1</th>\n",
       "      <td>98</td>\n",
       "      <td>90</td>\n",
       "      <td>4.57</td>\n",
       "      <td>439785960</td>\n",
       "      <td>9780440000000</td>\n",
       "      <td>eng</td>\n",
       "      <td>652</td>\n",
       "      <td>2095690</td>\n",
       "      <td>9/16/2006</td>\n",
       "      <td>Scholastic Inc.</td>\n",
       "      <td>2</td>\n",
       "      <td>0</td>\n",
       "      <td>0</td>\n",
       "      <td>1</td>\n",
       "      <td>0</td>\n",
       "      <td>0</td>\n",
       "    </tr>\n",
       "    <tr>\n",
       "      <th>2</th>\n",
       "      <td>99</td>\n",
       "      <td>90</td>\n",
       "      <td>4.49</td>\n",
       "      <td>439358078</td>\n",
       "      <td>9780440000000</td>\n",
       "      <td>eng</td>\n",
       "      <td>870</td>\n",
       "      <td>2153167</td>\n",
       "      <td>9/1/2004</td>\n",
       "      <td>Scholastic Inc.</td>\n",
       "      <td>2</td>\n",
       "      <td>0</td>\n",
       "      <td>0</td>\n",
       "      <td>1</td>\n",
       "      <td>0</td>\n",
       "      <td>0</td>\n",
       "    </tr>\n",
       "    <tr>\n",
       "      <th>5</th>\n",
       "      <td>100</td>\n",
       "      <td>90</td>\n",
       "      <td>4.56</td>\n",
       "      <td>043965548X</td>\n",
       "      <td>9780440000000</td>\n",
       "      <td>eng</td>\n",
       "      <td>435</td>\n",
       "      <td>2339585</td>\n",
       "      <td>5/1/2004</td>\n",
       "      <td>Scholastic Inc.</td>\n",
       "      <td>2</td>\n",
       "      <td>0</td>\n",
       "      <td>0</td>\n",
       "      <td>1</td>\n",
       "      <td>0</td>\n",
       "      <td>0</td>\n",
       "    </tr>\n",
       "    <tr>\n",
       "      <th>13</th>\n",
       "      <td>313</td>\n",
       "      <td>55</td>\n",
       "      <td>4.38</td>\n",
       "      <td>345453743</td>\n",
       "      <td>9780350000000</td>\n",
       "      <td>eng</td>\n",
       "      <td>815</td>\n",
       "      <td>249558</td>\n",
       "      <td>4/30/2002</td>\n",
       "      <td>Del Rey Books</td>\n",
       "      <td>2</td>\n",
       "      <td>0</td>\n",
       "      <td>0</td>\n",
       "      <td>1</td>\n",
       "      <td>0</td>\n",
       "      <td>0</td>\n",
       "    </tr>\n",
       "    <tr>\n",
       "      <th>21</th>\n",
       "      <td>19</td>\n",
       "      <td>26</td>\n",
       "      <td>4.21</td>\n",
       "      <td>076790818X</td>\n",
       "      <td>9780770000000</td>\n",
       "      <td>eng</td>\n",
       "      <td>544</td>\n",
       "      <td>248558</td>\n",
       "      <td>9/14/2004</td>\n",
       "      <td>Broadway Books</td>\n",
       "      <td>2</td>\n",
       "      <td>0</td>\n",
       "      <td>0</td>\n",
       "      <td>1</td>\n",
       "      <td>0</td>\n",
       "      <td>0</td>\n",
       "    </tr>\n",
       "  </tbody>\n",
       "</table>\n",
       "</div>"
      ],
      "text/plain": [
       "        title  authors  average_rating        isbn         isbn13  \\\n",
       "bookID                                                              \n",
       "1          98       90            4.57   439785960  9780440000000   \n",
       "2          99       90            4.49   439358078  9780440000000   \n",
       "5         100       90            4.56  043965548X  9780440000000   \n",
       "13        313       55            4.38   345453743  9780350000000   \n",
       "21         19       26            4.21  076790818X  9780770000000   \n",
       "\n",
       "       language_code  num_pages  ratings_count publication_date  \\\n",
       "bookID                                                            \n",
       "1                eng        652        2095690        9/16/2006   \n",
       "2                eng        870        2153167         9/1/2004   \n",
       "5                eng        435        2339585         5/1/2004   \n",
       "13               eng        815         249558        4/30/2002   \n",
       "21               eng        544         248558        9/14/2004   \n",
       "\n",
       "              publisher  R_Type  en-GB  en-US  eng  fre  spa  \n",
       "bookID                                                        \n",
       "1       Scholastic Inc.       2      0      0    1    0    0  \n",
       "2       Scholastic Inc.       2      0      0    1    0    0  \n",
       "5       Scholastic Inc.       2      0      0    1    0    0  \n",
       "13        Del Rey Books       2      0      0    1    0    0  \n",
       "21       Broadway Books       2      0      0    1    0    0  "
      ]
     },
     "execution_count": 91,
     "metadata": {},
     "output_type": "execute_result"
    }
   ],
   "source": [
    "encoded_lang_high = pd.get_dummies(df_HighRatedBooks['language_code'])\n",
    "colsExist2 = df_HighRatedBooks.columns.isin(['en-US', 'eng', 'en-GB', 'fre', 'spa']).any()\n",
    "if  colsExist2 == False:\n",
    "    df_HighRatedBooks = pd.concat([df_HighRatedBooks, encoded_lang_high], axis = 1)\n",
    "print(df_HighRatedBooks.shape)\n",
    "df_HighRatedBooks.head()"
   ]
  },
  {
   "cell_type": "markdown",
   "id": "74dfd103",
   "metadata": {},
   "source": [
    "#### Encoding samples in df_OtherBooks"
   ]
  },
  {
   "cell_type": "code",
   "execution_count": 92,
   "id": "eec04027",
   "metadata": {},
   "outputs": [
    {
     "name": "stdout",
     "output_type": "stream",
     "text": [
      "(10544, 16)\n"
     ]
    },
    {
     "data": {
      "text/html": [
       "<div>\n",
       "<style scoped>\n",
       "    .dataframe tbody tr th:only-of-type {\n",
       "        vertical-align: middle;\n",
       "    }\n",
       "\n",
       "    .dataframe tbody tr th {\n",
       "        vertical-align: top;\n",
       "    }\n",
       "\n",
       "    .dataframe thead th {\n",
       "        text-align: right;\n",
       "    }\n",
       "</style>\n",
       "<table border=\"1\" class=\"dataframe\">\n",
       "  <thead>\n",
       "    <tr style=\"text-align: right;\">\n",
       "      <th></th>\n",
       "      <th>title</th>\n",
       "      <th>authors</th>\n",
       "      <th>average_rating</th>\n",
       "      <th>isbn</th>\n",
       "      <th>isbn13</th>\n",
       "      <th>language_code</th>\n",
       "      <th>num_pages</th>\n",
       "      <th>ratings_count</th>\n",
       "      <th>publication_date</th>\n",
       "      <th>publisher</th>\n",
       "      <th>R_Type</th>\n",
       "      <th>en-GB</th>\n",
       "      <th>en-US</th>\n",
       "      <th>eng</th>\n",
       "      <th>fre</th>\n",
       "      <th>spa</th>\n",
       "    </tr>\n",
       "    <tr>\n",
       "      <th>bookID</th>\n",
       "      <th></th>\n",
       "      <th></th>\n",
       "      <th></th>\n",
       "      <th></th>\n",
       "      <th></th>\n",
       "      <th></th>\n",
       "      <th></th>\n",
       "      <th></th>\n",
       "      <th></th>\n",
       "      <th></th>\n",
       "      <th></th>\n",
       "      <th></th>\n",
       "      <th></th>\n",
       "      <th></th>\n",
       "      <th></th>\n",
       "      <th></th>\n",
       "    </tr>\n",
       "  </thead>\n",
       "  <tbody>\n",
       "    <tr>\n",
       "      <th>4</th>\n",
       "      <td>2926</td>\n",
       "      <td>2546</td>\n",
       "      <td>4.42</td>\n",
       "      <td>439554896</td>\n",
       "      <td>9780440000000</td>\n",
       "      <td>eng</td>\n",
       "      <td>352</td>\n",
       "      <td>6333</td>\n",
       "      <td>11/1/2003</td>\n",
       "      <td>Scholastic</td>\n",
       "      <td>2</td>\n",
       "      <td>0</td>\n",
       "      <td>0</td>\n",
       "      <td>1</td>\n",
       "      <td>0</td>\n",
       "      <td>0</td>\n",
       "    </tr>\n",
       "    <tr>\n",
       "      <th>8</th>\n",
       "      <td>2921</td>\n",
       "      <td>2548</td>\n",
       "      <td>4.78</td>\n",
       "      <td>439682584</td>\n",
       "      <td>9780440000000</td>\n",
       "      <td>eng</td>\n",
       "      <td>2690</td>\n",
       "      <td>41428</td>\n",
       "      <td>9/13/2004</td>\n",
       "      <td>Scholastic</td>\n",
       "      <td>2</td>\n",
       "      <td>0</td>\n",
       "      <td>0</td>\n",
       "      <td>1</td>\n",
       "      <td>0</td>\n",
       "      <td>0</td>\n",
       "    </tr>\n",
       "    <tr>\n",
       "      <th>9</th>\n",
       "      <td>9326</td>\n",
       "      <td>6121</td>\n",
       "      <td>3.74</td>\n",
       "      <td>976540606</td>\n",
       "      <td>9780980000000</td>\n",
       "      <td>en-US</td>\n",
       "      <td>152</td>\n",
       "      <td>19</td>\n",
       "      <td>4/26/2005</td>\n",
       "      <td>Nimble Books</td>\n",
       "      <td>0</td>\n",
       "      <td>0</td>\n",
       "      <td>1</td>\n",
       "      <td>0</td>\n",
       "      <td>0</td>\n",
       "      <td>0</td>\n",
       "    </tr>\n",
       "    <tr>\n",
       "      <th>10</th>\n",
       "      <td>2922</td>\n",
       "      <td>2546</td>\n",
       "      <td>4.73</td>\n",
       "      <td>439827604</td>\n",
       "      <td>9780440000000</td>\n",
       "      <td>eng</td>\n",
       "      <td>3342</td>\n",
       "      <td>28242</td>\n",
       "      <td>9/12/2005</td>\n",
       "      <td>Scholastic</td>\n",
       "      <td>2</td>\n",
       "      <td>0</td>\n",
       "      <td>0</td>\n",
       "      <td>1</td>\n",
       "      <td>0</td>\n",
       "      <td>0</td>\n",
       "    </tr>\n",
       "    <tr>\n",
       "      <th>12</th>\n",
       "      <td>8769</td>\n",
       "      <td>1431</td>\n",
       "      <td>4.38</td>\n",
       "      <td>517226952</td>\n",
       "      <td>9780520000000</td>\n",
       "      <td>eng</td>\n",
       "      <td>815</td>\n",
       "      <td>3628</td>\n",
       "      <td>11/1/2005</td>\n",
       "      <td>Gramercy Books</td>\n",
       "      <td>2</td>\n",
       "      <td>0</td>\n",
       "      <td>0</td>\n",
       "      <td>1</td>\n",
       "      <td>0</td>\n",
       "      <td>0</td>\n",
       "    </tr>\n",
       "  </tbody>\n",
       "</table>\n",
       "</div>"
      ],
      "text/plain": [
       "        title  authors  average_rating       isbn         isbn13  \\\n",
       "bookID                                                             \n",
       "4        2926     2546            4.42  439554896  9780440000000   \n",
       "8        2921     2548            4.78  439682584  9780440000000   \n",
       "9        9326     6121            3.74  976540606  9780980000000   \n",
       "10       2922     2546            4.73  439827604  9780440000000   \n",
       "12       8769     1431            4.38  517226952  9780520000000   \n",
       "\n",
       "       language_code  num_pages  ratings_count publication_date  \\\n",
       "bookID                                                            \n",
       "4                eng        352           6333        11/1/2003   \n",
       "8                eng       2690          41428        9/13/2004   \n",
       "9              en-US        152             19        4/26/2005   \n",
       "10               eng       3342          28242        9/12/2005   \n",
       "12               eng        815           3628        11/1/2005   \n",
       "\n",
       "             publisher  R_Type  en-GB  en-US  eng  fre  spa  \n",
       "bookID                                                       \n",
       "4           Scholastic       2      0      0    1    0    0  \n",
       "8           Scholastic       2      0      0    1    0    0  \n",
       "9         Nimble Books       0      0      1    0    0    0  \n",
       "10          Scholastic       2      0      0    1    0    0  \n",
       "12      Gramercy Books       2      0      0    1    0    0  "
      ]
     },
     "execution_count": 92,
     "metadata": {},
     "output_type": "execute_result"
    }
   ],
   "source": [
    "encoded_lang_other = pd.get_dummies(df_OtherBooks['language_code'])\n",
    "encoded_lang_other.head()\n",
    "colsExist = df_OtherBooks.columns.isin(['en-US', 'en-GB', 'eng', 'fre', 'spa']).any()\n",
    "if  colsExist == False:\n",
    "    df_OtherBooks = pd.concat([df_OtherBooks, encoded_lang_other], axis = 1)\n",
    "print(df_OtherBooks.shape)\n",
    "df_OtherBooks.head()"
   ]
  },
  {
   "cell_type": "markdown",
   "id": "0de97632",
   "metadata": {},
   "source": [
    "## Model selection (next) - refer \"titanic project\""
   ]
  },
  {
   "cell_type": "code",
   "execution_count": 93,
   "id": "7dd66fbb",
   "metadata": {},
   "outputs": [],
   "source": [
    "# create subset df_processed for numeric data only & drop unused columns \n",
    "df_HighRatedBooks = df_HighRatedBooks.drop(columns=[\"average_rating\", \"isbn\",\"language_code\", \"publication_date\",\"publisher\"])"
   ]
  },
  {
   "cell_type": "code",
   "execution_count": 94,
   "id": "315a15fb",
   "metadata": {},
   "outputs": [
    {
     "data": {
      "text/html": [
       "<div>\n",
       "<style scoped>\n",
       "    .dataframe tbody tr th:only-of-type {\n",
       "        vertical-align: middle;\n",
       "    }\n",
       "\n",
       "    .dataframe tbody tr th {\n",
       "        vertical-align: top;\n",
       "    }\n",
       "\n",
       "    .dataframe thead th {\n",
       "        text-align: right;\n",
       "    }\n",
       "</style>\n",
       "<table border=\"1\" class=\"dataframe\">\n",
       "  <thead>\n",
       "    <tr style=\"text-align: right;\">\n",
       "      <th></th>\n",
       "      <th>title</th>\n",
       "      <th>authors</th>\n",
       "      <th>isbn13</th>\n",
       "      <th>num_pages</th>\n",
       "      <th>ratings_count</th>\n",
       "      <th>R_Type</th>\n",
       "      <th>en-GB</th>\n",
       "      <th>en-US</th>\n",
       "      <th>eng</th>\n",
       "      <th>fre</th>\n",
       "      <th>spa</th>\n",
       "    </tr>\n",
       "    <tr>\n",
       "      <th>bookID</th>\n",
       "      <th></th>\n",
       "      <th></th>\n",
       "      <th></th>\n",
       "      <th></th>\n",
       "      <th></th>\n",
       "      <th></th>\n",
       "      <th></th>\n",
       "      <th></th>\n",
       "      <th></th>\n",
       "      <th></th>\n",
       "      <th></th>\n",
       "    </tr>\n",
       "  </thead>\n",
       "  <tbody>\n",
       "    <tr>\n",
       "      <th>1</th>\n",
       "      <td>98</td>\n",
       "      <td>90</td>\n",
       "      <td>9780440000000</td>\n",
       "      <td>652</td>\n",
       "      <td>2095690</td>\n",
       "      <td>2</td>\n",
       "      <td>0</td>\n",
       "      <td>0</td>\n",
       "      <td>1</td>\n",
       "      <td>0</td>\n",
       "      <td>0</td>\n",
       "    </tr>\n",
       "    <tr>\n",
       "      <th>2</th>\n",
       "      <td>99</td>\n",
       "      <td>90</td>\n",
       "      <td>9780440000000</td>\n",
       "      <td>870</td>\n",
       "      <td>2153167</td>\n",
       "      <td>2</td>\n",
       "      <td>0</td>\n",
       "      <td>0</td>\n",
       "      <td>1</td>\n",
       "      <td>0</td>\n",
       "      <td>0</td>\n",
       "    </tr>\n",
       "    <tr>\n",
       "      <th>5</th>\n",
       "      <td>100</td>\n",
       "      <td>90</td>\n",
       "      <td>9780440000000</td>\n",
       "      <td>435</td>\n",
       "      <td>2339585</td>\n",
       "      <td>2</td>\n",
       "      <td>0</td>\n",
       "      <td>0</td>\n",
       "      <td>1</td>\n",
       "      <td>0</td>\n",
       "      <td>0</td>\n",
       "    </tr>\n",
       "    <tr>\n",
       "      <th>13</th>\n",
       "      <td>313</td>\n",
       "      <td>55</td>\n",
       "      <td>9780350000000</td>\n",
       "      <td>815</td>\n",
       "      <td>249558</td>\n",
       "      <td>2</td>\n",
       "      <td>0</td>\n",
       "      <td>0</td>\n",
       "      <td>1</td>\n",
       "      <td>0</td>\n",
       "      <td>0</td>\n",
       "    </tr>\n",
       "    <tr>\n",
       "      <th>21</th>\n",
       "      <td>19</td>\n",
       "      <td>26</td>\n",
       "      <td>9780770000000</td>\n",
       "      <td>544</td>\n",
       "      <td>248558</td>\n",
       "      <td>2</td>\n",
       "      <td>0</td>\n",
       "      <td>0</td>\n",
       "      <td>1</td>\n",
       "      <td>0</td>\n",
       "      <td>0</td>\n",
       "    </tr>\n",
       "    <tr>\n",
       "      <th>...</th>\n",
       "      <td>...</td>\n",
       "      <td>...</td>\n",
       "      <td>...</td>\n",
       "      <td>...</td>\n",
       "      <td>...</td>\n",
       "      <td>...</td>\n",
       "      <td>...</td>\n",
       "      <td>...</td>\n",
       "      <td>...</td>\n",
       "      <td>...</td>\n",
       "      <td>...</td>\n",
       "    </tr>\n",
       "    <tr>\n",
       "      <th>43763</th>\n",
       "      <td>112</td>\n",
       "      <td>11</td>\n",
       "      <td>9780350000000</td>\n",
       "      <td>342</td>\n",
       "      <td>433413</td>\n",
       "      <td>1</td>\n",
       "      <td>0</td>\n",
       "      <td>0</td>\n",
       "      <td>1</td>\n",
       "      <td>0</td>\n",
       "      <td>0</td>\n",
       "    </tr>\n",
       "    <tr>\n",
       "      <th>43814</th>\n",
       "      <td>316</td>\n",
       "      <td>11</td>\n",
       "      <td>9780350000000</td>\n",
       "      <td>481</td>\n",
       "      <td>156354</td>\n",
       "      <td>1</td>\n",
       "      <td>0</td>\n",
       "      <td>0</td>\n",
       "      <td>1</td>\n",
       "      <td>0</td>\n",
       "      <td>0</td>\n",
       "    </tr>\n",
       "    <tr>\n",
       "      <th>43889</th>\n",
       "      <td>345</td>\n",
       "      <td>229</td>\n",
       "      <td>9780770000000</td>\n",
       "      <td>836</td>\n",
       "      <td>204648</td>\n",
       "      <td>2</td>\n",
       "      <td>0</td>\n",
       "      <td>0</td>\n",
       "      <td>1</td>\n",
       "      <td>0</td>\n",
       "      <td>0</td>\n",
       "    </tr>\n",
       "    <tr>\n",
       "      <th>44186</th>\n",
       "      <td>272</td>\n",
       "      <td>125</td>\n",
       "      <td>9780380000000</td>\n",
       "      <td>32</td>\n",
       "      <td>114297</td>\n",
       "      <td>2</td>\n",
       "      <td>0</td>\n",
       "      <td>0</td>\n",
       "      <td>1</td>\n",
       "      <td>0</td>\n",
       "      <td>0</td>\n",
       "    </tr>\n",
       "    <tr>\n",
       "      <th>44652</th>\n",
       "      <td>73</td>\n",
       "      <td>30</td>\n",
       "      <td>9781590000000</td>\n",
       "      <td>351</td>\n",
       "      <td>117341</td>\n",
       "      <td>2</td>\n",
       "      <td>0</td>\n",
       "      <td>0</td>\n",
       "      <td>1</td>\n",
       "      <td>0</td>\n",
       "      <td>0</td>\n",
       "    </tr>\n",
       "  </tbody>\n",
       "</table>\n",
       "<p>352 rows × 11 columns</p>\n",
       "</div>"
      ],
      "text/plain": [
       "        title  authors         isbn13  num_pages  ratings_count  R_Type  \\\n",
       "bookID                                                                    \n",
       "1          98       90  9780440000000        652        2095690       2   \n",
       "2          99       90  9780440000000        870        2153167       2   \n",
       "5         100       90  9780440000000        435        2339585       2   \n",
       "13        313       55  9780350000000        815         249558       2   \n",
       "21         19       26  9780770000000        544         248558       2   \n",
       "...       ...      ...            ...        ...            ...     ...   \n",
       "43763     112       11  9780350000000        342         433413       1   \n",
       "43814     316       11  9780350000000        481         156354       1   \n",
       "43889     345      229  9780770000000        836         204648       2   \n",
       "44186     272      125  9780380000000         32         114297       2   \n",
       "44652      73       30  9781590000000        351         117341       2   \n",
       "\n",
       "        en-GB  en-US  eng  fre  spa  \n",
       "bookID                               \n",
       "1           0      0    1    0    0  \n",
       "2           0      0    1    0    0  \n",
       "5           0      0    1    0    0  \n",
       "13          0      0    1    0    0  \n",
       "21          0      0    1    0    0  \n",
       "...       ...    ...  ...  ...  ...  \n",
       "43763       0      0    1    0    0  \n",
       "43814       0      0    1    0    0  \n",
       "43889       0      0    1    0    0  \n",
       "44186       0      0    1    0    0  \n",
       "44652       0      0    1    0    0  \n",
       "\n",
       "[352 rows x 11 columns]"
      ]
     },
     "execution_count": 94,
     "metadata": {},
     "output_type": "execute_result"
    }
   ],
   "source": [
    "df_HighRatedBooks"
   ]
  },
  {
   "cell_type": "code",
   "execution_count": 95,
   "id": "0ee70b97",
   "metadata": {},
   "outputs": [
    {
     "data": {
      "text/plain": [
       "1    157\n",
       "2    139\n",
       "0     56\n",
       "Name: R_Type, dtype: int64"
      ]
     },
     "execution_count": 95,
     "metadata": {},
     "output_type": "execute_result"
    }
   ],
   "source": [
    "df_HighRatedBooks['R_Type'].value_counts()"
   ]
  },
  {
   "cell_type": "code",
   "execution_count": 96,
   "id": "298b810b",
   "metadata": {},
   "outputs": [],
   "source": [
    "# create subset df_processed for numeric data only & drop unused columns \n",
    "df_OtherBooks = df_OtherBooks.drop(columns=[\"average_rating\", \"isbn\",\"language_code\", \"publication_date\",\"publisher\"])"
   ]
  },
  {
   "cell_type": "code",
   "execution_count": null,
   "id": "2148ad7a",
   "metadata": {},
   "outputs": [],
   "source": [
    "df_OtherBooks"
   ]
  },
  {
   "cell_type": "code",
   "execution_count": 97,
   "id": "e762c75f",
   "metadata": {},
   "outputs": [
    {
     "name": "stdout",
     "output_type": "stream",
     "text": [
      "<class 'pandas.core.frame.DataFrame'>\n",
      "Int64Index: 10544 entries, 4 to 45641\n",
      "Data columns (total 11 columns):\n",
      " #   Column         Non-Null Count  Dtype\n",
      "---  ------         --------------  -----\n",
      " 0   title          10544 non-null  int32\n",
      " 1   authors        10544 non-null  int32\n",
      " 2   isbn13         10544 non-null  int64\n",
      " 3   num_pages      10544 non-null  int64\n",
      " 4   ratings_count  10544 non-null  int64\n",
      " 5   R_Type         10544 non-null  int32\n",
      " 6   en-GB          10544 non-null  uint8\n",
      " 7   en-US          10544 non-null  uint8\n",
      " 8   eng            10544 non-null  uint8\n",
      " 9   fre            10544 non-null  uint8\n",
      " 10  spa            10544 non-null  uint8\n",
      "dtypes: int32(3), int64(3), uint8(5)\n",
      "memory usage: 504.5 KB\n"
     ]
    }
   ],
   "source": [
    "df_OtherBooks.info()"
   ]
  },
  {
   "cell_type": "code",
   "execution_count": 98,
   "id": "138b9ecb",
   "metadata": {
    "scrolled": true
   },
   "outputs": [
    {
     "data": {
      "text/plain": [
       "1    4518\n",
       "2    3077\n",
       "0    2949\n",
       "Name: R_Type, dtype: int64"
      ]
     },
     "execution_count": 98,
     "metadata": {},
     "output_type": "execute_result"
    }
   ],
   "source": [
    "df_OtherBooks['R_Type'].value_counts()"
   ]
  },
  {
   "cell_type": "markdown",
   "id": "e2e67109",
   "metadata": {},
   "source": [
    "### Model selection"
   ]
  },
  {
   "cell_type": "code",
   "execution_count": 99,
   "id": "bc13950b",
   "metadata": {},
   "outputs": [],
   "source": [
    "from sklearn.model_selection import train_test_split"
   ]
  },
  {
   "cell_type": "code",
   "execution_count": 100,
   "id": "d9062a76",
   "metadata": {},
   "outputs": [],
   "source": [
    "# \" define (randomly) training and testing dataframe\"\n",
    "df_train_other, df_test_other = train_test_split(df_OtherBooks,test_size = 0.2, stratify = df_OtherBooks.R_Type)"
   ]
  },
  {
   "cell_type": "code",
   "execution_count": 101,
   "id": "df8b5b1a",
   "metadata": {},
   "outputs": [
    {
     "data": {
      "text/plain": [
       "10544"
      ]
     },
     "execution_count": 101,
     "metadata": {},
     "output_type": "execute_result"
    }
   ],
   "source": [
    "len(df_OtherBooks)"
   ]
  },
  {
   "cell_type": "code",
   "execution_count": 102,
   "id": "1edc642f",
   "metadata": {},
   "outputs": [
    {
     "data": {
      "text/plain": [
       "8435"
      ]
     },
     "execution_count": 102,
     "metadata": {},
     "output_type": "execute_result"
    }
   ],
   "source": [
    "len(df_train_other)"
   ]
  },
  {
   "cell_type": "code",
   "execution_count": 103,
   "id": "cfe68043",
   "metadata": {},
   "outputs": [
    {
     "data": {
      "text/plain": [
       "2109"
      ]
     },
     "execution_count": 103,
     "metadata": {},
     "output_type": "execute_result"
    }
   ],
   "source": [
    "len(df_test_other)"
   ]
  },
  {
   "cell_type": "code",
   "execution_count": null,
   "id": "bbce3f1c",
   "metadata": {},
   "outputs": [],
   "source": [
    "# option to write a function to apply model\n",
    "'''\n",
    "def ModelBuilding_LogisticRegression(df_Current, testSize=0.2):\n",
    "    # divide the data into attributes and labels\n",
    "    X = df_Current.drop(['R_Type'], axis = 1)\n",
    "    y = df_Current['R_Type']\n",
    "    print(\"Shape of Inputs = {0}\".format(X.shape))\n",
    "    print(\"Shape of Target = {0}\".format(y.shape))\n",
    "    # split 80% of the data to the training set and 20% of the data to test set \n",
    "    X_train, X_test, y_train, y_test = train_test_split(X, y, test_size = testSize, random_state = 999)\n",
    "    logReg = LogisticRegression()\n",
    "    logReg.fit(X_train, y_train)\n",
    "    print(\"Intercept = {0}\".format(linReg.intercept_))\n",
    "    print(\"Coefficients = {0}\".format(linReg.coef_.tolist()))\n",
    "    predictions = linReg.predict(X_test)\n",
    "    return (predictions, X_test, y_test, linReg)\n",
    "'''"
   ]
  },
  {
   "cell_type": "code",
   "execution_count": 104,
   "id": "00dea38f",
   "metadata": {},
   "outputs": [
    {
     "data": {
      "text/html": [
       "<div>\n",
       "<style scoped>\n",
       "    .dataframe tbody tr th:only-of-type {\n",
       "        vertical-align: middle;\n",
       "    }\n",
       "\n",
       "    .dataframe tbody tr th {\n",
       "        vertical-align: top;\n",
       "    }\n",
       "\n",
       "    .dataframe thead th {\n",
       "        text-align: right;\n",
       "    }\n",
       "</style>\n",
       "<table border=\"1\" class=\"dataframe\">\n",
       "  <thead>\n",
       "    <tr style=\"text-align: right;\">\n",
       "      <th></th>\n",
       "      <th>title</th>\n",
       "      <th>authors</th>\n",
       "      <th>isbn13</th>\n",
       "      <th>num_pages</th>\n",
       "      <th>ratings_count</th>\n",
       "      <th>R_Type</th>\n",
       "      <th>en-GB</th>\n",
       "      <th>en-US</th>\n",
       "      <th>eng</th>\n",
       "      <th>fre</th>\n",
       "      <th>spa</th>\n",
       "    </tr>\n",
       "    <tr>\n",
       "      <th>bookID</th>\n",
       "      <th></th>\n",
       "      <th></th>\n",
       "      <th></th>\n",
       "      <th></th>\n",
       "      <th></th>\n",
       "      <th></th>\n",
       "      <th></th>\n",
       "      <th></th>\n",
       "      <th></th>\n",
       "      <th></th>\n",
       "      <th></th>\n",
       "    </tr>\n",
       "  </thead>\n",
       "  <tbody>\n",
       "    <tr>\n",
       "      <th>23293</th>\n",
       "      <td>2025</td>\n",
       "      <td>2663</td>\n",
       "      <td>9780060000000</td>\n",
       "      <td>8</td>\n",
       "      <td>53</td>\n",
       "      <td>1</td>\n",
       "      <td>0</td>\n",
       "      <td>0</td>\n",
       "      <td>1</td>\n",
       "      <td>0</td>\n",
       "      <td>0</td>\n",
       "    </tr>\n",
       "    <tr>\n",
       "      <th>7777</th>\n",
       "      <td>4255</td>\n",
       "      <td>1450</td>\n",
       "      <td>9780390000000</td>\n",
       "      <td>64</td>\n",
       "      <td>4560</td>\n",
       "      <td>1</td>\n",
       "      <td>0</td>\n",
       "      <td>0</td>\n",
       "      <td>1</td>\n",
       "      <td>0</td>\n",
       "      <td>0</td>\n",
       "    </tr>\n",
       "    <tr>\n",
       "      <th>43821</th>\n",
       "      <td>4313</td>\n",
       "      <td>319</td>\n",
       "      <td>9788470000000</td>\n",
       "      <td>414</td>\n",
       "      <td>99</td>\n",
       "      <td>0</td>\n",
       "      <td>0</td>\n",
       "      <td>0</td>\n",
       "      <td>0</td>\n",
       "      <td>0</td>\n",
       "      <td>1</td>\n",
       "    </tr>\n",
       "    <tr>\n",
       "      <th>12958</th>\n",
       "      <td>4505</td>\n",
       "      <td>6323</td>\n",
       "      <td>9780520000000</td>\n",
       "      <td>196</td>\n",
       "      <td>128</td>\n",
       "      <td>1</td>\n",
       "      <td>0</td>\n",
       "      <td>0</td>\n",
       "      <td>1</td>\n",
       "      <td>0</td>\n",
       "      <td>0</td>\n",
       "    </tr>\n",
       "    <tr>\n",
       "      <th>40863</th>\n",
       "      <td>9869</td>\n",
       "      <td>721</td>\n",
       "      <td>9781880000000</td>\n",
       "      <td>503</td>\n",
       "      <td>29</td>\n",
       "      <td>1</td>\n",
       "      <td>0</td>\n",
       "      <td>0</td>\n",
       "      <td>1</td>\n",
       "      <td>0</td>\n",
       "      <td>0</td>\n",
       "    </tr>\n",
       "    <tr>\n",
       "      <th>...</th>\n",
       "      <td>...</td>\n",
       "      <td>...</td>\n",
       "      <td>...</td>\n",
       "      <td>...</td>\n",
       "      <td>...</td>\n",
       "      <td>...</td>\n",
       "      <td>...</td>\n",
       "      <td>...</td>\n",
       "      <td>...</td>\n",
       "      <td>...</td>\n",
       "      <td>...</td>\n",
       "    </tr>\n",
       "    <tr>\n",
       "      <th>12070</th>\n",
       "      <td>2781</td>\n",
       "      <td>5859</td>\n",
       "      <td>9780060000000</td>\n",
       "      <td>384</td>\n",
       "      <td>5036</td>\n",
       "      <td>2</td>\n",
       "      <td>0</td>\n",
       "      <td>0</td>\n",
       "      <td>1</td>\n",
       "      <td>0</td>\n",
       "      <td>0</td>\n",
       "    </tr>\n",
       "    <tr>\n",
       "      <th>6227</th>\n",
       "      <td>8540</td>\n",
       "      <td>5501</td>\n",
       "      <td>9780680000000</td>\n",
       "      <td>240</td>\n",
       "      <td>349</td>\n",
       "      <td>2</td>\n",
       "      <td>0</td>\n",
       "      <td>0</td>\n",
       "      <td>1</td>\n",
       "      <td>0</td>\n",
       "      <td>0</td>\n",
       "    </tr>\n",
       "    <tr>\n",
       "      <th>38288</th>\n",
       "      <td>7707</td>\n",
       "      <td>2647</td>\n",
       "      <td>9780940000000</td>\n",
       "      <td>1051</td>\n",
       "      <td>130</td>\n",
       "      <td>1</td>\n",
       "      <td>0</td>\n",
       "      <td>0</td>\n",
       "      <td>1</td>\n",
       "      <td>0</td>\n",
       "      <td>0</td>\n",
       "    </tr>\n",
       "    <tr>\n",
       "      <th>38211</th>\n",
       "      <td>6419</td>\n",
       "      <td>1070</td>\n",
       "      <td>9780340000000</td>\n",
       "      <td>224</td>\n",
       "      <td>1615</td>\n",
       "      <td>1</td>\n",
       "      <td>0</td>\n",
       "      <td>0</td>\n",
       "      <td>1</td>\n",
       "      <td>0</td>\n",
       "      <td>0</td>\n",
       "    </tr>\n",
       "    <tr>\n",
       "      <th>36004</th>\n",
       "      <td>3294</td>\n",
       "      <td>264</td>\n",
       "      <td>9780140000000</td>\n",
       "      <td>204</td>\n",
       "      <td>1021</td>\n",
       "      <td>0</td>\n",
       "      <td>0</td>\n",
       "      <td>0</td>\n",
       "      <td>1</td>\n",
       "      <td>0</td>\n",
       "      <td>0</td>\n",
       "    </tr>\n",
       "  </tbody>\n",
       "</table>\n",
       "<p>8435 rows × 11 columns</p>\n",
       "</div>"
      ],
      "text/plain": [
       "        title  authors         isbn13  num_pages  ratings_count  R_Type  \\\n",
       "bookID                                                                    \n",
       "23293    2025     2663  9780060000000          8             53       1   \n",
       "7777     4255     1450  9780390000000         64           4560       1   \n",
       "43821    4313      319  9788470000000        414             99       0   \n",
       "12958    4505     6323  9780520000000        196            128       1   \n",
       "40863    9869      721  9781880000000        503             29       1   \n",
       "...       ...      ...            ...        ...            ...     ...   \n",
       "12070    2781     5859  9780060000000        384           5036       2   \n",
       "6227     8540     5501  9780680000000        240            349       2   \n",
       "38288    7707     2647  9780940000000       1051            130       1   \n",
       "38211    6419     1070  9780340000000        224           1615       1   \n",
       "36004    3294      264  9780140000000        204           1021       0   \n",
       "\n",
       "        en-GB  en-US  eng  fre  spa  \n",
       "bookID                               \n",
       "23293       0      0    1    0    0  \n",
       "7777        0      0    1    0    0  \n",
       "43821       0      0    0    0    1  \n",
       "12958       0      0    1    0    0  \n",
       "40863       0      0    1    0    0  \n",
       "...       ...    ...  ...  ...  ...  \n",
       "12070       0      0    1    0    0  \n",
       "6227        0      0    1    0    0  \n",
       "38288       0      0    1    0    0  \n",
       "38211       0      0    1    0    0  \n",
       "36004       0      0    1    0    0  \n",
       "\n",
       "[8435 rows x 11 columns]"
      ]
     },
     "execution_count": 104,
     "metadata": {},
     "output_type": "execute_result"
    }
   ],
   "source": [
    "df_train_other"
   ]
  },
  {
   "cell_type": "code",
   "execution_count": 105,
   "id": "a83caffe",
   "metadata": {},
   "outputs": [
    {
     "name": "stdout",
     "output_type": "stream",
     "text": [
      "1.0121396054628224\n",
      "1.0122110254890337\n",
      "1.0118539592223803\n"
     ]
    }
   ],
   "source": [
    "print(df_OtherBooks.R_Type.mean())\n",
    "print(df_train_other.R_Type.mean())\n",
    "print(df_test_other.R_Type.mean())"
   ]
  },
  {
   "cell_type": "code",
   "execution_count": 106,
   "id": "a90d255a",
   "metadata": {},
   "outputs": [
    {
     "data": {
      "text/plain": [
       "count    10544.000000\n",
       "mean         1.012140\n",
       "std          0.755921\n",
       "min          0.000000\n",
       "25%          0.000000\n",
       "50%          1.000000\n",
       "75%          2.000000\n",
       "max          2.000000\n",
       "Name: R_Type, dtype: float64"
      ]
     },
     "execution_count": 106,
     "metadata": {},
     "output_type": "execute_result"
    }
   ],
   "source": [
    "df_OtherBooks.R_Type.describe()"
   ]
  },
  {
   "cell_type": "code",
   "execution_count": 107,
   "id": "c54c2b2b",
   "metadata": {},
   "outputs": [
    {
     "data": {
      "text/plain": [
       "Index(['title', 'authors', 'isbn13', 'num_pages', 'ratings_count', 'R_Type',\n",
       "       'en-GB', 'en-US', 'eng', 'fre', 'spa'],\n",
       "      dtype='object')"
      ]
     },
     "execution_count": 107,
     "metadata": {},
     "output_type": "execute_result"
    }
   ],
   "source": [
    "df_train_other.columns"
   ]
  },
  {
   "cell_type": "code",
   "execution_count": 108,
   "id": "c048393f",
   "metadata": {},
   "outputs": [],
   "source": [
    "# get the values of the columns for the training data\n",
    "X_train = df_train_other.loc[:,['title', 'authors', 'isbn13', 'num_pages', 'ratings_count', 'en-GB', 'en-US', 'eng', 'fre', 'spa']].values\n",
    "y_train = df_train_other.R_Type.values"
   ]
  },
  {
   "cell_type": "code",
   "execution_count": 109,
   "id": "6bb7b5db",
   "metadata": {},
   "outputs": [],
   "source": [
    "# get the values of the columns for the test data\n",
    "X_test = df_test_other.loc[:,['title', 'authors', 'isbn13', 'num_pages', 'ratings_count', 'en-GB', 'en-US', 'eng', 'fre', 'spa']].values\n",
    "y_test = df_test_other.R_Type.values"
   ]
  },
  {
   "cell_type": "code",
   "execution_count": 110,
   "id": "b47ad7cc",
   "metadata": {},
   "outputs": [],
   "source": [
    "from sklearn.linear_model import LogisticRegression"
   ]
  },
  {
   "cell_type": "code",
   "execution_count": 121,
   "id": "a744b0e2",
   "metadata": {},
   "outputs": [],
   "source": [
    "# here we initialize the model\n",
    "lr_model = LogisticRegression(random_state=0,max_iter=1000) # random_state=0 or 42... means \n",
    "# ...i want the same conditions if i re-use the model again"
   ]
  },
  {
   "cell_type": "code",
   "execution_count": 122,
   "id": "014bad14",
   "metadata": {},
   "outputs": [
    {
     "data": {
      "text/html": [
       "<style>#sk-container-id-4 {color: black;background-color: white;}#sk-container-id-4 pre{padding: 0;}#sk-container-id-4 div.sk-toggleable {background-color: white;}#sk-container-id-4 label.sk-toggleable__label {cursor: pointer;display: block;width: 100%;margin-bottom: 0;padding: 0.3em;box-sizing: border-box;text-align: center;}#sk-container-id-4 label.sk-toggleable__label-arrow:before {content: \"▸\";float: left;margin-right: 0.25em;color: #696969;}#sk-container-id-4 label.sk-toggleable__label-arrow:hover:before {color: black;}#sk-container-id-4 div.sk-estimator:hover label.sk-toggleable__label-arrow:before {color: black;}#sk-container-id-4 div.sk-toggleable__content {max-height: 0;max-width: 0;overflow: hidden;text-align: left;background-color: #f0f8ff;}#sk-container-id-4 div.sk-toggleable__content pre {margin: 0.2em;color: black;border-radius: 0.25em;background-color: #f0f8ff;}#sk-container-id-4 input.sk-toggleable__control:checked~div.sk-toggleable__content {max-height: 200px;max-width: 100%;overflow: auto;}#sk-container-id-4 input.sk-toggleable__control:checked~label.sk-toggleable__label-arrow:before {content: \"▾\";}#sk-container-id-4 div.sk-estimator input.sk-toggleable__control:checked~label.sk-toggleable__label {background-color: #d4ebff;}#sk-container-id-4 div.sk-label input.sk-toggleable__control:checked~label.sk-toggleable__label {background-color: #d4ebff;}#sk-container-id-4 input.sk-hidden--visually {border: 0;clip: rect(1px 1px 1px 1px);clip: rect(1px, 1px, 1px, 1px);height: 1px;margin: -1px;overflow: hidden;padding: 0;position: absolute;width: 1px;}#sk-container-id-4 div.sk-estimator {font-family: monospace;background-color: #f0f8ff;border: 1px dotted black;border-radius: 0.25em;box-sizing: border-box;margin-bottom: 0.5em;}#sk-container-id-4 div.sk-estimator:hover {background-color: #d4ebff;}#sk-container-id-4 div.sk-parallel-item::after {content: \"\";width: 100%;border-bottom: 1px solid gray;flex-grow: 1;}#sk-container-id-4 div.sk-label:hover label.sk-toggleable__label {background-color: #d4ebff;}#sk-container-id-4 div.sk-serial::before {content: \"\";position: absolute;border-left: 1px solid gray;box-sizing: border-box;top: 0;bottom: 0;left: 50%;z-index: 0;}#sk-container-id-4 div.sk-serial {display: flex;flex-direction: column;align-items: center;background-color: white;padding-right: 0.2em;padding-left: 0.2em;position: relative;}#sk-container-id-4 div.sk-item {position: relative;z-index: 1;}#sk-container-id-4 div.sk-parallel {display: flex;align-items: stretch;justify-content: center;background-color: white;position: relative;}#sk-container-id-4 div.sk-item::before, #sk-container-id-4 div.sk-parallel-item::before {content: \"\";position: absolute;border-left: 1px solid gray;box-sizing: border-box;top: 0;bottom: 0;left: 50%;z-index: -1;}#sk-container-id-4 div.sk-parallel-item {display: flex;flex-direction: column;z-index: 1;position: relative;background-color: white;}#sk-container-id-4 div.sk-parallel-item:first-child::after {align-self: flex-end;width: 50%;}#sk-container-id-4 div.sk-parallel-item:last-child::after {align-self: flex-start;width: 50%;}#sk-container-id-4 div.sk-parallel-item:only-child::after {width: 0;}#sk-container-id-4 div.sk-dashed-wrapped {border: 1px dashed gray;margin: 0 0.4em 0.5em 0.4em;box-sizing: border-box;padding-bottom: 0.4em;background-color: white;}#sk-container-id-4 div.sk-label label {font-family: monospace;font-weight: bold;display: inline-block;line-height: 1.2em;}#sk-container-id-4 div.sk-label-container {text-align: center;}#sk-container-id-4 div.sk-container {/* jupyter's `normalize.less` sets `[hidden] { display: none; }` but bootstrap.min.css set `[hidden] { display: none !important; }` so we also need the `!important` here to be able to override the default hidden behavior on the sphinx rendered scikit-learn.org. See: https://github.com/scikit-learn/scikit-learn/issues/21755 */display: inline-block !important;position: relative;}#sk-container-id-4 div.sk-text-repr-fallback {display: none;}</style><div id=\"sk-container-id-4\" class=\"sk-top-container\"><div class=\"sk-text-repr-fallback\"><pre>LogisticRegression(max_iter=1000, random_state=0)</pre><b>In a Jupyter environment, please rerun this cell to show the HTML representation or trust the notebook. <br />On GitHub, the HTML representation is unable to render, please try loading this page with nbviewer.org.</b></div><div class=\"sk-container\" hidden><div class=\"sk-item\"><div class=\"sk-estimator sk-toggleable\"><input class=\"sk-toggleable__control sk-hidden--visually\" id=\"sk-estimator-id-4\" type=\"checkbox\" checked><label for=\"sk-estimator-id-4\" class=\"sk-toggleable__label sk-toggleable__label-arrow\">LogisticRegression</label><div class=\"sk-toggleable__content\"><pre>LogisticRegression(max_iter=1000, random_state=0)</pre></div></div></div></div></div>"
      ],
      "text/plain": [
       "LogisticRegression(max_iter=1000, random_state=0)"
      ]
     },
     "execution_count": 122,
     "metadata": {},
     "output_type": "execute_result"
    }
   ],
   "source": [
    "# here we train the model on the training data\n",
    "lr_model.fit(X=X_train, y=y_train)"
   ]
  },
  {
   "cell_type": "code",
   "execution_count": 123,
   "id": "97d09fac",
   "metadata": {},
   "outputs": [],
   "source": [
    "y_test_predicted = lr_model.predict(X_test) # list of prediction my model will make"
   ]
  },
  {
   "cell_type": "code",
   "execution_count": 124,
   "id": "43f30659",
   "metadata": {},
   "outputs": [
    {
     "data": {
      "text/plain": [
       "array([1, 1, 1, ..., 1, 1, 1])"
      ]
     },
     "execution_count": 124,
     "metadata": {},
     "output_type": "execute_result"
    }
   ],
   "source": [
    "y_test_predicted"
   ]
  },
  {
   "cell_type": "code",
   "execution_count": 125,
   "id": "210b3c0c",
   "metadata": {},
   "outputs": [
    {
     "data": {
      "text/plain": [
       "array([0, 2, 2, ..., 1, 0, 1])"
      ]
     },
     "execution_count": 125,
     "metadata": {},
     "output_type": "execute_result"
    }
   ],
   "source": [
    "y_test"
   ]
  },
  {
   "cell_type": "code",
   "execution_count": 126,
   "id": "3ae13e8c",
   "metadata": {},
   "outputs": [
    {
     "data": {
      "text/plain": [
       "0.42863916548127073"
      ]
     },
     "execution_count": 126,
     "metadata": {},
     "output_type": "execute_result"
    }
   ],
   "source": [
    "(y_test_predicted == y_test).sum()/len(y_test)"
   ]
  },
  {
   "cell_type": "code",
   "execution_count": 127,
   "id": "2a3c393f",
   "metadata": {},
   "outputs": [],
   "source": [
    "from sklearn.metrics import confusion_matrix"
   ]
  },
  {
   "cell_type": "code",
   "execution_count": 128,
   "id": "412b2d6b",
   "metadata": {},
   "outputs": [],
   "source": [
    "cf = pd.DataFrame(\n",
    "    columns=[\"y_test_0\",\"y_test_1\",\"y_test_2\"],index=[\"y_pred_0\",\"y_pred_1\",\"y_pred_2\"]\n",
    ")"
   ]
  },
  {
   "cell_type": "code",
   "execution_count": 129,
   "id": "b327d341",
   "metadata": {},
   "outputs": [],
   "source": [
    "cf.loc[:,:] = confusion_matrix(y_true= y_test,y_pred= y_test_predicted)"
   ]
  },
  {
   "cell_type": "code",
   "execution_count": 130,
   "id": "b845d63e",
   "metadata": {},
   "outputs": [
    {
     "data": {
      "text/html": [
       "<div>\n",
       "<style scoped>\n",
       "    .dataframe tbody tr th:only-of-type {\n",
       "        vertical-align: middle;\n",
       "    }\n",
       "\n",
       "    .dataframe tbody tr th {\n",
       "        vertical-align: top;\n",
       "    }\n",
       "\n",
       "    .dataframe thead th {\n",
       "        text-align: right;\n",
       "    }\n",
       "</style>\n",
       "<table border=\"1\" class=\"dataframe\">\n",
       "  <thead>\n",
       "    <tr style=\"text-align: right;\">\n",
       "      <th></th>\n",
       "      <th>y_test_0</th>\n",
       "      <th>y_test_1</th>\n",
       "      <th>y_test_2</th>\n",
       "    </tr>\n",
       "  </thead>\n",
       "  <tbody>\n",
       "    <tr>\n",
       "      <th>y_pred_0</th>\n",
       "      <td>0</td>\n",
       "      <td>590</td>\n",
       "      <td>0</td>\n",
       "    </tr>\n",
       "    <tr>\n",
       "      <th>y_pred_1</th>\n",
       "      <td>0</td>\n",
       "      <td>904</td>\n",
       "      <td>0</td>\n",
       "    </tr>\n",
       "    <tr>\n",
       "      <th>y_pred_2</th>\n",
       "      <td>0</td>\n",
       "      <td>615</td>\n",
       "      <td>0</td>\n",
       "    </tr>\n",
       "  </tbody>\n",
       "</table>\n",
       "</div>"
      ],
      "text/plain": [
       "         y_test_0 y_test_1 y_test_2\n",
       "y_pred_0        0      590        0\n",
       "y_pred_1        0      904        0\n",
       "y_pred_2        0      615        0"
      ]
     },
     "execution_count": 130,
     "metadata": {},
     "output_type": "execute_result"
    }
   ],
   "source": [
    "cf"
   ]
  },
  {
   "cell_type": "code",
   "execution_count": null,
   "id": "3b5114a5",
   "metadata": {},
   "outputs": [],
   "source": [
    "cf/len(y_test)"
   ]
  },
  {
   "cell_type": "code",
   "execution_count": null,
   "id": "7ef778c7",
   "metadata": {},
   "outputs": [],
   "source": [
    "y_test"
   ]
  },
  {
   "cell_type": "code",
   "execution_count": null,
   "id": "84177588",
   "metadata": {},
   "outputs": [],
   "source": []
  }
 ],
 "metadata": {
  "kernelspec": {
   "display_name": "Python 3 (ipykernel)",
   "language": "python",
   "name": "python3"
  },
  "language_info": {
   "codemirror_mode": {
    "name": "ipython",
    "version": 3
   },
   "file_extension": ".py",
   "mimetype": "text/x-python",
   "name": "python",
   "nbconvert_exporter": "python",
   "pygments_lexer": "ipython3",
   "version": "3.10.11"
  }
 },
 "nbformat": 4,
 "nbformat_minor": 5
}
