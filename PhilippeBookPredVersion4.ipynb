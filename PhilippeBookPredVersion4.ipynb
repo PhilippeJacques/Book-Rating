{
  "nbformat": 4,
  "nbformat_minor": 0,
  "metadata": {
    "colab": {
      "provenance": [],
      "authorship_tag": "ABX9TyOI3kKbF7FoMxFbJpacfMeQ",
      "include_colab_link": true
    },
    "kernelspec": {
      "name": "python3",
      "display_name": "Python 3"
    },
    "language_info": {
      "name": "python"
    }
  },
  "cells": [
    {
      "cell_type": "markdown",
      "metadata": {
        "id": "view-in-github",
        "colab_type": "text"
      },
      "source": [
        "<a href=\"https://colab.research.google.com/github/PhilippeJacques/Book-Rating/blob/Develop-Branch/PhilippeBookPredVersion4.ipynb\" target=\"_parent\"><img src=\"https://colab.research.google.com/assets/colab-badge.svg\" alt=\"Open In Colab\"/></a>"
      ]
    },
    {
      "cell_type": "markdown",
      "source": [
        "# Library Imports"
      ],
      "metadata": {
        "id": "uXGSf_bP6r_H"
      }
    },
    {
      "cell_type": "code",
      "execution_count": 1,
      "metadata": {
        "id": "jNP7Y0wXE1Lt"
      },
      "outputs": [],
      "source": [
        "import pandas as pd\n",
        "import matplotlib.pyplot as plt\n",
        "import warnings\n",
        "from datetime import datetime\n",
        "import numpy as np\n",
        "import seaborn as sns\n",
        "import scipy as sc\n",
        "import statsmodels.api as sm"
      ]
    },
    {
      "cell_type": "markdown",
      "source": [
        "#Data Cleaning"
      ],
      "metadata": {
        "id": "CAOqDi9iWBtb"
      }
    },
    {
      "cell_type": "markdown",
      "source": [
        "On opening the dataset with txt format, we notice a last supplemented column called unamed with NAN entries and we had commas separating many coauthors of the same book with risks of creating new columns, to fix this problem, we removed the commas separating co-authors and this was sufficient to remove the unamed column too."
      ],
      "metadata": {
        "id": "gwlqrqltC7DC"
      }
    },
    {
      "cell_type": "markdown",
      "source": [
        "We will start by importing the dataset into a pandas dataframe and remove those parameters which do not match the proper structure"
      ],
      "metadata": {
        "id": "po7zCKzeGl7I"
      }
    },
    {
      "cell_type": "markdown",
      "source": [
        "We will remove all data having ratings count equal to zero as the rating count is our most leading feature for the decision process."
      ],
      "metadata": {
        "id": "lOiILulxINLY"
      }
    },
    {
      "cell_type": "code",
      "source": [
        "warnings.filterwarnings(\"ignore\")\n",
        "df = pd.read_csv(r\"books.csv\",sep=\",\", error_bad_lines=False,index_col=\"bookID\")\n",
        "df = df[df.ratings_count != 0]"
      ],
      "metadata": {
        "id": "Zi59wCz1G1Yc"
      },
      "execution_count": 2,
      "outputs": []
    },
    {
      "cell_type": "markdown",
      "source": [
        "In order to filter the num_pages column, will rename as accessing it through its current name gives me an error"
      ],
      "metadata": {
        "id": "G8JYeOx3PE5H"
      }
    },
    {
      "cell_type": "markdown",
      "source": [
        "After these actions which will for sure modify the data, we have to check what the data looks like now"
      ],
      "metadata": {
        "id": "Ek-pxJxBJ4VV"
      }
    },
    {
      "cell_type": "code",
      "source": [
        "df.head(10)"
      ],
      "metadata": {
        "colab": {
          "base_uri": "https://localhost:8080/",
          "height": 1000
        },
        "id": "g22Tti6NTFmF",
        "outputId": "c0e79ef3-1deb-43c5-e7c7-b0db6d47c563"
      },
      "execution_count": 3,
      "outputs": [
        {
          "output_type": "execute_result",
          "data": {
            "text/plain": [
              "                                                    title  \\\n",
              "bookID                                                      \n",
              "1       Harry Potter and the Half-Blood Prince (Harry ...   \n",
              "2       Harry Potter and the Order of the Phoenix (Har...   \n",
              "4       Harry Potter and the Chamber of Secrets (Harry...   \n",
              "5       Harry Potter and the Prisoner of Azkaban (Harr...   \n",
              "8       Harry Potter Boxed Set  Books 1-5 (Harry Potte...   \n",
              "9       Unauthorized Harry Potter Book Seven News: \"Ha...   \n",
              "10           Harry Potter Collection (Harry Potter  #1-6)   \n",
              "12      The Ultimate Hitchhiker's Guide: Five Complete...   \n",
              "13      The Ultimate Hitchhiker's Guide to the Galaxy ...   \n",
              "14      The Hitchhiker's Guide to the Galaxy (Hitchhik...   \n",
              "\n",
              "                           authors  average_rating        isbn         isbn13  \\\n",
              "bookID                                                                          \n",
              "1       J.K. Rowling/Mary GrandPré            4.57  0439785960  9780439785969   \n",
              "2       J.K. Rowling/Mary GrandPré            4.49  0439358078  9780439358071   \n",
              "4                     J.K. Rowling            4.42  0439554896  9780439554893   \n",
              "5       J.K. Rowling/Mary GrandPré            4.56  043965548X  9780439655484   \n",
              "8       J.K. Rowling/Mary GrandPré            4.78  0439682584  9780439682589   \n",
              "9           W. Frederick Zimmerman            3.74  0976540606  9780976540601   \n",
              "10                    J.K. Rowling            4.73  0439827604  9780439827607   \n",
              "12                   Douglas Adams            4.38  0517226952  9780517226957   \n",
              "13                   Douglas Adams            4.38  0345453743  9780345453747   \n",
              "14                   Douglas Adams            4.22  1400052920  9781400052929   \n",
              "\n",
              "       language_code    num_pages  ratings_count  text_reviews_count  \\\n",
              "bookID                                                                 \n",
              "1                eng          652        2095690               27591   \n",
              "2                eng          870        2153167               29221   \n",
              "4                eng          352           6333                 244   \n",
              "5                eng          435        2339585               36325   \n",
              "8                eng         2690          41428                 164   \n",
              "9              en-US          152             19                   1   \n",
              "10               eng         3342          28242                 808   \n",
              "12               eng          815           3628                 254   \n",
              "13               eng          815         249558                4080   \n",
              "14               eng          215           4930                 460   \n",
              "\n",
              "       publication_date        publisher  \n",
              "bookID                                    \n",
              "1             9/16/2006  Scholastic Inc.  \n",
              "2              9/1/2004  Scholastic Inc.  \n",
              "4             11/1/2003       Scholastic  \n",
              "5              5/1/2004  Scholastic Inc.  \n",
              "8             9/13/2004       Scholastic  \n",
              "9             4/26/2005     Nimble Books  \n",
              "10            9/12/2005       Scholastic  \n",
              "12            11/1/2005   Gramercy Books  \n",
              "13            4/30/2002    Del Rey Books  \n",
              "14             8/3/2004            Crown  "
            ],
            "text/html": [
              "\n",
              "  <div id=\"df-52bbb7b5-60f5-4b52-a8f8-b574cf875e70\">\n",
              "    <div class=\"colab-df-container\">\n",
              "      <div>\n",
              "<style scoped>\n",
              "    .dataframe tbody tr th:only-of-type {\n",
              "        vertical-align: middle;\n",
              "    }\n",
              "\n",
              "    .dataframe tbody tr th {\n",
              "        vertical-align: top;\n",
              "    }\n",
              "\n",
              "    .dataframe thead th {\n",
              "        text-align: right;\n",
              "    }\n",
              "</style>\n",
              "<table border=\"1\" class=\"dataframe\">\n",
              "  <thead>\n",
              "    <tr style=\"text-align: right;\">\n",
              "      <th></th>\n",
              "      <th>title</th>\n",
              "      <th>authors</th>\n",
              "      <th>average_rating</th>\n",
              "      <th>isbn</th>\n",
              "      <th>isbn13</th>\n",
              "      <th>language_code</th>\n",
              "      <th>num_pages</th>\n",
              "      <th>ratings_count</th>\n",
              "      <th>text_reviews_count</th>\n",
              "      <th>publication_date</th>\n",
              "      <th>publisher</th>\n",
              "    </tr>\n",
              "    <tr>\n",
              "      <th>bookID</th>\n",
              "      <th></th>\n",
              "      <th></th>\n",
              "      <th></th>\n",
              "      <th></th>\n",
              "      <th></th>\n",
              "      <th></th>\n",
              "      <th></th>\n",
              "      <th></th>\n",
              "      <th></th>\n",
              "      <th></th>\n",
              "      <th></th>\n",
              "    </tr>\n",
              "  </thead>\n",
              "  <tbody>\n",
              "    <tr>\n",
              "      <th>1</th>\n",
              "      <td>Harry Potter and the Half-Blood Prince (Harry ...</td>\n",
              "      <td>J.K. Rowling/Mary GrandPré</td>\n",
              "      <td>4.57</td>\n",
              "      <td>0439785960</td>\n",
              "      <td>9780439785969</td>\n",
              "      <td>eng</td>\n",
              "      <td>652</td>\n",
              "      <td>2095690</td>\n",
              "      <td>27591</td>\n",
              "      <td>9/16/2006</td>\n",
              "      <td>Scholastic Inc.</td>\n",
              "    </tr>\n",
              "    <tr>\n",
              "      <th>2</th>\n",
              "      <td>Harry Potter and the Order of the Phoenix (Har...</td>\n",
              "      <td>J.K. Rowling/Mary GrandPré</td>\n",
              "      <td>4.49</td>\n",
              "      <td>0439358078</td>\n",
              "      <td>9780439358071</td>\n",
              "      <td>eng</td>\n",
              "      <td>870</td>\n",
              "      <td>2153167</td>\n",
              "      <td>29221</td>\n",
              "      <td>9/1/2004</td>\n",
              "      <td>Scholastic Inc.</td>\n",
              "    </tr>\n",
              "    <tr>\n",
              "      <th>4</th>\n",
              "      <td>Harry Potter and the Chamber of Secrets (Harry...</td>\n",
              "      <td>J.K. Rowling</td>\n",
              "      <td>4.42</td>\n",
              "      <td>0439554896</td>\n",
              "      <td>9780439554893</td>\n",
              "      <td>eng</td>\n",
              "      <td>352</td>\n",
              "      <td>6333</td>\n",
              "      <td>244</td>\n",
              "      <td>11/1/2003</td>\n",
              "      <td>Scholastic</td>\n",
              "    </tr>\n",
              "    <tr>\n",
              "      <th>5</th>\n",
              "      <td>Harry Potter and the Prisoner of Azkaban (Harr...</td>\n",
              "      <td>J.K. Rowling/Mary GrandPré</td>\n",
              "      <td>4.56</td>\n",
              "      <td>043965548X</td>\n",
              "      <td>9780439655484</td>\n",
              "      <td>eng</td>\n",
              "      <td>435</td>\n",
              "      <td>2339585</td>\n",
              "      <td>36325</td>\n",
              "      <td>5/1/2004</td>\n",
              "      <td>Scholastic Inc.</td>\n",
              "    </tr>\n",
              "    <tr>\n",
              "      <th>8</th>\n",
              "      <td>Harry Potter Boxed Set  Books 1-5 (Harry Potte...</td>\n",
              "      <td>J.K. Rowling/Mary GrandPré</td>\n",
              "      <td>4.78</td>\n",
              "      <td>0439682584</td>\n",
              "      <td>9780439682589</td>\n",
              "      <td>eng</td>\n",
              "      <td>2690</td>\n",
              "      <td>41428</td>\n",
              "      <td>164</td>\n",
              "      <td>9/13/2004</td>\n",
              "      <td>Scholastic</td>\n",
              "    </tr>\n",
              "    <tr>\n",
              "      <th>9</th>\n",
              "      <td>Unauthorized Harry Potter Book Seven News: \"Ha...</td>\n",
              "      <td>W. Frederick Zimmerman</td>\n",
              "      <td>3.74</td>\n",
              "      <td>0976540606</td>\n",
              "      <td>9780976540601</td>\n",
              "      <td>en-US</td>\n",
              "      <td>152</td>\n",
              "      <td>19</td>\n",
              "      <td>1</td>\n",
              "      <td>4/26/2005</td>\n",
              "      <td>Nimble Books</td>\n",
              "    </tr>\n",
              "    <tr>\n",
              "      <th>10</th>\n",
              "      <td>Harry Potter Collection (Harry Potter  #1-6)</td>\n",
              "      <td>J.K. Rowling</td>\n",
              "      <td>4.73</td>\n",
              "      <td>0439827604</td>\n",
              "      <td>9780439827607</td>\n",
              "      <td>eng</td>\n",
              "      <td>3342</td>\n",
              "      <td>28242</td>\n",
              "      <td>808</td>\n",
              "      <td>9/12/2005</td>\n",
              "      <td>Scholastic</td>\n",
              "    </tr>\n",
              "    <tr>\n",
              "      <th>12</th>\n",
              "      <td>The Ultimate Hitchhiker's Guide: Five Complete...</td>\n",
              "      <td>Douglas Adams</td>\n",
              "      <td>4.38</td>\n",
              "      <td>0517226952</td>\n",
              "      <td>9780517226957</td>\n",
              "      <td>eng</td>\n",
              "      <td>815</td>\n",
              "      <td>3628</td>\n",
              "      <td>254</td>\n",
              "      <td>11/1/2005</td>\n",
              "      <td>Gramercy Books</td>\n",
              "    </tr>\n",
              "    <tr>\n",
              "      <th>13</th>\n",
              "      <td>The Ultimate Hitchhiker's Guide to the Galaxy ...</td>\n",
              "      <td>Douglas Adams</td>\n",
              "      <td>4.38</td>\n",
              "      <td>0345453743</td>\n",
              "      <td>9780345453747</td>\n",
              "      <td>eng</td>\n",
              "      <td>815</td>\n",
              "      <td>249558</td>\n",
              "      <td>4080</td>\n",
              "      <td>4/30/2002</td>\n",
              "      <td>Del Rey Books</td>\n",
              "    </tr>\n",
              "    <tr>\n",
              "      <th>14</th>\n",
              "      <td>The Hitchhiker's Guide to the Galaxy (Hitchhik...</td>\n",
              "      <td>Douglas Adams</td>\n",
              "      <td>4.22</td>\n",
              "      <td>1400052920</td>\n",
              "      <td>9781400052929</td>\n",
              "      <td>eng</td>\n",
              "      <td>215</td>\n",
              "      <td>4930</td>\n",
              "      <td>460</td>\n",
              "      <td>8/3/2004</td>\n",
              "      <td>Crown</td>\n",
              "    </tr>\n",
              "  </tbody>\n",
              "</table>\n",
              "</div>\n",
              "      <button class=\"colab-df-convert\" onclick=\"convertToInteractive('df-52bbb7b5-60f5-4b52-a8f8-b574cf875e70')\"\n",
              "              title=\"Convert this dataframe to an interactive table.\"\n",
              "              style=\"display:none;\">\n",
              "        \n",
              "  <svg xmlns=\"http://www.w3.org/2000/svg\" height=\"24px\"viewBox=\"0 0 24 24\"\n",
              "       width=\"24px\">\n",
              "    <path d=\"M0 0h24v24H0V0z\" fill=\"none\"/>\n",
              "    <path d=\"M18.56 5.44l.94 2.06.94-2.06 2.06-.94-2.06-.94-.94-2.06-.94 2.06-2.06.94zm-11 1L8.5 8.5l.94-2.06 2.06-.94-2.06-.94L8.5 2.5l-.94 2.06-2.06.94zm10 10l.94 2.06.94-2.06 2.06-.94-2.06-.94-.94-2.06-.94 2.06-2.06.94z\"/><path d=\"M17.41 7.96l-1.37-1.37c-.4-.4-.92-.59-1.43-.59-.52 0-1.04.2-1.43.59L10.3 9.45l-7.72 7.72c-.78.78-.78 2.05 0 2.83L4 21.41c.39.39.9.59 1.41.59.51 0 1.02-.2 1.41-.59l7.78-7.78 2.81-2.81c.8-.78.8-2.07 0-2.86zM5.41 20L4 18.59l7.72-7.72 1.47 1.35L5.41 20z\"/>\n",
              "  </svg>\n",
              "      </button>\n",
              "      \n",
              "  <style>\n",
              "    .colab-df-container {\n",
              "      display:flex;\n",
              "      flex-wrap:wrap;\n",
              "      gap: 12px;\n",
              "    }\n",
              "\n",
              "    .colab-df-convert {\n",
              "      background-color: #E8F0FE;\n",
              "      border: none;\n",
              "      border-radius: 50%;\n",
              "      cursor: pointer;\n",
              "      display: none;\n",
              "      fill: #1967D2;\n",
              "      height: 32px;\n",
              "      padding: 0 0 0 0;\n",
              "      width: 32px;\n",
              "    }\n",
              "\n",
              "    .colab-df-convert:hover {\n",
              "      background-color: #E2EBFA;\n",
              "      box-shadow: 0px 1px 2px rgba(60, 64, 67, 0.3), 0px 1px 3px 1px rgba(60, 64, 67, 0.15);\n",
              "      fill: #174EA6;\n",
              "    }\n",
              "\n",
              "    [theme=dark] .colab-df-convert {\n",
              "      background-color: #3B4455;\n",
              "      fill: #D2E3FC;\n",
              "    }\n",
              "\n",
              "    [theme=dark] .colab-df-convert:hover {\n",
              "      background-color: #434B5C;\n",
              "      box-shadow: 0px 1px 3px 1px rgba(0, 0, 0, 0.15);\n",
              "      filter: drop-shadow(0px 1px 2px rgba(0, 0, 0, 0.3));\n",
              "      fill: #FFFFFF;\n",
              "    }\n",
              "  </style>\n",
              "\n",
              "      <script>\n",
              "        const buttonEl =\n",
              "          document.querySelector('#df-52bbb7b5-60f5-4b52-a8f8-b574cf875e70 button.colab-df-convert');\n",
              "        buttonEl.style.display =\n",
              "          google.colab.kernel.accessAllowed ? 'block' : 'none';\n",
              "\n",
              "        async function convertToInteractive(key) {\n",
              "          const element = document.querySelector('#df-52bbb7b5-60f5-4b52-a8f8-b574cf875e70');\n",
              "          const dataTable =\n",
              "            await google.colab.kernel.invokeFunction('convertToInteractive',\n",
              "                                                     [key], {});\n",
              "          if (!dataTable) return;\n",
              "\n",
              "          const docLinkHtml = 'Like what you see? Visit the ' +\n",
              "            '<a target=\"_blank\" href=https://colab.research.google.com/notebooks/data_table.ipynb>data table notebook</a>'\n",
              "            + ' to learn more about interactive tables.';\n",
              "          element.innerHTML = '';\n",
              "          dataTable['output_type'] = 'display_data';\n",
              "          await google.colab.output.renderOutput(dataTable, element);\n",
              "          const docLink = document.createElement('div');\n",
              "          docLink.innerHTML = docLinkHtml;\n",
              "          element.appendChild(docLink);\n",
              "        }\n",
              "      </script>\n",
              "    </div>\n",
              "  </div>\n",
              "  "
            ]
          },
          "metadata": {},
          "execution_count": 3
        }
      ]
    },
    {
      "cell_type": "markdown",
      "source": [
        " We will also remove books with no pages, that is number of pages equal zero for a book is by definition its content and it makes no sense to have a book without it."
      ],
      "metadata": {
        "id": "yDOd-y74Tili"
      }
    },
    {
      "cell_type": "markdown",
      "source": [
        "First we list the column names for error-proof selection"
      ],
      "metadata": {
        "id": "fHYV3wJaUUos"
      }
    },
    {
      "cell_type": "code",
      "source": [
        "cf = list(df.columns)\n",
        "print(cf)"
      ],
      "metadata": {
        "colab": {
          "base_uri": "https://localhost:8080/"
        },
        "id": "bvNSWVDVTl7B",
        "outputId": "2a7da63f-7565-4414-b606-d5f727d5d5d0"
      },
      "execution_count": 4,
      "outputs": [
        {
          "output_type": "stream",
          "name": "stdout",
          "text": [
            "['title', 'authors', 'average_rating', 'isbn', 'isbn13', 'language_code', '  num_pages', 'ratings_count', 'text_reviews_count', 'publication_date', 'publisher']\n"
          ]
        }
      ]
    },
    {
      "cell_type": "markdown",
      "source": [
        "We notice that num_pages has too much spaces at the beginning which we have to trim before appropriate selection, we will do the cleaning for all columns just in case."
      ],
      "metadata": {
        "id": "sUhdmYBBUqe7"
      }
    },
    {
      "cell_type": "code",
      "source": [
        "df.columns = df.columns.str.replace(\" \",\"\")"
      ],
      "metadata": {
        "id": "rCE6WP2KU2VS"
      },
      "execution_count": 5,
      "outputs": []
    },
    {
      "cell_type": "markdown",
      "source": [
        "Now we remove all books with num_pages equal to zero meaning that they have no content"
      ],
      "metadata": {
        "id": "Tzm2nhRGWNyD"
      }
    },
    {
      "cell_type": "code",
      "source": [
        "df = df[df.num_pages != 0]\n",
        "df.head(10)"
      ],
      "metadata": {
        "colab": {
          "base_uri": "https://localhost:8080/",
          "height": 1000
        },
        "id": "nRRD6kgeWVn_",
        "outputId": "88919040-09b7-4203-a62f-579f9573c7a1"
      },
      "execution_count": 6,
      "outputs": [
        {
          "output_type": "execute_result",
          "data": {
            "text/plain": [
              "                                                    title  \\\n",
              "bookID                                                      \n",
              "1       Harry Potter and the Half-Blood Prince (Harry ...   \n",
              "2       Harry Potter and the Order of the Phoenix (Har...   \n",
              "4       Harry Potter and the Chamber of Secrets (Harry...   \n",
              "5       Harry Potter and the Prisoner of Azkaban (Harr...   \n",
              "8       Harry Potter Boxed Set  Books 1-5 (Harry Potte...   \n",
              "9       Unauthorized Harry Potter Book Seven News: \"Ha...   \n",
              "10           Harry Potter Collection (Harry Potter  #1-6)   \n",
              "12      The Ultimate Hitchhiker's Guide: Five Complete...   \n",
              "13      The Ultimate Hitchhiker's Guide to the Galaxy ...   \n",
              "14      The Hitchhiker's Guide to the Galaxy (Hitchhik...   \n",
              "\n",
              "                           authors  average_rating        isbn         isbn13  \\\n",
              "bookID                                                                          \n",
              "1       J.K. Rowling/Mary GrandPré            4.57  0439785960  9780439785969   \n",
              "2       J.K. Rowling/Mary GrandPré            4.49  0439358078  9780439358071   \n",
              "4                     J.K. Rowling            4.42  0439554896  9780439554893   \n",
              "5       J.K. Rowling/Mary GrandPré            4.56  043965548X  9780439655484   \n",
              "8       J.K. Rowling/Mary GrandPré            4.78  0439682584  9780439682589   \n",
              "9           W. Frederick Zimmerman            3.74  0976540606  9780976540601   \n",
              "10                    J.K. Rowling            4.73  0439827604  9780439827607   \n",
              "12                   Douglas Adams            4.38  0517226952  9780517226957   \n",
              "13                   Douglas Adams            4.38  0345453743  9780345453747   \n",
              "14                   Douglas Adams            4.22  1400052920  9781400052929   \n",
              "\n",
              "       language_code  num_pages  ratings_count  text_reviews_count  \\\n",
              "bookID                                                               \n",
              "1                eng        652        2095690               27591   \n",
              "2                eng        870        2153167               29221   \n",
              "4                eng        352           6333                 244   \n",
              "5                eng        435        2339585               36325   \n",
              "8                eng       2690          41428                 164   \n",
              "9              en-US        152             19                   1   \n",
              "10               eng       3342          28242                 808   \n",
              "12               eng        815           3628                 254   \n",
              "13               eng        815         249558                4080   \n",
              "14               eng        215           4930                 460   \n",
              "\n",
              "       publication_date        publisher  \n",
              "bookID                                    \n",
              "1             9/16/2006  Scholastic Inc.  \n",
              "2              9/1/2004  Scholastic Inc.  \n",
              "4             11/1/2003       Scholastic  \n",
              "5              5/1/2004  Scholastic Inc.  \n",
              "8             9/13/2004       Scholastic  \n",
              "9             4/26/2005     Nimble Books  \n",
              "10            9/12/2005       Scholastic  \n",
              "12            11/1/2005   Gramercy Books  \n",
              "13            4/30/2002    Del Rey Books  \n",
              "14             8/3/2004            Crown  "
            ],
            "text/html": [
              "\n",
              "  <div id=\"df-e6ec2196-9c58-4833-b72c-f38ac5fba7d0\">\n",
              "    <div class=\"colab-df-container\">\n",
              "      <div>\n",
              "<style scoped>\n",
              "    .dataframe tbody tr th:only-of-type {\n",
              "        vertical-align: middle;\n",
              "    }\n",
              "\n",
              "    .dataframe tbody tr th {\n",
              "        vertical-align: top;\n",
              "    }\n",
              "\n",
              "    .dataframe thead th {\n",
              "        text-align: right;\n",
              "    }\n",
              "</style>\n",
              "<table border=\"1\" class=\"dataframe\">\n",
              "  <thead>\n",
              "    <tr style=\"text-align: right;\">\n",
              "      <th></th>\n",
              "      <th>title</th>\n",
              "      <th>authors</th>\n",
              "      <th>average_rating</th>\n",
              "      <th>isbn</th>\n",
              "      <th>isbn13</th>\n",
              "      <th>language_code</th>\n",
              "      <th>num_pages</th>\n",
              "      <th>ratings_count</th>\n",
              "      <th>text_reviews_count</th>\n",
              "      <th>publication_date</th>\n",
              "      <th>publisher</th>\n",
              "    </tr>\n",
              "    <tr>\n",
              "      <th>bookID</th>\n",
              "      <th></th>\n",
              "      <th></th>\n",
              "      <th></th>\n",
              "      <th></th>\n",
              "      <th></th>\n",
              "      <th></th>\n",
              "      <th></th>\n",
              "      <th></th>\n",
              "      <th></th>\n",
              "      <th></th>\n",
              "      <th></th>\n",
              "    </tr>\n",
              "  </thead>\n",
              "  <tbody>\n",
              "    <tr>\n",
              "      <th>1</th>\n",
              "      <td>Harry Potter and the Half-Blood Prince (Harry ...</td>\n",
              "      <td>J.K. Rowling/Mary GrandPré</td>\n",
              "      <td>4.57</td>\n",
              "      <td>0439785960</td>\n",
              "      <td>9780439785969</td>\n",
              "      <td>eng</td>\n",
              "      <td>652</td>\n",
              "      <td>2095690</td>\n",
              "      <td>27591</td>\n",
              "      <td>9/16/2006</td>\n",
              "      <td>Scholastic Inc.</td>\n",
              "    </tr>\n",
              "    <tr>\n",
              "      <th>2</th>\n",
              "      <td>Harry Potter and the Order of the Phoenix (Har...</td>\n",
              "      <td>J.K. Rowling/Mary GrandPré</td>\n",
              "      <td>4.49</td>\n",
              "      <td>0439358078</td>\n",
              "      <td>9780439358071</td>\n",
              "      <td>eng</td>\n",
              "      <td>870</td>\n",
              "      <td>2153167</td>\n",
              "      <td>29221</td>\n",
              "      <td>9/1/2004</td>\n",
              "      <td>Scholastic Inc.</td>\n",
              "    </tr>\n",
              "    <tr>\n",
              "      <th>4</th>\n",
              "      <td>Harry Potter and the Chamber of Secrets (Harry...</td>\n",
              "      <td>J.K. Rowling</td>\n",
              "      <td>4.42</td>\n",
              "      <td>0439554896</td>\n",
              "      <td>9780439554893</td>\n",
              "      <td>eng</td>\n",
              "      <td>352</td>\n",
              "      <td>6333</td>\n",
              "      <td>244</td>\n",
              "      <td>11/1/2003</td>\n",
              "      <td>Scholastic</td>\n",
              "    </tr>\n",
              "    <tr>\n",
              "      <th>5</th>\n",
              "      <td>Harry Potter and the Prisoner of Azkaban (Harr...</td>\n",
              "      <td>J.K. Rowling/Mary GrandPré</td>\n",
              "      <td>4.56</td>\n",
              "      <td>043965548X</td>\n",
              "      <td>9780439655484</td>\n",
              "      <td>eng</td>\n",
              "      <td>435</td>\n",
              "      <td>2339585</td>\n",
              "      <td>36325</td>\n",
              "      <td>5/1/2004</td>\n",
              "      <td>Scholastic Inc.</td>\n",
              "    </tr>\n",
              "    <tr>\n",
              "      <th>8</th>\n",
              "      <td>Harry Potter Boxed Set  Books 1-5 (Harry Potte...</td>\n",
              "      <td>J.K. Rowling/Mary GrandPré</td>\n",
              "      <td>4.78</td>\n",
              "      <td>0439682584</td>\n",
              "      <td>9780439682589</td>\n",
              "      <td>eng</td>\n",
              "      <td>2690</td>\n",
              "      <td>41428</td>\n",
              "      <td>164</td>\n",
              "      <td>9/13/2004</td>\n",
              "      <td>Scholastic</td>\n",
              "    </tr>\n",
              "    <tr>\n",
              "      <th>9</th>\n",
              "      <td>Unauthorized Harry Potter Book Seven News: \"Ha...</td>\n",
              "      <td>W. Frederick Zimmerman</td>\n",
              "      <td>3.74</td>\n",
              "      <td>0976540606</td>\n",
              "      <td>9780976540601</td>\n",
              "      <td>en-US</td>\n",
              "      <td>152</td>\n",
              "      <td>19</td>\n",
              "      <td>1</td>\n",
              "      <td>4/26/2005</td>\n",
              "      <td>Nimble Books</td>\n",
              "    </tr>\n",
              "    <tr>\n",
              "      <th>10</th>\n",
              "      <td>Harry Potter Collection (Harry Potter  #1-6)</td>\n",
              "      <td>J.K. Rowling</td>\n",
              "      <td>4.73</td>\n",
              "      <td>0439827604</td>\n",
              "      <td>9780439827607</td>\n",
              "      <td>eng</td>\n",
              "      <td>3342</td>\n",
              "      <td>28242</td>\n",
              "      <td>808</td>\n",
              "      <td>9/12/2005</td>\n",
              "      <td>Scholastic</td>\n",
              "    </tr>\n",
              "    <tr>\n",
              "      <th>12</th>\n",
              "      <td>The Ultimate Hitchhiker's Guide: Five Complete...</td>\n",
              "      <td>Douglas Adams</td>\n",
              "      <td>4.38</td>\n",
              "      <td>0517226952</td>\n",
              "      <td>9780517226957</td>\n",
              "      <td>eng</td>\n",
              "      <td>815</td>\n",
              "      <td>3628</td>\n",
              "      <td>254</td>\n",
              "      <td>11/1/2005</td>\n",
              "      <td>Gramercy Books</td>\n",
              "    </tr>\n",
              "    <tr>\n",
              "      <th>13</th>\n",
              "      <td>The Ultimate Hitchhiker's Guide to the Galaxy ...</td>\n",
              "      <td>Douglas Adams</td>\n",
              "      <td>4.38</td>\n",
              "      <td>0345453743</td>\n",
              "      <td>9780345453747</td>\n",
              "      <td>eng</td>\n",
              "      <td>815</td>\n",
              "      <td>249558</td>\n",
              "      <td>4080</td>\n",
              "      <td>4/30/2002</td>\n",
              "      <td>Del Rey Books</td>\n",
              "    </tr>\n",
              "    <tr>\n",
              "      <th>14</th>\n",
              "      <td>The Hitchhiker's Guide to the Galaxy (Hitchhik...</td>\n",
              "      <td>Douglas Adams</td>\n",
              "      <td>4.22</td>\n",
              "      <td>1400052920</td>\n",
              "      <td>9781400052929</td>\n",
              "      <td>eng</td>\n",
              "      <td>215</td>\n",
              "      <td>4930</td>\n",
              "      <td>460</td>\n",
              "      <td>8/3/2004</td>\n",
              "      <td>Crown</td>\n",
              "    </tr>\n",
              "  </tbody>\n",
              "</table>\n",
              "</div>\n",
              "      <button class=\"colab-df-convert\" onclick=\"convertToInteractive('df-e6ec2196-9c58-4833-b72c-f38ac5fba7d0')\"\n",
              "              title=\"Convert this dataframe to an interactive table.\"\n",
              "              style=\"display:none;\">\n",
              "        \n",
              "  <svg xmlns=\"http://www.w3.org/2000/svg\" height=\"24px\"viewBox=\"0 0 24 24\"\n",
              "       width=\"24px\">\n",
              "    <path d=\"M0 0h24v24H0V0z\" fill=\"none\"/>\n",
              "    <path d=\"M18.56 5.44l.94 2.06.94-2.06 2.06-.94-2.06-.94-.94-2.06-.94 2.06-2.06.94zm-11 1L8.5 8.5l.94-2.06 2.06-.94-2.06-.94L8.5 2.5l-.94 2.06-2.06.94zm10 10l.94 2.06.94-2.06 2.06-.94-2.06-.94-.94-2.06-.94 2.06-2.06.94z\"/><path d=\"M17.41 7.96l-1.37-1.37c-.4-.4-.92-.59-1.43-.59-.52 0-1.04.2-1.43.59L10.3 9.45l-7.72 7.72c-.78.78-.78 2.05 0 2.83L4 21.41c.39.39.9.59 1.41.59.51 0 1.02-.2 1.41-.59l7.78-7.78 2.81-2.81c.8-.78.8-2.07 0-2.86zM5.41 20L4 18.59l7.72-7.72 1.47 1.35L5.41 20z\"/>\n",
              "  </svg>\n",
              "      </button>\n",
              "      \n",
              "  <style>\n",
              "    .colab-df-container {\n",
              "      display:flex;\n",
              "      flex-wrap:wrap;\n",
              "      gap: 12px;\n",
              "    }\n",
              "\n",
              "    .colab-df-convert {\n",
              "      background-color: #E8F0FE;\n",
              "      border: none;\n",
              "      border-radius: 50%;\n",
              "      cursor: pointer;\n",
              "      display: none;\n",
              "      fill: #1967D2;\n",
              "      height: 32px;\n",
              "      padding: 0 0 0 0;\n",
              "      width: 32px;\n",
              "    }\n",
              "\n",
              "    .colab-df-convert:hover {\n",
              "      background-color: #E2EBFA;\n",
              "      box-shadow: 0px 1px 2px rgba(60, 64, 67, 0.3), 0px 1px 3px 1px rgba(60, 64, 67, 0.15);\n",
              "      fill: #174EA6;\n",
              "    }\n",
              "\n",
              "    [theme=dark] .colab-df-convert {\n",
              "      background-color: #3B4455;\n",
              "      fill: #D2E3FC;\n",
              "    }\n",
              "\n",
              "    [theme=dark] .colab-df-convert:hover {\n",
              "      background-color: #434B5C;\n",
              "      box-shadow: 0px 1px 3px 1px rgba(0, 0, 0, 0.15);\n",
              "      filter: drop-shadow(0px 1px 2px rgba(0, 0, 0, 0.3));\n",
              "      fill: #FFFFFF;\n",
              "    }\n",
              "  </style>\n",
              "\n",
              "      <script>\n",
              "        const buttonEl =\n",
              "          document.querySelector('#df-e6ec2196-9c58-4833-b72c-f38ac5fba7d0 button.colab-df-convert');\n",
              "        buttonEl.style.display =\n",
              "          google.colab.kernel.accessAllowed ? 'block' : 'none';\n",
              "\n",
              "        async function convertToInteractive(key) {\n",
              "          const element = document.querySelector('#df-e6ec2196-9c58-4833-b72c-f38ac5fba7d0');\n",
              "          const dataTable =\n",
              "            await google.colab.kernel.invokeFunction('convertToInteractive',\n",
              "                                                     [key], {});\n",
              "          if (!dataTable) return;\n",
              "\n",
              "          const docLinkHtml = 'Like what you see? Visit the ' +\n",
              "            '<a target=\"_blank\" href=https://colab.research.google.com/notebooks/data_table.ipynb>data table notebook</a>'\n",
              "            + ' to learn more about interactive tables.';\n",
              "          element.innerHTML = '';\n",
              "          dataTable['output_type'] = 'display_data';\n",
              "          await google.colab.output.renderOutput(dataTable, element);\n",
              "          const docLink = document.createElement('div');\n",
              "          docLink.innerHTML = docLinkHtml;\n",
              "          element.appendChild(docLink);\n",
              "        }\n",
              "      </script>\n",
              "    </div>\n",
              "  </div>\n",
              "  "
            ]
          },
          "metadata": {},
          "execution_count": 6
        }
      ]
    },
    {
      "cell_type": "markdown",
      "source": [
        "### Remarks :"
      ],
      "metadata": {
        "id": "ALJVgRBi5vBv"
      }
    },
    {
      "cell_type": "markdown",
      "source": [
        "The publication_date is arranged in month-day-year terms and the average_rating, num_pages,text_reviews_count, isbn and isbn13 are all in numerical values while the rest are in string values."
      ],
      "metadata": {
        "id": "CSW-CwH-59s0"
      }
    },
    {
      "cell_type": "markdown",
      "source": [
        "# Feature Engineering"
      ],
      "metadata": {
        "id": "p_XXGt-U5aw0"
      }
    },
    {
      "cell_type": "markdown",
      "source": [
        "The most interesting features here include the average_rating, num_pages, ratings_count, text_reviews_count. We have to draw a correlation plot, to determine the most appropriate feature"
      ],
      "metadata": {
        "id": "pSni2hNfJ5vP"
      }
    },
    {
      "cell_type": "code",
      "source": [
        "df_corr = df[[\"average_rating\", \"num_pages\",\"ratings_count\", \"text_reviews_count\"]]\n",
        "corr = df_corr.corr()\n",
        "sns.heatmap(corr, annot=True, cmap=\"coolwarm\", vmin=-1, vmax=1)\n",
        "plt.show"
      ],
      "metadata": {
        "id": "QKTWCTYIL9Zh",
        "outputId": "a1c74985-b172-4bf4-d6ed-dd0a67162f93",
        "colab": {
          "base_uri": "https://localhost:8080/",
          "height": 572
        }
      },
      "execution_count": 7,
      "outputs": [
        {
          "output_type": "execute_result",
          "data": {
            "text/plain": [
              "<function matplotlib.pyplot.show(close=None, block=None)>"
            ]
          },
          "metadata": {},
          "execution_count": 7
        },
        {
          "output_type": "display_data",
          "data": {
            "text/plain": [
              "<Figure size 640x480 with 2 Axes>"
            ],
            "image/png": "[encoded data removed]"
          },
          "metadata": {}
        }
      ]
    },
    {
      "cell_type": "markdown",
      "source": [],
      "metadata": {
        "id": "xXnNM9CmJ5tu"
      }
    }
  ]
}