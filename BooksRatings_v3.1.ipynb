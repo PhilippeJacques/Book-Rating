{
 "cells": [
  {
   "cell_type": "markdown",
   "id": "6d73a6b2",
   "metadata": {},
   "source": [
    "## IMPORT LIBRARIES"
   ]
  },
  {
   "cell_type": "code",
   "execution_count": 1,
   "id": "db542dd4",
   "metadata": {},
   "outputs": [],
   "source": [
    "import numpy as np\n",
    "import pandas as pd\n",
    "import matplotlib.pyplot as plt\n",
    "import seaborn as sns"
   ]
  },
  {
   "cell_type": "markdown",
   "id": "ebf0410b",
   "metadata": {},
   "source": [
    "## LOADING & INSPECTING DATA\n",
    "\n",
    "1- bookID count shows 11127 rows (describe function) but highest bookID is 45641 (= it is an ID number, not a count)\n",
    "\n",
    "2- removed unwanted commas separating several authors in Author column. As only 4 books were concerned it was done manually.\n",
    "\n",
    "3- noticed special characters (jpn, chn, ar) in the authors names : no matter as this column author, although relevant, shall be removed due to difficulties in selecting the \"right\" author to work on for rating influence\n",
    "\n",
    "4- isbn column: \n",
    "\n",
    "    - should be 10-digit long as \"isbn10\" standard number (before 2007)\n",
    "    \n",
    "    - a large number of rows have 7, 8, 9 digits or even 10 with an X at the end: should be dropped as it does not bring much help for our purpose \n",
    "\n",
    "5- isbn13 column (REFERENCE number since 2007):\n",
    "\n",
    "    - should be 13-digit long as \"isbn13\" standard number\n",
    "\n",
    "    - 10, 11 digit number --> should be dropped as it does not bring much help for our purpose \n",
    "\n",
    "6- \"language code\": english in 4 or 5 different versions (eg: en-GB, en-US, etc.): MAY NEED GROUPING BOOKS IN ENGLISH OR CREATE CATEGORIES TO IMPROVE PREDICTION (LIKE ENGLISH VS OTHER LANGUAGES)\n",
    "\n",
    "7- \"num_pages\": books from 0 up to 6576 pages --> NEED FILTERING (as potential non-relevant outliers) BY DEFINING A \"MIN/MAX NUM_PAGES\" OR CREATE CATEGORIES TO IMPROVE PREDICTION\n",
    "\n",
    "8- \"Ratings count\": from 0 to ~4.6M // MAY NEED TO FILTER OUT AT LEAST COUNTS 0, OR TAKE INTO ACCOUNT A \"MIN RATING COUNT\" OR CREATE CATEGORIES TO IMPROVE PREDICTION\n",
    "\n",
    "9- \"text_reviews count\": from 0 to 94265 // SAME: MAY NEED TO FILTER OUT AT LEAST COUNTS 0, OR TAKE INTO ACCOUNT A \"MIN REVIEWS COUNT\" OR CREATE CATEGORIES TO IMPROVE PREDICTION\n",
    "\n",
    "10- publication_date: US format / and 2 invalid dates (nov31 and jun31 do not exist, hence not recognized by excel as \"actual dates\") // SUCH DATE FOR PREDICTION DOES NOT SEEM USEFUL HERE \n",
    "\n",
    "11- publisher: \"18-Oct\" for 2 entries seems odd: actually a publisher called \"10/18\" (ref: https://www.goodreads.com/shelf/show/editeurs-10-18)\n"
   ]
  },
  {
   "cell_type": "markdown",
   "id": "e1ef875e",
   "metadata": {},
   "source": [
    "### importing data"
   ]
  },
  {
   "cell_type": "code",
   "execution_count": 2,
   "id": "9e346048",
   "metadata": {},
   "outputs": [],
   "source": [
    "df = pd.read_csv(r\"C:\\Users\\33695\\Documents\\ML with Python\\Project-20230605\\Project 1\\dataset\\books_jul6.csv\", delimiter=\",\", index_col=\"bookID\")"
   ]
  },
  {
   "cell_type": "code",
   "execution_count": 3,
   "id": "17564b90",
   "metadata": {
    "scrolled": true
   },
   "outputs": [
    {
     "data": {
      "text/html": [
       "<div>\n",
       "<style scoped>\n",
       "    .dataframe tbody tr th:only-of-type {\n",
       "        vertical-align: middle;\n",
       "    }\n",
       "\n",
       "    .dataframe tbody tr th {\n",
       "        vertical-align: top;\n",
       "    }\n",
       "\n",
       "    .dataframe thead th {\n",
       "        text-align: right;\n",
       "    }\n",
       "</style>\n",
       "<table border=\"1\" class=\"dataframe\">\n",
       "  <thead>\n",
       "    <tr style=\"text-align: right;\">\n",
       "      <th></th>\n",
       "      <th>title</th>\n",
       "      <th>authors</th>\n",
       "      <th>average_rating</th>\n",
       "      <th>isbn</th>\n",
       "      <th>isbn13</th>\n",
       "      <th>language_code</th>\n",
       "      <th>num_pages</th>\n",
       "      <th>ratings_count</th>\n",
       "      <th>text_reviews_count</th>\n",
       "      <th>publication_date</th>\n",
       "      <th>publisher</th>\n",
       "    </tr>\n",
       "    <tr>\n",
       "      <th>bookID</th>\n",
       "      <th></th>\n",
       "      <th></th>\n",
       "      <th></th>\n",
       "      <th></th>\n",
       "      <th></th>\n",
       "      <th></th>\n",
       "      <th></th>\n",
       "      <th></th>\n",
       "      <th></th>\n",
       "      <th></th>\n",
       "      <th></th>\n",
       "    </tr>\n",
       "  </thead>\n",
       "  <tbody>\n",
       "    <tr>\n",
       "      <th>1</th>\n",
       "      <td>Harry Potter and the Half-Blood Prince (Harry ...</td>\n",
       "      <td>J.K. Rowling/Mary GrandPré</td>\n",
       "      <td>4.57</td>\n",
       "      <td>439785960</td>\n",
       "      <td>9780440000000</td>\n",
       "      <td>eng</td>\n",
       "      <td>652</td>\n",
       "      <td>2095690</td>\n",
       "      <td>27591</td>\n",
       "      <td>9/16/2006</td>\n",
       "      <td>Scholastic Inc.</td>\n",
       "    </tr>\n",
       "    <tr>\n",
       "      <th>2</th>\n",
       "      <td>Harry Potter and the Order of the Phoenix (Har...</td>\n",
       "      <td>J.K. Rowling/Mary GrandPré</td>\n",
       "      <td>4.49</td>\n",
       "      <td>439358078</td>\n",
       "      <td>9780440000000</td>\n",
       "      <td>eng</td>\n",
       "      <td>870</td>\n",
       "      <td>2153167</td>\n",
       "      <td>29221</td>\n",
       "      <td>9/1/2004</td>\n",
       "      <td>Scholastic Inc.</td>\n",
       "    </tr>\n",
       "    <tr>\n",
       "      <th>4</th>\n",
       "      <td>Harry Potter and the Chamber of Secrets (Harry...</td>\n",
       "      <td>J.K. Rowling</td>\n",
       "      <td>4.42</td>\n",
       "      <td>439554896</td>\n",
       "      <td>9780440000000</td>\n",
       "      <td>eng</td>\n",
       "      <td>352</td>\n",
       "      <td>6333</td>\n",
       "      <td>244</td>\n",
       "      <td>11/1/2003</td>\n",
       "      <td>Scholastic</td>\n",
       "    </tr>\n",
       "    <tr>\n",
       "      <th>5</th>\n",
       "      <td>Harry Potter and the Prisoner of Azkaban (Harr...</td>\n",
       "      <td>J.K. Rowling/Mary GrandPré</td>\n",
       "      <td>4.56</td>\n",
       "      <td>043965548X</td>\n",
       "      <td>9780440000000</td>\n",
       "      <td>eng</td>\n",
       "      <td>435</td>\n",
       "      <td>2339585</td>\n",
       "      <td>36325</td>\n",
       "      <td>5/1/2004</td>\n",
       "      <td>Scholastic Inc.</td>\n",
       "    </tr>\n",
       "    <tr>\n",
       "      <th>8</th>\n",
       "      <td>Harry Potter Boxed Set  Books 1-5 (Harry Potte...</td>\n",
       "      <td>J.K. Rowling/Mary GrandPré</td>\n",
       "      <td>4.78</td>\n",
       "      <td>439682584</td>\n",
       "      <td>9780440000000</td>\n",
       "      <td>eng</td>\n",
       "      <td>2690</td>\n",
       "      <td>41428</td>\n",
       "      <td>164</td>\n",
       "      <td>9/13/2004</td>\n",
       "      <td>Scholastic</td>\n",
       "    </tr>\n",
       "    <tr>\n",
       "      <th>9</th>\n",
       "      <td>Unauthorized Harry Potter Book Seven News: \"Ha...</td>\n",
       "      <td>W. Frederick Zimmerman</td>\n",
       "      <td>3.74</td>\n",
       "      <td>976540606</td>\n",
       "      <td>9780980000000</td>\n",
       "      <td>en-US</td>\n",
       "      <td>152</td>\n",
       "      <td>19</td>\n",
       "      <td>1</td>\n",
       "      <td>4/26/2005</td>\n",
       "      <td>Nimble Books</td>\n",
       "    </tr>\n",
       "    <tr>\n",
       "      <th>10</th>\n",
       "      <td>Harry Potter Collection (Harry Potter  #1-6)</td>\n",
       "      <td>J.K. Rowling</td>\n",
       "      <td>4.73</td>\n",
       "      <td>439827604</td>\n",
       "      <td>9780440000000</td>\n",
       "      <td>eng</td>\n",
       "      <td>3342</td>\n",
       "      <td>28242</td>\n",
       "      <td>808</td>\n",
       "      <td>9/12/2005</td>\n",
       "      <td>Scholastic</td>\n",
       "    </tr>\n",
       "    <tr>\n",
       "      <th>12</th>\n",
       "      <td>The Ultimate Hitchhiker's Guide: Five Complete...</td>\n",
       "      <td>Douglas Adams</td>\n",
       "      <td>4.38</td>\n",
       "      <td>517226952</td>\n",
       "      <td>9780520000000</td>\n",
       "      <td>eng</td>\n",
       "      <td>815</td>\n",
       "      <td>3628</td>\n",
       "      <td>254</td>\n",
       "      <td>11/1/2005</td>\n",
       "      <td>Gramercy Books</td>\n",
       "    </tr>\n",
       "    <tr>\n",
       "      <th>13</th>\n",
       "      <td>The Ultimate Hitchhiker's Guide to the Galaxy ...</td>\n",
       "      <td>Douglas Adams</td>\n",
       "      <td>4.38</td>\n",
       "      <td>345453743</td>\n",
       "      <td>9780350000000</td>\n",
       "      <td>eng</td>\n",
       "      <td>815</td>\n",
       "      <td>249558</td>\n",
       "      <td>4080</td>\n",
       "      <td>4/30/2002</td>\n",
       "      <td>Del Rey Books</td>\n",
       "    </tr>\n",
       "    <tr>\n",
       "      <th>14</th>\n",
       "      <td>The Hitchhiker's Guide to the Galaxy (Hitchhik...</td>\n",
       "      <td>Douglas Adams</td>\n",
       "      <td>4.22</td>\n",
       "      <td>1400052920</td>\n",
       "      <td>9781400000000</td>\n",
       "      <td>eng</td>\n",
       "      <td>215</td>\n",
       "      <td>4930</td>\n",
       "      <td>460</td>\n",
       "      <td>8/3/2004</td>\n",
       "      <td>Crown</td>\n",
       "    </tr>\n",
       "  </tbody>\n",
       "</table>\n",
       "</div>"
      ],
      "text/plain": [
       "                                                    title  \\\n",
       "bookID                                                      \n",
       "1       Harry Potter and the Half-Blood Prince (Harry ...   \n",
       "2       Harry Potter and the Order of the Phoenix (Har...   \n",
       "4       Harry Potter and the Chamber of Secrets (Harry...   \n",
       "5       Harry Potter and the Prisoner of Azkaban (Harr...   \n",
       "8       Harry Potter Boxed Set  Books 1-5 (Harry Potte...   \n",
       "9       Unauthorized Harry Potter Book Seven News: \"Ha...   \n",
       "10           Harry Potter Collection (Harry Potter  #1-6)   \n",
       "12      The Ultimate Hitchhiker's Guide: Five Complete...   \n",
       "13      The Ultimate Hitchhiker's Guide to the Galaxy ...   \n",
       "14      The Hitchhiker's Guide to the Galaxy (Hitchhik...   \n",
       "\n",
       "                           authors  average_rating        isbn         isbn13  \\\n",
       "bookID                                                                          \n",
       "1       J.K. Rowling/Mary GrandPré            4.57   439785960  9780440000000   \n",
       "2       J.K. Rowling/Mary GrandPré            4.49   439358078  9780440000000   \n",
       "4                     J.K. Rowling            4.42   439554896  9780440000000   \n",
       "5       J.K. Rowling/Mary GrandPré            4.56  043965548X  9780440000000   \n",
       "8       J.K. Rowling/Mary GrandPré            4.78   439682584  9780440000000   \n",
       "9           W. Frederick Zimmerman            3.74   976540606  9780980000000   \n",
       "10                    J.K. Rowling            4.73   439827604  9780440000000   \n",
       "12                   Douglas Adams            4.38   517226952  9780520000000   \n",
       "13                   Douglas Adams            4.38   345453743  9780350000000   \n",
       "14                   Douglas Adams            4.22  1400052920  9781400000000   \n",
       "\n",
       "       language_code  num_pages  ratings_count  text_reviews_count  \\\n",
       "bookID                                                               \n",
       "1                eng        652        2095690               27591   \n",
       "2                eng        870        2153167               29221   \n",
       "4                eng        352           6333                 244   \n",
       "5                eng        435        2339585               36325   \n",
       "8                eng       2690          41428                 164   \n",
       "9              en-US        152             19                   1   \n",
       "10               eng       3342          28242                 808   \n",
       "12               eng        815           3628                 254   \n",
       "13               eng        815         249558                4080   \n",
       "14               eng        215           4930                 460   \n",
       "\n",
       "       publication_date        publisher  \n",
       "bookID                                    \n",
       "1             9/16/2006  Scholastic Inc.  \n",
       "2              9/1/2004  Scholastic Inc.  \n",
       "4             11/1/2003       Scholastic  \n",
       "5              5/1/2004  Scholastic Inc.  \n",
       "8             9/13/2004       Scholastic  \n",
       "9             4/26/2005     Nimble Books  \n",
       "10            9/12/2005       Scholastic  \n",
       "12            11/1/2005   Gramercy Books  \n",
       "13            4/30/2002    Del Rey Books  \n",
       "14             8/3/2004            Crown  "
      ]
     },
     "execution_count": 3,
     "metadata": {},
     "output_type": "execute_result"
    }
   ],
   "source": [
    "df.head(10)"
   ]
  },
  {
   "cell_type": "code",
   "execution_count": 4,
   "id": "b1dfba66",
   "metadata": {
    "scrolled": true
   },
   "outputs": [
    {
     "data": {
      "text/html": [
       "<div>\n",
       "<style scoped>\n",
       "    .dataframe tbody tr th:only-of-type {\n",
       "        vertical-align: middle;\n",
       "    }\n",
       "\n",
       "    .dataframe tbody tr th {\n",
       "        vertical-align: top;\n",
       "    }\n",
       "\n",
       "    .dataframe thead th {\n",
       "        text-align: right;\n",
       "    }\n",
       "</style>\n",
       "<table border=\"1\" class=\"dataframe\">\n",
       "  <thead>\n",
       "    <tr style=\"text-align: right;\">\n",
       "      <th></th>\n",
       "      <th>title</th>\n",
       "      <th>authors</th>\n",
       "      <th>average_rating</th>\n",
       "      <th>isbn</th>\n",
       "      <th>isbn13</th>\n",
       "      <th>language_code</th>\n",
       "      <th>num_pages</th>\n",
       "      <th>ratings_count</th>\n",
       "      <th>text_reviews_count</th>\n",
       "      <th>publication_date</th>\n",
       "      <th>publisher</th>\n",
       "    </tr>\n",
       "    <tr>\n",
       "      <th>bookID</th>\n",
       "      <th></th>\n",
       "      <th></th>\n",
       "      <th></th>\n",
       "      <th></th>\n",
       "      <th></th>\n",
       "      <th></th>\n",
       "      <th></th>\n",
       "      <th></th>\n",
       "      <th></th>\n",
       "      <th></th>\n",
       "      <th></th>\n",
       "    </tr>\n",
       "  </thead>\n",
       "  <tbody>\n",
       "    <tr>\n",
       "      <th>45617</th>\n",
       "      <td>O Cavalo e o Seu Rapaz (As Crónicas de Nárnia ...</td>\n",
       "      <td>C.S. Lewis/Pauline Baynes/Ana Falcão Bastos</td>\n",
       "      <td>3.92</td>\n",
       "      <td>9722330551</td>\n",
       "      <td>9789720000000</td>\n",
       "      <td>por</td>\n",
       "      <td>160</td>\n",
       "      <td>207</td>\n",
       "      <td>16</td>\n",
       "      <td>8/15/2003</td>\n",
       "      <td>Editorial Presença</td>\n",
       "    </tr>\n",
       "    <tr>\n",
       "      <th>45623</th>\n",
       "      <td>O Sobrinho do Mágico (As Crónicas de Nárnia  #1)</td>\n",
       "      <td>C.S. Lewis/Pauline Baynes/Ana Falcão Bastos</td>\n",
       "      <td>4.04</td>\n",
       "      <td>9722329987</td>\n",
       "      <td>9789720000000</td>\n",
       "      <td>por</td>\n",
       "      <td>147</td>\n",
       "      <td>396</td>\n",
       "      <td>37</td>\n",
       "      <td>4/8/2003</td>\n",
       "      <td>Editorial Presença</td>\n",
       "    </tr>\n",
       "    <tr>\n",
       "      <th>45625</th>\n",
       "      <td>A Viagem do Caminheiro da Alvorada (As Crónica...</td>\n",
       "      <td>C.S. Lewis/Pauline Baynes/Ana Falcão Bastos</td>\n",
       "      <td>4.09</td>\n",
       "      <td>9722331329</td>\n",
       "      <td>9789720000000</td>\n",
       "      <td>por</td>\n",
       "      <td>176</td>\n",
       "      <td>161</td>\n",
       "      <td>14</td>\n",
       "      <td>9/1/2004</td>\n",
       "      <td>Editorial Presença</td>\n",
       "    </tr>\n",
       "    <tr>\n",
       "      <th>45626</th>\n",
       "      <td>O Príncipe Caspian (As Crónicas de Nárnia  #4)</td>\n",
       "      <td>C.S. Lewis/Pauline Baynes/Ana Falcão Bastos</td>\n",
       "      <td>3.97</td>\n",
       "      <td>9722330977</td>\n",
       "      <td>9789720000000</td>\n",
       "      <td>por</td>\n",
       "      <td>160</td>\n",
       "      <td>215</td>\n",
       "      <td>11</td>\n",
       "      <td>10/11/2003</td>\n",
       "      <td>Editorial Presença</td>\n",
       "    </tr>\n",
       "    <tr>\n",
       "      <th>45630</th>\n",
       "      <td>Whores for Gloria</td>\n",
       "      <td>William T. Vollmann</td>\n",
       "      <td>3.69</td>\n",
       "      <td>140231579</td>\n",
       "      <td>9780140000000</td>\n",
       "      <td>en-US</td>\n",
       "      <td>160</td>\n",
       "      <td>932</td>\n",
       "      <td>111</td>\n",
       "      <td>2/1/1994</td>\n",
       "      <td>Penguin Books</td>\n",
       "    </tr>\n",
       "    <tr>\n",
       "      <th>45631</th>\n",
       "      <td>Expelled from Eden: A William T. Vollmann Reader</td>\n",
       "      <td>William T. Vollmann/Larry McCaffery/Michael He...</td>\n",
       "      <td>4.06</td>\n",
       "      <td>1560254416</td>\n",
       "      <td>9781560000000</td>\n",
       "      <td>eng</td>\n",
       "      <td>512</td>\n",
       "      <td>156</td>\n",
       "      <td>20</td>\n",
       "      <td>12/21/2004</td>\n",
       "      <td>Da Capo Press</td>\n",
       "    </tr>\n",
       "    <tr>\n",
       "      <th>45633</th>\n",
       "      <td>You Bright and Risen Angels</td>\n",
       "      <td>William T. Vollmann</td>\n",
       "      <td>4.08</td>\n",
       "      <td>140110879</td>\n",
       "      <td>9780140000000</td>\n",
       "      <td>eng</td>\n",
       "      <td>635</td>\n",
       "      <td>783</td>\n",
       "      <td>56</td>\n",
       "      <td>12/1/1988</td>\n",
       "      <td>Penguin Books</td>\n",
       "    </tr>\n",
       "    <tr>\n",
       "      <th>45634</th>\n",
       "      <td>The Ice-Shirt (Seven Dreams #1)</td>\n",
       "      <td>William T. Vollmann</td>\n",
       "      <td>3.96</td>\n",
       "      <td>140131965</td>\n",
       "      <td>9780140000000</td>\n",
       "      <td>eng</td>\n",
       "      <td>415</td>\n",
       "      <td>820</td>\n",
       "      <td>95</td>\n",
       "      <td>8/1/1993</td>\n",
       "      <td>Penguin Books</td>\n",
       "    </tr>\n",
       "    <tr>\n",
       "      <th>45639</th>\n",
       "      <td>Poor People</td>\n",
       "      <td>William T. Vollmann</td>\n",
       "      <td>3.72</td>\n",
       "      <td>60878827</td>\n",
       "      <td>9780060000000</td>\n",
       "      <td>eng</td>\n",
       "      <td>434</td>\n",
       "      <td>769</td>\n",
       "      <td>139</td>\n",
       "      <td>2/27/2007</td>\n",
       "      <td>Ecco</td>\n",
       "    </tr>\n",
       "    <tr>\n",
       "      <th>45641</th>\n",
       "      <td>Las aventuras de Tom Sawyer</td>\n",
       "      <td>Mark Twain</td>\n",
       "      <td>3.91</td>\n",
       "      <td>8497646983</td>\n",
       "      <td>9788500000000</td>\n",
       "      <td>spa</td>\n",
       "      <td>272</td>\n",
       "      <td>113</td>\n",
       "      <td>12</td>\n",
       "      <td>5/28/2006</td>\n",
       "      <td>Edimat Libros</td>\n",
       "    </tr>\n",
       "  </tbody>\n",
       "</table>\n",
       "</div>"
      ],
      "text/plain": [
       "                                                    title  \\\n",
       "bookID                                                      \n",
       "45617   O Cavalo e o Seu Rapaz (As Crónicas de Nárnia ...   \n",
       "45623    O Sobrinho do Mágico (As Crónicas de Nárnia  #1)   \n",
       "45625   A Viagem do Caminheiro da Alvorada (As Crónica...   \n",
       "45626      O Príncipe Caspian (As Crónicas de Nárnia  #4)   \n",
       "45630                                   Whores for Gloria   \n",
       "45631    Expelled from Eden: A William T. Vollmann Reader   \n",
       "45633                         You Bright and Risen Angels   \n",
       "45634                     The Ice-Shirt (Seven Dreams #1)   \n",
       "45639                                         Poor People   \n",
       "45641                         Las aventuras de Tom Sawyer   \n",
       "\n",
       "                                                  authors  average_rating  \\\n",
       "bookID                                                                      \n",
       "45617         C.S. Lewis/Pauline Baynes/Ana Falcão Bastos            3.92   \n",
       "45623         C.S. Lewis/Pauline Baynes/Ana Falcão Bastos            4.04   \n",
       "45625         C.S. Lewis/Pauline Baynes/Ana Falcão Bastos            4.09   \n",
       "45626         C.S. Lewis/Pauline Baynes/Ana Falcão Bastos            3.97   \n",
       "45630                                 William T. Vollmann            3.69   \n",
       "45631   William T. Vollmann/Larry McCaffery/Michael He...            4.06   \n",
       "45633                                 William T. Vollmann            4.08   \n",
       "45634                                 William T. Vollmann            3.96   \n",
       "45639                                 William T. Vollmann            3.72   \n",
       "45641                                          Mark Twain            3.91   \n",
       "\n",
       "              isbn         isbn13 language_code  num_pages  ratings_count  \\\n",
       "bookID                                                                      \n",
       "45617   9722330551  9789720000000           por        160            207   \n",
       "45623   9722329987  9789720000000           por        147            396   \n",
       "45625   9722331329  9789720000000           por        176            161   \n",
       "45626   9722330977  9789720000000           por        160            215   \n",
       "45630    140231579  9780140000000         en-US        160            932   \n",
       "45631   1560254416  9781560000000           eng        512            156   \n",
       "45633    140110879  9780140000000           eng        635            783   \n",
       "45634    140131965  9780140000000           eng        415            820   \n",
       "45639     60878827  9780060000000           eng        434            769   \n",
       "45641   8497646983  9788500000000           spa        272            113   \n",
       "\n",
       "        text_reviews_count publication_date           publisher  \n",
       "bookID                                                           \n",
       "45617                   16        8/15/2003  Editorial Presença  \n",
       "45623                   37         4/8/2003  Editorial Presença  \n",
       "45625                   14         9/1/2004  Editorial Presença  \n",
       "45626                   11       10/11/2003  Editorial Presença  \n",
       "45630                  111         2/1/1994       Penguin Books  \n",
       "45631                   20       12/21/2004       Da Capo Press  \n",
       "45633                   56        12/1/1988       Penguin Books  \n",
       "45634                   95         8/1/1993       Penguin Books  \n",
       "45639                  139        2/27/2007                Ecco  \n",
       "45641                   12        5/28/2006       Edimat Libros  "
      ]
     },
     "execution_count": 4,
     "metadata": {},
     "output_type": "execute_result"
    }
   ],
   "source": [
    "df.tail(10)"
   ]
  },
  {
   "cell_type": "code",
   "execution_count": 5,
   "id": "a10a48e3",
   "metadata": {
    "scrolled": true
   },
   "outputs": [
    {
     "data": {
      "text/html": [
       "<div>\n",
       "<style scoped>\n",
       "    .dataframe tbody tr th:only-of-type {\n",
       "        vertical-align: middle;\n",
       "    }\n",
       "\n",
       "    .dataframe tbody tr th {\n",
       "        vertical-align: top;\n",
       "    }\n",
       "\n",
       "    .dataframe thead th {\n",
       "        text-align: right;\n",
       "    }\n",
       "</style>\n",
       "<table border=\"1\" class=\"dataframe\">\n",
       "  <thead>\n",
       "    <tr style=\"text-align: right;\">\n",
       "      <th></th>\n",
       "      <th>title</th>\n",
       "      <th>authors</th>\n",
       "      <th>average_rating</th>\n",
       "      <th>isbn</th>\n",
       "      <th>isbn13</th>\n",
       "      <th>language_code</th>\n",
       "      <th>num_pages</th>\n",
       "      <th>ratings_count</th>\n",
       "      <th>text_reviews_count</th>\n",
       "      <th>publication_date</th>\n",
       "      <th>publisher</th>\n",
       "    </tr>\n",
       "    <tr>\n",
       "      <th>bookID</th>\n",
       "      <th></th>\n",
       "      <th></th>\n",
       "      <th></th>\n",
       "      <th></th>\n",
       "      <th></th>\n",
       "      <th></th>\n",
       "      <th></th>\n",
       "      <th></th>\n",
       "      <th></th>\n",
       "      <th></th>\n",
       "      <th></th>\n",
       "    </tr>\n",
       "  </thead>\n",
       "  <tbody>\n",
       "    <tr>\n",
       "      <th>13593</th>\n",
       "      <td>ヒカルの碁 18、番外編</td>\n",
       "      <td>Yumi Hotta/Yumi Hotta</td>\n",
       "      <td>4.11</td>\n",
       "      <td>4088732898</td>\n",
       "      <td>9784090000000</td>\n",
       "      <td>jpn</td>\n",
       "      <td>211</td>\n",
       "      <td>275</td>\n",
       "      <td>7</td>\n",
       "      <td>8/2/2002</td>\n",
       "      <td>集英社</td>\n",
       "    </tr>\n",
       "    <tr>\n",
       "      <th>13594</th>\n",
       "      <td>ヒカルの碁 23、あなたに呼びかけている</td>\n",
       "      <td>Yumi Hotta/Yumi Hotta</td>\n",
       "      <td>4.22</td>\n",
       "      <td>4088735048</td>\n",
       "      <td>9784090000000</td>\n",
       "      <td>jpn</td>\n",
       "      <td>198</td>\n",
       "      <td>61</td>\n",
       "      <td>5</td>\n",
       "      <td>9/4/2003</td>\n",
       "      <td>集英社</td>\n",
       "    </tr>\n",
       "    <tr>\n",
       "      <th>13595</th>\n",
       "      <td>ヒカルの碁 7、若獅子戦</td>\n",
       "      <td>Yumi Hotta/Yumi Hotta</td>\n",
       "      <td>4.26</td>\n",
       "      <td>4088728734</td>\n",
       "      <td>9784090000000</td>\n",
       "      <td>jpn</td>\n",
       "      <td>208</td>\n",
       "      <td>9</td>\n",
       "      <td>2</td>\n",
       "      <td>6/7/2000</td>\n",
       "      <td>集英社</td>\n",
       "    </tr>\n",
       "    <tr>\n",
       "      <th>13596</th>\n",
       "      <td>ヒカルの碁 15、さよなら</td>\n",
       "      <td>Yumi Hotta/Yumi Hotta</td>\n",
       "      <td>4.25</td>\n",
       "      <td>4088732154</td>\n",
       "      <td>9784090000000</td>\n",
       "      <td>jpn</td>\n",
       "      <td>211</td>\n",
       "      <td>289</td>\n",
       "      <td>8</td>\n",
       "      <td>12/24/2001</td>\n",
       "      <td>集英社</td>\n",
       "    </tr>\n",
       "    <tr>\n",
       "      <th>13598</th>\n",
       "      <td>ヒカルの碁 13、プロ第一戦</td>\n",
       "      <td>Yumi Hotta/Yumi Hotta</td>\n",
       "      <td>4.26</td>\n",
       "      <td>4088731441</td>\n",
       "      <td>9784090000000</td>\n",
       "      <td>jpn</td>\n",
       "      <td>195</td>\n",
       "      <td>11</td>\n",
       "      <td>2</td>\n",
       "      <td>8/8/2001</td>\n",
       "      <td>集英社</td>\n",
       "    </tr>\n",
       "    <tr>\n",
       "      <th>13600</th>\n",
       "      <td>ヒカルの碁 14、sai vs toya koyo</td>\n",
       "      <td>Yumi Hotta/Yumi Hotta</td>\n",
       "      <td>4.23</td>\n",
       "      <td>4088731697</td>\n",
       "      <td>9784090000000</td>\n",
       "      <td>jpn</td>\n",
       "      <td>189</td>\n",
       "      <td>331</td>\n",
       "      <td>6</td>\n",
       "      <td>10/9/2001</td>\n",
       "      <td>集英社</td>\n",
       "    </tr>\n",
       "    <tr>\n",
       "      <th>13602</th>\n",
       "      <td>ヒカルの碁 16、中国棋院</td>\n",
       "      <td>Yumi Hotta/Yumi Hotta</td>\n",
       "      <td>4.15</td>\n",
       "      <td>4088732324</td>\n",
       "      <td>9784090000000</td>\n",
       "      <td>jpn</td>\n",
       "      <td>191</td>\n",
       "      <td>282</td>\n",
       "      <td>7</td>\n",
       "      <td>3/4/2002</td>\n",
       "      <td>集英社</td>\n",
       "    </tr>\n",
       "    <tr>\n",
       "      <th>13603</th>\n",
       "      <td>ヒカルの碁 6、院生試験</td>\n",
       "      <td>Yumi Hotta/Takeshi Obata</td>\n",
       "      <td>4.22</td>\n",
       "      <td>4088728491</td>\n",
       "      <td>9784090000000</td>\n",
       "      <td>jpn</td>\n",
       "      <td>211</td>\n",
       "      <td>8</td>\n",
       "      <td>2</td>\n",
       "      <td>4/9/2000</td>\n",
       "      <td>集英社</td>\n",
       "    </tr>\n",
       "    <tr>\n",
       "      <th>13608</th>\n",
       "      <td>ヒカルの碁 9、本戦開始</td>\n",
       "      <td>Yumi Hotta/Yumi Hotta</td>\n",
       "      <td>4.27</td>\n",
       "      <td>4088730224</td>\n",
       "      <td>9784090000000</td>\n",
       "      <td>jpn</td>\n",
       "      <td>207</td>\n",
       "      <td>9</td>\n",
       "      <td>2</td>\n",
       "      <td>10/9/2000</td>\n",
       "      <td>集英社</td>\n",
       "    </tr>\n",
       "    <tr>\n",
       "      <th>13609</th>\n",
       "      <td>ヒカルの碁 22、打倒高永夏</td>\n",
       "      <td>Yumi Hotta/Yumi Hotta</td>\n",
       "      <td>4.21</td>\n",
       "      <td>4088734327</td>\n",
       "      <td>9784090000000</td>\n",
       "      <td>jpn</td>\n",
       "      <td>189</td>\n",
       "      <td>329</td>\n",
       "      <td>5</td>\n",
       "      <td>6/4/2003</td>\n",
       "      <td>集英社</td>\n",
       "    </tr>\n",
       "    <tr>\n",
       "      <th>13611</th>\n",
       "      <td>ヒカルの碁 12、新初段シリーズ</td>\n",
       "      <td>Yumi Hotta/Yumi Hotta</td>\n",
       "      <td>4.24</td>\n",
       "      <td>4088731107</td>\n",
       "      <td>9784090000000</td>\n",
       "      <td>jpn</td>\n",
       "      <td>189</td>\n",
       "      <td>9</td>\n",
       "      <td>2</td>\n",
       "      <td>5/6/2001</td>\n",
       "      <td>集英社</td>\n",
       "    </tr>\n",
       "  </tbody>\n",
       "</table>\n",
       "</div>"
      ],
      "text/plain": [
       "                            title                   authors  average_rating  \\\n",
       "bookID                                                                        \n",
       "13593                ヒカルの碁 18、番外編     Yumi Hotta/Yumi Hotta            4.11   \n",
       "13594        ヒカルの碁 23、あなたに呼びかけている     Yumi Hotta/Yumi Hotta            4.22   \n",
       "13595                ヒカルの碁 7、若獅子戦     Yumi Hotta/Yumi Hotta            4.26   \n",
       "13596               ヒカルの碁 15、さよなら     Yumi Hotta/Yumi Hotta            4.25   \n",
       "13598              ヒカルの碁 13、プロ第一戦     Yumi Hotta/Yumi Hotta            4.26   \n",
       "13600   ヒカルの碁 14、sai vs toya koyo     Yumi Hotta/Yumi Hotta            4.23   \n",
       "13602               ヒカルの碁 16、中国棋院     Yumi Hotta/Yumi Hotta            4.15   \n",
       "13603                ヒカルの碁 6、院生試験  Yumi Hotta/Takeshi Obata            4.22   \n",
       "13608                ヒカルの碁 9、本戦開始     Yumi Hotta/Yumi Hotta            4.27   \n",
       "13609              ヒカルの碁 22、打倒高永夏     Yumi Hotta/Yumi Hotta            4.21   \n",
       "13611            ヒカルの碁 12、新初段シリーズ     Yumi Hotta/Yumi Hotta            4.24   \n",
       "\n",
       "              isbn         isbn13 language_code  num_pages  ratings_count  \\\n",
       "bookID                                                                      \n",
       "13593   4088732898  9784090000000           jpn        211            275   \n",
       "13594   4088735048  9784090000000           jpn        198             61   \n",
       "13595   4088728734  9784090000000           jpn        208              9   \n",
       "13596   4088732154  9784090000000           jpn        211            289   \n",
       "13598   4088731441  9784090000000           jpn        195             11   \n",
       "13600   4088731697  9784090000000           jpn        189            331   \n",
       "13602   4088732324  9784090000000           jpn        191            282   \n",
       "13603   4088728491  9784090000000           jpn        211              8   \n",
       "13608   4088730224  9784090000000           jpn        207              9   \n",
       "13609   4088734327  9784090000000           jpn        189            329   \n",
       "13611   4088731107  9784090000000           jpn        189              9   \n",
       "\n",
       "        text_reviews_count publication_date publisher  \n",
       "bookID                                                 \n",
       "13593                    7         8/2/2002       集英社  \n",
       "13594                    5         9/4/2003       集英社  \n",
       "13595                    2         6/7/2000       集英社  \n",
       "13596                    8       12/24/2001       集英社  \n",
       "13598                    2         8/8/2001       集英社  \n",
       "13600                    6        10/9/2001       集英社  \n",
       "13602                    7         3/4/2002       集英社  \n",
       "13603                    2         4/9/2000       集英社  \n",
       "13608                    2        10/9/2000       集英社  \n",
       "13609                    5         6/4/2003       集英社  \n",
       "13611                    2         5/6/2001       集英社  "
      ]
     },
     "execution_count": 5,
     "metadata": {},
     "output_type": "execute_result"
    }
   ],
   "source": [
    "# Title: showing a range of rows with jpn characters (all columns)\n",
    "df.loc[13593:13611,:] # using bookID row number OR df[3776:3786] using row index number"
   ]
  },
  {
   "cell_type": "code",
   "execution_count": 6,
   "id": "8e0c371f",
   "metadata": {
    "scrolled": true
   },
   "outputs": [
    {
     "data": {
      "text/html": [
       "<div>\n",
       "<style scoped>\n",
       "    .dataframe tbody tr th:only-of-type {\n",
       "        vertical-align: middle;\n",
       "    }\n",
       "\n",
       "    .dataframe tbody tr th {\n",
       "        vertical-align: top;\n",
       "    }\n",
       "\n",
       "    .dataframe thead th {\n",
       "        text-align: right;\n",
       "    }\n",
       "</style>\n",
       "<table border=\"1\" class=\"dataframe\">\n",
       "  <thead>\n",
       "    <tr style=\"text-align: right;\">\n",
       "      <th></th>\n",
       "      <th>title</th>\n",
       "      <th>authors</th>\n",
       "      <th>average_rating</th>\n",
       "      <th>isbn</th>\n",
       "      <th>isbn13</th>\n",
       "      <th>language_code</th>\n",
       "      <th>num_pages</th>\n",
       "      <th>ratings_count</th>\n",
       "      <th>text_reviews_count</th>\n",
       "      <th>publication_date</th>\n",
       "      <th>publisher</th>\n",
       "    </tr>\n",
       "    <tr>\n",
       "      <th>bookID</th>\n",
       "      <th></th>\n",
       "      <th></th>\n",
       "      <th></th>\n",
       "      <th></th>\n",
       "      <th></th>\n",
       "      <th></th>\n",
       "      <th></th>\n",
       "      <th></th>\n",
       "      <th></th>\n",
       "      <th></th>\n",
       "      <th></th>\n",
       "    </tr>\n",
       "  </thead>\n",
       "  <tbody>\n",
       "    <tr>\n",
       "      <th>1</th>\n",
       "      <td>Harry Potter and the Half-Blood Prince (Harry ...</td>\n",
       "      <td>J.K. Rowling/Mary GrandPré</td>\n",
       "      <td>4.57</td>\n",
       "      <td>439785960</td>\n",
       "      <td>9780440000000</td>\n",
       "      <td>eng</td>\n",
       "      <td>652</td>\n",
       "      <td>2095690</td>\n",
       "      <td>27591</td>\n",
       "      <td>9/16/2006</td>\n",
       "      <td>Scholastic Inc.</td>\n",
       "    </tr>\n",
       "    <tr>\n",
       "      <th>2</th>\n",
       "      <td>Harry Potter and the Order of the Phoenix (Har...</td>\n",
       "      <td>J.K. Rowling/Mary GrandPré</td>\n",
       "      <td>4.49</td>\n",
       "      <td>439358078</td>\n",
       "      <td>9780440000000</td>\n",
       "      <td>eng</td>\n",
       "      <td>870</td>\n",
       "      <td>2153167</td>\n",
       "      <td>29221</td>\n",
       "      <td>9/1/2004</td>\n",
       "      <td>Scholastic Inc.</td>\n",
       "    </tr>\n",
       "    <tr>\n",
       "      <th>4</th>\n",
       "      <td>Harry Potter and the Chamber of Secrets (Harry...</td>\n",
       "      <td>J.K. Rowling</td>\n",
       "      <td>4.42</td>\n",
       "      <td>439554896</td>\n",
       "      <td>9780440000000</td>\n",
       "      <td>eng</td>\n",
       "      <td>352</td>\n",
       "      <td>6333</td>\n",
       "      <td>244</td>\n",
       "      <td>11/1/2003</td>\n",
       "      <td>Scholastic</td>\n",
       "    </tr>\n",
       "    <tr>\n",
       "      <th>5</th>\n",
       "      <td>Harry Potter and the Prisoner of Azkaban (Harr...</td>\n",
       "      <td>J.K. Rowling/Mary GrandPré</td>\n",
       "      <td>4.56</td>\n",
       "      <td>043965548X</td>\n",
       "      <td>9780440000000</td>\n",
       "      <td>eng</td>\n",
       "      <td>435</td>\n",
       "      <td>2339585</td>\n",
       "      <td>36325</td>\n",
       "      <td>5/1/2004</td>\n",
       "      <td>Scholastic Inc.</td>\n",
       "    </tr>\n",
       "    <tr>\n",
       "      <th>8</th>\n",
       "      <td>Harry Potter Boxed Set  Books 1-5 (Harry Potte...</td>\n",
       "      <td>J.K. Rowling/Mary GrandPré</td>\n",
       "      <td>4.78</td>\n",
       "      <td>439682584</td>\n",
       "      <td>9780440000000</td>\n",
       "      <td>eng</td>\n",
       "      <td>2690</td>\n",
       "      <td>41428</td>\n",
       "      <td>164</td>\n",
       "      <td>9/13/2004</td>\n",
       "      <td>Scholastic</td>\n",
       "    </tr>\n",
       "    <tr>\n",
       "      <th>...</th>\n",
       "      <td>...</td>\n",
       "      <td>...</td>\n",
       "      <td>...</td>\n",
       "      <td>...</td>\n",
       "      <td>...</td>\n",
       "      <td>...</td>\n",
       "      <td>...</td>\n",
       "      <td>...</td>\n",
       "      <td>...</td>\n",
       "      <td>...</td>\n",
       "      <td>...</td>\n",
       "    </tr>\n",
       "    <tr>\n",
       "      <th>45630</th>\n",
       "      <td>Whores for Gloria</td>\n",
       "      <td>William T. Vollmann</td>\n",
       "      <td>3.69</td>\n",
       "      <td>140231579</td>\n",
       "      <td>9780140000000</td>\n",
       "      <td>en-US</td>\n",
       "      <td>160</td>\n",
       "      <td>932</td>\n",
       "      <td>111</td>\n",
       "      <td>2/1/1994</td>\n",
       "      <td>Penguin Books</td>\n",
       "    </tr>\n",
       "    <tr>\n",
       "      <th>45631</th>\n",
       "      <td>Expelled from Eden: A William T. Vollmann Reader</td>\n",
       "      <td>William T. Vollmann/Larry McCaffery/Michael He...</td>\n",
       "      <td>4.06</td>\n",
       "      <td>1560254416</td>\n",
       "      <td>9781560000000</td>\n",
       "      <td>eng</td>\n",
       "      <td>512</td>\n",
       "      <td>156</td>\n",
       "      <td>20</td>\n",
       "      <td>12/21/2004</td>\n",
       "      <td>Da Capo Press</td>\n",
       "    </tr>\n",
       "    <tr>\n",
       "      <th>45633</th>\n",
       "      <td>You Bright and Risen Angels</td>\n",
       "      <td>William T. Vollmann</td>\n",
       "      <td>4.08</td>\n",
       "      <td>140110879</td>\n",
       "      <td>9780140000000</td>\n",
       "      <td>eng</td>\n",
       "      <td>635</td>\n",
       "      <td>783</td>\n",
       "      <td>56</td>\n",
       "      <td>12/1/1988</td>\n",
       "      <td>Penguin Books</td>\n",
       "    </tr>\n",
       "    <tr>\n",
       "      <th>45634</th>\n",
       "      <td>The Ice-Shirt (Seven Dreams #1)</td>\n",
       "      <td>William T. Vollmann</td>\n",
       "      <td>3.96</td>\n",
       "      <td>140131965</td>\n",
       "      <td>9780140000000</td>\n",
       "      <td>eng</td>\n",
       "      <td>415</td>\n",
       "      <td>820</td>\n",
       "      <td>95</td>\n",
       "      <td>8/1/1993</td>\n",
       "      <td>Penguin Books</td>\n",
       "    </tr>\n",
       "    <tr>\n",
       "      <th>45639</th>\n",
       "      <td>Poor People</td>\n",
       "      <td>William T. Vollmann</td>\n",
       "      <td>3.72</td>\n",
       "      <td>60878827</td>\n",
       "      <td>9780060000000</td>\n",
       "      <td>eng</td>\n",
       "      <td>434</td>\n",
       "      <td>769</td>\n",
       "      <td>139</td>\n",
       "      <td>2/27/2007</td>\n",
       "      <td>Ecco</td>\n",
       "    </tr>\n",
       "  </tbody>\n",
       "</table>\n",
       "<p>10544 rows × 11 columns</p>\n",
       "</div>"
      ],
      "text/plain": [
       "                                                    title  \\\n",
       "bookID                                                      \n",
       "1       Harry Potter and the Half-Blood Prince (Harry ...   \n",
       "2       Harry Potter and the Order of the Phoenix (Har...   \n",
       "4       Harry Potter and the Chamber of Secrets (Harry...   \n",
       "5       Harry Potter and the Prisoner of Azkaban (Harr...   \n",
       "8       Harry Potter Boxed Set  Books 1-5 (Harry Potte...   \n",
       "...                                                   ...   \n",
       "45630                                   Whores for Gloria   \n",
       "45631    Expelled from Eden: A William T. Vollmann Reader   \n",
       "45633                         You Bright and Risen Angels   \n",
       "45634                     The Ice-Shirt (Seven Dreams #1)   \n",
       "45639                                         Poor People   \n",
       "\n",
       "                                                  authors  average_rating  \\\n",
       "bookID                                                                      \n",
       "1                              J.K. Rowling/Mary GrandPré            4.57   \n",
       "2                              J.K. Rowling/Mary GrandPré            4.49   \n",
       "4                                            J.K. Rowling            4.42   \n",
       "5                              J.K. Rowling/Mary GrandPré            4.56   \n",
       "8                              J.K. Rowling/Mary GrandPré            4.78   \n",
       "...                                                   ...             ...   \n",
       "45630                                 William T. Vollmann            3.69   \n",
       "45631   William T. Vollmann/Larry McCaffery/Michael He...            4.06   \n",
       "45633                                 William T. Vollmann            4.08   \n",
       "45634                                 William T. Vollmann            3.96   \n",
       "45639                                 William T. Vollmann            3.72   \n",
       "\n",
       "              isbn         isbn13 language_code  num_pages  ratings_count  \\\n",
       "bookID                                                                      \n",
       "1        439785960  9780440000000           eng        652        2095690   \n",
       "2        439358078  9780440000000           eng        870        2153167   \n",
       "4        439554896  9780440000000           eng        352           6333   \n",
       "5       043965548X  9780440000000           eng        435        2339585   \n",
       "8        439682584  9780440000000           eng       2690          41428   \n",
       "...            ...            ...           ...        ...            ...   \n",
       "45630    140231579  9780140000000         en-US        160            932   \n",
       "45631   1560254416  9781560000000           eng        512            156   \n",
       "45633    140110879  9780140000000           eng        635            783   \n",
       "45634    140131965  9780140000000           eng        415            820   \n",
       "45639     60878827  9780060000000           eng        434            769   \n",
       "\n",
       "        text_reviews_count publication_date        publisher  \n",
       "bookID                                                        \n",
       "1                    27591        9/16/2006  Scholastic Inc.  \n",
       "2                    29221         9/1/2004  Scholastic Inc.  \n",
       "4                      244        11/1/2003       Scholastic  \n",
       "5                    36325         5/1/2004  Scholastic Inc.  \n",
       "8                      164        9/13/2004       Scholastic  \n",
       "...                    ...              ...              ...  \n",
       "45630                  111         2/1/1994    Penguin Books  \n",
       "45631                   20       12/21/2004    Da Capo Press  \n",
       "45633                   56        12/1/1988    Penguin Books  \n",
       "45634                   95         8/1/1993    Penguin Books  \n",
       "45639                  139        2/27/2007             Ecco  \n",
       "\n",
       "[10544 rows x 11 columns]"
      ]
     },
     "execution_count": 6,
     "metadata": {},
     "output_type": "execute_result"
    }
   ],
   "source": [
    "# langage_code: list all rows containing \"en\"\n",
    "s_lang = df.language_code\n",
    "val_lang = ['en-CA','eng','en-GB','enm','en-US']\n",
    "df[s_lang.isin(val_lang)]"
   ]
  },
  {
   "cell_type": "markdown",
   "id": "e43ed2bd",
   "metadata": {},
   "source": [
    "NOTE: this latter listing showed 10544 rows containing \"en\" in the language code column"
   ]
  },
  {
   "cell_type": "markdown",
   "id": "1e621cd9",
   "metadata": {},
   "source": [
    "## data analysis"
   ]
  },
  {
   "cell_type": "code",
   "execution_count": 7,
   "id": "e8ca5b48",
   "metadata": {
    "scrolled": false
   },
   "outputs": [
    {
     "data": {
      "text/html": [
       "<div>\n",
       "<style scoped>\n",
       "    .dataframe tbody tr th:only-of-type {\n",
       "        vertical-align: middle;\n",
       "    }\n",
       "\n",
       "    .dataframe tbody tr th {\n",
       "        vertical-align: top;\n",
       "    }\n",
       "\n",
       "    .dataframe thead th {\n",
       "        text-align: right;\n",
       "    }\n",
       "</style>\n",
       "<table border=\"1\" class=\"dataframe\">\n",
       "  <thead>\n",
       "    <tr style=\"text-align: right;\">\n",
       "      <th></th>\n",
       "      <th>average_rating</th>\n",
       "      <th>isbn13</th>\n",
       "      <th>num_pages</th>\n",
       "      <th>ratings_count</th>\n",
       "      <th>text_reviews_count</th>\n",
       "    </tr>\n",
       "  </thead>\n",
       "  <tbody>\n",
       "    <tr>\n",
       "      <th>count</th>\n",
       "      <td>11127.000000</td>\n",
       "      <td>1.112700e+04</td>\n",
       "      <td>11127.000000</td>\n",
       "      <td>1.112700e+04</td>\n",
       "      <td>11127.000000</td>\n",
       "    </tr>\n",
       "    <tr>\n",
       "      <th>mean</th>\n",
       "      <td>3.933631</td>\n",
       "      <td>9.759888e+12</td>\n",
       "      <td>336.376921</td>\n",
       "      <td>1.793641e+04</td>\n",
       "      <td>541.854498</td>\n",
       "    </tr>\n",
       "    <tr>\n",
       "      <th>std</th>\n",
       "      <td>0.352445</td>\n",
       "      <td>4.428964e+11</td>\n",
       "      <td>241.127305</td>\n",
       "      <td>1.124794e+05</td>\n",
       "      <td>2576.176608</td>\n",
       "    </tr>\n",
       "    <tr>\n",
       "      <th>min</th>\n",
       "      <td>0.000000</td>\n",
       "      <td>8.987060e+09</td>\n",
       "      <td>0.000000</td>\n",
       "      <td>0.000000e+00</td>\n",
       "      <td>0.000000</td>\n",
       "    </tr>\n",
       "    <tr>\n",
       "      <th>25%</th>\n",
       "      <td>3.770000</td>\n",
       "      <td>9.780350e+12</td>\n",
       "      <td>192.000000</td>\n",
       "      <td>1.040000e+02</td>\n",
       "      <td>9.000000</td>\n",
       "    </tr>\n",
       "    <tr>\n",
       "      <th>50%</th>\n",
       "      <td>3.960000</td>\n",
       "      <td>9.780590e+12</td>\n",
       "      <td>299.000000</td>\n",
       "      <td>7.450000e+02</td>\n",
       "      <td>46.000000</td>\n",
       "    </tr>\n",
       "    <tr>\n",
       "      <th>75%</th>\n",
       "      <td>4.135000</td>\n",
       "      <td>9.780870e+12</td>\n",
       "      <td>416.000000</td>\n",
       "      <td>4.993500e+03</td>\n",
       "      <td>237.500000</td>\n",
       "    </tr>\n",
       "    <tr>\n",
       "      <th>max</th>\n",
       "      <td>5.000000</td>\n",
       "      <td>9.790010e+12</td>\n",
       "      <td>6576.000000</td>\n",
       "      <td>4.597666e+06</td>\n",
       "      <td>94265.000000</td>\n",
       "    </tr>\n",
       "  </tbody>\n",
       "</table>\n",
       "</div>"
      ],
      "text/plain": [
       "       average_rating        isbn13     num_pages  ratings_count  \\\n",
       "count    11127.000000  1.112700e+04  11127.000000   1.112700e+04   \n",
       "mean         3.933631  9.759888e+12    336.376921   1.793641e+04   \n",
       "std          0.352445  4.428964e+11    241.127305   1.124794e+05   \n",
       "min          0.000000  8.987060e+09      0.000000   0.000000e+00   \n",
       "25%          3.770000  9.780350e+12    192.000000   1.040000e+02   \n",
       "50%          3.960000  9.780590e+12    299.000000   7.450000e+02   \n",
       "75%          4.135000  9.780870e+12    416.000000   4.993500e+03   \n",
       "max          5.000000  9.790010e+12   6576.000000   4.597666e+06   \n",
       "\n",
       "       text_reviews_count  \n",
       "count        11127.000000  \n",
       "mean           541.854498  \n",
       "std           2576.176608  \n",
       "min              0.000000  \n",
       "25%              9.000000  \n",
       "50%             46.000000  \n",
       "75%            237.500000  \n",
       "max          94265.000000  "
      ]
     },
     "execution_count": 7,
     "metadata": {},
     "output_type": "execute_result"
    }
   ],
   "source": [
    "# basic stats on numeric only data \n",
    "df.describe()"
   ]
  },
  {
   "cell_type": "markdown",
   "id": "eb4523d2",
   "metadata": {},
   "source": [
    "df.describe treats isbn13 as a number.\n",
    "however, does not display bookID nor isbn\n",
    "\n",
    "Also: a total count of 11127 books are listed (note that 10544 are of \"en\" language code)"
   ]
  },
  {
   "cell_type": "markdown",
   "id": "93fdd277",
   "metadata": {},
   "source": [
    "### search for inconsistencies"
   ]
  },
  {
   "cell_type": "code",
   "execution_count": 8,
   "id": "f0857703",
   "metadata": {},
   "outputs": [
    {
     "data": {
      "text/plain": [
       "title                 0\n",
       "authors               0\n",
       "average_rating        0\n",
       "isbn                  0\n",
       "isbn13                0\n",
       "language_code         0\n",
       "num_pages             0\n",
       "ratings_count         0\n",
       "text_reviews_count    0\n",
       "publication_date      0\n",
       "publisher             0\n",
       "dtype: int64"
      ]
     },
     "execution_count": 8,
     "metadata": {},
     "output_type": "execute_result"
    }
   ],
   "source": [
    "# look for \"NA\" values (None or NaN)\n",
    "df.isna().sum()"
   ]
  },
  {
   "cell_type": "code",
   "execution_count": 9,
   "id": "635de45d",
   "metadata": {
    "scrolled": true
   },
   "outputs": [
    {
     "data": {
      "text/plain": [
       "title                 11127\n",
       "authors               11127\n",
       "average_rating        11127\n",
       "isbn                  11127\n",
       "isbn13                11127\n",
       "language_code         11127\n",
       "num_pages             11127\n",
       "ratings_count         11127\n",
       "text_reviews_count    11127\n",
       "publication_date      11127\n",
       "publisher             11127\n",
       "dtype: int64"
      ]
     },
     "execution_count": 9,
     "metadata": {},
     "output_type": "execute_result"
    }
   ],
   "source": [
    "# # look for values that are not \"NA\" (NotNone and Not NaN)\n",
    "df.notna().sum()"
   ]
  },
  {
   "cell_type": "code",
   "execution_count": null,
   "id": "de8ab6d7",
   "metadata": {
    "scrolled": true
   },
   "outputs": [],
   "source": [
    "# isbn13 is not NA?\n",
    "df[\"isbn13\"].notna()"
   ]
  },
  {
   "cell_type": "code",
   "execution_count": 10,
   "id": "cdef9c39",
   "metadata": {},
   "outputs": [],
   "source": [
    "# create new dataframe df1 to work on\n",
    "## try and convert to string all rows of \"isbn13\" (to remove them for the describe() function)\n",
    "df1 = df"
   ]
  },
  {
   "cell_type": "code",
   "execution_count": 11,
   "id": "fb84dd25",
   "metadata": {},
   "outputs": [
    {
     "data": {
      "text/plain": [
       "'439785960'"
      ]
     },
     "execution_count": 11,
     "metadata": {},
     "output_type": "execute_result"
    }
   ],
   "source": [
    "# df1[\"isbn\"][1]\n",
    "df1.loc[ 1, 'isbn']"
   ]
  },
  {
   "cell_type": "code",
   "execution_count": 12,
   "id": "f334ef99",
   "metadata": {},
   "outputs": [
    {
     "data": {
      "text/plain": [
       "str"
      ]
     },
     "execution_count": 12,
     "metadata": {},
     "output_type": "execute_result"
    }
   ],
   "source": [
    "type(df1.loc[ 1, 'isbn'])"
   ]
  },
  {
   "cell_type": "code",
   "execution_count": 13,
   "id": "47347c08",
   "metadata": {},
   "outputs": [
    {
     "data": {
      "text/plain": [
       "numpy.int64"
      ]
     },
     "execution_count": 13,
     "metadata": {},
     "output_type": "execute_result"
    }
   ],
   "source": [
    "type(df1[\"isbn13\"][1])"
   ]
  },
  {
   "cell_type": "code",
   "execution_count": 14,
   "id": "7371e77f",
   "metadata": {
    "scrolled": true
   },
   "outputs": [],
   "source": [
    "# df1[\"isbn13\"][1] = str(df1[\"isbn13\"][1])\n",
    "# df1.loc[ 1, 'isbn13'] = str(df1.loc[ 1, 'isbn13'])\n",
    "# df1.loc[ 1, 'isbn13']\n",
    "#for i in range(11127):\n",
    "#    df1.loc[ i, 'isbn13'] = str(df1.loc[ i, 'isbn13'])\n",
    "df1['isbn13'] = df1['isbn13'].astype('string')"
   ]
  },
  {
   "cell_type": "code",
   "execution_count": 15,
   "id": "dd9ef8d2",
   "metadata": {},
   "outputs": [
    {
     "data": {
      "text/plain": [
       "'9780440000000'"
      ]
     },
     "execution_count": 15,
     "metadata": {},
     "output_type": "execute_result"
    }
   ],
   "source": [
    "df1.loc[ 1, 'isbn13']"
   ]
  },
  {
   "cell_type": "code",
   "execution_count": 19,
   "id": "95c64e4e",
   "metadata": {},
   "outputs": [
    {
     "data": {
      "text/plain": [
       "str"
      ]
     },
     "execution_count": 19,
     "metadata": {},
     "output_type": "execute_result"
    }
   ],
   "source": [
    "type(df1['isbn13'][1])"
   ]
  },
  {
   "cell_type": "code",
   "execution_count": 56,
   "id": "abb9c14a",
   "metadata": {},
   "outputs": [
    {
     "data": {
      "text/plain": [
       "title                 Harry Potter Collection (Harry Potter  #1-6)\n",
       "authors                                               J.K. Rowling\n",
       "average_rating                                                4.73\n",
       "isbn                                                     439827604\n",
       "isbn13                                               9780440000000\n",
       "language_code                                                  eng\n",
       "num_pages                                                     3342\n",
       "ratings_count                                                28242\n",
       "text_reviews_count                                             808\n",
       "publication_date                                         9/12/2005\n",
       "publisher                                               Scholastic\n",
       "Name: 10, dtype: object"
      ]
     },
     "execution_count": 56,
     "metadata": {},
     "output_type": "execute_result"
    }
   ],
   "source": [
    "# bookID serves as the current row index\n",
    "# however, 'bookID' is not regular (new row not incremented by 1) as it goes from '1' to '45641' but counts only 11127 rows in total\n",
    "# example: if we try df1.loc[6,'isbn13'] we get an error as '6' does not refer to a bookID\n",
    "# df1.loc[6,'isbn13']\n",
    "# iloc allows to find row nb 6 :\n",
    "df1.iloc[6]"
   ]
  },
  {
   "cell_type": "code",
   "execution_count": 23,
   "id": "61ad3615",
   "metadata": {},
   "outputs": [
    {
     "data": {
      "text/html": [
       "<div>\n",
       "<style scoped>\n",
       "    .dataframe tbody tr th:only-of-type {\n",
       "        vertical-align: middle;\n",
       "    }\n",
       "\n",
       "    .dataframe tbody tr th {\n",
       "        vertical-align: top;\n",
       "    }\n",
       "\n",
       "    .dataframe thead th {\n",
       "        text-align: right;\n",
       "    }\n",
       "</style>\n",
       "<table border=\"1\" class=\"dataframe\">\n",
       "  <thead>\n",
       "    <tr style=\"text-align: right;\">\n",
       "      <th></th>\n",
       "      <th>average_rating</th>\n",
       "      <th>num_pages</th>\n",
       "      <th>ratings_count</th>\n",
       "      <th>text_reviews_count</th>\n",
       "    </tr>\n",
       "  </thead>\n",
       "  <tbody>\n",
       "    <tr>\n",
       "      <th>count</th>\n",
       "      <td>11127.000000</td>\n",
       "      <td>11127.000000</td>\n",
       "      <td>1.112700e+04</td>\n",
       "      <td>11127.000000</td>\n",
       "    </tr>\n",
       "    <tr>\n",
       "      <th>mean</th>\n",
       "      <td>3.933631</td>\n",
       "      <td>336.376921</td>\n",
       "      <td>1.793641e+04</td>\n",
       "      <td>541.854498</td>\n",
       "    </tr>\n",
       "    <tr>\n",
       "      <th>std</th>\n",
       "      <td>0.352445</td>\n",
       "      <td>241.127305</td>\n",
       "      <td>1.124794e+05</td>\n",
       "      <td>2576.176608</td>\n",
       "    </tr>\n",
       "    <tr>\n",
       "      <th>min</th>\n",
       "      <td>0.000000</td>\n",
       "      <td>0.000000</td>\n",
       "      <td>0.000000e+00</td>\n",
       "      <td>0.000000</td>\n",
       "    </tr>\n",
       "    <tr>\n",
       "      <th>25%</th>\n",
       "      <td>3.770000</td>\n",
       "      <td>192.000000</td>\n",
       "      <td>1.040000e+02</td>\n",
       "      <td>9.000000</td>\n",
       "    </tr>\n",
       "    <tr>\n",
       "      <th>50%</th>\n",
       "      <td>3.960000</td>\n",
       "      <td>299.000000</td>\n",
       "      <td>7.450000e+02</td>\n",
       "      <td>46.000000</td>\n",
       "    </tr>\n",
       "    <tr>\n",
       "      <th>75%</th>\n",
       "      <td>4.135000</td>\n",
       "      <td>416.000000</td>\n",
       "      <td>4.993500e+03</td>\n",
       "      <td>237.500000</td>\n",
       "    </tr>\n",
       "    <tr>\n",
       "      <th>max</th>\n",
       "      <td>5.000000</td>\n",
       "      <td>6576.000000</td>\n",
       "      <td>4.597666e+06</td>\n",
       "      <td>94265.000000</td>\n",
       "    </tr>\n",
       "  </tbody>\n",
       "</table>\n",
       "</div>"
      ],
      "text/plain": [
       "       average_rating     num_pages  ratings_count  text_reviews_count\n",
       "count    11127.000000  11127.000000   1.112700e+04        11127.000000\n",
       "mean         3.933631    336.376921   1.793641e+04          541.854498\n",
       "std          0.352445    241.127305   1.124794e+05         2576.176608\n",
       "min          0.000000      0.000000   0.000000e+00            0.000000\n",
       "25%          3.770000    192.000000   1.040000e+02            9.000000\n",
       "50%          3.960000    299.000000   7.450000e+02           46.000000\n",
       "75%          4.135000    416.000000   4.993500e+03          237.500000\n",
       "max          5.000000   6576.000000   4.597666e+06        94265.000000"
      ]
     },
     "execution_count": 23,
     "metadata": {},
     "output_type": "execute_result"
    }
   ],
   "source": [
    "# s1 = df1[\"isbn13\"]\n",
    "df1.describe()"
   ]
  },
  {
   "cell_type": "code",
   "execution_count": 28,
   "id": "ffd6ab84",
   "metadata": {},
   "outputs": [
    {
     "data": {
      "text/plain": [
       "' func age guesser\\ndef age_guesser(Pclass_sex):       # age_guesser(1, \"female\") = 34\\n    Pclass_sex = tuple(Pclass_sex)\\n    age = average_ages[Pclass_sex]\\n    return age\\n'"
      ]
     },
     "execution_count": 28,
     "metadata": {},
     "output_type": "execute_result"
    }
   ],
   "source": [
    "# df.Pclass.value_counts() # distribution / frequency of the classes \"Pclass\"\n",
    "# df.groupby([\"Pclass\",\"Sex\"]).mean().Age # grouping people by class, gender and avg age\n",
    "# average_ages = df.groupby([\"Pclass\",\"Sex\"]).mean().Age.astype(int).to_dict() # creates dictionary with Ages put as integers\n",
    "# average_ages.keys() # to see what are the keys in the dict (here: 6 keys)\n",
    "# average_ages[(1,\"female\")] # test the dictionary to check on 1 example\n",
    "''' func age guesser\n",
    "def age_guesser(Pclass_sex):       # age_guesser(1, \"female\") = 34\n",
    "    Pclass_sex = tuple(Pclass_sex)\n",
    "    age = average_ages[Pclass_sex]\n",
    "    return age\n",
    "'''\n",
    "#  df.groupby([\"Pclass\",\"Sex\"]).mean().Age.astype(int).to_dict()"
   ]
  },
  {
   "cell_type": "code",
   "execution_count": 29,
   "id": "eac2d529",
   "metadata": {},
   "outputs": [
    {
     "data": {
      "text/plain": [
       "eng      8911\n",
       "en-US    1409\n",
       "spa       218\n",
       "en-GB     214\n",
       "fre       144\n",
       "ger        99\n",
       "jpn        46\n",
       "mul        19\n",
       "zho        14\n",
       "grc        11\n",
       "por        10\n",
       "en-CA       7\n",
       "ita         5\n",
       "enm         3\n",
       "lat         3\n",
       "swe         2\n",
       "rus         2\n",
       "srp         1\n",
       "nl          1\n",
       "msa         1\n",
       "glg         1\n",
       "wel         1\n",
       "ara         1\n",
       "nor         1\n",
       "tur         1\n",
       "gla         1\n",
       "ale         1\n",
       "Name: language_code, dtype: int64"
      ]
     },
     "execution_count": 29,
     "metadata": {},
     "output_type": "execute_result"
    }
   ],
   "source": [
    "df.language_code.value_counts() # distribution / frequency of the classes \"language_code\""
   ]
  },
  {
   "cell_type": "code",
   "execution_count": 26,
   "id": "b55c3692",
   "metadata": {},
   "outputs": [
    {
     "data": {
      "text/html": [
       "<div>\n",
       "<style scoped>\n",
       "    .dataframe tbody tr th:only-of-type {\n",
       "        vertical-align: middle;\n",
       "    }\n",
       "\n",
       "    .dataframe tbody tr th {\n",
       "        vertical-align: top;\n",
       "    }\n",
       "\n",
       "    .dataframe thead th {\n",
       "        text-align: right;\n",
       "    }\n",
       "</style>\n",
       "<table border=\"1\" class=\"dataframe\">\n",
       "  <thead>\n",
       "    <tr style=\"text-align: right;\">\n",
       "      <th></th>\n",
       "      <th>title</th>\n",
       "      <th>authors</th>\n",
       "      <th>average_rating</th>\n",
       "      <th>isbn</th>\n",
       "      <th>isbn13</th>\n",
       "      <th>language_code</th>\n",
       "      <th>num_pages</th>\n",
       "      <th>ratings_count</th>\n",
       "      <th>text_reviews_count</th>\n",
       "      <th>publication_date</th>\n",
       "      <th>publisher</th>\n",
       "    </tr>\n",
       "    <tr>\n",
       "      <th>bookID</th>\n",
       "      <th></th>\n",
       "      <th></th>\n",
       "      <th></th>\n",
       "      <th></th>\n",
       "      <th></th>\n",
       "      <th></th>\n",
       "      <th></th>\n",
       "      <th></th>\n",
       "      <th></th>\n",
       "      <th></th>\n",
       "      <th></th>\n",
       "    </tr>\n",
       "  </thead>\n",
       "  <tbody>\n",
       "    <tr>\n",
       "      <th>1</th>\n",
       "      <td>Harry Potter and the Half-Blood Prince (Harry ...</td>\n",
       "      <td>J.K. Rowling/Mary GrandPré</td>\n",
       "      <td>4.57</td>\n",
       "      <td>439785960</td>\n",
       "      <td>9780440000000</td>\n",
       "      <td>eng</td>\n",
       "      <td>652</td>\n",
       "      <td>2095690</td>\n",
       "      <td>27591</td>\n",
       "      <td>9/16/2006</td>\n",
       "      <td>Scholastic Inc.</td>\n",
       "    </tr>\n",
       "    <tr>\n",
       "      <th>2</th>\n",
       "      <td>Harry Potter and the Order of the Phoenix (Har...</td>\n",
       "      <td>J.K. Rowling/Mary GrandPré</td>\n",
       "      <td>4.49</td>\n",
       "      <td>439358078</td>\n",
       "      <td>9780440000000</td>\n",
       "      <td>eng</td>\n",
       "      <td>870</td>\n",
       "      <td>2153167</td>\n",
       "      <td>29221</td>\n",
       "      <td>9/1/2004</td>\n",
       "      <td>Scholastic Inc.</td>\n",
       "    </tr>\n",
       "    <tr>\n",
       "      <th>4</th>\n",
       "      <td>Harry Potter and the Chamber of Secrets (Harry...</td>\n",
       "      <td>J.K. Rowling</td>\n",
       "      <td>4.42</td>\n",
       "      <td>439554896</td>\n",
       "      <td>9780440000000</td>\n",
       "      <td>eng</td>\n",
       "      <td>352</td>\n",
       "      <td>6333</td>\n",
       "      <td>244</td>\n",
       "      <td>11/1/2003</td>\n",
       "      <td>Scholastic</td>\n",
       "    </tr>\n",
       "    <tr>\n",
       "      <th>5</th>\n",
       "      <td>Harry Potter and the Prisoner of Azkaban (Harr...</td>\n",
       "      <td>J.K. Rowling/Mary GrandPré</td>\n",
       "      <td>4.56</td>\n",
       "      <td>043965548X</td>\n",
       "      <td>9780440000000</td>\n",
       "      <td>eng</td>\n",
       "      <td>435</td>\n",
       "      <td>2339585</td>\n",
       "      <td>36325</td>\n",
       "      <td>5/1/2004</td>\n",
       "      <td>Scholastic Inc.</td>\n",
       "    </tr>\n",
       "    <tr>\n",
       "      <th>8</th>\n",
       "      <td>Harry Potter Boxed Set  Books 1-5 (Harry Potte...</td>\n",
       "      <td>J.K. Rowling/Mary GrandPré</td>\n",
       "      <td>4.78</td>\n",
       "      <td>439682584</td>\n",
       "      <td>9780440000000</td>\n",
       "      <td>eng</td>\n",
       "      <td>2690</td>\n",
       "      <td>41428</td>\n",
       "      <td>164</td>\n",
       "      <td>9/13/2004</td>\n",
       "      <td>Scholastic</td>\n",
       "    </tr>\n",
       "  </tbody>\n",
       "</table>\n",
       "</div>"
      ],
      "text/plain": [
       "                                                    title  \\\n",
       "bookID                                                      \n",
       "1       Harry Potter and the Half-Blood Prince (Harry ...   \n",
       "2       Harry Potter and the Order of the Phoenix (Har...   \n",
       "4       Harry Potter and the Chamber of Secrets (Harry...   \n",
       "5       Harry Potter and the Prisoner of Azkaban (Harr...   \n",
       "8       Harry Potter Boxed Set  Books 1-5 (Harry Potte...   \n",
       "\n",
       "                           authors  average_rating        isbn         isbn13  \\\n",
       "bookID                                                                          \n",
       "1       J.K. Rowling/Mary GrandPré            4.57   439785960  9780440000000   \n",
       "2       J.K. Rowling/Mary GrandPré            4.49   439358078  9780440000000   \n",
       "4                     J.K. Rowling            4.42   439554896  9780440000000   \n",
       "5       J.K. Rowling/Mary GrandPré            4.56  043965548X  9780440000000   \n",
       "8       J.K. Rowling/Mary GrandPré            4.78   439682584  9780440000000   \n",
       "\n",
       "       language_code  num_pages  ratings_count  text_reviews_count  \\\n",
       "bookID                                                               \n",
       "1                eng        652        2095690               27591   \n",
       "2                eng        870        2153167               29221   \n",
       "4                eng        352           6333                 244   \n",
       "5                eng        435        2339585               36325   \n",
       "8                eng       2690          41428                 164   \n",
       "\n",
       "       publication_date        publisher  \n",
       "bookID                                    \n",
       "1             9/16/2006  Scholastic Inc.  \n",
       "2              9/1/2004  Scholastic Inc.  \n",
       "4             11/1/2003       Scholastic  \n",
       "5              5/1/2004  Scholastic Inc.  \n",
       "8             9/13/2004       Scholastic  "
      ]
     },
     "execution_count": 26,
     "metadata": {},
     "output_type": "execute_result"
    }
   ],
   "source": [
    "df1.head()\n",
    "# df1.describe()"
   ]
  },
  {
   "cell_type": "markdown",
   "id": "0521d99d",
   "metadata": {},
   "source": [
    "1) TRY TO CONVERT ISBN13 DATA TO STRING - DONE\n",
    "2) find outliers in other columns (rating, num_pages, text_reviews)\n",
    "3) consider including other columns (convert to numeric? 0 or 1 value? other?)"
   ]
  },
  {
   "cell_type": "code",
   "execution_count": null,
   "id": "6493888d",
   "metadata": {},
   "outputs": [],
   "source": [
    "# get_dummies tranforms categorical data to numbers\n",
    "# here we want to transform the \"Sex\" column from ['male', 'female'] to [0,1]\n",
    "# Ex: df_processed.loc[:,[\"Sex\"]] = pd.get_dummies(df.Sex,drop_first=True).values"
   ]
  },
  {
   "cell_type": "code",
   "execution_count": null,
   "id": "101f79be",
   "metadata": {},
   "outputs": [],
   "source": [
    "# this is a way to explicit the \"Pclass\" column by transforming it to 3 columns corresponding to each of its values\n",
    "# this is known as encoding\n",
    "# df_processed = pd.concat([df_processed,pd.get_dummies(df_processed.Pclass)],axis=1).drop(columns=\"Pclass\")"
   ]
  },
  {
   "cell_type": "code",
   "execution_count": 31,
   "id": "ae73403e",
   "metadata": {},
   "outputs": [
    {
     "data": {
      "text/plain": [
       "<function matplotlib.pyplot.show(close=None, block=None)>"
      ]
     },
     "execution_count": 31,
     "metadata": {},
     "output_type": "execute_result"
    },
    {
     "data": {
      "image/png": "[encoded data removed]",
      "text/plain": [
       "<Figure size 640x480 with 2 Axes>"
      ]
     },
     "metadata": {},
     "output_type": "display_data"
    }
   ],
   "source": [
    "# PLOT CORRELATION ANALYSIS\n",
    "df1_corr = df1[[\"average_rating\", \"num_pages\",\"ratings_count\", \"text_reviews_count\"]]\n",
    "# corr = df_corr.corr()\n",
    "corr1 = df1_corr.corr()\n",
    "sns.heatmap(corr1, annot=True, cmap=\"coolwarm\", vmin=-1, vmax=1)\n",
    "plt.show"
   ]
  },
  {
   "cell_type": "code",
   "execution_count": 32,
   "id": "70b603b9",
   "metadata": {},
   "outputs": [
    {
     "data": {
      "image/png": "[encoded data removed]",
      "text/plain": [
       "<Figure size 800x800 with 16 Axes>"
      ]
     },
     "metadata": {},
     "output_type": "display_data"
    }
   ],
   "source": [
    "pd.plotting.scatter_matrix(df1_corr, figsize=(8,8), marker=\"o\")\n",
    "plt.show()"
   ]
  },
  {
   "cell_type": "code",
   "execution_count": 35,
   "id": "d63be0fe",
   "metadata": {},
   "outputs": [
    {
     "data": {
      "text/plain": [
       "<function matplotlib.pyplot.show(close=None, block=None)>"
      ]
     },
     "execution_count": 35,
     "metadata": {},
     "output_type": "execute_result"
    },
    {
     "data": {
      "image/png": "[encoded data removed]",
      "text/plain": [
       "<Figure size 640x480 with 1 Axes>"
      ]
     },
     "metadata": {},
     "output_type": "display_data"
    }
   ],
   "source": [
    "plt.boxplot(df1_corr[\"text_reviews_count\"])\n",
    "plt.show"
   ]
  },
  {
   "cell_type": "code",
   "execution_count": 37,
   "id": "cb27a6bc",
   "metadata": {},
   "outputs": [
    {
     "data": {
      "text/plain": [
       "<function matplotlib.pyplot.show(close=None, block=None)>"
      ]
     },
     "execution_count": 37,
     "metadata": {},
     "output_type": "execute_result"
    },
    {
     "data": {
      "image/png": "[encoded data removed]",
      "text/plain": [
       "<Figure size 640x480 with 1 Axes>"
      ]
     },
     "metadata": {},
     "output_type": "display_data"
    }
   ],
   "source": [
    "plt.boxplot(df1_corr[\"ratings_count\"])\n",
    "plt.show"
   ]
  },
  {
   "cell_type": "code",
   "execution_count": 38,
   "id": "39711213",
   "metadata": {},
   "outputs": [
    {
     "data": {
      "text/plain": [
       "<function matplotlib.pyplot.show(close=None, block=None)>"
      ]
     },
     "execution_count": 38,
     "metadata": {},
     "output_type": "execute_result"
    },
    {
     "data": {
      "image/png": "[encoded data removed]",
      "text/plain": [
       "<Figure size 640x480 with 1 Axes>"
      ]
     },
     "metadata": {},
     "output_type": "display_data"
    }
   ],
   "source": [
    "plt.boxplot(df1_corr[\"num_pages\"])\n",
    "plt.show"
   ]
  },
  {
   "cell_type": "code",
   "execution_count": 40,
   "id": "4ed6667e",
   "metadata": {},
   "outputs": [
    {
     "data": {
      "text/plain": [
       "<function matplotlib.pyplot.show(close=None, block=None)>"
      ]
     },
     "execution_count": 40,
     "metadata": {},
     "output_type": "execute_result"
    },
    {
     "data": {
      "image/png": "[encoded data removed]",
      "text/plain": [
       "<Figure size 640x480 with 1 Axes>"
      ]
     },
     "metadata": {},
     "output_type": "display_data"
    }
   ],
   "source": [
    "plt.boxplot(df1_corr[\"average_rating\"])\n",
    "plt.show"
   ]
  },
  {
   "cell_type": "code",
   "execution_count": 62,
   "id": "5e5c96d1",
   "metadata": {},
   "outputs": [],
   "source": [
    "'''for i in range(11127): \n",
    "    if df1.iloc[i,7] == 0:\n",
    "        df1.iloc[i,7].drop\n",
    "df1.describe()\n",
    "'''\n",
    "df1 = df1.drop(index=df1.loc[df1.ratings_count == 0,:].index) # locating by rows where are null values, and then drop rows at those indexes"
   ]
  },
  {
   "cell_type": "code",
   "execution_count": 63,
   "id": "0556348a",
   "metadata": {},
   "outputs": [
    {
     "data": {
      "text/html": [
       "<div>\n",
       "<style scoped>\n",
       "    .dataframe tbody tr th:only-of-type {\n",
       "        vertical-align: middle;\n",
       "    }\n",
       "\n",
       "    .dataframe tbody tr th {\n",
       "        vertical-align: top;\n",
       "    }\n",
       "\n",
       "    .dataframe thead th {\n",
       "        text-align: right;\n",
       "    }\n",
       "</style>\n",
       "<table border=\"1\" class=\"dataframe\">\n",
       "  <thead>\n",
       "    <tr style=\"text-align: right;\">\n",
       "      <th></th>\n",
       "      <th>average_rating</th>\n",
       "      <th>num_pages</th>\n",
       "      <th>ratings_count</th>\n",
       "      <th>text_reviews_count</th>\n",
       "    </tr>\n",
       "  </thead>\n",
       "  <tbody>\n",
       "    <tr>\n",
       "      <th>count</th>\n",
       "      <td>11046.000000</td>\n",
       "      <td>11046.000000</td>\n",
       "      <td>1.104600e+04</td>\n",
       "      <td>11046.00000</td>\n",
       "    </tr>\n",
       "    <tr>\n",
       "      <th>mean</th>\n",
       "      <td>3.943134</td>\n",
       "      <td>336.762810</td>\n",
       "      <td>1.806794e+04</td>\n",
       "      <td>545.82772</td>\n",
       "    </tr>\n",
       "    <tr>\n",
       "      <th>std</th>\n",
       "      <td>0.295213</td>\n",
       "      <td>240.971269</td>\n",
       "      <td>1.128806e+05</td>\n",
       "      <td>2585.18629</td>\n",
       "    </tr>\n",
       "    <tr>\n",
       "      <th>min</th>\n",
       "      <td>1.000000</td>\n",
       "      <td>0.000000</td>\n",
       "      <td>1.000000e+00</td>\n",
       "      <td>0.00000</td>\n",
       "    </tr>\n",
       "    <tr>\n",
       "      <th>25%</th>\n",
       "      <td>3.780000</td>\n",
       "      <td>194.000000</td>\n",
       "      <td>1.100000e+02</td>\n",
       "      <td>9.00000</td>\n",
       "    </tr>\n",
       "    <tr>\n",
       "      <th>50%</th>\n",
       "      <td>3.960000</td>\n",
       "      <td>300.000000</td>\n",
       "      <td>7.645000e+02</td>\n",
       "      <td>48.00000</td>\n",
       "    </tr>\n",
       "    <tr>\n",
       "      <th>75%</th>\n",
       "      <td>4.140000</td>\n",
       "      <td>416.000000</td>\n",
       "      <td>5.058750e+03</td>\n",
       "      <td>241.00000</td>\n",
       "    </tr>\n",
       "    <tr>\n",
       "      <th>max</th>\n",
       "      <td>5.000000</td>\n",
       "      <td>6576.000000</td>\n",
       "      <td>4.597666e+06</td>\n",
       "      <td>94265.00000</td>\n",
       "    </tr>\n",
       "  </tbody>\n",
       "</table>\n",
       "</div>"
      ],
      "text/plain": [
       "       average_rating     num_pages  ratings_count  text_reviews_count\n",
       "count    11046.000000  11046.000000   1.104600e+04         11046.00000\n",
       "mean         3.943134    336.762810   1.806794e+04           545.82772\n",
       "std          0.295213    240.971269   1.128806e+05          2585.18629\n",
       "min          1.000000      0.000000   1.000000e+00             0.00000\n",
       "25%          3.780000    194.000000   1.100000e+02             9.00000\n",
       "50%          3.960000    300.000000   7.645000e+02            48.00000\n",
       "75%          4.140000    416.000000   5.058750e+03           241.00000\n",
       "max          5.000000   6576.000000   4.597666e+06         94265.00000"
      ]
     },
     "execution_count": 63,
     "metadata": {},
     "output_type": "execute_result"
    }
   ],
   "source": [
    "df1.describe()"
   ]
  },
  {
   "cell_type": "code",
   "execution_count": 64,
   "id": "a388d62c",
   "metadata": {},
   "outputs": [
    {
     "data": {
      "text/plain": [
       "<function matplotlib.pyplot.show(close=None, block=None)>"
      ]
     },
     "execution_count": 64,
     "metadata": {},
     "output_type": "execute_result"
    },
    {
     "data": {
      "image/png": "[encoded data removed]",
      "text/plain": [
       "<Figure size 640x480 with 2 Axes>"
      ]
     },
     "metadata": {},
     "output_type": "display_data"
    }
   ],
   "source": [
    "# PLOT CORRELATION ANALYSIS\n",
    "df1_corr = df1[[\"average_rating\", \"num_pages\",\"ratings_count\", \"text_reviews_count\"]]\n",
    "# corr = df_corr.corr()\n",
    "corr1 = df1_corr.corr()\n",
    "sns.heatmap(corr1, annot=True, cmap=\"coolwarm\", vmin=-1, vmax=1)\n",
    "plt.show"
   ]
  },
  {
   "cell_type": "code",
   "execution_count": 70,
   "id": "5caec7b2",
   "metadata": {},
   "outputs": [],
   "source": [
    "df1_processed = df1_corr"
   ]
  },
  {
   "cell_type": "code",
   "execution_count": 73,
   "id": "61f3d4c7",
   "metadata": {},
   "outputs": [
    {
     "data": {
      "text/plain": [
       "bookID\n",
       "1        4.57\n",
       "2        4.49\n",
       "4        4.42\n",
       "5        4.56\n",
       "8        4.78\n",
       "         ... \n",
       "45631    4.06\n",
       "45633    4.08\n",
       "45634    3.96\n",
       "45639    3.72\n",
       "45641    3.91\n",
       "Name: average_rating, Length: 11046, dtype: float64"
      ]
     },
     "execution_count": 73,
     "metadata": {},
     "output_type": "execute_result"
    }
   ],
   "source": [
    "df1.iloc[:,2]"
   ]
  },
  {
   "cell_type": "code",
   "execution_count": 77,
   "id": "8f9608d6",
   "metadata": {},
   "outputs": [
    {
     "name": "stderr",
     "output_type": "stream",
     "text": [
      "C:\\Users\\33695\\AppData\\Local\\Temp\\ipykernel_22332\\1698784574.py:1: SettingWithCopyWarning: \n",
      "A value is trying to be set on a copy of a slice from a DataFrame.\n",
      "Try using .loc[row_indexer,col_indexer] = value instead\n",
      "\n",
      "See the caveats in the documentation: https://pandas.pydata.org/pandas-docs/stable/user_guide/indexing.html#returning-a-view-versus-a-copy\n",
      "  df1_processed['average_rating'] = df1_processed['average_rating'].astype('int')\n"
     ]
    }
   ],
   "source": [
    "df1_processed['average_rating'] = df1_processed['average_rating'].astype('int')"
   ]
  },
  {
   "cell_type": "code",
   "execution_count": 82,
   "id": "539367cf",
   "metadata": {},
   "outputs": [
    {
     "data": {
      "text/html": [
       "<div>\n",
       "<style scoped>\n",
       "    .dataframe tbody tr th:only-of-type {\n",
       "        vertical-align: middle;\n",
       "    }\n",
       "\n",
       "    .dataframe tbody tr th {\n",
       "        vertical-align: top;\n",
       "    }\n",
       "\n",
       "    .dataframe thead th {\n",
       "        text-align: right;\n",
       "    }\n",
       "</style>\n",
       "<table border=\"1\" class=\"dataframe\">\n",
       "  <thead>\n",
       "    <tr style=\"text-align: right;\">\n",
       "      <th></th>\n",
       "      <th>average_rating</th>\n",
       "      <th>num_pages</th>\n",
       "      <th>ratings_count</th>\n",
       "      <th>text_reviews_count</th>\n",
       "    </tr>\n",
       "  </thead>\n",
       "  <tbody>\n",
       "    <tr>\n",
       "      <th>count</th>\n",
       "      <td>11046.000000</td>\n",
       "      <td>11046.000000</td>\n",
       "      <td>1.104600e+04</td>\n",
       "      <td>11046.00000</td>\n",
       "    </tr>\n",
       "    <tr>\n",
       "      <th>mean</th>\n",
       "      <td>3.442604</td>\n",
       "      <td>336.762810</td>\n",
       "      <td>1.806794e+04</td>\n",
       "      <td>545.82772</td>\n",
       "    </tr>\n",
       "    <tr>\n",
       "      <th>std</th>\n",
       "      <td>0.511091</td>\n",
       "      <td>240.971269</td>\n",
       "      <td>1.128806e+05</td>\n",
       "      <td>2585.18629</td>\n",
       "    </tr>\n",
       "    <tr>\n",
       "      <th>min</th>\n",
       "      <td>1.000000</td>\n",
       "      <td>0.000000</td>\n",
       "      <td>1.000000e+00</td>\n",
       "      <td>0.00000</td>\n",
       "    </tr>\n",
       "    <tr>\n",
       "      <th>25%</th>\n",
       "      <td>3.000000</td>\n",
       "      <td>194.000000</td>\n",
       "      <td>1.100000e+02</td>\n",
       "      <td>9.00000</td>\n",
       "    </tr>\n",
       "    <tr>\n",
       "      <th>50%</th>\n",
       "      <td>3.000000</td>\n",
       "      <td>300.000000</td>\n",
       "      <td>7.645000e+02</td>\n",
       "      <td>48.00000</td>\n",
       "    </tr>\n",
       "    <tr>\n",
       "      <th>75%</th>\n",
       "      <td>4.000000</td>\n",
       "      <td>416.000000</td>\n",
       "      <td>5.058750e+03</td>\n",
       "      <td>241.00000</td>\n",
       "    </tr>\n",
       "    <tr>\n",
       "      <th>max</th>\n",
       "      <td>5.000000</td>\n",
       "      <td>6576.000000</td>\n",
       "      <td>4.597666e+06</td>\n",
       "      <td>94265.00000</td>\n",
       "    </tr>\n",
       "  </tbody>\n",
       "</table>\n",
       "</div>"
      ],
      "text/plain": [
       "       average_rating     num_pages  ratings_count  text_reviews_count\n",
       "count    11046.000000  11046.000000   1.104600e+04         11046.00000\n",
       "mean         3.442604    336.762810   1.806794e+04           545.82772\n",
       "std          0.511091    240.971269   1.128806e+05          2585.18629\n",
       "min          1.000000      0.000000   1.000000e+00             0.00000\n",
       "25%          3.000000    194.000000   1.100000e+02             9.00000\n",
       "50%          3.000000    300.000000   7.645000e+02            48.00000\n",
       "75%          4.000000    416.000000   5.058750e+03           241.00000\n",
       "max          5.000000   6576.000000   4.597666e+06         94265.00000"
      ]
     },
     "execution_count": 82,
     "metadata": {},
     "output_type": "execute_result"
    }
   ],
   "source": [
    "df1_processed.describe()"
   ]
  },
  {
   "cell_type": "code",
   "execution_count": null,
   "id": "ba5de6c5",
   "metadata": {},
   "outputs": [],
   "source": [
    "# df1_processed.loc[:,[\"average_rating\"]] = pd.get_dummies(df1_processed.average_rating,drop_first=True).values"
   ]
  },
  {
   "cell_type": "code",
   "execution_count": 84,
   "id": "051203e6",
   "metadata": {},
   "outputs": [],
   "source": [
    "from sklearn.model_selection import train_test_split"
   ]
  },
  {
   "cell_type": "code",
   "execution_count": 85,
   "id": "3e74f12f",
   "metadata": {},
   "outputs": [],
   "source": [
    "df1_train, df1_test = train_test_split(df1_processed,test_size = 0.2, stratify = df1_processed.average_rating) # \" define (randomly) training and testing dataframe\""
   ]
  },
  {
   "cell_type": "code",
   "execution_count": 87,
   "id": "1e8557c2",
   "metadata": {},
   "outputs": [
    {
     "data": {
      "text/plain": [
       "11046"
      ]
     },
     "execution_count": 87,
     "metadata": {},
     "output_type": "execute_result"
    }
   ],
   "source": [
    "len(df1_processed)"
   ]
  },
  {
   "cell_type": "code",
   "execution_count": 88,
   "id": "f2a5cc66",
   "metadata": {},
   "outputs": [
    {
     "data": {
      "text/plain": [
       "8836"
      ]
     },
     "execution_count": 88,
     "metadata": {},
     "output_type": "execute_result"
    }
   ],
   "source": [
    "len(df1_train)"
   ]
  },
  {
   "cell_type": "code",
   "execution_count": 89,
   "id": "0e564f9f",
   "metadata": {},
   "outputs": [
    {
     "data": {
      "text/plain": [
       "2210"
      ]
     },
     "execution_count": 89,
     "metadata": {},
     "output_type": "execute_result"
    }
   ],
   "source": [
    "len(df1_test)"
   ]
  },
  {
   "cell_type": "code",
   "execution_count": 90,
   "id": "0a294398",
   "metadata": {},
   "outputs": [
    {
     "data": {
      "text/html": [
       "<div>\n",
       "<style scoped>\n",
       "    .dataframe tbody tr th:only-of-type {\n",
       "        vertical-align: middle;\n",
       "    }\n",
       "\n",
       "    .dataframe tbody tr th {\n",
       "        vertical-align: top;\n",
       "    }\n",
       "\n",
       "    .dataframe thead th {\n",
       "        text-align: right;\n",
       "    }\n",
       "</style>\n",
       "<table border=\"1\" class=\"dataframe\">\n",
       "  <thead>\n",
       "    <tr style=\"text-align: right;\">\n",
       "      <th></th>\n",
       "      <th>average_rating</th>\n",
       "      <th>num_pages</th>\n",
       "      <th>ratings_count</th>\n",
       "      <th>text_reviews_count</th>\n",
       "    </tr>\n",
       "    <tr>\n",
       "      <th>bookID</th>\n",
       "      <th></th>\n",
       "      <th></th>\n",
       "      <th></th>\n",
       "      <th></th>\n",
       "    </tr>\n",
       "  </thead>\n",
       "  <tbody>\n",
       "    <tr>\n",
       "      <th>4662</th>\n",
       "      <td>4</td>\n",
       "      <td>800</td>\n",
       "      <td>12039</td>\n",
       "      <td>164</td>\n",
       "    </tr>\n",
       "    <tr>\n",
       "      <th>41329</th>\n",
       "      <td>4</td>\n",
       "      <td>321</td>\n",
       "      <td>5390</td>\n",
       "      <td>614</td>\n",
       "    </tr>\n",
       "    <tr>\n",
       "      <th>28358</th>\n",
       "      <td>3</td>\n",
       "      <td>136</td>\n",
       "      <td>60</td>\n",
       "      <td>7</td>\n",
       "    </tr>\n",
       "    <tr>\n",
       "      <th>12398</th>\n",
       "      <td>3</td>\n",
       "      <td>811</td>\n",
       "      <td>2121</td>\n",
       "      <td>247</td>\n",
       "    </tr>\n",
       "    <tr>\n",
       "      <th>1595</th>\n",
       "      <td>4</td>\n",
       "      <td>238</td>\n",
       "      <td>5</td>\n",
       "      <td>2</td>\n",
       "    </tr>\n",
       "    <tr>\n",
       "      <th>...</th>\n",
       "      <td>...</td>\n",
       "      <td>...</td>\n",
       "      <td>...</td>\n",
       "      <td>...</td>\n",
       "    </tr>\n",
       "    <tr>\n",
       "      <th>8200</th>\n",
       "      <td>4</td>\n",
       "      <td>352</td>\n",
       "      <td>686</td>\n",
       "      <td>52</td>\n",
       "    </tr>\n",
       "    <tr>\n",
       "      <th>1625</th>\n",
       "      <td>3</td>\n",
       "      <td>272</td>\n",
       "      <td>138101</td>\n",
       "      <td>2513</td>\n",
       "    </tr>\n",
       "    <tr>\n",
       "      <th>7700</th>\n",
       "      <td>3</td>\n",
       "      <td>551</td>\n",
       "      <td>125</td>\n",
       "      <td>6</td>\n",
       "    </tr>\n",
       "    <tr>\n",
       "      <th>10490</th>\n",
       "      <td>4</td>\n",
       "      <td>84</td>\n",
       "      <td>661</td>\n",
       "      <td>34</td>\n",
       "    </tr>\n",
       "    <tr>\n",
       "      <th>13876</th>\n",
       "      <td>3</td>\n",
       "      <td>144</td>\n",
       "      <td>37</td>\n",
       "      <td>4</td>\n",
       "    </tr>\n",
       "  </tbody>\n",
       "</table>\n",
       "<p>8836 rows × 4 columns</p>\n",
       "</div>"
      ],
      "text/plain": [
       "        average_rating  num_pages  ratings_count  text_reviews_count\n",
       "bookID                                                              \n",
       "4662                 4        800          12039                 164\n",
       "41329                4        321           5390                 614\n",
       "28358                3        136             60                   7\n",
       "12398                3        811           2121                 247\n",
       "1595                 4        238              5                   2\n",
       "...                ...        ...            ...                 ...\n",
       "8200                 4        352            686                  52\n",
       "1625                 3        272         138101                2513\n",
       "7700                 3        551            125                   6\n",
       "10490                4         84            661                  34\n",
       "13876                3        144             37                   4\n",
       "\n",
       "[8836 rows x 4 columns]"
      ]
     },
     "execution_count": 90,
     "metadata": {},
     "output_type": "execute_result"
    }
   ],
   "source": [
    "df1_train"
   ]
  },
  {
   "cell_type": "code",
   "execution_count": 91,
   "id": "1ccb982b",
   "metadata": {},
   "outputs": [
    {
     "name": "stdout",
     "output_type": "stream",
     "text": [
      "336.7628100669926\n",
      "337.10943866002714\n",
      "335.37692307692305\n"
     ]
    }
   ],
   "source": [
    "print(df1_processed.num_pages.mean())\n",
    "print(df1_train.num_pages.mean())\n",
    "print(df1_test.num_pages.mean())"
   ]
  },
  {
   "cell_type": "code",
   "execution_count": 92,
   "id": "503257f2",
   "metadata": {
    "scrolled": true
   },
   "outputs": [
    {
     "name": "stdout",
     "output_type": "stream",
     "text": [
      "18067.936266521818\n",
      "18625.55228610231\n",
      "15838.4814479638\n"
     ]
    }
   ],
   "source": [
    "print(df1_processed.ratings_count.mean())\n",
    "print(df1_train.ratings_count.mean())\n",
    "print(df1_test.ratings_count.mean())"
   ]
  },
  {
   "cell_type": "code",
   "execution_count": 93,
   "id": "d4d442f3",
   "metadata": {},
   "outputs": [
    {
     "name": "stdout",
     "output_type": "stream",
     "text": [
      "545.8277204417889\n",
      "556.8709823449525\n",
      "501.67466063348417\n"
     ]
    }
   ],
   "source": [
    "print(df1_processed.text_reviews_count.mean())\n",
    "print(df1_train.text_reviews_count.mean())\n",
    "print(df1_test.text_reviews_count.mean())"
   ]
  },
  {
   "cell_type": "code",
   "execution_count": 94,
   "id": "c61cb0ef",
   "metadata": {},
   "outputs": [
    {
     "name": "stdout",
     "output_type": "stream",
     "text": [
      "3.4426036574325547\n",
      "3.442621095518334\n",
      "3.442533936651584\n"
     ]
    }
   ],
   "source": [
    "print(df1_processed.average_rating.mean())\n",
    "print(df1_train.average_rating.mean())\n",
    "print(df1_test.average_rating.mean())"
   ]
  },
  {
   "cell_type": "code",
   "execution_count": 95,
   "id": "2de29be9",
   "metadata": {},
   "outputs": [
    {
     "data": {
      "text/plain": [
       "Index(['average_rating', 'num_pages', 'ratings_count', 'text_reviews_count'], dtype='object')"
      ]
     },
     "execution_count": 95,
     "metadata": {},
     "output_type": "execute_result"
    }
   ],
   "source": [
    "df1_train.columns"
   ]
  },
  {
   "cell_type": "code",
   "execution_count": 96,
   "id": "27c6eea9",
   "metadata": {},
   "outputs": [],
   "source": [
    "# get the values of the columns for the training data\n",
    "X1_train = df1_train.loc[:,['num_pages', 'ratings_count', 'text_reviews_count']].values\n",
    "y1_train = df1_train.average_rating.values"
   ]
  },
  {
   "cell_type": "code",
   "execution_count": 97,
   "id": "fbb2e662",
   "metadata": {},
   "outputs": [],
   "source": [
    "# get the values of the columns for the testing data\n",
    "X1_test = df1_test.loc[:,['num_pages', 'ratings_count', 'text_reviews_count']].values\n",
    "y1_test = df1_test.average_rating.values"
   ]
  },
  {
   "cell_type": "code",
   "execution_count": 98,
   "id": "8f9ca1e4",
   "metadata": {},
   "outputs": [],
   "source": [
    "from sklearn.linear_model import LogisticRegression"
   ]
  },
  {
   "cell_type": "code",
   "execution_count": 99,
   "id": "35685e4e",
   "metadata": {},
   "outputs": [],
   "source": [
    "# here we initialize the model\n",
    "lr_model = LogisticRegression(random_state=0,max_iter=1000) # random_state=0 or 42... means \n",
    "# ...i want the same conditions if i re-use the model again"
   ]
  },
  {
   "cell_type": "code",
   "execution_count": 100,
   "id": "40a23cd5",
   "metadata": {},
   "outputs": [
    {
     "data": {
      "text/html": [
       "<style>#sk-container-id-1 {color: black;background-color: white;}#sk-container-id-1 pre{padding: 0;}#sk-container-id-1 div.sk-toggleable {background-color: white;}#sk-container-id-1 label.sk-toggleable__label {cursor: pointer;display: block;width: 100%;margin-bottom: 0;padding: 0.3em;box-sizing: border-box;text-align: center;}#sk-container-id-1 label.sk-toggleable__label-arrow:before {content: \"▸\";float: left;margin-right: 0.25em;color: #696969;}#sk-container-id-1 label.sk-toggleable__label-arrow:hover:before {color: black;}#sk-container-id-1 div.sk-estimator:hover label.sk-toggleable__label-arrow:before {color: black;}#sk-container-id-1 div.sk-toggleable__content {max-height: 0;max-width: 0;overflow: hidden;text-align: left;background-color: #f0f8ff;}#sk-container-id-1 div.sk-toggleable__content pre {margin: 0.2em;color: black;border-radius: 0.25em;background-color: #f0f8ff;}#sk-container-id-1 input.sk-toggleable__control:checked~div.sk-toggleable__content {max-height: 200px;max-width: 100%;overflow: auto;}#sk-container-id-1 input.sk-toggleable__control:checked~label.sk-toggleable__label-arrow:before {content: \"▾\";}#sk-container-id-1 div.sk-estimator input.sk-toggleable__control:checked~label.sk-toggleable__label {background-color: #d4ebff;}#sk-container-id-1 div.sk-label input.sk-toggleable__control:checked~label.sk-toggleable__label {background-color: #d4ebff;}#sk-container-id-1 input.sk-hidden--visually {border: 0;clip: rect(1px 1px 1px 1px);clip: rect(1px, 1px, 1px, 1px);height: 1px;margin: -1px;overflow: hidden;padding: 0;position: absolute;width: 1px;}#sk-container-id-1 div.sk-estimator {font-family: monospace;background-color: #f0f8ff;border: 1px dotted black;border-radius: 0.25em;box-sizing: border-box;margin-bottom: 0.5em;}#sk-container-id-1 div.sk-estimator:hover {background-color: #d4ebff;}#sk-container-id-1 div.sk-parallel-item::after {content: \"\";width: 100%;border-bottom: 1px solid gray;flex-grow: 1;}#sk-container-id-1 div.sk-label:hover label.sk-toggleable__label {background-color: #d4ebff;}#sk-container-id-1 div.sk-serial::before {content: \"\";position: absolute;border-left: 1px solid gray;box-sizing: border-box;top: 0;bottom: 0;left: 50%;z-index: 0;}#sk-container-id-1 div.sk-serial {display: flex;flex-direction: column;align-items: center;background-color: white;padding-right: 0.2em;padding-left: 0.2em;position: relative;}#sk-container-id-1 div.sk-item {position: relative;z-index: 1;}#sk-container-id-1 div.sk-parallel {display: flex;align-items: stretch;justify-content: center;background-color: white;position: relative;}#sk-container-id-1 div.sk-item::before, #sk-container-id-1 div.sk-parallel-item::before {content: \"\";position: absolute;border-left: 1px solid gray;box-sizing: border-box;top: 0;bottom: 0;left: 50%;z-index: -1;}#sk-container-id-1 div.sk-parallel-item {display: flex;flex-direction: column;z-index: 1;position: relative;background-color: white;}#sk-container-id-1 div.sk-parallel-item:first-child::after {align-self: flex-end;width: 50%;}#sk-container-id-1 div.sk-parallel-item:last-child::after {align-self: flex-start;width: 50%;}#sk-container-id-1 div.sk-parallel-item:only-child::after {width: 0;}#sk-container-id-1 div.sk-dashed-wrapped {border: 1px dashed gray;margin: 0 0.4em 0.5em 0.4em;box-sizing: border-box;padding-bottom: 0.4em;background-color: white;}#sk-container-id-1 div.sk-label label {font-family: monospace;font-weight: bold;display: inline-block;line-height: 1.2em;}#sk-container-id-1 div.sk-label-container {text-align: center;}#sk-container-id-1 div.sk-container {/* jupyter's `normalize.less` sets `[hidden] { display: none; }` but bootstrap.min.css set `[hidden] { display: none !important; }` so we also need the `!important` here to be able to override the default hidden behavior on the sphinx rendered scikit-learn.org. See: https://github.com/scikit-learn/scikit-learn/issues/21755 */display: inline-block !important;position: relative;}#sk-container-id-1 div.sk-text-repr-fallback {display: none;}</style><div id=\"sk-container-id-1\" class=\"sk-top-container\"><div class=\"sk-text-repr-fallback\"><pre>LogisticRegression(max_iter=1000, random_state=0)</pre><b>In a Jupyter environment, please rerun this cell to show the HTML representation or trust the notebook. <br />On GitHub, the HTML representation is unable to render, please try loading this page with nbviewer.org.</b></div><div class=\"sk-container\" hidden><div class=\"sk-item\"><div class=\"sk-estimator sk-toggleable\"><input class=\"sk-toggleable__control sk-hidden--visually\" id=\"sk-estimator-id-1\" type=\"checkbox\" checked><label for=\"sk-estimator-id-1\" class=\"sk-toggleable__label sk-toggleable__label-arrow\">LogisticRegression</label><div class=\"sk-toggleable__content\"><pre>LogisticRegression(max_iter=1000, random_state=0)</pre></div></div></div></div></div>"
      ],
      "text/plain": [
       "LogisticRegression(max_iter=1000, random_state=0)"
      ]
     },
     "execution_count": 100,
     "metadata": {},
     "output_type": "execute_result"
    }
   ],
   "source": [
    "# here we train the model on the training data\n",
    "lr_model.fit(X=X1_train, y=y1_train)"
   ]
  },
  {
   "cell_type": "code",
   "execution_count": 101,
   "id": "323791f1",
   "metadata": {},
   "outputs": [],
   "source": [
    "y1_test_predicted = lr_model.predict(X1_test) # list of prediction my model will make"
   ]
  },
  {
   "cell_type": "code",
   "execution_count": 102,
   "id": "c3271790",
   "metadata": {},
   "outputs": [
    {
     "data": {
      "text/plain": [
       "array([3, 3, 3, ..., 3, 3, 3])"
      ]
     },
     "execution_count": 102,
     "metadata": {},
     "output_type": "execute_result"
    }
   ],
   "source": [
    "y1_test_predicted"
   ]
  },
  {
   "cell_type": "code",
   "execution_count": 103,
   "id": "8b1d0f59",
   "metadata": {},
   "outputs": [
    {
     "data": {
      "text/plain": [
       "array([4, 4, 4, ..., 3, 3, 4])"
      ]
     },
     "execution_count": 103,
     "metadata": {},
     "output_type": "execute_result"
    }
   ],
   "source": [
    "y1_test"
   ]
  },
  {
   "cell_type": "code",
   "execution_count": 104,
   "id": "f0879507",
   "metadata": {},
   "outputs": [
    {
     "data": {
      "text/plain": [
       "0.5493212669683258"
      ]
     },
     "execution_count": 104,
     "metadata": {},
     "output_type": "execute_result"
    }
   ],
   "source": [
    "(y1_test_predicted == y1_test).sum()/len(y1_test)"
   ]
  },
  {
   "cell_type": "code",
   "execution_count": 105,
   "id": "4c941872",
   "metadata": {},
   "outputs": [],
   "source": [
    "from sklearn.metrics import confusion_matrix"
   ]
  },
  {
   "cell_type": "code",
   "execution_count": 113,
   "id": "9e7df425",
   "metadata": {},
   "outputs": [],
   "source": [
    "cf = pd.DataFrame(\n",
    "    columns=[\"y_test_0\",\"y_test_1\",\"y_test_2\",\"y_test_3\",\"y_test_4\"],index=[\"y_pred_0\",\"y_pred_1\",\"y_pred_2\",\"y_pred_3\",\"y_pred_4\"]\n",
    ")"
   ]
  },
  {
   "cell_type": "code",
   "execution_count": 114,
   "id": "75c2415a",
   "metadata": {},
   "outputs": [],
   "source": [
    "cf.loc[:,:] = confusion_matrix(y_true= y1_test,y_pred= y1_test_predicted)"
   ]
  },
  {
   "cell_type": "code",
   "execution_count": 115,
   "id": "b8b70495",
   "metadata": {},
   "outputs": [
    {
     "data": {
      "text/html": [
       "<div>\n",
       "<style scoped>\n",
       "    .dataframe tbody tr th:only-of-type {\n",
       "        vertical-align: middle;\n",
       "    }\n",
       "\n",
       "    .dataframe tbody tr th {\n",
       "        vertical-align: top;\n",
       "    }\n",
       "\n",
       "    .dataframe thead th {\n",
       "        text-align: right;\n",
       "    }\n",
       "</style>\n",
       "<table border=\"1\" class=\"dataframe\">\n",
       "  <thead>\n",
       "    <tr style=\"text-align: right;\">\n",
       "      <th></th>\n",
       "      <th>y_test_0</th>\n",
       "      <th>y_test_1</th>\n",
       "      <th>y_test_2</th>\n",
       "      <th>y_test_3</th>\n",
       "      <th>y_test_4</th>\n",
       "    </tr>\n",
       "  </thead>\n",
       "  <tbody>\n",
       "    <tr>\n",
       "      <th>y_pred_0</th>\n",
       "      <td>0</td>\n",
       "      <td>0</td>\n",
       "      <td>1</td>\n",
       "      <td>0</td>\n",
       "      <td>0</td>\n",
       "    </tr>\n",
       "    <tr>\n",
       "      <th>y_pred_1</th>\n",
       "      <td>0</td>\n",
       "      <td>0</td>\n",
       "      <td>10</td>\n",
       "      <td>0</td>\n",
       "      <td>0</td>\n",
       "    </tr>\n",
       "    <tr>\n",
       "      <th>y_pred_2</th>\n",
       "      <td>0</td>\n",
       "      <td>0</td>\n",
       "      <td>1194</td>\n",
       "      <td>19</td>\n",
       "      <td>0</td>\n",
       "    </tr>\n",
       "    <tr>\n",
       "      <th>y_pred_3</th>\n",
       "      <td>0</td>\n",
       "      <td>0</td>\n",
       "      <td>962</td>\n",
       "      <td>20</td>\n",
       "      <td>0</td>\n",
       "    </tr>\n",
       "    <tr>\n",
       "      <th>y_pred_4</th>\n",
       "      <td>0</td>\n",
       "      <td>0</td>\n",
       "      <td>4</td>\n",
       "      <td>0</td>\n",
       "      <td>0</td>\n",
       "    </tr>\n",
       "  </tbody>\n",
       "</table>\n",
       "</div>"
      ],
      "text/plain": [
       "         y_test_0 y_test_1 y_test_2 y_test_3 y_test_4\n",
       "y_pred_0        0        0        1        0        0\n",
       "y_pred_1        0        0       10        0        0\n",
       "y_pred_2        0        0     1194       19        0\n",
       "y_pred_3        0        0      962       20        0\n",
       "y_pred_4        0        0        4        0        0"
      ]
     },
     "execution_count": 115,
     "metadata": {},
     "output_type": "execute_result"
    }
   ],
   "source": [
    "cf"
   ]
  },
  {
   "cell_type": "code",
   "execution_count": 116,
   "id": "bef3ed78",
   "metadata": {},
   "outputs": [
    {
     "data": {
      "text/html": [
       "<div>\n",
       "<style scoped>\n",
       "    .dataframe tbody tr th:only-of-type {\n",
       "        vertical-align: middle;\n",
       "    }\n",
       "\n",
       "    .dataframe tbody tr th {\n",
       "        vertical-align: top;\n",
       "    }\n",
       "\n",
       "    .dataframe thead th {\n",
       "        text-align: right;\n",
       "    }\n",
       "</style>\n",
       "<table border=\"1\" class=\"dataframe\">\n",
       "  <thead>\n",
       "    <tr style=\"text-align: right;\">\n",
       "      <th></th>\n",
       "      <th>y_test_0</th>\n",
       "      <th>y_test_1</th>\n",
       "      <th>y_test_2</th>\n",
       "      <th>y_test_3</th>\n",
       "      <th>y_test_4</th>\n",
       "    </tr>\n",
       "  </thead>\n",
       "  <tbody>\n",
       "    <tr>\n",
       "      <th>y_pred_0</th>\n",
       "      <td>0.0</td>\n",
       "      <td>0.0</td>\n",
       "      <td>0.000452</td>\n",
       "      <td>0.0</td>\n",
       "      <td>0.0</td>\n",
       "    </tr>\n",
       "    <tr>\n",
       "      <th>y_pred_1</th>\n",
       "      <td>0.0</td>\n",
       "      <td>0.0</td>\n",
       "      <td>0.004525</td>\n",
       "      <td>0.0</td>\n",
       "      <td>0.0</td>\n",
       "    </tr>\n",
       "    <tr>\n",
       "      <th>y_pred_2</th>\n",
       "      <td>0.0</td>\n",
       "      <td>0.0</td>\n",
       "      <td>0.540271</td>\n",
       "      <td>0.008597</td>\n",
       "      <td>0.0</td>\n",
       "    </tr>\n",
       "    <tr>\n",
       "      <th>y_pred_3</th>\n",
       "      <td>0.0</td>\n",
       "      <td>0.0</td>\n",
       "      <td>0.435294</td>\n",
       "      <td>0.00905</td>\n",
       "      <td>0.0</td>\n",
       "    </tr>\n",
       "    <tr>\n",
       "      <th>y_pred_4</th>\n",
       "      <td>0.0</td>\n",
       "      <td>0.0</td>\n",
       "      <td>0.00181</td>\n",
       "      <td>0.0</td>\n",
       "      <td>0.0</td>\n",
       "    </tr>\n",
       "  </tbody>\n",
       "</table>\n",
       "</div>"
      ],
      "text/plain": [
       "         y_test_0 y_test_1  y_test_2  y_test_3 y_test_4\n",
       "y_pred_0      0.0      0.0  0.000452       0.0      0.0\n",
       "y_pred_1      0.0      0.0  0.004525       0.0      0.0\n",
       "y_pred_2      0.0      0.0  0.540271  0.008597      0.0\n",
       "y_pred_3      0.0      0.0  0.435294   0.00905      0.0\n",
       "y_pred_4      0.0      0.0   0.00181       0.0      0.0"
      ]
     },
     "execution_count": 116,
     "metadata": {},
     "output_type": "execute_result"
    }
   ],
   "source": [
    "cf/len(y1_test)"
   ]
  },
  {
   "cell_type": "code",
   "execution_count": 117,
   "id": "b5021016",
   "metadata": {},
   "outputs": [],
   "source": [
    "from sklearn.metrics import recall_score, precision_score"
   ]
  },
  {
   "cell_type": "code",
   "execution_count": 119,
   "id": "d403f93a",
   "metadata": {},
   "outputs": [
    {
     "ename": "ValueError",
     "evalue": "Target is multiclass but average='binary'. Please choose another average setting, one of [None, 'micro', 'macro', 'weighted'].",
     "output_type": "error",
     "traceback": [
      "\u001b[1;31m---------------------------------------------------------------------------\u001b[0m",
      "\u001b[1;31mValueError\u001b[0m                                Traceback (most recent call last)",
      "Cell \u001b[1;32mIn[119], line 1\u001b[0m\n\u001b[1;32m----> 1\u001b[0m \u001b[43mrecall_score\u001b[49m\u001b[43m(\u001b[49m\u001b[43my_true\u001b[49m\u001b[38;5;241;43m=\u001b[39;49m\u001b[43m \u001b[49m\u001b[43my1_test\u001b[49m\u001b[43m,\u001b[49m\u001b[43m \u001b[49m\u001b[43my_pred\u001b[49m\u001b[38;5;241;43m=\u001b[39;49m\u001b[43m \u001b[49m\u001b[43my1_test_predicted\u001b[49m\u001b[43m)\u001b[49m\n",
      "File \u001b[1;32m~\\.conda\\envs\\bootcamp\\lib\\site-packages\\sklearn\\metrics\\_classification.py:2098\u001b[0m, in \u001b[0;36mrecall_score\u001b[1;34m(y_true, y_pred, labels, pos_label, average, sample_weight, zero_division)\u001b[0m\n\u001b[0;32m   1967\u001b[0m \u001b[38;5;28;01mdef\u001b[39;00m \u001b[38;5;21mrecall_score\u001b[39m(\n\u001b[0;32m   1968\u001b[0m     y_true,\n\u001b[0;32m   1969\u001b[0m     y_pred,\n\u001b[1;32m   (...)\u001b[0m\n\u001b[0;32m   1975\u001b[0m     zero_division\u001b[38;5;241m=\u001b[39m\u001b[38;5;124m\"\u001b[39m\u001b[38;5;124mwarn\u001b[39m\u001b[38;5;124m\"\u001b[39m,\n\u001b[0;32m   1976\u001b[0m ):\n\u001b[0;32m   1977\u001b[0m \u001b[38;5;250m    \u001b[39m\u001b[38;5;124;03m\"\"\"Compute the recall.\u001b[39;00m\n\u001b[0;32m   1978\u001b[0m \n\u001b[0;32m   1979\u001b[0m \u001b[38;5;124;03m    The recall is the ratio ``tp / (tp + fn)`` where ``tp`` is the number of\u001b[39;00m\n\u001b[1;32m   (...)\u001b[0m\n\u001b[0;32m   2096\u001b[0m \u001b[38;5;124;03m    array([1. , 1. , 0.5])\u001b[39;00m\n\u001b[0;32m   2097\u001b[0m \u001b[38;5;124;03m    \"\"\"\u001b[39;00m\n\u001b[1;32m-> 2098\u001b[0m     _, r, _, _ \u001b[38;5;241m=\u001b[39m \u001b[43mprecision_recall_fscore_support\u001b[49m\u001b[43m(\u001b[49m\n\u001b[0;32m   2099\u001b[0m \u001b[43m        \u001b[49m\u001b[43my_true\u001b[49m\u001b[43m,\u001b[49m\n\u001b[0;32m   2100\u001b[0m \u001b[43m        \u001b[49m\u001b[43my_pred\u001b[49m\u001b[43m,\u001b[49m\n\u001b[0;32m   2101\u001b[0m \u001b[43m        \u001b[49m\u001b[43mlabels\u001b[49m\u001b[38;5;241;43m=\u001b[39;49m\u001b[43mlabels\u001b[49m\u001b[43m,\u001b[49m\n\u001b[0;32m   2102\u001b[0m \u001b[43m        \u001b[49m\u001b[43mpos_label\u001b[49m\u001b[38;5;241;43m=\u001b[39;49m\u001b[43mpos_label\u001b[49m\u001b[43m,\u001b[49m\n\u001b[0;32m   2103\u001b[0m \u001b[43m        \u001b[49m\u001b[43maverage\u001b[49m\u001b[38;5;241;43m=\u001b[39;49m\u001b[43maverage\u001b[49m\u001b[43m,\u001b[49m\n\u001b[0;32m   2104\u001b[0m \u001b[43m        \u001b[49m\u001b[43mwarn_for\u001b[49m\u001b[38;5;241;43m=\u001b[39;49m\u001b[43m(\u001b[49m\u001b[38;5;124;43m\"\u001b[39;49m\u001b[38;5;124;43mrecall\u001b[39;49m\u001b[38;5;124;43m\"\u001b[39;49m\u001b[43m,\u001b[49m\u001b[43m)\u001b[49m\u001b[43m,\u001b[49m\n\u001b[0;32m   2105\u001b[0m \u001b[43m        \u001b[49m\u001b[43msample_weight\u001b[49m\u001b[38;5;241;43m=\u001b[39;49m\u001b[43msample_weight\u001b[49m\u001b[43m,\u001b[49m\n\u001b[0;32m   2106\u001b[0m \u001b[43m        \u001b[49m\u001b[43mzero_division\u001b[49m\u001b[38;5;241;43m=\u001b[39;49m\u001b[43mzero_division\u001b[49m\u001b[43m,\u001b[49m\n\u001b[0;32m   2107\u001b[0m \u001b[43m    \u001b[49m\u001b[43m)\u001b[49m\n\u001b[0;32m   2108\u001b[0m     \u001b[38;5;28;01mreturn\u001b[39;00m r\n",
      "File \u001b[1;32m~\\.conda\\envs\\bootcamp\\lib\\site-packages\\sklearn\\metrics\\_classification.py:1573\u001b[0m, in \u001b[0;36mprecision_recall_fscore_support\u001b[1;34m(y_true, y_pred, beta, labels, pos_label, average, warn_for, sample_weight, zero_division)\u001b[0m\n\u001b[0;32m   1571\u001b[0m \u001b[38;5;28;01mif\u001b[39;00m beta \u001b[38;5;241m<\u001b[39m \u001b[38;5;241m0\u001b[39m:\n\u001b[0;32m   1572\u001b[0m     \u001b[38;5;28;01mraise\u001b[39;00m \u001b[38;5;167;01mValueError\u001b[39;00m(\u001b[38;5;124m\"\u001b[39m\u001b[38;5;124mbeta should be >=0 in the F-beta score\u001b[39m\u001b[38;5;124m\"\u001b[39m)\n\u001b[1;32m-> 1573\u001b[0m labels \u001b[38;5;241m=\u001b[39m \u001b[43m_check_set_wise_labels\u001b[49m\u001b[43m(\u001b[49m\u001b[43my_true\u001b[49m\u001b[43m,\u001b[49m\u001b[43m \u001b[49m\u001b[43my_pred\u001b[49m\u001b[43m,\u001b[49m\u001b[43m \u001b[49m\u001b[43maverage\u001b[49m\u001b[43m,\u001b[49m\u001b[43m \u001b[49m\u001b[43mlabels\u001b[49m\u001b[43m,\u001b[49m\u001b[43m \u001b[49m\u001b[43mpos_label\u001b[49m\u001b[43m)\u001b[49m\n\u001b[0;32m   1575\u001b[0m \u001b[38;5;66;03m# Calculate tp_sum, pred_sum, true_sum ###\u001b[39;00m\n\u001b[0;32m   1576\u001b[0m samplewise \u001b[38;5;241m=\u001b[39m average \u001b[38;5;241m==\u001b[39m \u001b[38;5;124m\"\u001b[39m\u001b[38;5;124msamples\u001b[39m\u001b[38;5;124m\"\u001b[39m\n",
      "File \u001b[1;32m~\\.conda\\envs\\bootcamp\\lib\\site-packages\\sklearn\\metrics\\_classification.py:1391\u001b[0m, in \u001b[0;36m_check_set_wise_labels\u001b[1;34m(y_true, y_pred, average, labels, pos_label)\u001b[0m\n\u001b[0;32m   1389\u001b[0m         \u001b[38;5;28;01mif\u001b[39;00m y_type \u001b[38;5;241m==\u001b[39m \u001b[38;5;124m\"\u001b[39m\u001b[38;5;124mmulticlass\u001b[39m\u001b[38;5;124m\"\u001b[39m:\n\u001b[0;32m   1390\u001b[0m             average_options\u001b[38;5;241m.\u001b[39mremove(\u001b[38;5;124m\"\u001b[39m\u001b[38;5;124msamples\u001b[39m\u001b[38;5;124m\"\u001b[39m)\n\u001b[1;32m-> 1391\u001b[0m         \u001b[38;5;28;01mraise\u001b[39;00m \u001b[38;5;167;01mValueError\u001b[39;00m(\n\u001b[0;32m   1392\u001b[0m             \u001b[38;5;124m\"\u001b[39m\u001b[38;5;124mTarget is \u001b[39m\u001b[38;5;132;01m%s\u001b[39;00m\u001b[38;5;124m but average=\u001b[39m\u001b[38;5;124m'\u001b[39m\u001b[38;5;124mbinary\u001b[39m\u001b[38;5;124m'\u001b[39m\u001b[38;5;124m. Please \u001b[39m\u001b[38;5;124m\"\u001b[39m\n\u001b[0;32m   1393\u001b[0m             \u001b[38;5;124m\"\u001b[39m\u001b[38;5;124mchoose another average setting, one of \u001b[39m\u001b[38;5;132;01m%r\u001b[39;00m\u001b[38;5;124m.\u001b[39m\u001b[38;5;124m\"\u001b[39m \u001b[38;5;241m%\u001b[39m (y_type, average_options)\n\u001b[0;32m   1394\u001b[0m         )\n\u001b[0;32m   1395\u001b[0m \u001b[38;5;28;01melif\u001b[39;00m pos_label \u001b[38;5;129;01mnot\u001b[39;00m \u001b[38;5;129;01min\u001b[39;00m (\u001b[38;5;28;01mNone\u001b[39;00m, \u001b[38;5;241m1\u001b[39m):\n\u001b[0;32m   1396\u001b[0m     warnings\u001b[38;5;241m.\u001b[39mwarn(\n\u001b[0;32m   1397\u001b[0m         \u001b[38;5;124m\"\u001b[39m\u001b[38;5;124mNote that pos_label (set to \u001b[39m\u001b[38;5;132;01m%r\u001b[39;00m\u001b[38;5;124m) is ignored when \u001b[39m\u001b[38;5;124m\"\u001b[39m\n\u001b[0;32m   1398\u001b[0m         \u001b[38;5;124m\"\u001b[39m\u001b[38;5;124maverage != \u001b[39m\u001b[38;5;124m'\u001b[39m\u001b[38;5;124mbinary\u001b[39m\u001b[38;5;124m'\u001b[39m\u001b[38;5;124m (got \u001b[39m\u001b[38;5;132;01m%r\u001b[39;00m\u001b[38;5;124m). You may use \u001b[39m\u001b[38;5;124m\"\u001b[39m\n\u001b[1;32m   (...)\u001b[0m\n\u001b[0;32m   1401\u001b[0m         \u001b[38;5;167;01mUserWarning\u001b[39;00m,\n\u001b[0;32m   1402\u001b[0m     )\n",
      "\u001b[1;31mValueError\u001b[0m: Target is multiclass but average='binary'. Please choose another average setting, one of [None, 'micro', 'macro', 'weighted']."
     ]
    }
   ],
   "source": [
    "recall_score(y_true= y1_test, y_pred= y1_test_predicted)"
   ]
  },
  {
   "cell_type": "code",
   "execution_count": null,
   "id": "e286ac35",
   "metadata": {},
   "outputs": [],
   "source": []
  }
 ],
 "metadata": {
  "kernelspec": {
   "display_name": "Python 3 (ipykernel)",
   "language": "python",
   "name": "python3"
  },
  "language_info": {
   "codemirror_mode": {
    "name": "ipython",
    "version": 3
   },
   "file_extension": ".py",
   "mimetype": "text/x-python",
   "name": "python",
   "nbconvert_exporter": "python",
   "pygments_lexer": "ipython3",
   "version": "3.10.11"
  }
 },
 "nbformat": 4,
 "nbformat_minor": 5
}
