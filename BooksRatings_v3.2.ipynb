{
 "cells": [
  {
   "cell_type": "markdown",
   "id": "6d73a6b2",
   "metadata": {},
   "source": [
    "## IMPORT LIBRARIES"
   ]
  },
  {
   "cell_type": "code",
   "execution_count": 1,
   "id": "db542dd4",
   "metadata": {},
   "outputs": [],
   "source": [
    "import numpy as np\n",
    "import pandas as pd\n",
    "import matplotlib.pyplot as plt\n",
    "import seaborn as sns\n",
    "from scipy.stats import norm\n",
    "from sklearn import preprocessing"
   ]
  },
  {
   "cell_type": "markdown",
   "id": "ebf0410b",
   "metadata": {},
   "source": [
    "## LOADING & EXPLORING DATA\n",
    "\n",
    "1- bookID count shows 11127 rows (describe function) but highest bookID is 45641 (= it is an ID number, not a count)\n",
    "\n",
    "2- removed unwanted commas separating several authors in Author column. As only 4 books were concerned it was done manually.\n",
    "\n",
    "3- noticed special characters (jpn, chn, ar) in the authors names : no matter as this column author, although relevant, shall be removed due to difficulties in selecting the \"right\" author to work on for rating influence\n",
    "\n",
    "4- isbn column: \n",
    "\n",
    "    - should be 10-digit long as \"isbn10\" standard number (before 2007)\n",
    "    \n",
    "    - a large number of rows have 7, 8, 9 digits or even 10 with an X at the end: should be dropped as it does not bring much help for our purpose \n",
    "\n",
    "5- isbn13 column (REFERENCE number since 2007):\n",
    "\n",
    "    - should be 13-digit long as \"isbn13\" standard number\n",
    "\n",
    "    - 10, 11 digit number --> should be dropped as it does not bring much help for our purpose \n",
    "\n",
    "6- \"language code\": english in 4 or 5 different versions (eg: en-GB, en-US, etc.): MAY NEED GROUPING BOOKS IN ENGLISH OR CREATE CATEGORIES TO IMPROVE PREDICTION (LIKE ENGLISH VS OTHER LANGUAGES)\n",
    "\n",
    "7- \"num_pages\": books from 0 up to 6576 pages --> NEED FILTERING (as potential non-relevant outliers) BY DEFINING A \"MIN/MAX NUM_PAGES\" OR CREATE CATEGORIES TO IMPROVE PREDICTION\n",
    "\n",
    "8- \"Ratings count\": from 0 to ~4.6M // MAY NEED TO FILTER OUT AT LEAST COUNTS 0, OR TAKE INTO ACCOUNT A \"MIN RATING COUNT\" OR CREATE CATEGORIES TO IMPROVE PREDICTION\n",
    "\n",
    "9- \"text_reviews count\": from 0 to 94265 // SAME: MAY NEED TO FILTER OUT AT LEAST COUNTS 0, OR TAKE INTO ACCOUNT A \"MIN REVIEWS COUNT\" OR CREATE CATEGORIES TO IMPROVE PREDICTION\n",
    "\n",
    "10- publication_date: US format / and 2 invalid dates (nov31 and jun31 do not exist, hence not recognized by excel as \"actual dates\") // SUCH DATE FOR PREDICTION DOES NOT SEEM USEFUL HERE \n",
    "\n",
    "11- publisher: \"18-Oct\" for 2 entries seems odd: actually a publisher called \"10/18\" (ref: https://www.goodreads.com/shelf/show/editeurs-10-18)\n"
   ]
  },
  {
   "cell_type": "markdown",
   "id": "e1ef875e",
   "metadata": {},
   "source": [
    "### importing data"
   ]
  },
  {
   "cell_type": "code",
   "execution_count": 2,
   "id": "9e346048",
   "metadata": {},
   "outputs": [],
   "source": [
    "df = pd.read_csv(r\"C:\\Users\\33695\\Documents\\ML with Python\\Project-20230605\\Project 1\\dataset\\books_jul6.csv\", delimiter=\",\", index_col=\"bookID\")"
   ]
  },
  {
   "cell_type": "code",
   "execution_count": 3,
   "id": "853a2432",
   "metadata": {},
   "outputs": [
    {
     "name": "stdout",
     "output_type": "stream",
     "text": [
      "The data contains 11127 Rows and 11 Columns\n"
     ]
    }
   ],
   "source": [
    "print(f\"The data contains {df.shape[0]} Rows and {df.shape[1]} Columns\")"
   ]
  },
  {
   "cell_type": "code",
   "execution_count": null,
   "id": "17564b90",
   "metadata": {
    "scrolled": true
   },
   "outputs": [],
   "source": [
    "df.head(10)"
   ]
  },
  {
   "cell_type": "markdown",
   "id": "16a46d46",
   "metadata": {},
   "source": [
    "## data exploration"
   ]
  },
  {
   "cell_type": "code",
   "execution_count": 4,
   "id": "434db144",
   "metadata": {
    "scrolled": false
   },
   "outputs": [
    {
     "data": {
      "text/html": [
       "<div>\n",
       "<style scoped>\n",
       "    .dataframe tbody tr th:only-of-type {\n",
       "        vertical-align: middle;\n",
       "    }\n",
       "\n",
       "    .dataframe tbody tr th {\n",
       "        vertical-align: top;\n",
       "    }\n",
       "\n",
       "    .dataframe thead th {\n",
       "        text-align: right;\n",
       "    }\n",
       "</style>\n",
       "<table border=\"1\" class=\"dataframe\">\n",
       "  <thead>\n",
       "    <tr style=\"text-align: right;\">\n",
       "      <th></th>\n",
       "      <th>average_rating</th>\n",
       "      <th>isbn13</th>\n",
       "      <th>num_pages</th>\n",
       "      <th>ratings_count</th>\n",
       "      <th>text_reviews_count</th>\n",
       "    </tr>\n",
       "  </thead>\n",
       "  <tbody>\n",
       "    <tr>\n",
       "      <th>count</th>\n",
       "      <td>11127.000000</td>\n",
       "      <td>1.112700e+04</td>\n",
       "      <td>11127.000000</td>\n",
       "      <td>1.112700e+04</td>\n",
       "      <td>11127.000000</td>\n",
       "    </tr>\n",
       "    <tr>\n",
       "      <th>mean</th>\n",
       "      <td>3.933631</td>\n",
       "      <td>9.759888e+12</td>\n",
       "      <td>336.376921</td>\n",
       "      <td>1.793641e+04</td>\n",
       "      <td>541.854498</td>\n",
       "    </tr>\n",
       "    <tr>\n",
       "      <th>std</th>\n",
       "      <td>0.352445</td>\n",
       "      <td>4.428964e+11</td>\n",
       "      <td>241.127305</td>\n",
       "      <td>1.124794e+05</td>\n",
       "      <td>2576.176608</td>\n",
       "    </tr>\n",
       "    <tr>\n",
       "      <th>min</th>\n",
       "      <td>0.000000</td>\n",
       "      <td>8.987060e+09</td>\n",
       "      <td>0.000000</td>\n",
       "      <td>0.000000e+00</td>\n",
       "      <td>0.000000</td>\n",
       "    </tr>\n",
       "    <tr>\n",
       "      <th>25%</th>\n",
       "      <td>3.770000</td>\n",
       "      <td>9.780350e+12</td>\n",
       "      <td>192.000000</td>\n",
       "      <td>1.040000e+02</td>\n",
       "      <td>9.000000</td>\n",
       "    </tr>\n",
       "    <tr>\n",
       "      <th>50%</th>\n",
       "      <td>3.960000</td>\n",
       "      <td>9.780590e+12</td>\n",
       "      <td>299.000000</td>\n",
       "      <td>7.450000e+02</td>\n",
       "      <td>46.000000</td>\n",
       "    </tr>\n",
       "    <tr>\n",
       "      <th>75%</th>\n",
       "      <td>4.135000</td>\n",
       "      <td>9.780870e+12</td>\n",
       "      <td>416.000000</td>\n",
       "      <td>4.993500e+03</td>\n",
       "      <td>237.500000</td>\n",
       "    </tr>\n",
       "    <tr>\n",
       "      <th>max</th>\n",
       "      <td>5.000000</td>\n",
       "      <td>9.790010e+12</td>\n",
       "      <td>6576.000000</td>\n",
       "      <td>4.597666e+06</td>\n",
       "      <td>94265.000000</td>\n",
       "    </tr>\n",
       "  </tbody>\n",
       "</table>\n",
       "</div>"
      ],
      "text/plain": [
       "       average_rating        isbn13     num_pages  ratings_count  \\\n",
       "count    11127.000000  1.112700e+04  11127.000000   1.112700e+04   \n",
       "mean         3.933631  9.759888e+12    336.376921   1.793641e+04   \n",
       "std          0.352445  4.428964e+11    241.127305   1.124794e+05   \n",
       "min          0.000000  8.987060e+09      0.000000   0.000000e+00   \n",
       "25%          3.770000  9.780350e+12    192.000000   1.040000e+02   \n",
       "50%          3.960000  9.780590e+12    299.000000   7.450000e+02   \n",
       "75%          4.135000  9.780870e+12    416.000000   4.993500e+03   \n",
       "max          5.000000  9.790010e+12   6576.000000   4.597666e+06   \n",
       "\n",
       "       text_reviews_count  \n",
       "count        11127.000000  \n",
       "mean           541.854498  \n",
       "std           2576.176608  \n",
       "min              0.000000  \n",
       "25%              9.000000  \n",
       "50%             46.000000  \n",
       "75%            237.500000  \n",
       "max          94265.000000  "
      ]
     },
     "execution_count": 4,
     "metadata": {},
     "output_type": "execute_result"
    }
   ],
   "source": [
    "# basic stats on numeric only data \n",
    "df.describe()"
   ]
  },
  {
   "cell_type": "markdown",
   "id": "ae119a3a",
   "metadata": {},
   "source": [
    "df.describe treats isbn13 as a number.\n",
    "however, does not display bookID nor isbn\n",
    "\n",
    "Also: a total count of 11127 books are listed (note that 10544 are of \"en\" language code)"
   ]
  },
  {
   "cell_type": "code",
   "execution_count": null,
   "id": "8e0c371f",
   "metadata": {
    "scrolled": true
   },
   "outputs": [],
   "source": [
    "# langage_code: list all rows containing \"en\"\n",
    "s_lang = df.language_code\n",
    "val_lang = ['en-CA','eng','en-GB','enm','en-US']\n",
    "df[s_lang.isin(val_lang)].shape"
   ]
  },
  {
   "cell_type": "markdown",
   "id": "e43ed2bd",
   "metadata": {},
   "source": [
    "NOTE: this latter listing showed 10544 rows containing \"en\" in the language code column"
   ]
  },
  {
   "cell_type": "markdown",
   "id": "93fdd277",
   "metadata": {},
   "source": [
    "### search for inconsistencies"
   ]
  },
  {
   "cell_type": "code",
   "execution_count": null,
   "id": "f0857703",
   "metadata": {},
   "outputs": [],
   "source": [
    "# look for \"NA\" values\n",
    "df.isna().sum()"
   ]
  },
  {
   "cell_type": "code",
   "execution_count": null,
   "id": "de8ab6d7",
   "metadata": {
    "scrolled": true
   },
   "outputs": [],
   "source": [
    "# isbn13 is not NA?\n",
    "df.isnull().sum()"
   ]
  },
  {
   "cell_type": "markdown",
   "id": "7e31f12f",
   "metadata": {},
   "source": [
    "data set does not show missing or null values"
   ]
  },
  {
   "cell_type": "markdown",
   "id": "7869c52c",
   "metadata": {},
   "source": [
    "### first approach of the problem: Distributions\n",
    "How are the different features distributed?\n",
    "Books rating as a continuous or categorical variable?\n",
    "How to define influent features?"
   ]
  },
  {
   "cell_type": "markdown",
   "id": "c0633416",
   "metadata": {},
   "source": []
  },
  {
   "cell_type": "code",
   "execution_count": 5,
   "id": "d61aff9e",
   "metadata": {},
   "outputs": [
    {
     "name": "stdout",
     "output_type": "stream",
     "text": [
      "<class 'pandas.core.frame.DataFrame'>\n",
      "Int64Index: 11127 entries, 1 to 45641\n",
      "Data columns (total 11 columns):\n",
      " #   Column              Non-Null Count  Dtype  \n",
      "---  ------              --------------  -----  \n",
      " 0   title               11127 non-null  object \n",
      " 1   authors             11127 non-null  object \n",
      " 2   average_rating      11127 non-null  float64\n",
      " 3   isbn                11127 non-null  object \n",
      " 4   isbn13              11127 non-null  int64  \n",
      " 5   language_code       11127 non-null  object \n",
      " 6   num_pages           11127 non-null  int64  \n",
      " 7   ratings_count       11127 non-null  int64  \n",
      " 8   text_reviews_count  11127 non-null  int64  \n",
      " 9   publication_date    11127 non-null  object \n",
      " 10  publisher           11127 non-null  object \n",
      "dtypes: float64(1), int64(4), object(6)\n",
      "memory usage: 1.0+ MB\n"
     ]
    }
   ],
   "source": [
    "# type of data in each column\n",
    "df.info()"
   ]
  },
  {
   "cell_type": "markdown",
   "id": "5fd1b085",
   "metadata": {},
   "source": [
    "5 variables are numeric , 6 are of dtype 'object' (7 with BookID)"
   ]
  },
  {
   "cell_type": "code",
   "execution_count": 6,
   "id": "b55c3692",
   "metadata": {},
   "outputs": [
    {
     "data": {
      "text/plain": [
       "count    11127.000000\n",
       "mean         3.933631\n",
       "std          0.352445\n",
       "min          0.000000\n",
       "25%          3.770000\n",
       "50%          3.960000\n",
       "75%          4.135000\n",
       "max          5.000000\n",
       "Name: average_rating, dtype: float64"
      ]
     },
     "execution_count": 6,
     "metadata": {},
     "output_type": "execute_result"
    }
   ],
   "source": [
    "#df.average_rating.value_counts() # distribution / frequency of the \"average_rating\"\n",
    "df.iloc[:,2].describe() "
   ]
  },
  {
   "cell_type": "markdown",
   "id": "0521d99d",
   "metadata": {},
   "source": [
    "### COMMENTS\n",
    "1) AVERAGE RATING OF EACH BOOK_ID REFLECTS AN ACTUAL DISTRIBUTION... HOWEVER, WE DO NOT KNOW ITS NATURE (MIN, MAX, STDEV FOR EACH BOOK ID)\n",
    "\n",
    "2) AVERAGE RATING \"DESCRIBE()\" showed MEDIAN=3.96\n",
    "\n",
    "3) find outliers in other columns (rating, num_pages, ratings_count, text_reviews)\n",
    "\n",
    "4) filter data for more accurate prediction (ratings_count >100, num_pages btw 100 and 500)\n",
    "\n",
    "5) consider including other columns (convert to numeric? 0 or 1 value? other?)"
   ]
  },
  {
   "cell_type": "code",
   "execution_count": null,
   "id": "6493888d",
   "metadata": {},
   "outputs": [],
   "source": [
    "# get_dummies tranforms categorical data to numbers\n",
    "# here we want to transform the \"Sex\" column from ['male', 'female'] to [0,1]\n",
    "# Ex: df_processed.loc[:,[\"Sex\"]] = pd.get_dummies(df.Sex,drop_first=True).values"
   ]
  },
  {
   "cell_type": "code",
   "execution_count": null,
   "id": "101f79be",
   "metadata": {},
   "outputs": [],
   "source": [
    "# this is a way to explicit the \"Pclass\" column by transforming it to 3 columns corresponding to each of its values\n",
    "# this is known as encoding\n",
    "# df_processed = pd.concat([df_processed,pd.get_dummies(df_processed.Pclass)],axis=1).drop(columns=\"Pclass\")"
   ]
  },
  {
   "cell_type": "code",
   "execution_count": null,
   "id": "ae73403e",
   "metadata": {
    "scrolled": true
   },
   "outputs": [],
   "source": [
    "# PLOT CORRELATION ANALYSIS\n",
    "df_corr = df[[\"average_rating\", \"num_pages\",\"ratings_count\", \"text_reviews_count\"]]\n",
    "# corr = df_corr.corr()\n",
    "corr1 = df_corr.corr()\n",
    "sns.heatmap(corr1, annot=True, cmap=\"coolwarm\", vmin=-1, vmax=1)\n",
    "plt.show"
   ]
  },
  {
   "cell_type": "markdown",
   "id": "1126acd3",
   "metadata": {},
   "source": [
    "almost no correlation between average_rating and other features\n",
    "\n",
    "only ratings_count correlates well with text_reviews_count\n"
   ]
  },
  {
   "cell_type": "code",
   "execution_count": null,
   "id": "70b603b9",
   "metadata": {
    "scrolled": true
   },
   "outputs": [],
   "source": [
    "pd.plotting.scatter_matrix(df_corr, figsize=(8,8), marker=\"o\")\n",
    "plt.show()"
   ]
  },
  {
   "cell_type": "markdown",
   "id": "48947c33",
   "metadata": {},
   "source": [
    "scatter matrix shows various distibutions\n",
    "\n",
    "average_rating auto-correlation plot shows a majority of rating 4 (around 4)\n",
    "\n",
    "also: almost no small ratings (between 0 and 3): THEREFORE THERE IS AN IMBALANCE IN THE ATTRIBUTED RATINGS (most people gave rather high ratings)\n"
   ]
  },
  {
   "cell_type": "code",
   "execution_count": null,
   "id": "a4343055",
   "metadata": {},
   "outputs": [],
   "source": [
    "# now plot rating to show imbalance\n",
    "plt.bar(x=df.average_rating.value_counts().index,height=df.average_rating.value_counts())\n",
    "plt.show()"
   ]
  },
  {
   "cell_type": "code",
   "execution_count": 7,
   "id": "56fc37ea",
   "metadata": {},
   "outputs": [
    {
     "data": {
      "text/plain": [
       "<seaborn.axisgrid.FacetGrid at 0x12f62e68d60>"
      ]
     },
     "execution_count": 7,
     "metadata": {},
     "output_type": "execute_result"
    },
    {
     "data": {
      "image/png": "[encoded data removed]",
      "text/plain": [
       "<Figure size 500x500 with 1 Axes>"
      ]
     },
     "metadata": {},
     "output_type": "display_data"
    }
   ],
   "source": [
    "# draw distribution of ratings\n",
    "sns.displot(df.average_rating)"
   ]
  },
  {
   "cell_type": "markdown",
   "id": "d9d5cd9e",
   "metadata": {},
   "source": [
    "#### --> Average rating seems to be normal distribution"
   ]
  },
  {
   "cell_type": "markdown",
   "id": "e3336deb",
   "metadata": {},
   "source": [
    "### Plotting normalized values on '0-1' scale for: average_rating (1), num_pages (2), ratings_count (3), reviews_count (4)"
   ]
  },
  {
   "cell_type": "code",
   "execution_count": 8,
   "id": "d63be0fe",
   "metadata": {
    "scrolled": false
   },
   "outputs": [
    {
     "data": {
      "text/plain": [
       "<function matplotlib.pyplot.show(close=None, block=None)>"
      ]
     },
     "execution_count": 8,
     "metadata": {},
     "output_type": "execute_result"
    },
    {
     "data": {
      "image/png": "[encoded data removed]",
      "text/plain": [
       "<Figure size 640x480 with 1 Axes>"
      ]
     },
     "metadata": {},
     "output_type": "display_data"
    }
   ],
   "source": [
    "normalizedVars = df[['average_rating', 'num_pages', 'ratings_count', 'text_reviews_count']].values.astype(float)\n",
    "#myUnitScale = preprocessing.MinMaxScaler()\n",
    "myNormVar=preprocessing.MinMaxScaler().fit_transform(normalizedVars)\n",
    "plt.boxplot(myNormVar)\n",
    "plt.show"
   ]
  },
  {
   "cell_type": "markdown",
   "id": "ef6a7d71",
   "metadata": {},
   "source": [
    "spread of data and outliers are shown above\n",
    "\n",
    "may need to focus analysis on specific ranges"
   ]
  },
  {
   "cell_type": "markdown",
   "id": "b5a12571",
   "metadata": {},
   "source": [
    "### Categorical data"
   ]
  },
  {
   "cell_type": "code",
   "execution_count": null,
   "id": "bf4a23ec",
   "metadata": {
    "scrolled": true
   },
   "outputs": [],
   "source": [
    "df.language_code.value_counts() # distribution / frequency of the classes \"language_code\""
   ]
  },
  {
   "cell_type": "code",
   "execution_count": 9,
   "id": "cc055b1b",
   "metadata": {
    "scrolled": true
   },
   "outputs": [
    {
     "data": {
      "text/html": [
       "<div>\n",
       "<style scoped>\n",
       "    .dataframe tbody tr th:only-of-type {\n",
       "        vertical-align: middle;\n",
       "    }\n",
       "\n",
       "    .dataframe tbody tr th {\n",
       "        vertical-align: top;\n",
       "    }\n",
       "\n",
       "    .dataframe thead th {\n",
       "        text-align: right;\n",
       "    }\n",
       "</style>\n",
       "<table border=\"1\" class=\"dataframe\">\n",
       "  <thead>\n",
       "    <tr style=\"text-align: right;\">\n",
       "      <th></th>\n",
       "      <th>title</th>\n",
       "      <th>authors</th>\n",
       "      <th>isbn</th>\n",
       "      <th>language_code</th>\n",
       "      <th>publication_date</th>\n",
       "      <th>publisher</th>\n",
       "    </tr>\n",
       "  </thead>\n",
       "  <tbody>\n",
       "    <tr>\n",
       "      <th>count</th>\n",
       "      <td>11127</td>\n",
       "      <td>11127</td>\n",
       "      <td>11127</td>\n",
       "      <td>11127</td>\n",
       "      <td>11127</td>\n",
       "      <td>11127</td>\n",
       "    </tr>\n",
       "    <tr>\n",
       "      <th>unique</th>\n",
       "      <td>10352</td>\n",
       "      <td>6643</td>\n",
       "      <td>11127</td>\n",
       "      <td>27</td>\n",
       "      <td>3679</td>\n",
       "      <td>2292</td>\n",
       "    </tr>\n",
       "    <tr>\n",
       "      <th>top</th>\n",
       "      <td>The Brothers Karamazov</td>\n",
       "      <td>Stephen King</td>\n",
       "      <td>439785960</td>\n",
       "      <td>eng</td>\n",
       "      <td>10/1/2005</td>\n",
       "      <td>Vintage</td>\n",
       "    </tr>\n",
       "    <tr>\n",
       "      <th>freq</th>\n",
       "      <td>9</td>\n",
       "      <td>40</td>\n",
       "      <td>1</td>\n",
       "      <td>8911</td>\n",
       "      <td>56</td>\n",
       "      <td>318</td>\n",
       "    </tr>\n",
       "  </tbody>\n",
       "</table>\n",
       "</div>"
      ],
      "text/plain": [
       "                         title       authors       isbn language_code  \\\n",
       "count                    11127         11127      11127         11127   \n",
       "unique                   10352          6643      11127            27   \n",
       "top     The Brothers Karamazov  Stephen King  439785960           eng   \n",
       "freq                         9            40          1          8911   \n",
       "\n",
       "       publication_date publisher  \n",
       "count             11127     11127  \n",
       "unique             3679      2292  \n",
       "top           10/1/2005   Vintage  \n",
       "freq                 56       318  "
      ]
     },
     "execution_count": 9,
     "metadata": {},
     "output_type": "execute_result"
    }
   ],
   "source": [
    "catcols = ['title', 'authors', 'isbn', 'language_code','publication_date','publisher']\n",
    "df[catcols].describe()"
   ]
  },
  {
   "cell_type": "code",
   "execution_count": 16,
   "id": "61cb420f",
   "metadata": {},
   "outputs": [
    {
     "data": {
      "text/plain": [
       "count    9.00\n",
       "mean     4.32\n",
       "std      0.00\n",
       "min      4.32\n",
       "25%      4.32\n",
       "50%      4.32\n",
       "75%      4.32\n",
       "max      4.32\n",
       "Name: average_rating, dtype: float64"
      ]
     },
     "execution_count": 16,
     "metadata": {},
     "output_type": "execute_result"
    }
   ],
   "source": [
    "df.loc[df.title=='The Brothers Karamazov',:].average_rating.describe()"
   ]
  },
  {
   "cell_type": "code",
   "execution_count": 15,
   "id": "19d63855",
   "metadata": {},
   "outputs": [
    {
     "data": {
      "text/plain": [
       "count    40.000000\n",
       "mean      3.973500\n",
       "std       0.270067\n",
       "min       3.320000\n",
       "25%       3.882500\n",
       "50%       3.965000\n",
       "75%       4.175000\n",
       "max       4.540000\n",
       "Name: average_rating, dtype: float64"
      ]
     },
     "execution_count": 15,
     "metadata": {},
     "output_type": "execute_result"
    }
   ],
   "source": [
    "df.loc[df.authors=='Stephen King',:].average_rating.describe()"
   ]
  },
  {
   "cell_type": "code",
   "execution_count": 17,
   "id": "a13e7ce0",
   "metadata": {},
   "outputs": [
    {
     "data": {
      "text/plain": [
       "count    318.000000\n",
       "mean       3.894182\n",
       "std        0.259305\n",
       "min        2.790000\n",
       "25%        3.750000\n",
       "50%        3.910000\n",
       "75%        4.077500\n",
       "max        4.530000\n",
       "Name: average_rating, dtype: float64"
      ]
     },
     "execution_count": 17,
     "metadata": {},
     "output_type": "execute_result"
    }
   ],
   "source": [
    "df.loc[df.publisher=='Vintage',:].average_rating.describe()"
   ]
  },
  {
   "cell_type": "markdown",
   "id": "6ac586db",
   "metadata": {},
   "source": [
    "top book is \"the brothers Karamazov\"\n",
    "\n",
    "top author Stephen King\n",
    "\n",
    "most cited publisher = Vintage"
   ]
  },
  {
   "cell_type": "markdown",
   "id": "e54916bd",
   "metadata": {},
   "source": [
    "## Clean and structure data\n",
    "\n",
    "### COMMENTS\n",
    "\n",
    "1) Average Rating \"describe()\" showed MEDIAN=3.96 (~normal distribution)\n",
    "\n",
    "2) Creating low medium high rating class ??\n",
    "\n",
    "3) Strong Correlation btw ratings_count and reviews_count : DROP REVIEWS?\n",
    "\n",
    "3) deal with outliers in other columns (rating, num_pages, text_reviews)\n",
    "\n",
    "4) consider including categorical data for more accurate prediction (to sort / encode)"
   ]
  },
  {
   "cell_type": "code",
   "execution_count": 18,
   "id": "8f9608d6",
   "metadata": {},
   "outputs": [],
   "source": [
    "# df1_processed['average_rating'] = df1_processed['average_rating'].astype('int')\n",
    "df1=df.drop(columns=['text_reviews_count'])"
   ]
  },
  {
   "cell_type": "code",
   "execution_count": 19,
   "id": "539367cf",
   "metadata": {},
   "outputs": [
    {
     "data": {
      "text/plain": [
       "count    11127.000000\n",
       "mean         3.933631\n",
       "std          0.352445\n",
       "min          0.000000\n",
       "25%          3.770000\n",
       "50%          3.960000\n",
       "75%          4.135000\n",
       "max          5.000000\n",
       "Name: average_rating, dtype: float64"
      ]
     },
     "execution_count": 19,
     "metadata": {},
     "output_type": "execute_result"
    }
   ],
   "source": [
    "df1.average_rating.describe() # "
   ]
  },
  {
   "cell_type": "markdown",
   "id": "f2205507",
   "metadata": {},
   "source": [
    "### Create low, med, high categories for average_rating"
   ]
  },
  {
   "cell_type": "code",
   "execution_count": 20,
   "id": "09d09589",
   "metadata": {
    "scrolled": true
   },
   "outputs": [],
   "source": [
    "# group_name: upper bound\n",
    "groups = {'0LOW': 0, '1MEDIUM': 3, '2HIGH': 4}\n",
    "df1['R_Type'] = pd.cut(df1['average_rating'], right = False,\n",
    "                    bins=list(groups.values())+[float('inf')],\n",
    "                    labels=list(groups),include_lowest = True\n",
    "                   )\n",
    "#bins = np.linspace(min(df1['average_rating']), max(df1['average_rating']),4)\n",
    "#groupNames = [\"low\", \"med\", \"high\"]\n",
    "#df1['RatingCat'] = pd.cut(df1['average_rating'], bins, labels = groupNames, include_lowest = True)"
   ]
  },
  {
   "cell_type": "code",
   "execution_count": 21,
   "id": "12a3c00a",
   "metadata": {},
   "outputs": [
    {
     "data": {
      "text/plain": [
       "count       11127\n",
       "unique          3\n",
       "top       1MEDIUM\n",
       "freq         6088\n",
       "Name: R_Type, dtype: object"
      ]
     },
     "execution_count": 21,
     "metadata": {},
     "output_type": "execute_result"
    }
   ],
   "source": [
    "df1['R_Type'].describe()"
   ]
  },
  {
   "cell_type": "code",
   "execution_count": 22,
   "id": "c7e1c4a2",
   "metadata": {},
   "outputs": [
    {
     "data": {
      "text/plain": [
       "1MEDIUM    6088\n",
       "2HIGH      4954\n",
       "0LOW         85\n",
       "Name: R_Type, dtype: int64"
      ]
     },
     "execution_count": 22,
     "metadata": {},
     "output_type": "execute_result"
    }
   ],
   "source": [
    "df1['R_Type'].value_counts()"
   ]
  },
  {
   "cell_type": "code",
   "execution_count": 23,
   "id": "12bddd68",
   "metadata": {},
   "outputs": [
    {
     "data": {
      "text/plain": [
       "(11127, 11)"
      ]
     },
     "execution_count": 23,
     "metadata": {},
     "output_type": "execute_result"
    }
   ],
   "source": [
    "df1.shape"
   ]
  },
  {
   "cell_type": "code",
   "execution_count": 187,
   "id": "462513d2",
   "metadata": {},
   "outputs": [
    {
     "data": {
      "text/html": [
       "<div>\n",
       "<style scoped>\n",
       "    .dataframe tbody tr th:only-of-type {\n",
       "        vertical-align: middle;\n",
       "    }\n",
       "\n",
       "    .dataframe tbody tr th {\n",
       "        vertical-align: top;\n",
       "    }\n",
       "\n",
       "    .dataframe thead th {\n",
       "        text-align: right;\n",
       "    }\n",
       "</style>\n",
       "<table border=\"1\" class=\"dataframe\">\n",
       "  <thead>\n",
       "    <tr style=\"text-align: right;\">\n",
       "      <th></th>\n",
       "      <th>average_rating</th>\n",
       "      <th>isbn13</th>\n",
       "      <th>num_pages</th>\n",
       "      <th>ratings_count</th>\n",
       "    </tr>\n",
       "  </thead>\n",
       "  <tbody>\n",
       "    <tr>\n",
       "      <th>count</th>\n",
       "      <td>11127.000000</td>\n",
       "      <td>1.112700e+04</td>\n",
       "      <td>11127.000000</td>\n",
       "      <td>1.112700e+04</td>\n",
       "    </tr>\n",
       "    <tr>\n",
       "      <th>mean</th>\n",
       "      <td>3.933631</td>\n",
       "      <td>9.759888e+12</td>\n",
       "      <td>336.376921</td>\n",
       "      <td>1.793641e+04</td>\n",
       "    </tr>\n",
       "    <tr>\n",
       "      <th>std</th>\n",
       "      <td>0.352445</td>\n",
       "      <td>4.428964e+11</td>\n",
       "      <td>241.127305</td>\n",
       "      <td>1.124794e+05</td>\n",
       "    </tr>\n",
       "    <tr>\n",
       "      <th>min</th>\n",
       "      <td>0.000000</td>\n",
       "      <td>8.987060e+09</td>\n",
       "      <td>0.000000</td>\n",
       "      <td>0.000000e+00</td>\n",
       "    </tr>\n",
       "    <tr>\n",
       "      <th>25%</th>\n",
       "      <td>3.770000</td>\n",
       "      <td>9.780350e+12</td>\n",
       "      <td>192.000000</td>\n",
       "      <td>1.040000e+02</td>\n",
       "    </tr>\n",
       "    <tr>\n",
       "      <th>50%</th>\n",
       "      <td>3.960000</td>\n",
       "      <td>9.780590e+12</td>\n",
       "      <td>299.000000</td>\n",
       "      <td>7.450000e+02</td>\n",
       "    </tr>\n",
       "    <tr>\n",
       "      <th>75%</th>\n",
       "      <td>4.135000</td>\n",
       "      <td>9.780870e+12</td>\n",
       "      <td>416.000000</td>\n",
       "      <td>4.993500e+03</td>\n",
       "    </tr>\n",
       "    <tr>\n",
       "      <th>max</th>\n",
       "      <td>5.000000</td>\n",
       "      <td>9.790010e+12</td>\n",
       "      <td>6576.000000</td>\n",
       "      <td>4.597666e+06</td>\n",
       "    </tr>\n",
       "  </tbody>\n",
       "</table>\n",
       "</div>"
      ],
      "text/plain": [
       "       average_rating        isbn13     num_pages  ratings_count\n",
       "count    11127.000000  1.112700e+04  11127.000000   1.112700e+04\n",
       "mean         3.933631  9.759888e+12    336.376921   1.793641e+04\n",
       "std          0.352445  4.428964e+11    241.127305   1.124794e+05\n",
       "min          0.000000  8.987060e+09      0.000000   0.000000e+00\n",
       "25%          3.770000  9.780350e+12    192.000000   1.040000e+02\n",
       "50%          3.960000  9.780590e+12    299.000000   7.450000e+02\n",
       "75%          4.135000  9.780870e+12    416.000000   4.993500e+03\n",
       "max          5.000000  9.790010e+12   6576.000000   4.597666e+06"
      ]
     },
     "execution_count": 187,
     "metadata": {},
     "output_type": "execute_result"
    }
   ],
   "source": [
    "df1.describe()"
   ]
  },
  {
   "cell_type": "code",
   "execution_count": 24,
   "id": "9334de0d",
   "metadata": {},
   "outputs": [],
   "source": [
    "myLabel = preprocessing.LabelEncoder()\n",
    "df1['R_Type'] = myLabel.fit_transform(df1['R_Type'])"
   ]
  },
  {
   "cell_type": "code",
   "execution_count": null,
   "id": "ba5de6c5",
   "metadata": {},
   "outputs": [],
   "source": [
    "df1.tail()"
   ]
  },
  {
   "cell_type": "code",
   "execution_count": 25,
   "id": "f28f25a1",
   "metadata": {
    "scrolled": true
   },
   "outputs": [
    {
     "data": {
      "text/plain": [
       "1    6088\n",
       "2    4954\n",
       "0      85\n",
       "Name: R_Type, dtype: int64"
      ]
     },
     "execution_count": 25,
     "metadata": {},
     "output_type": "execute_result"
    }
   ],
   "source": [
    "df1['R_Type'].value_counts()"
   ]
  },
  {
   "cell_type": "code",
   "execution_count": 26,
   "id": "c3b8cbe2",
   "metadata": {
    "scrolled": true
   },
   "outputs": [
    {
     "data": {
      "text/html": [
       "<div>\n",
       "<style scoped>\n",
       "    .dataframe tbody tr th:only-of-type {\n",
       "        vertical-align: middle;\n",
       "    }\n",
       "\n",
       "    .dataframe tbody tr th {\n",
       "        vertical-align: top;\n",
       "    }\n",
       "\n",
       "    .dataframe thead th {\n",
       "        text-align: right;\n",
       "    }\n",
       "</style>\n",
       "<table border=\"1\" class=\"dataframe\">\n",
       "  <thead>\n",
       "    <tr style=\"text-align: right;\">\n",
       "      <th></th>\n",
       "      <th>average_rating</th>\n",
       "      <th>isbn13</th>\n",
       "      <th>num_pages</th>\n",
       "      <th>ratings_count</th>\n",
       "      <th>R_Type</th>\n",
       "    </tr>\n",
       "  </thead>\n",
       "  <tbody>\n",
       "    <tr>\n",
       "      <th>count</th>\n",
       "      <td>85.000000</td>\n",
       "      <td>8.500000e+01</td>\n",
       "      <td>85.000000</td>\n",
       "      <td>85.000000</td>\n",
       "      <td>85.0</td>\n",
       "    </tr>\n",
       "    <tr>\n",
       "      <th>mean</th>\n",
       "      <td>1.821765</td>\n",
       "      <td>9.666790e+12</td>\n",
       "      <td>263.000000</td>\n",
       "      <td>768.211765</td>\n",
       "      <td>0.0</td>\n",
       "    </tr>\n",
       "    <tr>\n",
       "      <th>std</th>\n",
       "      <td>1.268412</td>\n",
       "      <td>1.055607e+12</td>\n",
       "      <td>204.365219</td>\n",
       "      <td>3024.876546</td>\n",
       "      <td>0.0</td>\n",
       "    </tr>\n",
       "    <tr>\n",
       "      <th>min</th>\n",
       "      <td>0.000000</td>\n",
       "      <td>4.908601e+10</td>\n",
       "      <td>0.000000</td>\n",
       "      <td>0.000000</td>\n",
       "      <td>0.0</td>\n",
       "    </tr>\n",
       "    <tr>\n",
       "      <th>25%</th>\n",
       "      <td>0.000000</td>\n",
       "      <td>9.780410e+12</td>\n",
       "      <td>128.000000</td>\n",
       "      <td>0.000000</td>\n",
       "      <td>0.0</td>\n",
       "    </tr>\n",
       "    <tr>\n",
       "      <th>50%</th>\n",
       "      <td>2.620000</td>\n",
       "      <td>9.780790e+12</td>\n",
       "      <td>241.000000</td>\n",
       "      <td>3.000000</td>\n",
       "      <td>0.0</td>\n",
       "    </tr>\n",
       "    <tr>\n",
       "      <th>75%</th>\n",
       "      <td>2.830000</td>\n",
       "      <td>9.781400e+12</td>\n",
       "      <td>324.000000</td>\n",
       "      <td>36.000000</td>\n",
       "      <td>0.0</td>\n",
       "    </tr>\n",
       "    <tr>\n",
       "      <th>max</th>\n",
       "      <td>2.990000</td>\n",
       "      <td>9.789030e+12</td>\n",
       "      <td>1088.000000</td>\n",
       "      <td>23409.000000</td>\n",
       "      <td>0.0</td>\n",
       "    </tr>\n",
       "  </tbody>\n",
       "</table>\n",
       "</div>"
      ],
      "text/plain": [
       "       average_rating        isbn13    num_pages  ratings_count  R_Type\n",
       "count       85.000000  8.500000e+01    85.000000      85.000000    85.0\n",
       "mean         1.821765  9.666790e+12   263.000000     768.211765     0.0\n",
       "std          1.268412  1.055607e+12   204.365219    3024.876546     0.0\n",
       "min          0.000000  4.908601e+10     0.000000       0.000000     0.0\n",
       "25%          0.000000  9.780410e+12   128.000000       0.000000     0.0\n",
       "50%          2.620000  9.780790e+12   241.000000       3.000000     0.0\n",
       "75%          2.830000  9.781400e+12   324.000000      36.000000     0.0\n",
       "max          2.990000  9.789030e+12  1088.000000   23409.000000     0.0"
      ]
     },
     "execution_count": 26,
     "metadata": {},
     "output_type": "execute_result"
    }
   ],
   "source": [
    "df1[df1['R_Type']==0].describe()"
   ]
  },
  {
   "cell_type": "code",
   "execution_count": 27,
   "id": "e5c221d7",
   "metadata": {},
   "outputs": [
    {
     "data": {
      "text/html": [
       "<div>\n",
       "<style scoped>\n",
       "    .dataframe tbody tr th:only-of-type {\n",
       "        vertical-align: middle;\n",
       "    }\n",
       "\n",
       "    .dataframe tbody tr th {\n",
       "        vertical-align: top;\n",
       "    }\n",
       "\n",
       "    .dataframe thead th {\n",
       "        text-align: right;\n",
       "    }\n",
       "</style>\n",
       "<table border=\"1\" class=\"dataframe\">\n",
       "  <thead>\n",
       "    <tr style=\"text-align: right;\">\n",
       "      <th></th>\n",
       "      <th>average_rating</th>\n",
       "      <th>isbn13</th>\n",
       "      <th>num_pages</th>\n",
       "      <th>ratings_count</th>\n",
       "      <th>R_Type</th>\n",
       "    </tr>\n",
       "  </thead>\n",
       "  <tbody>\n",
       "    <tr>\n",
       "      <th>count</th>\n",
       "      <td>6088.000000</td>\n",
       "      <td>6.088000e+03</td>\n",
       "      <td>6088.000000</td>\n",
       "      <td>6.088000e+03</td>\n",
       "      <td>6088.0</td>\n",
       "    </tr>\n",
       "    <tr>\n",
       "      <th>mean</th>\n",
       "      <td>3.754391</td>\n",
       "      <td>9.761200e+12</td>\n",
       "      <td>309.258377</td>\n",
       "      <td>1.508913e+04</td>\n",
       "      <td>1.0</td>\n",
       "    </tr>\n",
       "    <tr>\n",
       "      <th>std</th>\n",
       "      <td>0.192501</td>\n",
       "      <td>4.251211e+11</td>\n",
       "      <td>174.778206</td>\n",
       "      <td>1.086183e+05</td>\n",
       "      <td>0.0</td>\n",
       "    </tr>\n",
       "    <tr>\n",
       "      <th>min</th>\n",
       "      <td>3.000000</td>\n",
       "      <td>2.004913e+10</td>\n",
       "      <td>0.000000</td>\n",
       "      <td>0.000000e+00</td>\n",
       "      <td>1.0</td>\n",
       "    </tr>\n",
       "    <tr>\n",
       "      <th>25%</th>\n",
       "      <td>3.650000</td>\n",
       "      <td>9.780340e+12</td>\n",
       "      <td>197.000000</td>\n",
       "      <td>9.900000e+01</td>\n",
       "      <td>1.0</td>\n",
       "    </tr>\n",
       "    <tr>\n",
       "      <th>50%</th>\n",
       "      <td>3.800000</td>\n",
       "      <td>9.780550e+12</td>\n",
       "      <td>288.000000</td>\n",
       "      <td>6.825000e+02</td>\n",
       "      <td>1.0</td>\n",
       "    </tr>\n",
       "    <tr>\n",
       "      <th>75%</th>\n",
       "      <td>3.900000</td>\n",
       "      <td>9.780820e+12</td>\n",
       "      <td>384.000000</td>\n",
       "      <td>4.241250e+03</td>\n",
       "      <td>1.0</td>\n",
       "    </tr>\n",
       "    <tr>\n",
       "      <th>max</th>\n",
       "      <td>3.990000</td>\n",
       "      <td>9.789880e+12</td>\n",
       "      <td>1952.000000</td>\n",
       "      <td>4.597666e+06</td>\n",
       "      <td>1.0</td>\n",
       "    </tr>\n",
       "  </tbody>\n",
       "</table>\n",
       "</div>"
      ],
      "text/plain": [
       "       average_rating        isbn13    num_pages  ratings_count  R_Type\n",
       "count     6088.000000  6.088000e+03  6088.000000   6.088000e+03  6088.0\n",
       "mean         3.754391  9.761200e+12   309.258377   1.508913e+04     1.0\n",
       "std          0.192501  4.251211e+11   174.778206   1.086183e+05     0.0\n",
       "min          3.000000  2.004913e+10     0.000000   0.000000e+00     1.0\n",
       "25%          3.650000  9.780340e+12   197.000000   9.900000e+01     1.0\n",
       "50%          3.800000  9.780550e+12   288.000000   6.825000e+02     1.0\n",
       "75%          3.900000  9.780820e+12   384.000000   4.241250e+03     1.0\n",
       "max          3.990000  9.789880e+12  1952.000000   4.597666e+06     1.0"
      ]
     },
     "execution_count": 27,
     "metadata": {},
     "output_type": "execute_result"
    }
   ],
   "source": [
    "df1[df1['R_Type']==1].describe()"
   ]
  },
  {
   "cell_type": "code",
   "execution_count": 28,
   "id": "a84fb383",
   "metadata": {
    "scrolled": false
   },
   "outputs": [
    {
     "data": {
      "text/html": [
       "<div>\n",
       "<style scoped>\n",
       "    .dataframe tbody tr th:only-of-type {\n",
       "        vertical-align: middle;\n",
       "    }\n",
       "\n",
       "    .dataframe tbody tr th {\n",
       "        vertical-align: top;\n",
       "    }\n",
       "\n",
       "    .dataframe thead th {\n",
       "        text-align: right;\n",
       "    }\n",
       "</style>\n",
       "<table border=\"1\" class=\"dataframe\">\n",
       "  <thead>\n",
       "    <tr style=\"text-align: right;\">\n",
       "      <th></th>\n",
       "      <th>average_rating</th>\n",
       "      <th>isbn13</th>\n",
       "      <th>num_pages</th>\n",
       "      <th>ratings_count</th>\n",
       "      <th>R_Type</th>\n",
       "    </tr>\n",
       "  </thead>\n",
       "  <tbody>\n",
       "    <tr>\n",
       "      <th>count</th>\n",
       "      <td>4954.000000</td>\n",
       "      <td>4.954000e+03</td>\n",
       "      <td>4954.000000</td>\n",
       "      <td>4.954000e+03</td>\n",
       "      <td>4954.0</td>\n",
       "    </tr>\n",
       "    <tr>\n",
       "      <th>mean</th>\n",
       "      <td>4.190135</td>\n",
       "      <td>9.759873e+12</td>\n",
       "      <td>370.962051</td>\n",
       "      <td>2.173001e+04</td>\n",
       "      <td>2.0</td>\n",
       "    </tr>\n",
       "    <tr>\n",
       "      <th>std</th>\n",
       "      <td>0.156107</td>\n",
       "      <td>4.466276e+11</td>\n",
       "      <td>300.272831</td>\n",
       "      <td>1.178595e+05</td>\n",
       "      <td>0.0</td>\n",
       "    </tr>\n",
       "    <tr>\n",
       "      <th>min</th>\n",
       "      <td>4.000000</td>\n",
       "      <td>8.987060e+09</td>\n",
       "      <td>0.000000</td>\n",
       "      <td>0.000000e+00</td>\n",
       "      <td>2.0</td>\n",
       "    </tr>\n",
       "    <tr>\n",
       "      <th>25%</th>\n",
       "      <td>4.070000</td>\n",
       "      <td>9.780370e+12</td>\n",
       "      <td>192.000000</td>\n",
       "      <td>1.220000e+02</td>\n",
       "      <td>2.0</td>\n",
       "    </tr>\n",
       "    <tr>\n",
       "      <th>50%</th>\n",
       "      <td>4.160000</td>\n",
       "      <td>9.780670e+12</td>\n",
       "      <td>314.000000</td>\n",
       "      <td>8.735000e+02</td>\n",
       "      <td>2.0</td>\n",
       "    </tr>\n",
       "    <tr>\n",
       "      <th>75%</th>\n",
       "      <td>4.270000</td>\n",
       "      <td>9.780940e+12</td>\n",
       "      <td>465.000000</td>\n",
       "      <td>6.133000e+03</td>\n",
       "      <td>2.0</td>\n",
       "    </tr>\n",
       "    <tr>\n",
       "      <th>max</th>\n",
       "      <td>5.000000</td>\n",
       "      <td>9.790010e+12</td>\n",
       "      <td>6576.000000</td>\n",
       "      <td>2.530894e+06</td>\n",
       "      <td>2.0</td>\n",
       "    </tr>\n",
       "  </tbody>\n",
       "</table>\n",
       "</div>"
      ],
      "text/plain": [
       "       average_rating        isbn13    num_pages  ratings_count  R_Type\n",
       "count     4954.000000  4.954000e+03  4954.000000   4.954000e+03  4954.0\n",
       "mean         4.190135  9.759873e+12   370.962051   2.173001e+04     2.0\n",
       "std          0.156107  4.466276e+11   300.272831   1.178595e+05     0.0\n",
       "min          4.000000  8.987060e+09     0.000000   0.000000e+00     2.0\n",
       "25%          4.070000  9.780370e+12   192.000000   1.220000e+02     2.0\n",
       "50%          4.160000  9.780670e+12   314.000000   8.735000e+02     2.0\n",
       "75%          4.270000  9.780940e+12   465.000000   6.133000e+03     2.0\n",
       "max          5.000000  9.790010e+12  6576.000000   2.530894e+06     2.0"
      ]
     },
     "execution_count": 28,
     "metadata": {},
     "output_type": "execute_result"
    }
   ],
   "source": [
    "df1[df1['R_Type']==2].describe()"
   ]
  },
  {
   "cell_type": "markdown",
   "id": "f526faa6",
   "metadata": {},
   "source": [
    "### Top 10 Books that received more ratings"
   ]
  },
  {
   "cell_type": "code",
   "execution_count": null,
   "id": "dc071e9c",
   "metadata": {},
   "outputs": [],
   "source": [
    "# Let's look at the top 10 rated books\n",
    "top10Books = df1.nlargest(10, ['ratings_count']).set_index('title')['ratings_count']\n",
    "plot_dims = (12, 8)\n",
    "fig, ax = plt.subplots(figsize=plot_dims)\n",
    "sns.barplot(x=top10Books, y=top10Books.index)\n",
    "\n",
    "for i in ax.patches:\n",
    "    ax.text(i.get_width()+.3, i.get_y()+0.5, str(round(i.get_width())), fontsize = 15, color = 'k')\n",
    "    \n",
    "plt.show()"
   ]
  },
  {
   "cell_type": "markdown",
   "id": "3c068493",
   "metadata": {},
   "source": [
    "### Top 10 book titles vs number of pages"
   ]
  },
  {
   "cell_type": "code",
   "execution_count": null,
   "id": "46c1f0c7",
   "metadata": {},
   "outputs": [],
   "source": [
    "# Let's look at the top 10 books in terms of number of pages\n",
    "top10Books2 = df1.nlargest(10, ['num_pages']).set_index('title')['num_pages']\n",
    "plot_dims = (12, 8)\n",
    "fig, ax = plt.subplots(figsize=plot_dims)\n",
    "sns.barplot(x=top10Books2, y=top10Books2.index)\n",
    "\n",
    "for i in ax.patches:\n",
    "    ax.text(i.get_width()+.3, i.get_y()+0.5, str(round(i.get_width())), fontsize = 15, color = 'k')\n",
    "    \n",
    "plt.show()"
   ]
  },
  {
   "cell_type": "markdown",
   "id": "61168009",
   "metadata": {},
   "source": [
    "### Average_ratings vs num_pages"
   ]
  },
  {
   "cell_type": "code",
   "execution_count": 74,
   "id": "4800a1b9",
   "metadata": {
    "scrolled": false
   },
   "outputs": [
    {
     "data": {
      "image/png": "[encoded data removed]",
      "text/plain": [
       "<Figure size 1000x500 with 1 Axes>"
      ]
     },
     "metadata": {},
     "output_type": "display_data"
    }
   ],
   "source": [
    "# plot avg rating vs num pages\n",
    "plt.figure(figsize=(10,5))\n",
    "plt.scatter(df1.R_Type,df.num_pages)\n",
    "plt.title(\"Rtype vs numPages\")\n",
    "plt.xlabel(\"Rtype\")\n",
    "plt.ylabel(\"numPages\")\n",
    "plt.show()"
   ]
  },
  {
   "cell_type": "code",
   "execution_count": 75,
   "id": "260491b2",
   "metadata": {},
   "outputs": [
    {
     "data": {
      "image/png": "[encoded data removed]",
      "text/plain": [
       "<Figure size 640x480 with 1 Axes>"
      ]
     },
     "metadata": {},
     "output_type": "display_data"
    }
   ],
   "source": [
    "sns.histplot(x=\"num_pages\",hue=\"R_Type\",multiple=\"stack\",data=df1)\n",
    "plt.show()"
   ]
  },
  {
   "cell_type": "code",
   "execution_count": 78,
   "id": "b84e1760",
   "metadata": {},
   "outputs": [],
   "source": [
    "NormNumPage = df1.num_pages / max(df1.num_pages)\n",
    "NormRatingCnt = df1.ratings_count / max(df1.ratings_count)\n",
    "#sns.jointplot(data=df1, x=\"num_pages\", y=\"ratings_count\", hue=\"R_Type\") "
   ]
  },
  {
   "cell_type": "code",
   "execution_count": 79,
   "id": "b3b5d1b3",
   "metadata": {},
   "outputs": [
    {
     "data": {
      "text/plain": [
       "<seaborn.axisgrid.JointGrid at 0x11b20aa9c60>"
      ]
     },
     "execution_count": 79,
     "metadata": {},
     "output_type": "execute_result"
    },
    {
     "data": {
      "image/png": "[encoded data removed]",
      "text/plain": [
       "<Figure size 600x600 with 3 Axes>"
      ]
     },
     "metadata": {},
     "output_type": "display_data"
    }
   ],
   "source": [
    "sns.jointplot(data=df1, x=NormNumPage, y=NormRatingCnt, hue=\"R_Type\") "
   ]
  },
  {
   "cell_type": "code",
   "execution_count": 80,
   "id": "848eb9a8",
   "metadata": {},
   "outputs": [],
   "source": [
    "mydf=df1.drop(columns=['isbn13'])"
   ]
  },
  {
   "cell_type": "code",
   "execution_count": 81,
   "id": "d2ee8bea",
   "metadata": {},
   "outputs": [],
   "source": [
    "mydf['NormNumPage']=NormNumPage"
   ]
  },
  {
   "cell_type": "code",
   "execution_count": 82,
   "id": "7b568873",
   "metadata": {},
   "outputs": [],
   "source": [
    "mydf['NormRatingCnt']=NormRatingCnt"
   ]
  },
  {
   "cell_type": "code",
   "execution_count": 83,
   "id": "a9ae4215",
   "metadata": {},
   "outputs": [],
   "source": [
    "mydf=mydf.drop(columns=['num_pages', 'ratings_count'])"
   ]
  },
  {
   "cell_type": "code",
   "execution_count": 84,
   "id": "8ed2f5ed",
   "metadata": {},
   "outputs": [
    {
     "data": {
      "text/html": [
       "<div>\n",
       "<style scoped>\n",
       "    .dataframe tbody tr th:only-of-type {\n",
       "        vertical-align: middle;\n",
       "    }\n",
       "\n",
       "    .dataframe tbody tr th {\n",
       "        vertical-align: top;\n",
       "    }\n",
       "\n",
       "    .dataframe thead th {\n",
       "        text-align: right;\n",
       "    }\n",
       "</style>\n",
       "<table border=\"1\" class=\"dataframe\">\n",
       "  <thead>\n",
       "    <tr style=\"text-align: right;\">\n",
       "      <th></th>\n",
       "      <th>average_rating</th>\n",
       "      <th>R_Type</th>\n",
       "      <th>NormNumPage</th>\n",
       "      <th>NormRatingCnt</th>\n",
       "    </tr>\n",
       "  </thead>\n",
       "  <tbody>\n",
       "    <tr>\n",
       "      <th>count</th>\n",
       "      <td>11127.000000</td>\n",
       "      <td>11127.000000</td>\n",
       "      <td>11127.000000</td>\n",
       "      <td>11127.000000</td>\n",
       "    </tr>\n",
       "    <tr>\n",
       "      <th>mean</th>\n",
       "      <td>3.933631</td>\n",
       "      <td>1.437584</td>\n",
       "      <td>0.051152</td>\n",
       "      <td>0.003901</td>\n",
       "    </tr>\n",
       "    <tr>\n",
       "      <th>std</th>\n",
       "      <td>0.352445</td>\n",
       "      <td>0.511279</td>\n",
       "      <td>0.036668</td>\n",
       "      <td>0.024464</td>\n",
       "    </tr>\n",
       "    <tr>\n",
       "      <th>min</th>\n",
       "      <td>0.000000</td>\n",
       "      <td>0.000000</td>\n",
       "      <td>0.000000</td>\n",
       "      <td>0.000000</td>\n",
       "    </tr>\n",
       "    <tr>\n",
       "      <th>25%</th>\n",
       "      <td>3.770000</td>\n",
       "      <td>1.000000</td>\n",
       "      <td>0.029197</td>\n",
       "      <td>0.000023</td>\n",
       "    </tr>\n",
       "    <tr>\n",
       "      <th>50%</th>\n",
       "      <td>3.960000</td>\n",
       "      <td>1.000000</td>\n",
       "      <td>0.045468</td>\n",
       "      <td>0.000162</td>\n",
       "    </tr>\n",
       "    <tr>\n",
       "      <th>75%</th>\n",
       "      <td>4.135000</td>\n",
       "      <td>2.000000</td>\n",
       "      <td>0.063260</td>\n",
       "      <td>0.001086</td>\n",
       "    </tr>\n",
       "    <tr>\n",
       "      <th>max</th>\n",
       "      <td>5.000000</td>\n",
       "      <td>2.000000</td>\n",
       "      <td>1.000000</td>\n",
       "      <td>1.000000</td>\n",
       "    </tr>\n",
       "  </tbody>\n",
       "</table>\n",
       "</div>"
      ],
      "text/plain": [
       "       average_rating        R_Type   NormNumPage  NormRatingCnt\n",
       "count    11127.000000  11127.000000  11127.000000   11127.000000\n",
       "mean         3.933631      1.437584      0.051152       0.003901\n",
       "std          0.352445      0.511279      0.036668       0.024464\n",
       "min          0.000000      0.000000      0.000000       0.000000\n",
       "25%          3.770000      1.000000      0.029197       0.000023\n",
       "50%          3.960000      1.000000      0.045468       0.000162\n",
       "75%          4.135000      2.000000      0.063260       0.001086\n",
       "max          5.000000      2.000000      1.000000       1.000000"
      ]
     },
     "execution_count": 84,
     "metadata": {},
     "output_type": "execute_result"
    }
   ],
   "source": [
    "mydf.describe()"
   ]
  },
  {
   "cell_type": "code",
   "execution_count": 85,
   "id": "41897671",
   "metadata": {},
   "outputs": [
    {
     "data": {
      "text/plain": [
       "<seaborn.axisgrid.PairGrid at 0x11b1e4b21d0>"
      ]
     },
     "execution_count": 85,
     "metadata": {},
     "output_type": "execute_result"
    },
    {
     "data": {
      "image/png": "[encoded data removed]",
      "text/plain": [
       "<Figure size 809.986x750 with 12 Axes>"
      ]
     },
     "metadata": {},
     "output_type": "display_data"
    }
   ],
   "source": [
    "sns.pairplot(data=mydf, hue=\"R_Type\")"
   ]
  },
  {
   "cell_type": "markdown",
   "id": "8bb68427",
   "metadata": {},
   "source": [
    "### Language Code sorting"
   ]
  },
  {
   "cell_type": "code",
   "execution_count": 86,
   "id": "e5fb1b5b",
   "metadata": {
    "scrolled": true
   },
   "outputs": [
    {
     "data": {
      "image/png": "[encoded data removed]",
      "text/plain": [
       "<Figure size 1000x1000 with 1 Axes>"
      ]
     },
     "metadata": {},
     "output_type": "display_data"
    }
   ],
   "source": [
    "df1['language_code'].value_counts().head(7).plot(kind = 'pie', figsize=(10, 10)).legend()\n",
    "plt.show()"
   ]
  },
  {
   "cell_type": "code",
   "execution_count": 29,
   "id": "1f2e7d28",
   "metadata": {},
   "outputs": [
    {
     "data": {
      "text/plain": [
       "(10896, 11)"
      ]
     },
     "execution_count": 29,
     "metadata": {},
     "output_type": "execute_result"
    }
   ],
   "source": [
    "df_LangCode = df1.loc[df1['language_code'].isin(['eng','en-US', 'spa', 'en-GB', 'fre'])] \n",
    "df_LangCode.shape"
   ]
  },
  {
   "cell_type": "markdown",
   "id": "21abb42f",
   "metadata": {},
   "source": [
    "### Creating two numpages samples based on LangCode subset"
   ]
  },
  {
   "cell_type": "code",
   "execution_count": 30,
   "id": "31582e52",
   "metadata": {},
   "outputs": [],
   "source": [
    "# books that are counted as having more than 500 pages\n",
    "max_numpages = 500\n",
    "df1_max_numpages = df_LangCode.drop(df_LangCode.index[df_LangCode['num_pages'] <= max_numpages])"
   ]
  },
  {
   "cell_type": "code",
   "execution_count": 31,
   "id": "25845cb5",
   "metadata": {},
   "outputs": [
    {
     "data": {
      "text/plain": [
       "(1689, 11)"
      ]
     },
     "execution_count": 31,
     "metadata": {},
     "output_type": "execute_result"
    }
   ],
   "source": [
    "df1_max_numpages.shape"
   ]
  },
  {
   "cell_type": "code",
   "execution_count": 32,
   "id": "e286ac35",
   "metadata": {},
   "outputs": [],
   "source": [
    "## books that are counted as having less than 500 pages\n",
    "df1_std_numpages = df_LangCode.drop(df_LangCode.index[df_LangCode['num_pages'] > max_numpages])"
   ]
  },
  {
   "cell_type": "code",
   "execution_count": 33,
   "id": "8b3b0e0c",
   "metadata": {},
   "outputs": [
    {
     "data": {
      "text/plain": [
       "(9207, 11)"
      ]
     },
     "execution_count": 33,
     "metadata": {},
     "output_type": "execute_result"
    }
   ],
   "source": [
    "df1_std_numpages.shape"
   ]
  },
  {
   "cell_type": "code",
   "execution_count": 34,
   "id": "50d45265",
   "metadata": {},
   "outputs": [
    {
     "data": {
      "text/html": [
       "<div>\n",
       "<style scoped>\n",
       "    .dataframe tbody tr th:only-of-type {\n",
       "        vertical-align: middle;\n",
       "    }\n",
       "\n",
       "    .dataframe tbody tr th {\n",
       "        vertical-align: top;\n",
       "    }\n",
       "\n",
       "    .dataframe thead th {\n",
       "        text-align: right;\n",
       "    }\n",
       "</style>\n",
       "<table border=\"1\" class=\"dataframe\">\n",
       "  <thead>\n",
       "    <tr style=\"text-align: right;\">\n",
       "      <th></th>\n",
       "      <th>average_rating</th>\n",
       "      <th>isbn13</th>\n",
       "      <th>num_pages</th>\n",
       "      <th>ratings_count</th>\n",
       "      <th>R_Type</th>\n",
       "    </tr>\n",
       "  </thead>\n",
       "  <tbody>\n",
       "    <tr>\n",
       "      <th>count</th>\n",
       "      <td>1689.000000</td>\n",
       "      <td>1.689000e+03</td>\n",
       "      <td>1689.000000</td>\n",
       "      <td>1.689000e+03</td>\n",
       "      <td>1689.000000</td>\n",
       "    </tr>\n",
       "    <tr>\n",
       "      <th>mean</th>\n",
       "      <td>4.055110</td>\n",
       "      <td>9.753289e+12</td>\n",
       "      <td>738.547069</td>\n",
       "      <td>2.477169e+04</td>\n",
       "      <td>1.615749</td>\n",
       "    </tr>\n",
       "    <tr>\n",
       "      <th>std</th>\n",
       "      <td>0.288469</td>\n",
       "      <td>5.053439e+11</td>\n",
       "      <td>322.958686</td>\n",
       "      <td>1.660652e+05</td>\n",
       "      <td>0.493813</td>\n",
       "    </tr>\n",
       "    <tr>\n",
       "      <th>min</th>\n",
       "      <td>0.000000</td>\n",
       "      <td>7.399925e+10</td>\n",
       "      <td>501.000000</td>\n",
       "      <td>0.000000e+00</td>\n",
       "      <td>0.000000</td>\n",
       "    </tr>\n",
       "    <tr>\n",
       "      <th>25%</th>\n",
       "      <td>3.900000</td>\n",
       "      <td>9.780310e+12</td>\n",
       "      <td>560.000000</td>\n",
       "      <td>1.560000e+02</td>\n",
       "      <td>1.000000</td>\n",
       "    </tr>\n",
       "    <tr>\n",
       "      <th>50%</th>\n",
       "      <td>4.070000</td>\n",
       "      <td>9.780470e+12</td>\n",
       "      <td>645.000000</td>\n",
       "      <td>1.031000e+03</td>\n",
       "      <td>2.000000</td>\n",
       "    </tr>\n",
       "    <tr>\n",
       "      <th>75%</th>\n",
       "      <td>4.240000</td>\n",
       "      <td>9.780770e+12</td>\n",
       "      <td>801.000000</td>\n",
       "      <td>7.506000e+03</td>\n",
       "      <td>2.000000</td>\n",
       "    </tr>\n",
       "    <tr>\n",
       "      <th>max</th>\n",
       "      <td>5.000000</td>\n",
       "      <td>9.789690e+12</td>\n",
       "      <td>6576.000000</td>\n",
       "      <td>4.597666e+06</td>\n",
       "      <td>2.000000</td>\n",
       "    </tr>\n",
       "  </tbody>\n",
       "</table>\n",
       "</div>"
      ],
      "text/plain": [
       "       average_rating        isbn13    num_pages  ratings_count       R_Type\n",
       "count     1689.000000  1.689000e+03  1689.000000   1.689000e+03  1689.000000\n",
       "mean         4.055110  9.753289e+12   738.547069   2.477169e+04     1.615749\n",
       "std          0.288469  5.053439e+11   322.958686   1.660652e+05     0.493813\n",
       "min          0.000000  7.399925e+10   501.000000   0.000000e+00     0.000000\n",
       "25%          3.900000  9.780310e+12   560.000000   1.560000e+02     1.000000\n",
       "50%          4.070000  9.780470e+12   645.000000   1.031000e+03     2.000000\n",
       "75%          4.240000  9.780770e+12   801.000000   7.506000e+03     2.000000\n",
       "max          5.000000  9.789690e+12  6576.000000   4.597666e+06     2.000000"
      ]
     },
     "execution_count": 34,
     "metadata": {},
     "output_type": "execute_result"
    }
   ],
   "source": [
    "df1_max_numpages.describe()"
   ]
  },
  {
   "cell_type": "code",
   "execution_count": 35,
   "id": "9cf8f228",
   "metadata": {},
   "outputs": [
    {
     "data": {
      "text/html": [
       "<div>\n",
       "<style scoped>\n",
       "    .dataframe tbody tr th:only-of-type {\n",
       "        vertical-align: middle;\n",
       "    }\n",
       "\n",
       "    .dataframe tbody tr th {\n",
       "        vertical-align: top;\n",
       "    }\n",
       "\n",
       "    .dataframe thead th {\n",
       "        text-align: right;\n",
       "    }\n",
       "</style>\n",
       "<table border=\"1\" class=\"dataframe\">\n",
       "  <thead>\n",
       "    <tr style=\"text-align: right;\">\n",
       "      <th></th>\n",
       "      <th>average_rating</th>\n",
       "      <th>isbn13</th>\n",
       "      <th>num_pages</th>\n",
       "      <th>ratings_count</th>\n",
       "      <th>R_Type</th>\n",
       "    </tr>\n",
       "  </thead>\n",
       "  <tbody>\n",
       "    <tr>\n",
       "      <th>count</th>\n",
       "      <td>9207.000000</td>\n",
       "      <td>9.207000e+03</td>\n",
       "      <td>9207.000000</td>\n",
       "      <td>9.207000e+03</td>\n",
       "      <td>9207.000000</td>\n",
       "    </tr>\n",
       "    <tr>\n",
       "      <th>mean</th>\n",
       "      <td>3.908577</td>\n",
       "      <td>9.760497e+12</td>\n",
       "      <td>262.316607</td>\n",
       "      <td>1.712091e+04</td>\n",
       "      <td>1.401325</td>\n",
       "    </tr>\n",
       "    <tr>\n",
       "      <th>std</th>\n",
       "      <td>0.353789</td>\n",
       "      <td>4.361422e+11</td>\n",
       "      <td>121.127375</td>\n",
       "      <td>1.010775e+05</td>\n",
       "      <td>0.506969</td>\n",
       "    </tr>\n",
       "    <tr>\n",
       "      <th>min</th>\n",
       "      <td>0.000000</td>\n",
       "      <td>8.987060e+09</td>\n",
       "      <td>0.000000</td>\n",
       "      <td>0.000000e+00</td>\n",
       "      <td>0.000000</td>\n",
       "    </tr>\n",
       "    <tr>\n",
       "      <th>25%</th>\n",
       "      <td>3.750000</td>\n",
       "      <td>9.780350e+12</td>\n",
       "      <td>182.000000</td>\n",
       "      <td>1.090000e+02</td>\n",
       "      <td>1.000000</td>\n",
       "    </tr>\n",
       "    <tr>\n",
       "      <th>50%</th>\n",
       "      <td>3.930000</td>\n",
       "      <td>9.780590e+12</td>\n",
       "      <td>264.000000</td>\n",
       "      <td>7.620000e+02</td>\n",
       "      <td>1.000000</td>\n",
       "    </tr>\n",
       "    <tr>\n",
       "      <th>75%</th>\n",
       "      <td>4.110000</td>\n",
       "      <td>9.780870e+12</td>\n",
       "      <td>352.000000</td>\n",
       "      <td>4.849500e+03</td>\n",
       "      <td>2.000000</td>\n",
       "    </tr>\n",
       "    <tr>\n",
       "      <th>max</th>\n",
       "      <td>5.000000</td>\n",
       "      <td>9.790010e+12</td>\n",
       "      <td>500.000000</td>\n",
       "      <td>2.530894e+06</td>\n",
       "      <td>2.000000</td>\n",
       "    </tr>\n",
       "  </tbody>\n",
       "</table>\n",
       "</div>"
      ],
      "text/plain": [
       "       average_rating        isbn13    num_pages  ratings_count       R_Type\n",
       "count     9207.000000  9.207000e+03  9207.000000   9.207000e+03  9207.000000\n",
       "mean         3.908577  9.760497e+12   262.316607   1.712091e+04     1.401325\n",
       "std          0.353789  4.361422e+11   121.127375   1.010775e+05     0.506969\n",
       "min          0.000000  8.987060e+09     0.000000   0.000000e+00     0.000000\n",
       "25%          3.750000  9.780350e+12   182.000000   1.090000e+02     1.000000\n",
       "50%          3.930000  9.780590e+12   264.000000   7.620000e+02     1.000000\n",
       "75%          4.110000  9.780870e+12   352.000000   4.849500e+03     2.000000\n",
       "max          5.000000  9.790010e+12   500.000000   2.530894e+06     2.000000"
      ]
     },
     "execution_count": 35,
     "metadata": {},
     "output_type": "execute_result"
    }
   ],
   "source": [
    "df1_std_numpages.describe()"
   ]
  },
  {
   "cell_type": "markdown",
   "id": "6fae8e16",
   "metadata": {},
   "source": [
    "## Encoding the Categorical variables for the two samples"
   ]
  },
  {
   "cell_type": "markdown",
   "id": "272d441f",
   "metadata": {},
   "source": [
    "### a. Encode the 'title' (label encoding --> numbers)"
   ]
  },
  {
   "cell_type": "markdown",
   "id": "d88f1954",
   "metadata": {},
   "source": [
    "#### Encoding samples in df1_max_numpages and df1_std_numpages:"
   ]
  },
  {
   "cell_type": "code",
   "execution_count": 36,
   "id": "767fd778",
   "metadata": {},
   "outputs": [],
   "source": [
    "# encode title column\n",
    "labelEncode = preprocessing.LabelEncoder()\n",
    "df1_max_numpages['title'] = labelEncode.fit_transform(df1_max_numpages['title'])\n",
    "df1_std_numpages['title'] = labelEncode.fit_transform(df1_std_numpages['title'])"
   ]
  },
  {
   "cell_type": "code",
   "execution_count": 93,
   "id": "61015d65",
   "metadata": {},
   "outputs": [
    {
     "data": {
      "text/html": [
       "<div>\n",
       "<style scoped>\n",
       "    .dataframe tbody tr th:only-of-type {\n",
       "        vertical-align: middle;\n",
       "    }\n",
       "\n",
       "    .dataframe tbody tr th {\n",
       "        vertical-align: top;\n",
       "    }\n",
       "\n",
       "    .dataframe thead th {\n",
       "        text-align: right;\n",
       "    }\n",
       "</style>\n",
       "<table border=\"1\" class=\"dataframe\">\n",
       "  <thead>\n",
       "    <tr style=\"text-align: right;\">\n",
       "      <th></th>\n",
       "      <th>title</th>\n",
       "      <th>authors</th>\n",
       "      <th>average_rating</th>\n",
       "      <th>isbn</th>\n",
       "      <th>isbn13</th>\n",
       "      <th>language_code</th>\n",
       "      <th>num_pages</th>\n",
       "      <th>ratings_count</th>\n",
       "      <th>publication_date</th>\n",
       "      <th>publisher</th>\n",
       "      <th>R_Type</th>\n",
       "    </tr>\n",
       "    <tr>\n",
       "      <th>bookID</th>\n",
       "      <th></th>\n",
       "      <th></th>\n",
       "      <th></th>\n",
       "      <th></th>\n",
       "      <th></th>\n",
       "      <th></th>\n",
       "      <th></th>\n",
       "      <th></th>\n",
       "      <th></th>\n",
       "      <th></th>\n",
       "      <th></th>\n",
       "    </tr>\n",
       "  </thead>\n",
       "  <tbody>\n",
       "    <tr>\n",
       "      <th>1</th>\n",
       "      <td>433</td>\n",
       "      <td>J.K. Rowling/Mary GrandPré</td>\n",
       "      <td>4.57</td>\n",
       "      <td>439785960</td>\n",
       "      <td>9780440000000</td>\n",
       "      <td>eng</td>\n",
       "      <td>652</td>\n",
       "      <td>2095690</td>\n",
       "      <td>9/16/2006</td>\n",
       "      <td>Scholastic Inc.</td>\n",
       "      <td>2</td>\n",
       "    </tr>\n",
       "    <tr>\n",
       "      <th>2</th>\n",
       "      <td>434</td>\n",
       "      <td>J.K. Rowling/Mary GrandPré</td>\n",
       "      <td>4.49</td>\n",
       "      <td>439358078</td>\n",
       "      <td>9780440000000</td>\n",
       "      <td>eng</td>\n",
       "      <td>870</td>\n",
       "      <td>2153167</td>\n",
       "      <td>9/1/2004</td>\n",
       "      <td>Scholastic Inc.</td>\n",
       "      <td>2</td>\n",
       "    </tr>\n",
       "    <tr>\n",
       "      <th>8</th>\n",
       "      <td>430</td>\n",
       "      <td>J.K. Rowling/Mary GrandPré</td>\n",
       "      <td>4.78</td>\n",
       "      <td>439682584</td>\n",
       "      <td>9780440000000</td>\n",
       "      <td>eng</td>\n",
       "      <td>2690</td>\n",
       "      <td>41428</td>\n",
       "      <td>9/13/2004</td>\n",
       "      <td>Scholastic</td>\n",
       "      <td>2</td>\n",
       "    </tr>\n",
       "    <tr>\n",
       "      <th>10</th>\n",
       "      <td>431</td>\n",
       "      <td>J.K. Rowling</td>\n",
       "      <td>4.73</td>\n",
       "      <td>439827604</td>\n",
       "      <td>9780440000000</td>\n",
       "      <td>eng</td>\n",
       "      <td>3342</td>\n",
       "      <td>28242</td>\n",
       "      <td>9/12/2005</td>\n",
       "      <td>Scholastic</td>\n",
       "      <td>2</td>\n",
       "    </tr>\n",
       "    <tr>\n",
       "      <th>12</th>\n",
       "      <td>1381</td>\n",
       "      <td>Douglas Adams</td>\n",
       "      <td>4.38</td>\n",
       "      <td>517226952</td>\n",
       "      <td>9780520000000</td>\n",
       "      <td>eng</td>\n",
       "      <td>815</td>\n",
       "      <td>3628</td>\n",
       "      <td>11/1/2005</td>\n",
       "      <td>Gramercy Books</td>\n",
       "      <td>2</td>\n",
       "    </tr>\n",
       "  </tbody>\n",
       "</table>\n",
       "</div>"
      ],
      "text/plain": [
       "        title                     authors  average_rating       isbn  \\\n",
       "bookID                                                                 \n",
       "1         433  J.K. Rowling/Mary GrandPré            4.57  439785960   \n",
       "2         434  J.K. Rowling/Mary GrandPré            4.49  439358078   \n",
       "8         430  J.K. Rowling/Mary GrandPré            4.78  439682584   \n",
       "10        431                J.K. Rowling            4.73  439827604   \n",
       "12       1381               Douglas Adams            4.38  517226952   \n",
       "\n",
       "               isbn13 language_code  num_pages  ratings_count  \\\n",
       "bookID                                                          \n",
       "1       9780440000000           eng        652        2095690   \n",
       "2       9780440000000           eng        870        2153167   \n",
       "8       9780440000000           eng       2690          41428   \n",
       "10      9780440000000           eng       3342          28242   \n",
       "12      9780520000000           eng        815           3628   \n",
       "\n",
       "       publication_date        publisher  R_Type  \n",
       "bookID                                            \n",
       "1             9/16/2006  Scholastic Inc.       2  \n",
       "2              9/1/2004  Scholastic Inc.       2  \n",
       "8             9/13/2004       Scholastic       2  \n",
       "10            9/12/2005       Scholastic       2  \n",
       "12            11/1/2005   Gramercy Books       2  "
      ]
     },
     "execution_count": 93,
     "metadata": {},
     "output_type": "execute_result"
    }
   ],
   "source": [
    "df1_max_numpages.head()"
   ]
  },
  {
   "cell_type": "code",
   "execution_count": null,
   "id": "9dcaba49",
   "metadata": {},
   "outputs": [],
   "source": [
    "df1_std_numpages.head()"
   ]
  },
  {
   "cell_type": "markdown",
   "id": "58e84133",
   "metadata": {},
   "source": [
    "### b. Encode the 'authors'  (label encoding --> numbers)"
   ]
  },
  {
   "cell_type": "markdown",
   "id": "b2ee90f1",
   "metadata": {},
   "source": [
    "#### Encoding samples in df1_max_numpages and df1_std_numpages"
   ]
  },
  {
   "cell_type": "code",
   "execution_count": 37,
   "id": "6e27aa04",
   "metadata": {},
   "outputs": [],
   "source": [
    "# encode authors column\n",
    "df1_max_numpages['authors'] = labelEncode.fit_transform(df1_max_numpages['authors'])\n",
    "df1_std_numpages['authors'] = labelEncode.fit_transform(df1_std_numpages['authors'])"
   ]
  },
  {
   "cell_type": "code",
   "execution_count": null,
   "id": "494c9773",
   "metadata": {},
   "outputs": [],
   "source": [
    "df1_max_numpages.head()"
   ]
  },
  {
   "cell_type": "code",
   "execution_count": null,
   "id": "1f2a4cdc",
   "metadata": {},
   "outputs": [],
   "source": [
    "df1_std_numpages.head()"
   ]
  },
  {
   "cell_type": "markdown",
   "id": "57af0c99",
   "metadata": {},
   "source": [
    "### c. Dummy encode the 'language_code' (one-hot encoding --> vectors)"
   ]
  },
  {
   "cell_type": "markdown",
   "id": "93efe4bb",
   "metadata": {},
   "source": [
    "#### Encoding samples in df1_max_numpages"
   ]
  },
  {
   "cell_type": "code",
   "execution_count": 38,
   "id": "6e2de003",
   "metadata": {},
   "outputs": [
    {
     "name": "stdout",
     "output_type": "stream",
     "text": [
      "(1689, 16)\n"
     ]
    },
    {
     "data": {
      "text/html": [
       "<div>\n",
       "<style scoped>\n",
       "    .dataframe tbody tr th:only-of-type {\n",
       "        vertical-align: middle;\n",
       "    }\n",
       "\n",
       "    .dataframe tbody tr th {\n",
       "        vertical-align: top;\n",
       "    }\n",
       "\n",
       "    .dataframe thead th {\n",
       "        text-align: right;\n",
       "    }\n",
       "</style>\n",
       "<table border=\"1\" class=\"dataframe\">\n",
       "  <thead>\n",
       "    <tr style=\"text-align: right;\">\n",
       "      <th></th>\n",
       "      <th>title</th>\n",
       "      <th>authors</th>\n",
       "      <th>average_rating</th>\n",
       "      <th>isbn</th>\n",
       "      <th>isbn13</th>\n",
       "      <th>language_code</th>\n",
       "      <th>num_pages</th>\n",
       "      <th>ratings_count</th>\n",
       "      <th>publication_date</th>\n",
       "      <th>publisher</th>\n",
       "      <th>R_Type</th>\n",
       "      <th>en-GB</th>\n",
       "      <th>en-US</th>\n",
       "      <th>eng</th>\n",
       "      <th>fre</th>\n",
       "      <th>spa</th>\n",
       "    </tr>\n",
       "    <tr>\n",
       "      <th>bookID</th>\n",
       "      <th></th>\n",
       "      <th></th>\n",
       "      <th></th>\n",
       "      <th></th>\n",
       "      <th></th>\n",
       "      <th></th>\n",
       "      <th></th>\n",
       "      <th></th>\n",
       "      <th></th>\n",
       "      <th></th>\n",
       "      <th></th>\n",
       "      <th></th>\n",
       "      <th></th>\n",
       "      <th></th>\n",
       "      <th></th>\n",
       "      <th></th>\n",
       "    </tr>\n",
       "  </thead>\n",
       "  <tbody>\n",
       "    <tr>\n",
       "      <th>1</th>\n",
       "      <td>433</td>\n",
       "      <td>517</td>\n",
       "      <td>4.57</td>\n",
       "      <td>439785960</td>\n",
       "      <td>9780440000000</td>\n",
       "      <td>eng</td>\n",
       "      <td>652</td>\n",
       "      <td>2095690</td>\n",
       "      <td>9/16/2006</td>\n",
       "      <td>Scholastic Inc.</td>\n",
       "      <td>2</td>\n",
       "      <td>0</td>\n",
       "      <td>0</td>\n",
       "      <td>1</td>\n",
       "      <td>0</td>\n",
       "      <td>0</td>\n",
       "    </tr>\n",
       "    <tr>\n",
       "      <th>2</th>\n",
       "      <td>434</td>\n",
       "      <td>517</td>\n",
       "      <td>4.49</td>\n",
       "      <td>439358078</td>\n",
       "      <td>9780440000000</td>\n",
       "      <td>eng</td>\n",
       "      <td>870</td>\n",
       "      <td>2153167</td>\n",
       "      <td>9/1/2004</td>\n",
       "      <td>Scholastic Inc.</td>\n",
       "      <td>2</td>\n",
       "      <td>0</td>\n",
       "      <td>0</td>\n",
       "      <td>1</td>\n",
       "      <td>0</td>\n",
       "      <td>0</td>\n",
       "    </tr>\n",
       "    <tr>\n",
       "      <th>8</th>\n",
       "      <td>430</td>\n",
       "      <td>517</td>\n",
       "      <td>4.78</td>\n",
       "      <td>439682584</td>\n",
       "      <td>9780440000000</td>\n",
       "      <td>eng</td>\n",
       "      <td>2690</td>\n",
       "      <td>41428</td>\n",
       "      <td>9/13/2004</td>\n",
       "      <td>Scholastic</td>\n",
       "      <td>2</td>\n",
       "      <td>0</td>\n",
       "      <td>0</td>\n",
       "      <td>1</td>\n",
       "      <td>0</td>\n",
       "      <td>0</td>\n",
       "    </tr>\n",
       "    <tr>\n",
       "      <th>10</th>\n",
       "      <td>431</td>\n",
       "      <td>515</td>\n",
       "      <td>4.73</td>\n",
       "      <td>439827604</td>\n",
       "      <td>9780440000000</td>\n",
       "      <td>eng</td>\n",
       "      <td>3342</td>\n",
       "      <td>28242</td>\n",
       "      <td>9/12/2005</td>\n",
       "      <td>Scholastic</td>\n",
       "      <td>2</td>\n",
       "      <td>0</td>\n",
       "      <td>0</td>\n",
       "      <td>1</td>\n",
       "      <td>0</td>\n",
       "      <td>0</td>\n",
       "    </tr>\n",
       "    <tr>\n",
       "      <th>12</th>\n",
       "      <td>1381</td>\n",
       "      <td>269</td>\n",
       "      <td>4.38</td>\n",
       "      <td>517226952</td>\n",
       "      <td>9780520000000</td>\n",
       "      <td>eng</td>\n",
       "      <td>815</td>\n",
       "      <td>3628</td>\n",
       "      <td>11/1/2005</td>\n",
       "      <td>Gramercy Books</td>\n",
       "      <td>2</td>\n",
       "      <td>0</td>\n",
       "      <td>0</td>\n",
       "      <td>1</td>\n",
       "      <td>0</td>\n",
       "      <td>0</td>\n",
       "    </tr>\n",
       "  </tbody>\n",
       "</table>\n",
       "</div>"
      ],
      "text/plain": [
       "        title  authors  average_rating       isbn         isbn13  \\\n",
       "bookID                                                             \n",
       "1         433      517            4.57  439785960  9780440000000   \n",
       "2         434      517            4.49  439358078  9780440000000   \n",
       "8         430      517            4.78  439682584  9780440000000   \n",
       "10        431      515            4.73  439827604  9780440000000   \n",
       "12       1381      269            4.38  517226952  9780520000000   \n",
       "\n",
       "       language_code  num_pages  ratings_count publication_date  \\\n",
       "bookID                                                            \n",
       "1                eng        652        2095690        9/16/2006   \n",
       "2                eng        870        2153167         9/1/2004   \n",
       "8                eng       2690          41428        9/13/2004   \n",
       "10               eng       3342          28242        9/12/2005   \n",
       "12               eng        815           3628        11/1/2005   \n",
       "\n",
       "              publisher  R_Type  en-GB  en-US  eng  fre  spa  \n",
       "bookID                                                        \n",
       "1       Scholastic Inc.       2      0      0    1    0    0  \n",
       "2       Scholastic Inc.       2      0      0    1    0    0  \n",
       "8            Scholastic       2      0      0    1    0    0  \n",
       "10           Scholastic       2      0      0    1    0    0  \n",
       "12       Gramercy Books       2      0      0    1    0    0  "
      ]
     },
     "execution_count": 38,
     "metadata": {},
     "output_type": "execute_result"
    }
   ],
   "source": [
    "encoded_lang_max = pd.get_dummies(df1_max_numpages['language_code'])\n",
    "colsExist2 = df1_max_numpages.columns.isin(['en-US', 'eng', 'en-GB', 'fre', 'spa']).any()\n",
    "if  colsExist2 == False:\n",
    "    df1_max_numpages = pd.concat([df1_max_numpages, encoded_lang_max], axis = 1)\n",
    "print(df1_max_numpages.shape)\n",
    "df1_max_numpages.head()"
   ]
  },
  {
   "cell_type": "markdown",
   "id": "74dfd103",
   "metadata": {},
   "source": [
    "#### Encoding samples in df1_std_numpages"
   ]
  },
  {
   "cell_type": "code",
   "execution_count": 39,
   "id": "eec04027",
   "metadata": {},
   "outputs": [
    {
     "name": "stdout",
     "output_type": "stream",
     "text": [
      "(9207, 16)\n"
     ]
    },
    {
     "data": {
      "text/html": [
       "<div>\n",
       "<style scoped>\n",
       "    .dataframe tbody tr th:only-of-type {\n",
       "        vertical-align: middle;\n",
       "    }\n",
       "\n",
       "    .dataframe tbody tr th {\n",
       "        vertical-align: top;\n",
       "    }\n",
       "\n",
       "    .dataframe thead th {\n",
       "        text-align: right;\n",
       "    }\n",
       "</style>\n",
       "<table border=\"1\" class=\"dataframe\">\n",
       "  <thead>\n",
       "    <tr style=\"text-align: right;\">\n",
       "      <th></th>\n",
       "      <th>title</th>\n",
       "      <th>authors</th>\n",
       "      <th>average_rating</th>\n",
       "      <th>isbn</th>\n",
       "      <th>isbn13</th>\n",
       "      <th>language_code</th>\n",
       "      <th>num_pages</th>\n",
       "      <th>ratings_count</th>\n",
       "      <th>publication_date</th>\n",
       "      <th>publisher</th>\n",
       "      <th>R_Type</th>\n",
       "      <th>en-GB</th>\n",
       "      <th>en-US</th>\n",
       "      <th>eng</th>\n",
       "      <th>fre</th>\n",
       "      <th>spa</th>\n",
       "    </tr>\n",
       "    <tr>\n",
       "      <th>bookID</th>\n",
       "      <th></th>\n",
       "      <th></th>\n",
       "      <th></th>\n",
       "      <th></th>\n",
       "      <th></th>\n",
       "      <th></th>\n",
       "      <th></th>\n",
       "      <th></th>\n",
       "      <th></th>\n",
       "      <th></th>\n",
       "      <th></th>\n",
       "      <th></th>\n",
       "      <th></th>\n",
       "      <th></th>\n",
       "      <th></th>\n",
       "      <th></th>\n",
       "    </tr>\n",
       "  </thead>\n",
       "  <tbody>\n",
       "    <tr>\n",
       "      <th>4</th>\n",
       "      <td>2570</td>\n",
       "      <td>2204</td>\n",
       "      <td>4.42</td>\n",
       "      <td>439554896</td>\n",
       "      <td>9780440000000</td>\n",
       "      <td>eng</td>\n",
       "      <td>352</td>\n",
       "      <td>6333</td>\n",
       "      <td>11/1/2003</td>\n",
       "      <td>Scholastic</td>\n",
       "      <td>2</td>\n",
       "      <td>0</td>\n",
       "      <td>0</td>\n",
       "      <td>1</td>\n",
       "      <td>0</td>\n",
       "      <td>0</td>\n",
       "    </tr>\n",
       "    <tr>\n",
       "      <th>5</th>\n",
       "      <td>2571</td>\n",
       "      <td>2205</td>\n",
       "      <td>4.56</td>\n",
       "      <td>043965548X</td>\n",
       "      <td>9780440000000</td>\n",
       "      <td>eng</td>\n",
       "      <td>435</td>\n",
       "      <td>2339585</td>\n",
       "      <td>5/1/2004</td>\n",
       "      <td>Scholastic Inc.</td>\n",
       "      <td>2</td>\n",
       "      <td>0</td>\n",
       "      <td>0</td>\n",
       "      <td>1</td>\n",
       "      <td>0</td>\n",
       "      <td>0</td>\n",
       "    </tr>\n",
       "    <tr>\n",
       "      <th>9</th>\n",
       "      <td>8161</td>\n",
       "      <td>5430</td>\n",
       "      <td>3.74</td>\n",
       "      <td>976540606</td>\n",
       "      <td>9780980000000</td>\n",
       "      <td>en-US</td>\n",
       "      <td>152</td>\n",
       "      <td>19</td>\n",
       "      <td>4/26/2005</td>\n",
       "      <td>Nimble Books</td>\n",
       "      <td>1</td>\n",
       "      <td>0</td>\n",
       "      <td>1</td>\n",
       "      <td>0</td>\n",
       "      <td>0</td>\n",
       "      <td>0</td>\n",
       "    </tr>\n",
       "    <tr>\n",
       "      <th>14</th>\n",
       "      <td>6585</td>\n",
       "      <td>1268</td>\n",
       "      <td>4.22</td>\n",
       "      <td>1400052920</td>\n",
       "      <td>9781400000000</td>\n",
       "      <td>eng</td>\n",
       "      <td>215</td>\n",
       "      <td>4930</td>\n",
       "      <td>8/3/2004</td>\n",
       "      <td>Crown</td>\n",
       "      <td>2</td>\n",
       "      <td>0</td>\n",
       "      <td>0</td>\n",
       "      <td>1</td>\n",
       "      <td>0</td>\n",
       "      <td>0</td>\n",
       "    </tr>\n",
       "    <tr>\n",
       "      <th>16</th>\n",
       "      <td>6585</td>\n",
       "      <td>1273</td>\n",
       "      <td>4.22</td>\n",
       "      <td>739322206</td>\n",
       "      <td>9780740000000</td>\n",
       "      <td>eng</td>\n",
       "      <td>6</td>\n",
       "      <td>1266</td>\n",
       "      <td>3/23/2005</td>\n",
       "      <td>Random House Audio</td>\n",
       "      <td>2</td>\n",
       "      <td>0</td>\n",
       "      <td>0</td>\n",
       "      <td>1</td>\n",
       "      <td>0</td>\n",
       "      <td>0</td>\n",
       "    </tr>\n",
       "  </tbody>\n",
       "</table>\n",
       "</div>"
      ],
      "text/plain": [
       "        title  authors  average_rating        isbn         isbn13  \\\n",
       "bookID                                                              \n",
       "4        2570     2204            4.42   439554896  9780440000000   \n",
       "5        2571     2205            4.56  043965548X  9780440000000   \n",
       "9        8161     5430            3.74   976540606  9780980000000   \n",
       "14       6585     1268            4.22  1400052920  9781400000000   \n",
       "16       6585     1273            4.22   739322206  9780740000000   \n",
       "\n",
       "       language_code  num_pages  ratings_count publication_date  \\\n",
       "bookID                                                            \n",
       "4                eng        352           6333        11/1/2003   \n",
       "5                eng        435        2339585         5/1/2004   \n",
       "9              en-US        152             19        4/26/2005   \n",
       "14               eng        215           4930         8/3/2004   \n",
       "16               eng          6           1266        3/23/2005   \n",
       "\n",
       "                 publisher  R_Type  en-GB  en-US  eng  fre  spa  \n",
       "bookID                                                           \n",
       "4               Scholastic       2      0      0    1    0    0  \n",
       "5          Scholastic Inc.       2      0      0    1    0    0  \n",
       "9             Nimble Books       1      0      1    0    0    0  \n",
       "14                   Crown       2      0      0    1    0    0  \n",
       "16      Random House Audio       2      0      0    1    0    0  "
      ]
     },
     "execution_count": 39,
     "metadata": {},
     "output_type": "execute_result"
    }
   ],
   "source": [
    "encoded_lang_std = pd.get_dummies(df1_std_numpages['language_code'])\n",
    "colsExist2 = df1_std_numpages.columns.isin(['en-US', 'eng', 'en-GB', 'fre', 'spa']).any()\n",
    "if  colsExist2 == False:\n",
    "    df1_std_numpages = pd.concat([df1_std_numpages, encoded_lang_std], axis = 1)\n",
    "print(df1_std_numpages.shape)\n",
    "df1_std_numpages.head()"
   ]
  },
  {
   "cell_type": "markdown",
   "id": "0de97632",
   "metadata": {},
   "source": [
    "## Model selection (next) - refer \"titanic project\""
   ]
  },
  {
   "cell_type": "code",
   "execution_count": 40,
   "id": "7dd66fbb",
   "metadata": {},
   "outputs": [],
   "source": [
    "# create subset df_processed for numeric data only & drop unused columns \n",
    "df1_max_numpages = df1_max_numpages.drop(columns=[\"average_rating\", \"isbn\",\"language_code\", \"publication_date\",\"publisher\"])"
   ]
  },
  {
   "cell_type": "code",
   "execution_count": null,
   "id": "315a15fb",
   "metadata": {},
   "outputs": [],
   "source": [
    "df1_max_numpages"
   ]
  },
  {
   "cell_type": "code",
   "execution_count": 41,
   "id": "298b810b",
   "metadata": {},
   "outputs": [],
   "source": [
    "# create subset df_processed for numeric data only & drop unused columns \n",
    "df1_std_numpages = df1_std_numpages.drop(columns=[\"average_rating\", \"isbn\",\"language_code\", \"publication_date\",\"publisher\"])"
   ]
  },
  {
   "cell_type": "code",
   "execution_count": null,
   "id": "2148ad7a",
   "metadata": {},
   "outputs": [],
   "source": [
    "df1_std_numpages"
   ]
  },
  {
   "cell_type": "code",
   "execution_count": 42,
   "id": "e762c75f",
   "metadata": {},
   "outputs": [
    {
     "name": "stdout",
     "output_type": "stream",
     "text": [
      "<class 'pandas.core.frame.DataFrame'>\n",
      "Int64Index: 9207 entries, 4 to 45641\n",
      "Data columns (total 11 columns):\n",
      " #   Column         Non-Null Count  Dtype\n",
      "---  ------         --------------  -----\n",
      " 0   title          9207 non-null   int32\n",
      " 1   authors        9207 non-null   int32\n",
      " 2   isbn13         9207 non-null   int64\n",
      " 3   num_pages      9207 non-null   int64\n",
      " 4   ratings_count  9207 non-null   int64\n",
      " 5   R_Type         9207 non-null   int32\n",
      " 6   en-GB          9207 non-null   uint8\n",
      " 7   en-US          9207 non-null   uint8\n",
      " 8   eng            9207 non-null   uint8\n",
      " 9   fre            9207 non-null   uint8\n",
      " 10  spa            9207 non-null   uint8\n",
      "dtypes: int32(3), int64(3), uint8(5)\n",
      "memory usage: 440.6 KB\n"
     ]
    }
   ],
   "source": [
    "df1_std_numpages.info()"
   ]
  },
  {
   "cell_type": "code",
   "execution_count": 44,
   "id": "138b9ecb",
   "metadata": {
    "scrolled": true
   },
   "outputs": [
    {
     "data": {
      "text/plain": [
       "1    5358\n",
       "2    3772\n",
       "0      77\n",
       "Name: R_Type, dtype: int64"
      ]
     },
     "execution_count": 44,
     "metadata": {},
     "output_type": "execute_result"
    }
   ],
   "source": [
    "df1_std_numpages['R_Type'].value_counts()"
   ]
  },
  {
   "cell_type": "markdown",
   "id": "e2e67109",
   "metadata": {},
   "source": [
    "### Model selection"
   ]
  },
  {
   "cell_type": "code",
   "execution_count": 45,
   "id": "bc13950b",
   "metadata": {},
   "outputs": [],
   "source": [
    "from sklearn.model_selection import train_test_split"
   ]
  },
  {
   "cell_type": "code",
   "execution_count": 46,
   "id": "d9062a76",
   "metadata": {},
   "outputs": [],
   "source": [
    "# \" define (randomly) training and testing dataframe\"\n",
    "df_train_std, df_test_std = train_test_split(df1_std_numpages,test_size = 0.2, stratify = df1_std_numpages.R_Type)"
   ]
  },
  {
   "cell_type": "code",
   "execution_count": 47,
   "id": "df8b5b1a",
   "metadata": {},
   "outputs": [
    {
     "data": {
      "text/plain": [
       "9207"
      ]
     },
     "execution_count": 47,
     "metadata": {},
     "output_type": "execute_result"
    }
   ],
   "source": [
    "len(df1_std_numpages)"
   ]
  },
  {
   "cell_type": "code",
   "execution_count": 48,
   "id": "1edc642f",
   "metadata": {},
   "outputs": [
    {
     "data": {
      "text/plain": [
       "7365"
      ]
     },
     "execution_count": 48,
     "metadata": {},
     "output_type": "execute_result"
    }
   ],
   "source": [
    "len(df_train_std)"
   ]
  },
  {
   "cell_type": "code",
   "execution_count": 49,
   "id": "cfe68043",
   "metadata": {},
   "outputs": [
    {
     "data": {
      "text/plain": [
       "1842"
      ]
     },
     "execution_count": 49,
     "metadata": {},
     "output_type": "execute_result"
    }
   ],
   "source": [
    "len(df_test_std)"
   ]
  },
  {
   "cell_type": "code",
   "execution_count": null,
   "id": "bbce3f1c",
   "metadata": {},
   "outputs": [],
   "source": [
    "# option to write a function to apply model\n",
    "'''\n",
    "def ModelBuilding_LogisticRegression(df_Current, testSize=0.2):\n",
    "    # divide the data into attributes and labels\n",
    "    X = df_Current.drop(['R_Type'], axis = 1)\n",
    "    y = df_Current['R_Type']\n",
    "    print(\"Shape of Inputs = {0}\".format(X.shape))\n",
    "    print(\"Shape of Target = {0}\".format(y.shape))\n",
    "    # split 80% of the data to the training set and 20% of the data to test set \n",
    "    X_train, X_test, y_train, y_test = train_test_split(X, y, test_size = testSize, random_state = 999)\n",
    "    logReg = LogisticRegression()\n",
    "    logReg.fit(X_train, y_train)\n",
    "    print(\"Intercept = {0}\".format(linReg.intercept_))\n",
    "    print(\"Coefficients = {0}\".format(linReg.coef_.tolist()))\n",
    "    predictions = linReg.predict(X_test)\n",
    "    return (predictions, X_test, y_test, linReg)\n",
    "'''"
   ]
  },
  {
   "cell_type": "code",
   "execution_count": 50,
   "id": "00dea38f",
   "metadata": {},
   "outputs": [
    {
     "data": {
      "text/html": [
       "<div>\n",
       "<style scoped>\n",
       "    .dataframe tbody tr th:only-of-type {\n",
       "        vertical-align: middle;\n",
       "    }\n",
       "\n",
       "    .dataframe tbody tr th {\n",
       "        vertical-align: top;\n",
       "    }\n",
       "\n",
       "    .dataframe thead th {\n",
       "        text-align: right;\n",
       "    }\n",
       "</style>\n",
       "<table border=\"1\" class=\"dataframe\">\n",
       "  <thead>\n",
       "    <tr style=\"text-align: right;\">\n",
       "      <th></th>\n",
       "      <th>title</th>\n",
       "      <th>authors</th>\n",
       "      <th>isbn13</th>\n",
       "      <th>num_pages</th>\n",
       "      <th>ratings_count</th>\n",
       "      <th>R_Type</th>\n",
       "      <th>en-GB</th>\n",
       "      <th>en-US</th>\n",
       "      <th>eng</th>\n",
       "      <th>fre</th>\n",
       "      <th>spa</th>\n",
       "    </tr>\n",
       "    <tr>\n",
       "      <th>bookID</th>\n",
       "      <th></th>\n",
       "      <th></th>\n",
       "      <th></th>\n",
       "      <th></th>\n",
       "      <th></th>\n",
       "      <th></th>\n",
       "      <th></th>\n",
       "      <th></th>\n",
       "      <th></th>\n",
       "      <th></th>\n",
       "      <th></th>\n",
       "    </tr>\n",
       "  </thead>\n",
       "  <tbody>\n",
       "    <tr>\n",
       "      <th>40452</th>\n",
       "      <td>858</td>\n",
       "      <td>4449</td>\n",
       "      <td>9780790000000</td>\n",
       "      <td>144</td>\n",
       "      <td>617</td>\n",
       "      <td>1</td>\n",
       "      <td>0</td>\n",
       "      <td>0</td>\n",
       "      <td>1</td>\n",
       "      <td>0</td>\n",
       "      <td>0</td>\n",
       "    </tr>\n",
       "    <tr>\n",
       "      <th>2386</th>\n",
       "      <td>3883</td>\n",
       "      <td>2047</td>\n",
       "      <td>9789630000000</td>\n",
       "      <td>25</td>\n",
       "      <td>67</td>\n",
       "      <td>1</td>\n",
       "      <td>0</td>\n",
       "      <td>0</td>\n",
       "      <td>1</td>\n",
       "      <td>0</td>\n",
       "      <td>0</td>\n",
       "    </tr>\n",
       "    <tr>\n",
       "      <th>36425</th>\n",
       "      <td>5641</td>\n",
       "      <td>1172</td>\n",
       "      <td>9780760000000</td>\n",
       "      <td>39</td>\n",
       "      <td>3</td>\n",
       "      <td>2</td>\n",
       "      <td>0</td>\n",
       "      <td>0</td>\n",
       "      <td>1</td>\n",
       "      <td>0</td>\n",
       "      <td>0</td>\n",
       "    </tr>\n",
       "    <tr>\n",
       "      <th>14688</th>\n",
       "      <td>2930</td>\n",
       "      <td>3291</td>\n",
       "      <td>9780140000000</td>\n",
       "      <td>432</td>\n",
       "      <td>605</td>\n",
       "      <td>2</td>\n",
       "      <td>0</td>\n",
       "      <td>0</td>\n",
       "      <td>1</td>\n",
       "      <td>0</td>\n",
       "      <td>0</td>\n",
       "    </tr>\n",
       "    <tr>\n",
       "      <th>13485</th>\n",
       "      <td>7877</td>\n",
       "      <td>1839</td>\n",
       "      <td>9780310000000</td>\n",
       "      <td>172</td>\n",
       "      <td>115</td>\n",
       "      <td>1</td>\n",
       "      <td>0</td>\n",
       "      <td>1</td>\n",
       "      <td>0</td>\n",
       "      <td>0</td>\n",
       "      <td>0</td>\n",
       "    </tr>\n",
       "    <tr>\n",
       "      <th>...</th>\n",
       "      <td>...</td>\n",
       "      <td>...</td>\n",
       "      <td>...</td>\n",
       "      <td>...</td>\n",
       "      <td>...</td>\n",
       "      <td>...</td>\n",
       "      <td>...</td>\n",
       "      <td>...</td>\n",
       "      <td>...</td>\n",
       "      <td>...</td>\n",
       "      <td>...</td>\n",
       "    </tr>\n",
       "    <tr>\n",
       "      <th>4764</th>\n",
       "      <td>5262</td>\n",
       "      <td>4574</td>\n",
       "      <td>9780680000000</td>\n",
       "      <td>400</td>\n",
       "      <td>55</td>\n",
       "      <td>1</td>\n",
       "      <td>0</td>\n",
       "      <td>1</td>\n",
       "      <td>0</td>\n",
       "      <td>0</td>\n",
       "      <td>0</td>\n",
       "    </tr>\n",
       "    <tr>\n",
       "      <th>17581</th>\n",
       "      <td>4539</td>\n",
       "      <td>5507</td>\n",
       "      <td>9780060000000</td>\n",
       "      <td>32</td>\n",
       "      <td>440</td>\n",
       "      <td>2</td>\n",
       "      <td>0</td>\n",
       "      <td>0</td>\n",
       "      <td>1</td>\n",
       "      <td>0</td>\n",
       "      <td>0</td>\n",
       "    </tr>\n",
       "    <tr>\n",
       "      <th>32508</th>\n",
       "      <td>5814</td>\n",
       "      <td>3711</td>\n",
       "      <td>9780450000000</td>\n",
       "      <td>482</td>\n",
       "      <td>125864</td>\n",
       "      <td>2</td>\n",
       "      <td>0</td>\n",
       "      <td>0</td>\n",
       "      <td>1</td>\n",
       "      <td>0</td>\n",
       "      <td>0</td>\n",
       "    </tr>\n",
       "    <tr>\n",
       "      <th>44022</th>\n",
       "      <td>2298</td>\n",
       "      <td>3337</td>\n",
       "      <td>9780860000000</td>\n",
       "      <td>192</td>\n",
       "      <td>56</td>\n",
       "      <td>1</td>\n",
       "      <td>0</td>\n",
       "      <td>0</td>\n",
       "      <td>1</td>\n",
       "      <td>0</td>\n",
       "      <td>0</td>\n",
       "    </tr>\n",
       "    <tr>\n",
       "      <th>18294</th>\n",
       "      <td>1411</td>\n",
       "      <td>2140</td>\n",
       "      <td>9780770000000</td>\n",
       "      <td>140</td>\n",
       "      <td>17</td>\n",
       "      <td>1</td>\n",
       "      <td>0</td>\n",
       "      <td>0</td>\n",
       "      <td>1</td>\n",
       "      <td>0</td>\n",
       "      <td>0</td>\n",
       "    </tr>\n",
       "  </tbody>\n",
       "</table>\n",
       "<p>7365 rows × 11 columns</p>\n",
       "</div>"
      ],
      "text/plain": [
       "        title  authors         isbn13  num_pages  ratings_count  R_Type  \\\n",
       "bookID                                                                    \n",
       "40452     858     4449  9780790000000        144            617       1   \n",
       "2386     3883     2047  9789630000000         25             67       1   \n",
       "36425    5641     1172  9780760000000         39              3       2   \n",
       "14688    2930     3291  9780140000000        432            605       2   \n",
       "13485    7877     1839  9780310000000        172            115       1   \n",
       "...       ...      ...            ...        ...            ...     ...   \n",
       "4764     5262     4574  9780680000000        400             55       1   \n",
       "17581    4539     5507  9780060000000         32            440       2   \n",
       "32508    5814     3711  9780450000000        482         125864       2   \n",
       "44022    2298     3337  9780860000000        192             56       1   \n",
       "18294    1411     2140  9780770000000        140             17       1   \n",
       "\n",
       "        en-GB  en-US  eng  fre  spa  \n",
       "bookID                               \n",
       "40452       0      0    1    0    0  \n",
       "2386        0      0    1    0    0  \n",
       "36425       0      0    1    0    0  \n",
       "14688       0      0    1    0    0  \n",
       "13485       0      1    0    0    0  \n",
       "...       ...    ...  ...  ...  ...  \n",
       "4764        0      1    0    0    0  \n",
       "17581       0      0    1    0    0  \n",
       "32508       0      0    1    0    0  \n",
       "44022       0      0    1    0    0  \n",
       "18294       0      0    1    0    0  \n",
       "\n",
       "[7365 rows x 11 columns]"
      ]
     },
     "execution_count": 50,
     "metadata": {},
     "output_type": "execute_result"
    }
   ],
   "source": [
    "df_train_std"
   ]
  },
  {
   "cell_type": "code",
   "execution_count": 51,
   "id": "a83caffe",
   "metadata": {},
   "outputs": [
    {
     "name": "stdout",
     "output_type": "stream",
     "text": [
      "1.4013250787444336\n",
      "1.4012219959266803\n",
      "1.4017372421281216\n"
     ]
    }
   ],
   "source": [
    "print(df1_std_numpages.R_Type.mean())\n",
    "print(df_train_std.R_Type.mean())\n",
    "print(df_test_std.R_Type.mean())"
   ]
  },
  {
   "cell_type": "code",
   "execution_count": 52,
   "id": "a90d255a",
   "metadata": {},
   "outputs": [
    {
     "data": {
      "text/plain": [
       "count    9207.000000\n",
       "mean        1.401325\n",
       "std         0.506969\n",
       "min         0.000000\n",
       "25%         1.000000\n",
       "50%         1.000000\n",
       "75%         2.000000\n",
       "max         2.000000\n",
       "Name: R_Type, dtype: float64"
      ]
     },
     "execution_count": 52,
     "metadata": {},
     "output_type": "execute_result"
    }
   ],
   "source": [
    "df1_std_numpages.R_Type.describe()"
   ]
  },
  {
   "cell_type": "code",
   "execution_count": 53,
   "id": "c54c2b2b",
   "metadata": {},
   "outputs": [
    {
     "data": {
      "text/plain": [
       "Index(['title', 'authors', 'isbn13', 'num_pages', 'ratings_count', 'R_Type',\n",
       "       'en-GB', 'en-US', 'eng', 'fre', 'spa'],\n",
       "      dtype='object')"
      ]
     },
     "execution_count": 53,
     "metadata": {},
     "output_type": "execute_result"
    }
   ],
   "source": [
    "df_train_std.columns"
   ]
  },
  {
   "cell_type": "code",
   "execution_count": 54,
   "id": "c048393f",
   "metadata": {},
   "outputs": [],
   "source": [
    "# get the values of the columns for the training data\n",
    "X_train = df_train_std.loc[:,['title', 'authors', 'isbn13', 'num_pages', 'ratings_count', 'en-GB', 'en-US', 'eng', 'fre', 'spa']].values\n",
    "y_train = df_train_std.R_Type.values"
   ]
  },
  {
   "cell_type": "code",
   "execution_count": 55,
   "id": "6bb7b5db",
   "metadata": {},
   "outputs": [],
   "source": [
    "# get the values of the columns for the training data\n",
    "X_test = df_test_std.loc[:,['title', 'authors', 'isbn13', 'num_pages', 'ratings_count', 'en-GB', 'en-US', 'eng', 'fre', 'spa']].values\n",
    "y_test = df_test_std.R_Type.values"
   ]
  },
  {
   "cell_type": "code",
   "execution_count": 56,
   "id": "b47ad7cc",
   "metadata": {},
   "outputs": [],
   "source": [
    "from sklearn.linear_model import LogisticRegression"
   ]
  },
  {
   "cell_type": "code",
   "execution_count": 57,
   "id": "a744b0e2",
   "metadata": {},
   "outputs": [],
   "source": [
    "# here we initialize the model\n",
    "lr_model = LogisticRegression(random_state=0,max_iter=1000) # random_state=0 or 42... means \n",
    "# ...i want the same conditions if i re-use the model again"
   ]
  },
  {
   "cell_type": "code",
   "execution_count": 58,
   "id": "014bad14",
   "metadata": {},
   "outputs": [
    {
     "data": {
      "text/html": [
       "<style>#sk-container-id-1 {color: black;background-color: white;}#sk-container-id-1 pre{padding: 0;}#sk-container-id-1 div.sk-toggleable {background-color: white;}#sk-container-id-1 label.sk-toggleable__label {cursor: pointer;display: block;width: 100%;margin-bottom: 0;padding: 0.3em;box-sizing: border-box;text-align: center;}#sk-container-id-1 label.sk-toggleable__label-arrow:before {content: \"▸\";float: left;margin-right: 0.25em;color: #696969;}#sk-container-id-1 label.sk-toggleable__label-arrow:hover:before {color: black;}#sk-container-id-1 div.sk-estimator:hover label.sk-toggleable__label-arrow:before {color: black;}#sk-container-id-1 div.sk-toggleable__content {max-height: 0;max-width: 0;overflow: hidden;text-align: left;background-color: #f0f8ff;}#sk-container-id-1 div.sk-toggleable__content pre {margin: 0.2em;color: black;border-radius: 0.25em;background-color: #f0f8ff;}#sk-container-id-1 input.sk-toggleable__control:checked~div.sk-toggleable__content {max-height: 200px;max-width: 100%;overflow: auto;}#sk-container-id-1 input.sk-toggleable__control:checked~label.sk-toggleable__label-arrow:before {content: \"▾\";}#sk-container-id-1 div.sk-estimator input.sk-toggleable__control:checked~label.sk-toggleable__label {background-color: #d4ebff;}#sk-container-id-1 div.sk-label input.sk-toggleable__control:checked~label.sk-toggleable__label {background-color: #d4ebff;}#sk-container-id-1 input.sk-hidden--visually {border: 0;clip: rect(1px 1px 1px 1px);clip: rect(1px, 1px, 1px, 1px);height: 1px;margin: -1px;overflow: hidden;padding: 0;position: absolute;width: 1px;}#sk-container-id-1 div.sk-estimator {font-family: monospace;background-color: #f0f8ff;border: 1px dotted black;border-radius: 0.25em;box-sizing: border-box;margin-bottom: 0.5em;}#sk-container-id-1 div.sk-estimator:hover {background-color: #d4ebff;}#sk-container-id-1 div.sk-parallel-item::after {content: \"\";width: 100%;border-bottom: 1px solid gray;flex-grow: 1;}#sk-container-id-1 div.sk-label:hover label.sk-toggleable__label {background-color: #d4ebff;}#sk-container-id-1 div.sk-serial::before {content: \"\";position: absolute;border-left: 1px solid gray;box-sizing: border-box;top: 0;bottom: 0;left: 50%;z-index: 0;}#sk-container-id-1 div.sk-serial {display: flex;flex-direction: column;align-items: center;background-color: white;padding-right: 0.2em;padding-left: 0.2em;position: relative;}#sk-container-id-1 div.sk-item {position: relative;z-index: 1;}#sk-container-id-1 div.sk-parallel {display: flex;align-items: stretch;justify-content: center;background-color: white;position: relative;}#sk-container-id-1 div.sk-item::before, #sk-container-id-1 div.sk-parallel-item::before {content: \"\";position: absolute;border-left: 1px solid gray;box-sizing: border-box;top: 0;bottom: 0;left: 50%;z-index: -1;}#sk-container-id-1 div.sk-parallel-item {display: flex;flex-direction: column;z-index: 1;position: relative;background-color: white;}#sk-container-id-1 div.sk-parallel-item:first-child::after {align-self: flex-end;width: 50%;}#sk-container-id-1 div.sk-parallel-item:last-child::after {align-self: flex-start;width: 50%;}#sk-container-id-1 div.sk-parallel-item:only-child::after {width: 0;}#sk-container-id-1 div.sk-dashed-wrapped {border: 1px dashed gray;margin: 0 0.4em 0.5em 0.4em;box-sizing: border-box;padding-bottom: 0.4em;background-color: white;}#sk-container-id-1 div.sk-label label {font-family: monospace;font-weight: bold;display: inline-block;line-height: 1.2em;}#sk-container-id-1 div.sk-label-container {text-align: center;}#sk-container-id-1 div.sk-container {/* jupyter's `normalize.less` sets `[hidden] { display: none; }` but bootstrap.min.css set `[hidden] { display: none !important; }` so we also need the `!important` here to be able to override the default hidden behavior on the sphinx rendered scikit-learn.org. See: https://github.com/scikit-learn/scikit-learn/issues/21755 */display: inline-block !important;position: relative;}#sk-container-id-1 div.sk-text-repr-fallback {display: none;}</style><div id=\"sk-container-id-1\" class=\"sk-top-container\"><div class=\"sk-text-repr-fallback\"><pre>LogisticRegression(max_iter=1000, random_state=0)</pre><b>In a Jupyter environment, please rerun this cell to show the HTML representation or trust the notebook. <br />On GitHub, the HTML representation is unable to render, please try loading this page with nbviewer.org.</b></div><div class=\"sk-container\" hidden><div class=\"sk-item\"><div class=\"sk-estimator sk-toggleable\"><input class=\"sk-toggleable__control sk-hidden--visually\" id=\"sk-estimator-id-1\" type=\"checkbox\" checked><label for=\"sk-estimator-id-1\" class=\"sk-toggleable__label sk-toggleable__label-arrow\">LogisticRegression</label><div class=\"sk-toggleable__content\"><pre>LogisticRegression(max_iter=1000, random_state=0)</pre></div></div></div></div></div>"
      ],
      "text/plain": [
       "LogisticRegression(max_iter=1000, random_state=0)"
      ]
     },
     "execution_count": 58,
     "metadata": {},
     "output_type": "execute_result"
    }
   ],
   "source": [
    "# here we train the model on the training data\n",
    "lr_model.fit(X=X_train, y=y_train)"
   ]
  },
  {
   "cell_type": "code",
   "execution_count": 59,
   "id": "97d09fac",
   "metadata": {},
   "outputs": [],
   "source": [
    "y_test_predicted = lr_model.predict(X_test) # list of prediction my model will make"
   ]
  },
  {
   "cell_type": "code",
   "execution_count": 60,
   "id": "43f30659",
   "metadata": {},
   "outputs": [
    {
     "data": {
      "text/plain": [
       "array([1, 1, 1, ..., 1, 1, 1])"
      ]
     },
     "execution_count": 60,
     "metadata": {},
     "output_type": "execute_result"
    }
   ],
   "source": [
    "y_test_predicted"
   ]
  },
  {
   "cell_type": "code",
   "execution_count": 61,
   "id": "210b3c0c",
   "metadata": {},
   "outputs": [
    {
     "data": {
      "text/plain": [
       "array([1, 2, 2, ..., 2, 2, 1])"
      ]
     },
     "execution_count": 61,
     "metadata": {},
     "output_type": "execute_result"
    }
   ],
   "source": [
    "y_test"
   ]
  },
  {
   "cell_type": "code",
   "execution_count": 62,
   "id": "3ae13e8c",
   "metadata": {},
   "outputs": [
    {
     "data": {
      "text/plain": [
       "0.5819761129207384"
      ]
     },
     "execution_count": 62,
     "metadata": {},
     "output_type": "execute_result"
    }
   ],
   "source": [
    "(y_test_predicted == y_test).sum()/len(y_test)"
   ]
  },
  {
   "cell_type": "code",
   "execution_count": 63,
   "id": "2a3c393f",
   "metadata": {},
   "outputs": [],
   "source": [
    "from sklearn.metrics import confusion_matrix"
   ]
  },
  {
   "cell_type": "code",
   "execution_count": 64,
   "id": "412b2d6b",
   "metadata": {},
   "outputs": [],
   "source": [
    "cf = pd.DataFrame(\n",
    "    columns=[\"y_test_0\",\"y_test_1\",\"y_test_2\"],index=[\"y_pred_0\",\"y_pred_1\",\"y_pred_2\"]\n",
    ")"
   ]
  },
  {
   "cell_type": "code",
   "execution_count": 65,
   "id": "b327d341",
   "metadata": {},
   "outputs": [],
   "source": [
    "cf.loc[:,:] = confusion_matrix(y_true= y_test,y_pred= y_test_predicted)"
   ]
  },
  {
   "cell_type": "code",
   "execution_count": 66,
   "id": "b845d63e",
   "metadata": {},
   "outputs": [
    {
     "data": {
      "text/html": [
       "<div>\n",
       "<style scoped>\n",
       "    .dataframe tbody tr th:only-of-type {\n",
       "        vertical-align: middle;\n",
       "    }\n",
       "\n",
       "    .dataframe tbody tr th {\n",
       "        vertical-align: top;\n",
       "    }\n",
       "\n",
       "    .dataframe thead th {\n",
       "        text-align: right;\n",
       "    }\n",
       "</style>\n",
       "<table border=\"1\" class=\"dataframe\">\n",
       "  <thead>\n",
       "    <tr style=\"text-align: right;\">\n",
       "      <th></th>\n",
       "      <th>y_test_0</th>\n",
       "      <th>y_test_1</th>\n",
       "      <th>y_test_2</th>\n",
       "    </tr>\n",
       "  </thead>\n",
       "  <tbody>\n",
       "    <tr>\n",
       "      <th>y_pred_0</th>\n",
       "      <td>0</td>\n",
       "      <td>15</td>\n",
       "      <td>0</td>\n",
       "    </tr>\n",
       "    <tr>\n",
       "      <th>y_pred_1</th>\n",
       "      <td>0</td>\n",
       "      <td>1072</td>\n",
       "      <td>0</td>\n",
       "    </tr>\n",
       "    <tr>\n",
       "      <th>y_pred_2</th>\n",
       "      <td>0</td>\n",
       "      <td>755</td>\n",
       "      <td>0</td>\n",
       "    </tr>\n",
       "  </tbody>\n",
       "</table>\n",
       "</div>"
      ],
      "text/plain": [
       "         y_test_0 y_test_1 y_test_2\n",
       "y_pred_0        0       15        0\n",
       "y_pred_1        0     1072        0\n",
       "y_pred_2        0      755        0"
      ]
     },
     "execution_count": 66,
     "metadata": {},
     "output_type": "execute_result"
    }
   ],
   "source": [
    "cf"
   ]
  },
  {
   "cell_type": "code",
   "execution_count": 67,
   "id": "3b5114a5",
   "metadata": {},
   "outputs": [
    {
     "data": {
      "text/html": [
       "<div>\n",
       "<style scoped>\n",
       "    .dataframe tbody tr th:only-of-type {\n",
       "        vertical-align: middle;\n",
       "    }\n",
       "\n",
       "    .dataframe tbody tr th {\n",
       "        vertical-align: top;\n",
       "    }\n",
       "\n",
       "    .dataframe thead th {\n",
       "        text-align: right;\n",
       "    }\n",
       "</style>\n",
       "<table border=\"1\" class=\"dataframe\">\n",
       "  <thead>\n",
       "    <tr style=\"text-align: right;\">\n",
       "      <th></th>\n",
       "      <th>y_test_0</th>\n",
       "      <th>y_test_1</th>\n",
       "      <th>y_test_2</th>\n",
       "    </tr>\n",
       "  </thead>\n",
       "  <tbody>\n",
       "    <tr>\n",
       "      <th>y_pred_0</th>\n",
       "      <td>0.0</td>\n",
       "      <td>0.008143</td>\n",
       "      <td>0.0</td>\n",
       "    </tr>\n",
       "    <tr>\n",
       "      <th>y_pred_1</th>\n",
       "      <td>0.0</td>\n",
       "      <td>0.581976</td>\n",
       "      <td>0.0</td>\n",
       "    </tr>\n",
       "    <tr>\n",
       "      <th>y_pred_2</th>\n",
       "      <td>0.0</td>\n",
       "      <td>0.409881</td>\n",
       "      <td>0.0</td>\n",
       "    </tr>\n",
       "  </tbody>\n",
       "</table>\n",
       "</div>"
      ],
      "text/plain": [
       "         y_test_0  y_test_1 y_test_2\n",
       "y_pred_0      0.0  0.008143      0.0\n",
       "y_pred_1      0.0  0.581976      0.0\n",
       "y_pred_2      0.0  0.409881      0.0"
      ]
     },
     "execution_count": 67,
     "metadata": {},
     "output_type": "execute_result"
    }
   ],
   "source": [
    "cf/len(y_test)"
   ]
  },
  {
   "cell_type": "code",
   "execution_count": 68,
   "id": "7ef778c7",
   "metadata": {},
   "outputs": [
    {
     "data": {
      "text/plain": [
       "array([1, 2, 2, ..., 2, 2, 1])"
      ]
     },
     "execution_count": 68,
     "metadata": {},
     "output_type": "execute_result"
    }
   ],
   "source": [
    "y_test"
   ]
  },
  {
   "cell_type": "code",
   "execution_count": null,
   "id": "84177588",
   "metadata": {},
   "outputs": [],
   "source": []
  }
 ],
 "metadata": {
  "kernelspec": {
   "display_name": "Python 3 (ipykernel)",
   "language": "python",
   "name": "python3"
  },
  "language_info": {
   "codemirror_mode": {
    "name": "ipython",
    "version": 3
   },
   "file_extension": ".py",
   "mimetype": "text/x-python",
   "name": "python",
   "nbconvert_exporter": "python",
   "pygments_lexer": "ipython3",
   "version": "3.10.11"
  }
 },
 "nbformat": 4,
 "nbformat_minor": 5
}
